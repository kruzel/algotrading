{
 "cells": [
  {
   "cell_type": "code",
   "execution_count": 1,
   "id": "WtCP8-cDbg9R",
   "metadata": {
    "colab": {
     "base_uri": "https://localhost:8080/",
     "height": 423
    },
    "id": "WtCP8-cDbg9R",
    "outputId": "1a923823-8c15-4765-c9c9-19a233dc8131",
    "ExecuteTime": {
     "end_time": "2023-08-26T15:43:39.343411100Z",
     "start_time": "2023-08-26T15:43:37.675291200Z"
    }
   },
   "outputs": [
    {
     "data": {
      "text/plain": "            Date        Open        High         Low       Close   Adj Close  \\\n0     1997-05-15    0.121875    0.125000    0.096354    0.097917    0.097917   \n1     1997-05-16    0.098438    0.098958    0.085417    0.086458    0.086458   \n2     1997-05-19    0.088021    0.088542    0.081250    0.085417    0.085417   \n3     1997-05-20    0.086458    0.087500    0.081771    0.081771    0.081771   \n4     1997-05-21    0.081771    0.082292    0.068750    0.071354    0.071354   \n...          ...         ...         ...         ...         ...         ...   \n6511  2023-03-30  101.550003  103.040001  101.010002  102.000000  102.000000   \n6512  2023-03-31  102.160004  103.489998  101.949997  103.290001  103.290001   \n6513  2023-04-03  102.300003  103.290001  101.430000  102.410004  102.410004   \n6514  2023-04-04  102.750000  104.199997  102.110001  103.949997  103.949997   \n6515  2023-04-05  103.910004  103.910004  100.750000  101.099998  101.099998   \n\n          Volume  \n0     1443120000  \n1      294000000  \n2      122136000  \n3      109344000  \n4      377064000  \n...          ...  \n6511    53633400  \n6512    56704300  \n6513    41135700  \n6514    48662500  \n6515    45103000  \n\n[6516 rows x 7 columns]",
      "text/html": "<div>\n<style scoped>\n    .dataframe tbody tr th:only-of-type {\n        vertical-align: middle;\n    }\n\n    .dataframe tbody tr th {\n        vertical-align: top;\n    }\n\n    .dataframe thead th {\n        text-align: right;\n    }\n</style>\n<table border=\"1\" class=\"dataframe\">\n  <thead>\n    <tr style=\"text-align: right;\">\n      <th></th>\n      <th>Date</th>\n      <th>Open</th>\n      <th>High</th>\n      <th>Low</th>\n      <th>Close</th>\n      <th>Adj Close</th>\n      <th>Volume</th>\n    </tr>\n  </thead>\n  <tbody>\n    <tr>\n      <th>0</th>\n      <td>1997-05-15</td>\n      <td>0.121875</td>\n      <td>0.125000</td>\n      <td>0.096354</td>\n      <td>0.097917</td>\n      <td>0.097917</td>\n      <td>1443120000</td>\n    </tr>\n    <tr>\n      <th>1</th>\n      <td>1997-05-16</td>\n      <td>0.098438</td>\n      <td>0.098958</td>\n      <td>0.085417</td>\n      <td>0.086458</td>\n      <td>0.086458</td>\n      <td>294000000</td>\n    </tr>\n    <tr>\n      <th>2</th>\n      <td>1997-05-19</td>\n      <td>0.088021</td>\n      <td>0.088542</td>\n      <td>0.081250</td>\n      <td>0.085417</td>\n      <td>0.085417</td>\n      <td>122136000</td>\n    </tr>\n    <tr>\n      <th>3</th>\n      <td>1997-05-20</td>\n      <td>0.086458</td>\n      <td>0.087500</td>\n      <td>0.081771</td>\n      <td>0.081771</td>\n      <td>0.081771</td>\n      <td>109344000</td>\n    </tr>\n    <tr>\n      <th>4</th>\n      <td>1997-05-21</td>\n      <td>0.081771</td>\n      <td>0.082292</td>\n      <td>0.068750</td>\n      <td>0.071354</td>\n      <td>0.071354</td>\n      <td>377064000</td>\n    </tr>\n    <tr>\n      <th>...</th>\n      <td>...</td>\n      <td>...</td>\n      <td>...</td>\n      <td>...</td>\n      <td>...</td>\n      <td>...</td>\n      <td>...</td>\n    </tr>\n    <tr>\n      <th>6511</th>\n      <td>2023-03-30</td>\n      <td>101.550003</td>\n      <td>103.040001</td>\n      <td>101.010002</td>\n      <td>102.000000</td>\n      <td>102.000000</td>\n      <td>53633400</td>\n    </tr>\n    <tr>\n      <th>6512</th>\n      <td>2023-03-31</td>\n      <td>102.160004</td>\n      <td>103.489998</td>\n      <td>101.949997</td>\n      <td>103.290001</td>\n      <td>103.290001</td>\n      <td>56704300</td>\n    </tr>\n    <tr>\n      <th>6513</th>\n      <td>2023-04-03</td>\n      <td>102.300003</td>\n      <td>103.290001</td>\n      <td>101.430000</td>\n      <td>102.410004</td>\n      <td>102.410004</td>\n      <td>41135700</td>\n    </tr>\n    <tr>\n      <th>6514</th>\n      <td>2023-04-04</td>\n      <td>102.750000</td>\n      <td>104.199997</td>\n      <td>102.110001</td>\n      <td>103.949997</td>\n      <td>103.949997</td>\n      <td>48662500</td>\n    </tr>\n    <tr>\n      <th>6515</th>\n      <td>2023-04-05</td>\n      <td>103.910004</td>\n      <td>103.910004</td>\n      <td>100.750000</td>\n      <td>101.099998</td>\n      <td>101.099998</td>\n      <td>45103000</td>\n    </tr>\n  </tbody>\n</table>\n<p>6516 rows × 7 columns</p>\n</div>"
     },
     "execution_count": 1,
     "metadata": {},
     "output_type": "execute_result"
    }
   ],
   "source": [
    "import pandas as pd\n",
    "import numpy as np\n",
    "import matplotlib.pyplot as plt\n",
    "import torch\n",
    "import torch.nn as nn\n",
    "from copy import deepcopy as dc\n",
    "\n",
    "import CHLpredictor as chl\n",
    "\n",
    "CLOSE_IND = 0\n",
    "LOW_IND = 0\n",
    "HIGH_IND = 0\n",
    "VOLUME_IND = 1\n",
    "\n",
    "OUT_VALUE = HIGH_IND\n",
    "\n",
    "data = pd.read_csv('AMZN.csv')\n",
    "\n",
    "data"
   ]
  },
  {
   "cell_type": "code",
   "execution_count": 2,
   "id": "9akB333XcFJ6",
   "metadata": {
    "colab": {
     "base_uri": "https://localhost:8080/",
     "height": 36
    },
    "id": "9akB333XcFJ6",
    "outputId": "2e8630de-1369-4281-d87c-9634ed90ba97",
    "ExecuteTime": {
     "end_time": "2023-08-26T15:43:39.356647600Z",
     "start_time": "2023-08-26T15:43:39.355642800Z"
    }
   },
   "outputs": [
    {
     "data": {
      "text/plain": "'cuda:0'"
     },
     "execution_count": 2,
     "metadata": {},
     "output_type": "execute_result"
    }
   ],
   "source": [
    "device = 'cuda:0' if torch.cuda.is_available() else 'cpu'\n",
    "device"
   ]
  },
  {
   "cell_type": "code",
   "execution_count": 3,
   "id": "tr2YuqKGcXcJ",
   "metadata": {
    "colab": {
     "base_uri": "https://localhost:8080/",
     "height": 551
    },
    "id": "tr2YuqKGcXcJ",
    "outputId": "bd197a93-bf7f-413c-fac0-5f4dc1a8471d",
    "ExecuteTime": {
     "end_time": "2023-08-26T15:43:39.467858600Z",
     "start_time": "2023-08-26T15:43:39.357647400Z"
    }
   },
   "outputs": [
    {
     "data": {
      "text/plain": "[<matplotlib.lines.Line2D at 0x2058ecaec10>]"
     },
     "execution_count": 3,
     "metadata": {},
     "output_type": "execute_result"
    },
    {
     "data": {
      "text/plain": "<Figure size 640x480 with 1 Axes>",
      "image/png": "[encoded data removed]"
     },
     "metadata": {},
     "output_type": "display_data"
    }
   ],
   "source": [
    "data['Date'] = pd.to_datetime(data['Date'])\n",
    "\n",
    "plt.plot(data['Date'], data['Close'])"
   ]
  },
  {
   "cell_type": "code",
   "execution_count": 4,
   "id": "Q4ma6QCscwfB",
   "metadata": {
    "colab": {
     "base_uri": "https://localhost:8080/",
     "height": 455
    },
    "id": "Q4ma6QCscwfB",
    "outputId": "61bd4c08-c3f7-453d-ed92-c2232a18a5ba",
    "ExecuteTime": {
     "end_time": "2023-08-26T15:43:39.499267700Z",
     "start_time": "2023-08-26T15:43:39.464858900Z"
    }
   },
   "outputs": [
    {
     "data": {
      "text/plain": "                 Close  Close(t-1)  Close(t-2)  Close(t-3)  Close(t-4)  \\\nDate                                                                     \n1997-05-27    0.079167    0.075000    0.069792    0.071354    0.081771   \n1997-05-28    0.076563    0.079167    0.075000    0.069792    0.071354   \n1997-05-29    0.075260    0.076563    0.079167    0.075000    0.069792   \n1997-05-30    0.075000    0.075260    0.076563    0.079167    0.075000   \n1997-06-02    0.075521    0.075000    0.075260    0.076563    0.079167   \n...                ...         ...         ...         ...         ...   \n2023-03-30  102.000000  100.250000   97.239998   98.040001   98.129997   \n2023-03-31  103.290001  102.000000  100.250000   97.239998   98.040001   \n2023-04-03  102.410004  103.290001  102.000000  100.250000   97.239998   \n2023-04-04  103.949997  102.410004  103.290001  102.000000  100.250000   \n2023-04-05  101.099998  103.949997  102.410004  103.290001  102.000000   \n\n            Close(t-5)  Close(t-6)  Close(t-7)  \nDate                                            \n1997-05-27    0.085417    0.086458    0.097917  \n1997-05-28    0.081771    0.085417    0.086458  \n1997-05-29    0.071354    0.081771    0.085417  \n1997-05-30    0.069792    0.071354    0.081771  \n1997-06-02    0.075000    0.069792    0.071354  \n...                ...         ...         ...  \n2023-03-30   98.709999   98.699997  100.610001  \n2023-03-31   98.129997   98.709999   98.699997  \n2023-04-03   98.040001   98.129997   98.709999  \n2023-04-04   97.239998   98.040001   98.129997  \n2023-04-05  100.250000   97.239998   98.040001  \n\n[6509 rows x 8 columns]",
      "text/html": "<div>\n<style scoped>\n    .dataframe tbody tr th:only-of-type {\n        vertical-align: middle;\n    }\n\n    .dataframe tbody tr th {\n        vertical-align: top;\n    }\n\n    .dataframe thead th {\n        text-align: right;\n    }\n</style>\n<table border=\"1\" class=\"dataframe\">\n  <thead>\n    <tr style=\"text-align: right;\">\n      <th></th>\n      <th>Close</th>\n      <th>Close(t-1)</th>\n      <th>Close(t-2)</th>\n      <th>Close(t-3)</th>\n      <th>Close(t-4)</th>\n      <th>Close(t-5)</th>\n      <th>Close(t-6)</th>\n      <th>Close(t-7)</th>\n    </tr>\n    <tr>\n      <th>Date</th>\n      <th></th>\n      <th></th>\n      <th></th>\n      <th></th>\n      <th></th>\n      <th></th>\n      <th></th>\n      <th></th>\n    </tr>\n  </thead>\n  <tbody>\n    <tr>\n      <th>1997-05-27</th>\n      <td>0.079167</td>\n      <td>0.075000</td>\n      <td>0.069792</td>\n      <td>0.071354</td>\n      <td>0.081771</td>\n      <td>0.085417</td>\n      <td>0.086458</td>\n      <td>0.097917</td>\n    </tr>\n    <tr>\n      <th>1997-05-28</th>\n      <td>0.076563</td>\n      <td>0.079167</td>\n      <td>0.075000</td>\n      <td>0.069792</td>\n      <td>0.071354</td>\n      <td>0.081771</td>\n      <td>0.085417</td>\n      <td>0.086458</td>\n    </tr>\n    <tr>\n      <th>1997-05-29</th>\n      <td>0.075260</td>\n      <td>0.076563</td>\n      <td>0.079167</td>\n      <td>0.075000</td>\n      <td>0.069792</td>\n      <td>0.071354</td>\n      <td>0.081771</td>\n      <td>0.085417</td>\n    </tr>\n    <tr>\n      <th>1997-05-30</th>\n      <td>0.075000</td>\n      <td>0.075260</td>\n      <td>0.076563</td>\n      <td>0.079167</td>\n      <td>0.075000</td>\n      <td>0.069792</td>\n      <td>0.071354</td>\n      <td>0.081771</td>\n    </tr>\n    <tr>\n      <th>1997-06-02</th>\n      <td>0.075521</td>\n      <td>0.075000</td>\n      <td>0.075260</td>\n      <td>0.076563</td>\n      <td>0.079167</td>\n      <td>0.075000</td>\n      <td>0.069792</td>\n      <td>0.071354</td>\n    </tr>\n    <tr>\n      <th>...</th>\n      <td>...</td>\n      <td>...</td>\n      <td>...</td>\n      <td>...</td>\n      <td>...</td>\n      <td>...</td>\n      <td>...</td>\n      <td>...</td>\n    </tr>\n    <tr>\n      <th>2023-03-30</th>\n      <td>102.000000</td>\n      <td>100.250000</td>\n      <td>97.239998</td>\n      <td>98.040001</td>\n      <td>98.129997</td>\n      <td>98.709999</td>\n      <td>98.699997</td>\n      <td>100.610001</td>\n    </tr>\n    <tr>\n      <th>2023-03-31</th>\n      <td>103.290001</td>\n      <td>102.000000</td>\n      <td>100.250000</td>\n      <td>97.239998</td>\n      <td>98.040001</td>\n      <td>98.129997</td>\n      <td>98.709999</td>\n      <td>98.699997</td>\n    </tr>\n    <tr>\n      <th>2023-04-03</th>\n      <td>102.410004</td>\n      <td>103.290001</td>\n      <td>102.000000</td>\n      <td>100.250000</td>\n      <td>97.239998</td>\n      <td>98.040001</td>\n      <td>98.129997</td>\n      <td>98.709999</td>\n    </tr>\n    <tr>\n      <th>2023-04-04</th>\n      <td>103.949997</td>\n      <td>102.410004</td>\n      <td>103.290001</td>\n      <td>102.000000</td>\n      <td>100.250000</td>\n      <td>97.239998</td>\n      <td>98.040001</td>\n      <td>98.129997</td>\n    </tr>\n    <tr>\n      <th>2023-04-05</th>\n      <td>101.099998</td>\n      <td>103.949997</td>\n      <td>102.410004</td>\n      <td>103.290001</td>\n      <td>102.000000</td>\n      <td>100.250000</td>\n      <td>97.239998</td>\n      <td>98.040001</td>\n    </tr>\n  </tbody>\n</table>\n<p>6509 rows × 8 columns</p>\n</div>"
     },
     "execution_count": 4,
     "metadata": {},
     "output_type": "execute_result"
    }
   ],
   "source": [
    "lookback = 7\n",
    "df1, df2, df3, df4 = chl.prepare_dataframe_for_lstm_with_date(data, lookback)\n",
    "df1\n",
    "\n"
   ]
  },
  {
   "cell_type": "code",
   "execution_count": 5,
   "id": "Pq2p3opGELA_",
   "metadata": {
    "colab": {
     "base_uri": "https://localhost:8080/"
    },
    "id": "Pq2p3opGELA_",
    "outputId": "5cb2ff07-5d8f-4117-eafd-6a3c5663c6ff",
    "ExecuteTime": {
     "end_time": "2023-08-26T15:43:39.499267700Z",
     "start_time": "2023-08-26T15:43:39.481176900Z"
    }
   },
   "outputs": [
    {
     "data": {
      "text/plain": "array([[7.91670000e-02, 7.50000000e-02, 6.97920000e-02, ...,\n        8.54170000e-02, 8.64580000e-02, 9.79170000e-02],\n       [7.65630000e-02, 7.91670000e-02, 7.50000000e-02, ...,\n        8.17710000e-02, 8.54170000e-02, 8.64580000e-02],\n       [7.52600000e-02, 7.65630000e-02, 7.91670000e-02, ...,\n        7.13540000e-02, 8.17710000e-02, 8.54170000e-02],\n       ...,\n       [1.02410004e+02, 1.03290001e+02, 1.02000000e+02, ...,\n        9.80400010e+01, 9.81299970e+01, 9.87099990e+01],\n       [1.03949997e+02, 1.02410004e+02, 1.03290001e+02, ...,\n        9.72399980e+01, 9.80400010e+01, 9.81299970e+01],\n       [1.01099998e+02, 1.03949997e+02, 1.02410004e+02, ...,\n        1.00250000e+02, 9.72399980e+01, 9.80400010e+01]])"
     },
     "execution_count": 5,
     "metadata": {},
     "output_type": "execute_result"
    }
   ],
   "source": [
    "df1_np = df1.to_numpy()\n",
    "df2_np = df2.to_numpy()\n",
    "df3_np = df3.to_numpy()\n",
    "df4_np = df4.to_numpy()\n",
    "\n",
    "df1_np"
   ]
  },
  {
   "cell_type": "code",
   "execution_count": 6,
   "id": "pXHkuFeafNUU",
   "metadata": {
    "colab": {
     "base_uri": "https://localhost:8080/"
    },
    "id": "pXHkuFeafNUU",
    "outputId": "a67d1f79-d279-4c96-e40f-0d9a5f9f7d7d",
    "ExecuteTime": {
     "end_time": "2023-08-26T15:43:39.876147Z",
     "start_time": "2023-08-26T15:43:39.486259100Z"
    }
   },
   "outputs": [
    {
     "data": {
      "text/plain": "array([[-0.99991063, -0.99995531, -1.        , ..., -0.99983244,\n        -0.99982128, -0.99969839],\n       [-0.99993855, -0.99991063, -0.99994415, ..., -0.99987154,\n        -0.99983244, -0.99982128],\n       [-0.99995253, -0.99993855, -0.99989946, ..., -0.99998325,\n        -0.99987154, -0.99983244],\n       ...,\n       [ 0.09747299,  0.10690997,  0.09308121, ...,  0.0506149 ,\n         0.05158   ,  0.05779984],\n       [ 0.11398769,  0.09747299,  0.10691495, ...,  0.04203581,\n         0.0506149 ,  0.05158   ],\n       [ 0.08342464,  0.11398769,  0.09747802, ...,  0.07431453,\n         0.04203581,  0.0506149 ]])"
     },
     "execution_count": 6,
     "metadata": {},
     "output_type": "execute_result"
    }
   ],
   "source": [
    "from sklearn.preprocessing import MinMaxScaler\n",
    "\n",
    "scaler1 = MinMaxScaler(feature_range=(-1, 1))\n",
    "scaler4 = MinMaxScaler(feature_range=(-1, 1))\n",
    "df1_np_scaled = scaler1.fit_transform(df1_np)\n",
    "df2_np_scaled = scaler1.fit_transform(df2_np)\n",
    "df3_np_scaled = scaler1.fit_transform(df3_np)\n",
    "df4_np_scaled = scaler4.fit_transform(df4_np)\n",
    "\n",
    "scaler = [scaler1, scaler1, scaler1, scaler4]\n",
    "\n",
    "df1_np_scaled"
   ]
  },
  {
   "cell_type": "code",
   "execution_count": 7,
   "outputs": [
    {
     "data": {
      "text/plain": "((6509, 28), (6509, 3))"
     },
     "execution_count": 7,
     "metadata": {},
     "output_type": "execute_result"
    }
   ],
   "source": [
    "# X = np.array([df1_np[:, 1:], df2_np[:, 1:], df3_np[:, 1:], df4_np[:, 1:]])\n",
    "# y = np.array([df1_np[:, 0], df2_np[:, 0], df3_np[:, 0], df4_np[:, 0]])\n",
    "\n",
    "X = np.zeros((len(df1_np), 4 * lookback))\n",
    "y = np.zeros((len(df1_np), 3))\n",
    "for i in range(0,len(df1_np)):\n",
    "    X[i] = np.hstack((df1_np_scaled[i,1:], df2_np_scaled[i,1:], df3_np_scaled[i,1:], df4_np_scaled[i,1:]))\n",
    "    y[i] = np.hstack((df1_np_scaled[i,0], df2_np_scaled[i,0], df3_np_scaled[i,0]))\n",
    "\n",
    "X.shape, y.shape"
   ],
   "metadata": {
    "collapsed": false,
    "ExecuteTime": {
     "end_time": "2023-08-26T15:43:39.929283400Z",
     "start_time": "2023-08-26T15:43:39.876147Z"
    }
   },
   "id": "Iui9unuTfxOe"
  },
  {
   "cell_type": "code",
   "execution_count": 8,
   "outputs": [
    {
     "data": {
      "text/plain": "array([[ 0.38034321, -0.72626105, -0.89176634, ..., -0.99998325,\n        -1.        , -0.99995531],\n       [-0.72626105, -0.89176634, -0.90408505, ..., -1.        ,\n        -0.99994415, -0.99991063],\n       [-0.89176634, -0.90408505, -0.6462703 , ..., -0.99994415,\n        -0.99989946, -0.99993855],\n       ...,\n       [-0.9539538 , -0.95536353, -0.96439081, ...,  0.07431453,\n         0.09308121,  0.10690997],\n       [-0.95536353, -0.96439081, -0.97209597, ...,  0.09308121,\n         0.10691495,  0.09747299],\n       [-0.96439081, -0.97209597, -0.96144209, ...,  0.10691495,\n         0.09747802,  0.11398769]])"
     },
     "execution_count": 8,
     "metadata": {},
     "output_type": "execute_result"
    }
   ],
   "source": [
    "X = dc(np.flip(X, axis=1)) #flip left right\n",
    "X"
   ],
   "metadata": {
    "collapsed": false,
    "ExecuteTime": {
     "end_time": "2023-08-26T15:43:39.929283400Z",
     "start_time": "2023-08-26T15:43:39.922253200Z"
    }
   },
   "id": "XmbIqwj-E0cv"
  },
  {
   "cell_type": "code",
   "execution_count": 9,
   "id": "GCHslawXgE21",
   "metadata": {
    "colab": {
     "base_uri": "https://localhost:8080/"
    },
    "id": "GCHslawXgE21",
    "outputId": "a2e50719-a1fb-460e-9ce4-9dd873642765",
    "ExecuteTime": {
     "end_time": "2023-08-26T15:43:39.931426900Z",
     "start_time": "2023-08-26T15:43:39.928283300Z"
    }
   },
   "outputs": [
    {
     "data": {
      "text/plain": "6183"
     },
     "execution_count": 9,
     "metadata": {},
     "output_type": "execute_result"
    }
   ],
   "source": [
    "split_index = int(len(X) * 0.95)\n",
    "\n",
    "split_index"
   ]
  },
  {
   "cell_type": "code",
   "execution_count": 10,
   "id": "hhGMh_nAgiST",
   "metadata": {
    "colab": {
     "base_uri": "https://localhost:8080/"
    },
    "id": "hhGMh_nAgiST",
    "outputId": "aeb231ef-e124-4821-f4ee-dbb2275c0f98",
    "ExecuteTime": {
     "end_time": "2023-08-26T15:43:39.938441800Z",
     "start_time": "2023-08-26T15:43:39.932426100Z"
    }
   },
   "outputs": [
    {
     "data": {
      "text/plain": "((6183, 28), (326, 28), (6183, 3), (326, 3))"
     },
     "execution_count": 10,
     "metadata": {},
     "output_type": "execute_result"
    }
   ],
   "source": [
    "X_train = X[:split_index]\n",
    "X_test = X[split_index:]\n",
    "\n",
    "y_train = y[:split_index]\n",
    "y_test = y[split_index:]\n",
    "\n",
    "X_train.shape, X_test.shape, y_train.shape, y_test.shape"
   ]
  },
  {
   "cell_type": "code",
   "execution_count": 11,
   "id": "Muqs9hKYhMUS",
   "metadata": {
    "colab": {
     "base_uri": "https://localhost:8080/"
    },
    "id": "Muqs9hKYhMUS",
    "outputId": "d35136a0-5855-4bfb-b66b-b8f7a1a8ea96",
    "ExecuteTime": {
     "end_time": "2023-08-26T15:43:39.939950Z",
     "start_time": "2023-08-26T15:43:39.936326600Z"
    }
   },
   "outputs": [
    {
     "data": {
      "text/plain": "((6183, 28, 1), (326, 28, 1), (6183, 3), (326, 3))"
     },
     "execution_count": 11,
     "metadata": {},
     "output_type": "execute_result"
    }
   ],
   "source": [
    "X_train = X_train.reshape((-1, lookback*4, 1))\n",
    "X_test = X_test.reshape((-1, lookback*4, 1))\n",
    "\n",
    "y_train = y_train.reshape((-1, 3))\n",
    "y_test = y_test.reshape((-1, 3))\n",
    "\n",
    "X_train.shape, X_test.shape, y_train.shape, y_test.shape"
   ]
  },
  {
   "cell_type": "code",
   "execution_count": 12,
   "id": "i7-PBcrMhR7z",
   "metadata": {
    "colab": {
     "base_uri": "https://localhost:8080/"
    },
    "id": "i7-PBcrMhR7z",
    "outputId": "b01a297a-75d6-4573-e450-a3545360112e",
    "ExecuteTime": {
     "end_time": "2023-08-26T15:43:39.950135200Z",
     "start_time": "2023-08-26T15:43:39.940949800Z"
    }
   },
   "outputs": [
    {
     "data": {
      "text/plain": "(torch.Size([6183, 28, 1]),\n torch.Size([326, 28, 1]),\n torch.Size([6183, 3]),\n torch.Size([326, 3]))"
     },
     "execution_count": 12,
     "metadata": {},
     "output_type": "execute_result"
    }
   ],
   "source": [
    "X_train = torch.tensor(X_train).float()\n",
    "y_train = torch.tensor(y_train).float()\n",
    "X_test = torch.tensor(X_test).float()\n",
    "y_test = torch.tensor(y_test).float()\n",
    "\n",
    "X_train.shape, X_test.shape, y_train.shape, y_test.shape"
   ]
  },
  {
   "cell_type": "code",
   "execution_count": 13,
   "id": "DWutCAGKhdqU",
   "metadata": {
    "id": "DWutCAGKhdqU",
    "ExecuteTime": {
     "end_time": "2023-08-26T15:43:39.954796400Z",
     "start_time": "2023-08-26T15:43:39.950135200Z"
    }
   },
   "outputs": [],
   "source": [
    "from torch.utils.data import Dataset\n",
    "\n",
    "class TimeSeriesDataset(Dataset):\n",
    "    def __init__(self, X, y):\n",
    "        self.X = X\n",
    "        self.y = y\n",
    "\n",
    "    def __len__(self):\n",
    "        return len(self.X)\n",
    "\n",
    "    def __getitem__(self, i):\n",
    "        return self.X[i], self.y[i]\n",
    "    \n",
    "train_dataset = TimeSeriesDataset(X_train, y_train)\n",
    "test_dataset = TimeSeriesDataset(X_test, y_test)"
   ]
  },
  {
   "cell_type": "code",
   "execution_count": 14,
   "id": "12OWUTa5ijoq",
   "metadata": {
    "colab": {
     "base_uri": "https://localhost:8080/"
    },
    "id": "12OWUTa5ijoq",
    "outputId": "0928d3c2-d181-4035-cc57-a2ac6ce38075",
    "ExecuteTime": {
     "end_time": "2023-08-26T15:43:40.015140400Z",
     "start_time": "2023-08-26T15:43:39.955796800Z"
    }
   },
   "outputs": [
    {
     "data": {
      "text/plain": "<__main__.TimeSeriesDataset at 0x20599788490>"
     },
     "execution_count": 14,
     "metadata": {},
     "output_type": "execute_result"
    }
   ],
   "source": [
    "train_dataset"
   ]
  },
  {
   "cell_type": "code",
   "execution_count": 15,
   "id": "XYsUmPl3ik46",
   "metadata": {
    "id": "XYsUmPl3ik46",
    "ExecuteTime": {
     "end_time": "2023-08-26T15:43:40.015140400Z",
     "start_time": "2023-08-26T15:43:39.959359100Z"
    }
   },
   "outputs": [],
   "source": [
    "from torch.utils.data import DataLoader\n",
    "\n",
    "batch_size = 16\n",
    "\n",
    "train_loader = DataLoader(train_dataset, batch_size=batch_size, shuffle=False)\n",
    "test_loader = DataLoader(test_dataset, batch_size=batch_size, shuffle=False)"
   ]
  },
  {
   "cell_type": "code",
   "execution_count": 16,
   "id": "TJTnbgBDjOSK",
   "metadata": {
    "colab": {
     "base_uri": "https://localhost:8080/"
    },
    "id": "TJTnbgBDjOSK",
    "outputId": "51226616-d4de-4a22-f4d9-576fd3e8bfba",
    "ExecuteTime": {
     "end_time": "2023-08-26T15:43:40.026773300Z",
     "start_time": "2023-08-26T15:43:39.963137Z"
    }
   },
   "outputs": [
    {
     "name": "stdout",
     "output_type": "stream",
     "text": [
      "torch.Size([16, 28, 1]) torch.Size([16, 3])\n"
     ]
    }
   ],
   "source": [
    "for _, batch in enumerate(train_loader):\n",
    "    x_batch, y_batch = batch[0].to(device), batch[1].to(device)\n",
    "    print(x_batch.shape, y_batch.shape)\n",
    "    break"
   ]
  },
  {
   "cell_type": "code",
   "execution_count": 17,
   "id": "njdkq_kmjib5",
   "metadata": {
    "colab": {
     "base_uri": "https://localhost:8080/"
    },
    "id": "njdkq_kmjib5",
    "outputId": "db355c8d-cc21-43f5-cdfa-2156444b4531",
    "ExecuteTime": {
     "end_time": "2023-08-26T15:43:41.520469700Z",
     "start_time": "2023-08-26T15:43:40.023774Z"
    }
   },
   "outputs": [
    {
     "data": {
      "text/plain": "CHLpredictor(\n  (lstm): LSTM(1, 4, batch_first=True)\n  (fc): Linear(in_features=4, out_features=3, bias=True)\n)"
     },
     "execution_count": 17,
     "metadata": {},
     "output_type": "execute_result"
    }
   ],
   "source": [
    "from CHLpredictor import CHLpredictor\n",
    "\n",
    "model = CHLpredictor(device, 1, 4, 1, 3)\n",
    "model.to(device)\n",
    "model"
   ]
  },
  {
   "cell_type": "code",
   "execution_count": 18,
   "id": "iue5WvTxmVKB",
   "metadata": {
    "id": "iue5WvTxmVKB",
    "ExecuteTime": {
     "end_time": "2023-08-26T15:43:41.520469700Z",
     "start_time": "2023-08-26T15:43:41.518960300Z"
    }
   },
   "outputs": [],
   "source": [
    "def train_one_epoch():\n",
    "    model.train(True)\n",
    "    print(f'Epoch: {epoch + 1}')\n",
    "    running_loss = 0.0\n",
    "    \n",
    "    for batch_index, batch in enumerate(train_loader):\n",
    "        x_batch, y_batch = batch[0].to(device), batch[1].to(device)\n",
    "        \n",
    "        output = model(x_batch)\n",
    "        loss = loss_function(output, y_batch)\n",
    "        running_loss += loss.item()\n",
    "        \n",
    "        optimizer.zero_grad()\n",
    "        loss.backward()\n",
    "        optimizer.step()\n",
    "\n",
    "    avg_loss_across_batches = running_loss / len(train_loader)\n",
    "    print('Train Loss: {0:.3f}'.format(avg_loss_across_batches))"
   ]
  },
  {
   "cell_type": "code",
   "execution_count": 19,
   "id": "gRmNuV3cmy-t",
   "metadata": {
    "id": "gRmNuV3cmy-t",
    "ExecuteTime": {
     "end_time": "2023-08-26T15:43:41.525965800Z",
     "start_time": "2023-08-26T15:43:41.521468600Z"
    }
   },
   "outputs": [],
   "source": [
    "def validate_one_epoch():\n",
    "    model.train(False)\n",
    "    running_loss = 0.0\n",
    "    \n",
    "    for batch_index, batch in enumerate(test_loader):\n",
    "        x_batch, y_batch = batch[0].to(device), batch[1].to(device)\n",
    "        \n",
    "        with torch.no_grad():\n",
    "            output = model(x_batch)\n",
    "            loss = loss_function(output, y_batch)\n",
    "            running_loss += loss.item()\n",
    "\n",
    "    avg_loss_across_batches = running_loss / len(test_loader)\n",
    "    \n",
    "    print('Val Loss: {0:.3f}'.format(avg_loss_across_batches))\n",
    "    print('***************************************************')\n",
    "    print()"
   ]
  },
  {
   "cell_type": "code",
   "execution_count": 20,
   "id": "1jgb1aJ3lxlQ",
   "metadata": {
    "colab": {
     "base_uri": "https://localhost:8080/"
    },
    "id": "1jgb1aJ3lxlQ",
    "outputId": "2a25db36-4872-44e4-feca-4d26bad49f96",
    "ExecuteTime": {
     "end_time": "2023-08-26T15:44:44.880108Z",
     "start_time": "2023-08-26T15:43:41.526965800Z"
    }
   },
   "outputs": [
    {
     "name": "stdout",
     "output_type": "stream",
     "text": [
      "Epoch: 1\n",
      "Train Loss: 0.134\n",
      "Val Loss: 0.089\n",
      "***************************************************\n",
      "\n",
      "Epoch: 2\n",
      "Train Loss: 0.036\n",
      "Val Loss: 0.038\n",
      "***************************************************\n",
      "\n",
      "Epoch: 3\n",
      "Train Loss: 0.012\n",
      "Val Loss: 0.034\n",
      "***************************************************\n",
      "\n",
      "Epoch: 4\n",
      "Train Loss: 0.007\n",
      "Val Loss: 0.021\n",
      "***************************************************\n",
      "\n",
      "Epoch: 5\n",
      "Train Loss: 0.007\n",
      "Val Loss: 0.012\n",
      "***************************************************\n",
      "\n",
      "Epoch: 6\n",
      "Train Loss: 0.006\n",
      "Val Loss: 0.007\n",
      "***************************************************\n",
      "\n",
      "Epoch: 7\n",
      "Train Loss: 0.006\n",
      "Val Loss: 0.006\n",
      "***************************************************\n",
      "\n",
      "Epoch: 8\n",
      "Train Loss: 0.005\n",
      "Val Loss: 0.005\n",
      "***************************************************\n",
      "\n",
      "Epoch: 9\n",
      "Train Loss: 0.005\n",
      "Val Loss: 0.005\n",
      "***************************************************\n",
      "\n",
      "Epoch: 10\n",
      "Train Loss: 0.004\n",
      "Val Loss: 0.005\n",
      "***************************************************\n",
      "\n",
      "Epoch: 11\n",
      "Train Loss: 0.004\n",
      "Val Loss: 0.005\n",
      "***************************************************\n",
      "\n",
      "Epoch: 12\n",
      "Train Loss: 0.003\n",
      "Val Loss: 0.005\n",
      "***************************************************\n",
      "\n",
      "Epoch: 13\n",
      "Train Loss: 0.003\n",
      "Val Loss: 0.005\n",
      "***************************************************\n",
      "\n",
      "Epoch: 14\n",
      "Train Loss: 0.002\n",
      "Val Loss: 0.005\n",
      "***************************************************\n",
      "\n",
      "Epoch: 15\n",
      "Train Loss: 0.002\n",
      "Val Loss: 0.005\n",
      "***************************************************\n",
      "\n",
      "Epoch: 16\n",
      "Train Loss: 0.002\n",
      "Val Loss: 0.005\n",
      "***************************************************\n",
      "\n",
      "Epoch: 17\n",
      "Train Loss: 0.002\n",
      "Val Loss: 0.005\n",
      "***************************************************\n",
      "\n",
      "Epoch: 18\n",
      "Train Loss: 0.001\n",
      "Val Loss: 0.005\n",
      "***************************************************\n",
      "\n",
      "Epoch: 19\n",
      "Train Loss: 0.001\n",
      "Val Loss: 0.005\n",
      "***************************************************\n",
      "\n",
      "Epoch: 20\n",
      "Train Loss: 0.001\n",
      "Val Loss: 0.005\n",
      "***************************************************\n",
      "\n",
      "Epoch: 21\n",
      "Train Loss: 0.001\n",
      "Val Loss: 0.005\n",
      "***************************************************\n",
      "\n",
      "Epoch: 22\n",
      "Train Loss: 0.001\n",
      "Val Loss: 0.005\n",
      "***************************************************\n",
      "\n",
      "Epoch: 23\n",
      "Train Loss: 0.001\n",
      "Val Loss: 0.005\n",
      "***************************************************\n",
      "\n",
      "Epoch: 24\n",
      "Train Loss: 0.001\n",
      "Val Loss: 0.005\n",
      "***************************************************\n",
      "\n",
      "Epoch: 25\n",
      "Train Loss: 0.001\n",
      "Val Loss: 0.005\n",
      "***************************************************\n",
      "\n",
      "Epoch: 26\n",
      "Train Loss: 0.001\n",
      "Val Loss: 0.005\n",
      "***************************************************\n",
      "\n",
      "Epoch: 27\n",
      "Train Loss: 0.001\n",
      "Val Loss: 0.005\n",
      "***************************************************\n",
      "\n",
      "Epoch: 28\n",
      "Train Loss: 0.001\n",
      "Val Loss: 0.005\n",
      "***************************************************\n",
      "\n",
      "Epoch: 29\n",
      "Train Loss: 0.001\n",
      "Val Loss: 0.005\n",
      "***************************************************\n",
      "\n",
      "Epoch: 30\n",
      "Train Loss: 0.001\n",
      "Val Loss: 0.004\n",
      "***************************************************\n",
      "\n",
      "Epoch: 31\n",
      "Train Loss: 0.001\n",
      "Val Loss: 0.004\n",
      "***************************************************\n",
      "\n",
      "Epoch: 32\n",
      "Train Loss: 0.001\n",
      "Val Loss: 0.004\n",
      "***************************************************\n",
      "\n",
      "Epoch: 33\n",
      "Train Loss: 0.001\n",
      "Val Loss: 0.004\n",
      "***************************************************\n",
      "\n",
      "Epoch: 34\n",
      "Train Loss: 0.001\n",
      "Val Loss: 0.003\n",
      "***************************************************\n",
      "\n",
      "Epoch: 35\n",
      "Train Loss: 0.001\n",
      "Val Loss: 0.003\n",
      "***************************************************\n",
      "\n",
      "Epoch: 36\n",
      "Train Loss: 0.001\n",
      "Val Loss: 0.003\n",
      "***************************************************\n",
      "\n",
      "Epoch: 37\n",
      "Train Loss: 0.001\n",
      "Val Loss: 0.003\n",
      "***************************************************\n",
      "\n",
      "Epoch: 38\n",
      "Train Loss: 0.001\n",
      "Val Loss: 0.003\n",
      "***************************************************\n",
      "\n",
      "Epoch: 39\n",
      "Train Loss: 0.001\n",
      "Val Loss: 0.003\n",
      "***************************************************\n",
      "\n",
      "Epoch: 40\n",
      "Train Loss: 0.001\n",
      "Val Loss: 0.003\n",
      "***************************************************\n",
      "\n",
      "Epoch: 41\n",
      "Train Loss: 0.001\n",
      "Val Loss: 0.002\n",
      "***************************************************\n",
      "\n",
      "Epoch: 42\n",
      "Train Loss: 0.001\n",
      "Val Loss: 0.002\n",
      "***************************************************\n",
      "\n",
      "Epoch: 43\n",
      "Train Loss: 0.001\n",
      "Val Loss: 0.002\n",
      "***************************************************\n",
      "\n",
      "Epoch: 44\n",
      "Train Loss: 0.001\n",
      "Val Loss: 0.002\n",
      "***************************************************\n",
      "\n",
      "Epoch: 45\n",
      "Train Loss: 0.001\n",
      "Val Loss: 0.002\n",
      "***************************************************\n",
      "\n",
      "Epoch: 46\n",
      "Train Loss: 0.001\n",
      "Val Loss: 0.002\n",
      "***************************************************\n",
      "\n",
      "Epoch: 47\n",
      "Train Loss: 0.001\n",
      "Val Loss: 0.002\n",
      "***************************************************\n",
      "\n",
      "Epoch: 48\n",
      "Train Loss: 0.001\n",
      "Val Loss: 0.002\n",
      "***************************************************\n",
      "\n",
      "Epoch: 49\n",
      "Train Loss: 0.001\n",
      "Val Loss: 0.002\n",
      "***************************************************\n",
      "\n",
      "Epoch: 50\n",
      "Train Loss: 0.001\n",
      "Val Loss: 0.002\n",
      "***************************************************\n",
      "\n",
      "Epoch: 51\n",
      "Train Loss: 0.001\n",
      "Val Loss: 0.002\n",
      "***************************************************\n",
      "\n",
      "Epoch: 52\n",
      "Train Loss: 0.001\n",
      "Val Loss: 0.002\n",
      "***************************************************\n",
      "\n",
      "Epoch: 53\n",
      "Train Loss: 0.001\n",
      "Val Loss: 0.002\n",
      "***************************************************\n",
      "\n",
      "Epoch: 54\n",
      "Train Loss: 0.001\n",
      "Val Loss: 0.002\n",
      "***************************************************\n",
      "\n",
      "Epoch: 55\n",
      "Train Loss: 0.001\n",
      "Val Loss: 0.002\n",
      "***************************************************\n",
      "\n",
      "Epoch: 56\n",
      "Train Loss: 0.001\n",
      "Val Loss: 0.002\n",
      "***************************************************\n",
      "\n",
      "Epoch: 57\n",
      "Train Loss: 0.001\n",
      "Val Loss: 0.002\n",
      "***************************************************\n",
      "\n",
      "Epoch: 58\n",
      "Train Loss: 0.001\n",
      "Val Loss: 0.002\n",
      "***************************************************\n",
      "\n",
      "Epoch: 59\n",
      "Train Loss: 0.001\n",
      "Val Loss: 0.002\n",
      "***************************************************\n",
      "\n",
      "Epoch: 60\n",
      "Train Loss: 0.001\n",
      "Val Loss: 0.002\n",
      "***************************************************\n",
      "\n",
      "Epoch: 61\n",
      "Train Loss: 0.001\n",
      "Val Loss: 0.002\n",
      "***************************************************\n",
      "\n",
      "Epoch: 62\n",
      "Train Loss: 0.001\n",
      "Val Loss: 0.002\n",
      "***************************************************\n",
      "\n",
      "Epoch: 63\n",
      "Train Loss: 0.001\n",
      "Val Loss: 0.002\n",
      "***************************************************\n",
      "\n",
      "Epoch: 64\n",
      "Train Loss: 0.001\n",
      "Val Loss: 0.002\n",
      "***************************************************\n",
      "\n",
      "Epoch: 65\n",
      "Train Loss: 0.001\n",
      "Val Loss: 0.002\n",
      "***************************************************\n",
      "\n",
      "Epoch: 66\n",
      "Train Loss: 0.001\n",
      "Val Loss: 0.002\n",
      "***************************************************\n",
      "\n",
      "Epoch: 67\n",
      "Train Loss: 0.001\n",
      "Val Loss: 0.002\n",
      "***************************************************\n",
      "\n",
      "Epoch: 68\n",
      "Train Loss: 0.001\n",
      "Val Loss: 0.002\n",
      "***************************************************\n",
      "\n",
      "Epoch: 69\n",
      "Train Loss: 0.001\n",
      "Val Loss: 0.002\n",
      "***************************************************\n",
      "\n",
      "Epoch: 70\n",
      "Train Loss: 0.001\n",
      "Val Loss: 0.002\n",
      "***************************************************\n",
      "\n",
      "Epoch: 71\n",
      "Train Loss: 0.001\n",
      "Val Loss: 0.002\n",
      "***************************************************\n",
      "\n",
      "Epoch: 72\n",
      "Train Loss: 0.001\n",
      "Val Loss: 0.002\n",
      "***************************************************\n",
      "\n",
      "Epoch: 73\n",
      "Train Loss: 0.001\n",
      "Val Loss: 0.002\n",
      "***************************************************\n",
      "\n",
      "Epoch: 74\n",
      "Train Loss: 0.001\n",
      "Val Loss: 0.002\n",
      "***************************************************\n",
      "\n",
      "Epoch: 75\n",
      "Train Loss: 0.001\n",
      "Val Loss: 0.002\n",
      "***************************************************\n",
      "\n",
      "Epoch: 76\n",
      "Train Loss: 0.001\n",
      "Val Loss: 0.002\n",
      "***************************************************\n",
      "\n",
      "Epoch: 77\n",
      "Train Loss: 0.001\n",
      "Val Loss: 0.002\n",
      "***************************************************\n",
      "\n",
      "Epoch: 78\n",
      "Train Loss: 0.001\n",
      "Val Loss: 0.002\n",
      "***************************************************\n",
      "\n",
      "Epoch: 79\n",
      "Train Loss: 0.001\n",
      "Val Loss: 0.002\n",
      "***************************************************\n",
      "\n",
      "Epoch: 80\n",
      "Train Loss: 0.000\n",
      "Val Loss: 0.002\n",
      "***************************************************\n",
      "\n",
      "Epoch: 81\n",
      "Train Loss: 0.000\n",
      "Val Loss: 0.002\n",
      "***************************************************\n",
      "\n",
      "Epoch: 82\n",
      "Train Loss: 0.000\n",
      "Val Loss: 0.002\n",
      "***************************************************\n",
      "\n",
      "Epoch: 83\n",
      "Train Loss: 0.000\n",
      "Val Loss: 0.002\n",
      "***************************************************\n",
      "\n",
      "Epoch: 84\n",
      "Train Loss: 0.000\n",
      "Val Loss: 0.002\n",
      "***************************************************\n",
      "\n",
      "Epoch: 85\n",
      "Train Loss: 0.000\n",
      "Val Loss: 0.002\n",
      "***************************************************\n",
      "\n",
      "Epoch: 86\n",
      "Train Loss: 0.000\n",
      "Val Loss: 0.002\n",
      "***************************************************\n",
      "\n",
      "Epoch: 87\n",
      "Train Loss: 0.000\n",
      "Val Loss: 0.002\n",
      "***************************************************\n",
      "\n",
      "Epoch: 88\n",
      "Train Loss: 0.000\n",
      "Val Loss: 0.002\n",
      "***************************************************\n",
      "\n",
      "Epoch: 89\n",
      "Train Loss: 0.000\n",
      "Val Loss: 0.002\n",
      "***************************************************\n",
      "\n",
      "Epoch: 90\n",
      "Train Loss: 0.000\n",
      "Val Loss: 0.002\n",
      "***************************************************\n",
      "\n",
      "Epoch: 91\n",
      "Train Loss: 0.000\n",
      "Val Loss: 0.002\n",
      "***************************************************\n",
      "\n",
      "Epoch: 92\n",
      "Train Loss: 0.000\n",
      "Val Loss: 0.002\n",
      "***************************************************\n",
      "\n",
      "Epoch: 93\n",
      "Train Loss: 0.000\n",
      "Val Loss: 0.002\n",
      "***************************************************\n",
      "\n",
      "Epoch: 94\n",
      "Train Loss: 0.000\n",
      "Val Loss: 0.002\n",
      "***************************************************\n",
      "\n",
      "Epoch: 95\n",
      "Train Loss: 0.000\n",
      "Val Loss: 0.003\n",
      "***************************************************\n",
      "\n",
      "Epoch: 96\n",
      "Train Loss: 0.001\n",
      "Val Loss: 0.003\n",
      "***************************************************\n",
      "\n",
      "Epoch: 97\n",
      "Train Loss: 0.001\n",
      "Val Loss: 0.003\n",
      "***************************************************\n",
      "\n",
      "Epoch: 98\n",
      "Train Loss: 0.001\n",
      "Val Loss: 0.002\n",
      "***************************************************\n",
      "\n",
      "Epoch: 99\n",
      "Train Loss: 0.001\n",
      "Val Loss: 0.002\n",
      "***************************************************\n",
      "\n",
      "Epoch: 100\n",
      "Train Loss: 0.001\n",
      "Val Loss: 0.002\n",
      "***************************************************\n"
     ]
    }
   ],
   "source": [
    "learning_rate = 0.001\n",
    "num_epochs = 100\n",
    "loss_function = nn.MSELoss() #chl.CHLLoss() #nn.MSELoss()\n",
    "optimizer = torch.optim.Adam(model.parameters(), lr=learning_rate)\n",
    "\n",
    "for epoch in range(num_epochs):\n",
    "    train_one_epoch()\n",
    "    validate_one_epoch()\n",
    "    \n",
    "torch.save(model, \"checkpoints/chkpoint_\" + str(epoch) + \".pt\")"
   ]
  },
  {
   "cell_type": "code",
   "execution_count": 21,
   "id": "-Xon2PHWno7t",
   "metadata": {
    "colab": {
     "base_uri": "https://localhost:8080/",
     "height": 449
    },
    "id": "-Xon2PHWno7t",
    "outputId": "862b1d87-3e42-4fe1-8618-3cf0720e0da5",
    "ExecuteTime": {
     "end_time": "2023-08-26T15:44:45.052476800Z",
     "start_time": "2023-08-26T15:44:44.878118300Z"
    }
   },
   "outputs": [
    {
     "name": "stdout",
     "output_type": "stream",
     "text": [
      "(6183, 3)\n"
     ]
    },
    {
     "data": {
      "text/plain": "<Figure size 640x480 with 1 Axes>",
      "image/png": "[encoded data removed]"
     },
     "metadata": {},
     "output_type": "display_data"
    }
   ],
   "source": [
    "model = torch.load(\"checkpoints/chkpoint_99.pt\")\n",
    "model.eval()\n",
    "\n",
    "with torch.no_grad():\n",
    "    predicted = model(X_train.to(device)).to('cpu').numpy()\n",
    "\n",
    "print(predicted.shape)\n",
    "\n",
    "plt.plot(y_train[:,OUT_VALUE], label='Actual Close')\n",
    "plt.plot(predicted[:,OUT_VALUE], label='Predicted Close')\n",
    "plt.xlabel('Day')\n",
    "plt.ylabel('Close')\n",
    "plt.legend()\n",
    "plt.show()\n"
   ]
  },
  {
   "cell_type": "markdown",
   "id": "2MM2o0_bW3hd",
   "metadata": {
    "id": "2MM2o0_bW3hd"
   },
   "source": [
    "# Translate back to real prices"
   ]
  },
  {
   "cell_type": "code",
   "execution_count": 22,
   "id": "d3SDgEvPpOcD",
   "metadata": {
    "colab": {
     "base_uri": "https://localhost:8080/"
    },
    "id": "d3SDgEvPpOcD",
    "outputId": "e9b8491e-b15e-4aa5-ae97-6619bb4a3be9",
    "ExecuteTime": {
     "end_time": "2023-08-26T15:44:45.053985100Z",
     "start_time": "2023-08-26T15:44:45.049334600Z"
    }
   },
   "outputs": [
    {
     "name": "stdout",
     "output_type": "stream",
     "text": [
      "(6183,) torch.Size([6183, 28, 1])\n"
     ]
    },
    {
     "data": {
      "text/plain": "array([-10.3988843 , -10.42019575, -10.44731839, ..., 214.49131776,\n       213.60440853, 215.22134729])"
     },
     "execution_count": 22,
     "metadata": {},
     "output_type": "execute_result"
    }
   ],
   "source": [
    "train_predictions = predicted[:,OUT_VALUE].flatten()\n",
    "print(train_predictions.shape, X_train.shape)\n",
    "\n",
    "dummies = np.zeros((X_train.shape[0], lookback+1))\n",
    "dummies[:, 0] = train_predictions\n",
    "\n",
    "dummies = scaler[OUT_VALUE].inverse_transform(dummies)\n",
    "\n",
    "train_predictions = dc(dummies[:, 0])\n",
    "train_predictions"
   ]
  },
  {
   "cell_type": "code",
   "execution_count": 23,
   "outputs": [
    {
     "data": {
      "text/plain": "(torch.Size([6183, 28, 1]), torch.Size([6183, 3]))"
     },
     "execution_count": 23,
     "metadata": {},
     "output_type": "execute_result"
    }
   ],
   "source": [
    "X_train.shape, y_train.shape"
   ],
   "metadata": {
    "collapsed": false,
    "ExecuteTime": {
     "end_time": "2023-08-26T15:44:45.059239Z",
     "start_time": "2023-08-26T15:44:45.053985100Z"
    }
   },
   "id": "a095f974918956e0"
  },
  {
   "cell_type": "code",
   "execution_count": 24,
   "id": "PHnvejOdrL7Q",
   "metadata": {
    "colab": {
     "base_uri": "https://localhost:8080/"
    },
    "id": "PHnvejOdrL7Q",
    "outputId": "952cb861-3f21-42d2-f1b2-9e489c9cdcd7",
    "ExecuteTime": {
     "end_time": "2023-08-26T15:44:45.063649900Z",
     "start_time": "2023-08-26T15:44:45.059239Z"
    }
   },
   "outputs": [
    {
     "data": {
      "text/plain": "array([8.29035417e-02, 8.02733312e-02, 7.89526059e-02, ...,\n       1.70980088e+02, 1.75250685e+02, 1.70757127e+02])"
     },
     "execution_count": 24,
     "metadata": {},
     "output_type": "execute_result"
    }
   ],
   "source": [
    "dummies = np.zeros((X_train.shape[0], lookback+1))\n",
    "dummies[:, 0] = y_train[:, OUT_VALUE].flatten()\n",
    "dummies = scaler[OUT_VALUE].inverse_transform(dummies)\n",
    "\n",
    "new_y_train = dc(dummies[:, 0])\n",
    "new_y_train"
   ]
  },
  {
   "cell_type": "code",
   "execution_count": 25,
   "id": "2LlDAUtyrcrN",
   "metadata": {
    "colab": {
     "base_uri": "https://localhost:8080/",
     "height": 449
    },
    "id": "2LlDAUtyrcrN",
    "outputId": "819c2ff2-be0d-4781-d164-915936251f66",
    "ExecuteTime": {
     "end_time": "2023-08-26T15:44:45.132564600Z",
     "start_time": "2023-08-26T15:44:45.063649900Z"
    }
   },
   "outputs": [
    {
     "data": {
      "text/plain": "<Figure size 640x480 with 1 Axes>",
      "image/png": "[encoded data removed]"
     },
     "metadata": {},
     "output_type": "display_data"
    }
   ],
   "source": [
    "plt.plot(new_y_train, label='Actual Close')\n",
    "plt.plot(train_predictions, label='Predicted Close')\n",
    "plt.xlabel('Day')\n",
    "plt.ylabel('Close')\n",
    "plt.legend()\n",
    "plt.show()\n"
   ]
  },
  {
   "cell_type": "code",
   "execution_count": 26,
   "id": "yYeC2JMorftR",
   "metadata": {
    "colab": {
     "base_uri": "https://localhost:8080/"
    },
    "id": "yYeC2JMorftR",
    "outputId": "94df7137-866f-42aa-cb02-5a78961f6779",
    "ExecuteTime": {
     "end_time": "2023-08-26T15:44:45.141093100Z",
     "start_time": "2023-08-26T15:44:45.132564600Z"
    }
   },
   "outputs": [
    {
     "data": {
      "text/plain": "array([213.65713638, 213.50961979, 212.00326228, 213.02917925,\n       213.77944117, 214.0901095 , 213.50890042, 213.80759791,\n       213.22306173, 212.73045928, 211.51735899, 212.82627087,\n       211.90996848, 209.85061483, 208.34424607, 207.28968903,\n       206.1211562 , 207.69113334, 208.28009816, 206.34696089,\n       205.99053365, 204.04024381, 201.54391553, 197.41529435,\n       189.05384396, 185.45694119, 180.47850349, 176.88454566,\n       175.52016331, 177.68086437, 182.54465748, 186.73470082,\n       188.90642853, 182.45082978, 190.34746915, 195.57287686,\n       200.19950704, 202.45201256, 202.295841  , 198.81809576,\n       198.26118803, 198.72839884, 199.88274652, 198.35052526,\n       196.2279454 , 193.58516834, 188.57129587, 189.9909295 ,\n       192.55063012, 193.8299128 , 193.03120555, 193.1170808 ,\n       190.54906242, 187.52842303, 179.96062741, 174.40318373,\n       173.70159194, 178.41800896, 180.67454972, 179.64457503,\n       182.37410406, 187.7944677 , 193.58574159, 199.10868906,\n       202.13165517, 205.46749269, 206.33904778, 206.83034637,\n       207.70183402, 210.31050826, 211.61421593, 210.64760233,\n       208.5040145 , 207.91277915, 210.17220864, 208.87665013,\n       205.26015567, 202.98591157, 199.9211431 , 196.20994981,\n       193.95959117, 195.67729847, 194.30638555, 194.19358998,\n       197.41675558, 196.77889581, 192.71610858, 187.73370871,\n       186.04747964, 180.59690231, 176.46072209, 178.55008712,\n       165.90771062, 158.24048967, 154.25419773, 153.46593263,\n       147.18057257, 142.54634963, 136.43703383, 133.39554946,\n       129.89469715, 129.27073872, 132.87872996, 133.5601287 ,\n       136.50660515, 133.11602497, 131.2150853 , 130.45115246,\n       130.11437874, 127.84439468, 128.34415153, 131.33819938,\n       135.31443976, 140.26591779, 143.78472916, 147.78832542,\n       148.36891067, 149.95758591, 149.82152871, 148.53393952,\n       144.57455665, 138.1046772 , 130.7638665 , 126.32751632,\n       127.91113908, 126.55083693, 127.46750181, 129.52837571,\n       130.75844591, 133.41319098, 137.12892531, 137.22288228,\n       133.51544604, 132.34527494, 130.15716743, 131.127968  ,\n       134.1384378 , 136.27707994, 138.52410867, 139.24067242,\n       137.25490284, 134.47916809, 133.73100527, 133.60036587,\n       135.34750567, 136.47281706, 139.63260189, 143.94881945,\n       147.42956583, 148.15308728, 147.6872253 , 143.42479498,\n       144.63507959, 146.29266859, 154.19738406, 159.45581552,\n       162.10349331, 166.7805471 , 171.93320251, 174.23077006,\n       174.61345444, 173.42745432, 175.7562809 , 176.03244738,\n       177.88225531, 178.83938779, 180.42269582, 179.71466901,\n       179.30625015, 176.28766772, 170.90364933, 167.90527681,\n       166.43711916, 167.90340531, 164.76663201, 162.06330392,\n       159.83493114, 157.35817207, 156.57025543, 156.04211141,\n       154.88023279, 156.25239899, 157.39569753, 160.12103959,\n       163.74392412, 160.16700084, 158.74194942, 156.54327891,\n       153.43102052, 152.36123861, 150.34417065, 146.92118774,\n       144.26177516, 140.6855572 , 139.66837106, 138.84436489,\n       140.61708181, 139.79509607, 138.16393   , 138.99712505,\n       142.5540267 , 144.53709301, 145.21299528, 142.04998732,\n       139.5855953 , 137.38305816, 136.69519911, 136.24704327,\n       132.56163786, 134.81037228, 137.70691969, 138.5343204 ,\n       138.99126608, 141.56584875, 143.32505492, 144.72178661,\n       142.50637942, 138.18228527, 130.91350469, 126.55930081,\n       120.95901785, 115.25479943, 110.82909373, 110.13523521,\n       109.73663186, 109.25899575, 106.43306501, 112.15401449,\n       117.70284255, 118.87310919, 119.54785091, 118.5958524 ,\n       116.53430691, 115.00447701, 113.21021542, 112.91471295,\n       113.46991779, 113.30707798, 113.58092616, 112.69453399,\n       114.99112082, 115.45979005, 114.7192734 , 112.21316051,\n       109.08684061, 107.78534726, 108.56477755, 108.17888689,\n       109.0055317 , 110.73133476, 110.94293463, 108.84522655,\n       107.38300936, 104.67804511, 103.61363251, 104.29535019,\n       102.62067817, 102.8497081 , 101.44320936,  99.91898798,\n       100.87956453, 101.26042378, 102.71779925, 102.93289061,\n       101.58595519, 102.99331872, 104.5612944 , 107.02027917,\n       111.65927639, 113.97499408, 116.82793788, 116.76028864,\n       116.19394193, 114.67511902, 116.28133742, 117.31838783,\n       117.01486828, 117.41018105, 118.91561406, 121.57695152,\n       121.80026089, 123.4444656 , 125.51738339, 131.14431971,\n       128.299171  , 125.74631567, 124.41603613, 122.48079694,\n       120.37922785, 119.00535595, 119.71900006, 120.24619709,\n       121.45121285, 120.11024668, 118.75311988, 116.35192879,\n       115.99835656, 115.95581796, 114.43999056, 113.8833526 ,\n       113.97530037, 112.67420606, 112.00894546, 113.5809655 ,\n       113.62818846, 113.47726327, 113.64162614, 112.60032693,\n       111.04255385, 111.46516068, 113.36799995, 115.18800725,\n       118.52518236, 119.43092737, 118.94858724, 120.48859796,\n       120.02289053, 119.73258105, 119.20944454, 118.90227755,\n       118.2432918 , 119.86889395, 121.84346547, 123.61676125,\n       123.9009111 , 124.92644309])"
     },
     "execution_count": 26,
     "metadata": {},
     "output_type": "execute_result"
    }
   ],
   "source": [
    "OUT_VALUE = CLOSE_IND\n",
    "\n",
    "test_predictions_all = model(X_test.to(device)).detach().cpu().numpy()\n",
    "test_predictions = test_predictions_all[:,OUT_VALUE].flatten()\n",
    "\n",
    "dummies = np.zeros((X_test.shape[0], lookback+1))\n",
    "dummies[:, 0] = test_predictions\n",
    "dummies = scaler[OUT_VALUE].inverse_transform(dummies)\n",
    "\n",
    "test_predictions = dc(dummies[:, 0])\n",
    "test_predictions"
   ]
  },
  {
   "cell_type": "code",
   "execution_count": 27,
   "id": "g-DJXBgYsFyI",
   "metadata": {
    "colab": {
     "base_uri": "https://localhost:8080/"
    },
    "id": "g-DJXBgYsFyI",
    "outputId": "b606685e-137b-41ef-8a56-6171133ed013",
    "ExecuteTime": {
     "end_time": "2023-08-26T15:44:45.146556600Z",
     "start_time": "2023-08-26T15:44:45.139089900Z"
    }
   },
   "outputs": [
    {
     "data": {
      "text/plain": "array([171.91640963, 168.94513727, 172.32037174, 172.94728354,\n       172.97912707, 171.56452343, 172.56708324, 171.09081016,\n       170.52809686, 168.57909964, 172.30772088, 169.39308235,\n       166.19277935, 165.07748018, 164.36967817, 163.28975758,\n       167.2089904 , 167.05226245, 163.0147376 , 163.94903558,\n       160.69261581, 158.04491554, 153.36176394, 144.2366308 ,\n       146.15883134, 141.5499888 , 140.42407606, 141.19760523,\n       145.58651327, 151.24441639, 152.88248113, 152.29500564,\n       140.39678201, 159.40036754, 159.699672  , 163.21645452,\n       162.98995855, 160.77957573, 155.00590402, 156.90030188,\n       158.2587775 , 159.86650491, 156.38005412, 154.30618373,\n       151.87536904, 146.44497913, 153.04881947, 155.50641959,\n       155.27841181, 152.83040521, 153.75106881, 149.55073505,\n       147.26806641, 138.98875109, 137.53419972, 140.8351167 ,\n       148.45768589, 147.15026895, 143.43781114, 149.01280643,\n       154.81429206, 158.99539942, 163.05164485, 163.29532711,\n       166.73072484, 165.23320775, 165.47740144, 166.61392776,\n       170.87794857, 171.20607857, 168.15845705, 164.81811782,\n       165.38689522, 170.22676915, 165.88741079, 160.52931795,\n       159.54698491, 156.18591311, 152.81017845, 152.47196035,\n       157.2784677 , 153.40120023, 154.49173721, 159.88167358,\n       155.71825831, 149.95267393, 145.96266709, 147.7058953 ,\n       140.94836469, 139.71071577, 146.21190764, 125.67035991,\n       125.89129478, 125.64204581, 127.33572152, 117.70803834,\n       116.05531073, 110.00508475, 110.07586439, 106.5499787 ,\n       108.12585274, 114.31865805, 112.04912782, 116.65795912,\n       108.3098902 , 108.51868985, 108.79372529, 108.75934287,\n       105.26378891, 107.9686246 , 112.31910375, 116.43348217,\n       121.55294804, 123.04388679, 126.91356993, 123.71731622,\n       126.18452953, 124.37456536, 122.53426946, 117.44817579,\n       110.87568723, 104.82899348, 103.45382685, 108.87360248,\n       104.81888783, 107.40743435, 109.89486741, 110.16787539,\n       113.69680155, 117.76163028, 114.48549939, 108.6005945 ,\n       110.13754226, 107.39732097, 110.78467942, 114.76862075,\n       115.60787849, 117.63018299, 116.83137176, 112.99910449,\n       110.44089039, 111.63405054, 111.8666106 , 114.81918065,\n       115.03152237, 119.53114514, 124.14199686, 126.02274068,\n       123.78809586, 122.49382154, 116.0932282 , 122.32192773,\n       123.64653658, 136.45783104, 136.90273845, 135.65902825,\n       141.07880177, 144.16282192, 142.37307609, 140.96757702,\n       139.36995457, 144.28415443, 142.21129004, 145.15374249,\n       144.77960628, 146.3974555 , 143.68757436, 143.8898027 ,\n       139.77440845, 134.70854155, 135.11299542, 135.29501105,\n       138.8138168 , 132.2109937 , 131.24028024, 130.16846384,\n       128.18660586, 129.24832011, 128.93486421, 127.51924896,\n       130.92682715, 131.27063163, 134.75910285, 137.97455766,\n       128.23716716, 129.98646227, 127.69114277, 124.91047637,\n       126.05308364, 123.5555358 , 119.8648278 , 118.62110917,\n       115.05174212, 116.43702425, 115.68877292, 119.32891961,\n       116.08312184, 114.26304428, 117.17515938, 122.44326024,\n       122.30170097, 121.64445745, 115.84043996, 114.94051456,\n       113.46423305, 114.16193151, 113.78780233, 108.09501942,\n       115.0618555 , 117.66051611, 116.35612982, 116.53813701,\n       120.65352565, 121.15910212, 121.94779996, 116.9527127 ,\n       112.20029327, 104.56609959, 103.58528047,  97.87227009,\n        93.1501916 ,  90.29874266,  91.99747823,  91.54245568,\n        90.98632598,  87.10349776,  97.71048158, 101.91687838,\n        99.5912254 , 100.04624795,  98.20595205,  95.91063184,\n        95.19271478,  93.4939793 ,  94.2422298 ,  95.18260122,\n        94.45457882,  95.0005939 ,  93.45353218,  97.61948185,\n        96.56788274,  95.18260122,  92.02781171,  89.23702981,\n        89.44937084,  91.36044743,  90.08639356,  91.56268279,\n        93.52431278,  92.60416852,  89.4392571 ,  88.8426816 ,\n        85.8698911 ,  86.14290611,  87.74052153,  84.72729226,\n        86.20357377,  83.96892825,  82.73532159,  85.12164048,\n        84.93963328,  86.77993059,  86.09234551,  84.04982268,\n        87.04283151,  88.33710582,  90.87509948,  96.15330635,\n        96.33531459,  99.2171043 ,  97.12401946,  96.52743552,\n        94.72758585,  98.337399  ,  98.61040698,  97.39702744,\n        98.2666183 , 100.32936931, 103.3830458 , 101.67420423,\n       104.28297049, 106.32550317, 114.1720449 , 104.54587212,\n       103.32237884, 103.25159921, 101.16862775,  99.33843751,\n        98.70141479, 100.65293789, 100.81471832, 102.29100756,\n        99.24743778,  98.2868384 ,  95.63762474,  96.86111784,\n        96.89145132,  94.54557847,  94.80848004,  95.28372251,\n        93.20074412,  93.16029708,  95.9611935 ,  94.79836648,\n        94.5961391 ,  94.97026033,  93.28163837,  91.74469016,\n        93.46364574,  95.94096532,  97.27568615, 101.15851437,\n       100.05635431,  98.80252791, 101.73487118,  99.80356642,\n        99.8136798 ,  99.2272096 ,  99.13621022,  98.32728526,\n       101.37085539, 103.14037165, 104.44475865, 103.55494804,\n       105.11211485, 102.23033217])"
     },
     "execution_count": 27,
     "metadata": {},
     "output_type": "execute_result"
    }
   ],
   "source": [
    "dummies = np.zeros((X_test.shape[0], lookback+1))\n",
    "dummies[:, 0] = y_test[:,OUT_VALUE].flatten()\n",
    "dummies = scaler[OUT_VALUE].inverse_transform(dummies)\n",
    "\n",
    "new_y_test = dc(dummies[:, 0])\n",
    "new_y_test"
   ]
  },
  {
   "cell_type": "code",
   "execution_count": 28,
   "id": "PhLmIlHOsSK4",
   "metadata": {
    "colab": {
     "base_uri": "https://localhost:8080/",
     "height": 449
    },
    "id": "PhLmIlHOsSK4",
    "outputId": "09c21535-ea22-4d65-bc50-b159bd4dc135",
    "ExecuteTime": {
     "end_time": "2023-08-26T15:44:45.230166200Z",
     "start_time": "2023-08-26T15:44:45.145555900Z"
    }
   },
   "outputs": [
    {
     "data": {
      "text/plain": "<Figure size 640x480 with 1 Axes>",
      "image/png": "[encoded data removed]"
     },
     "metadata": {},
     "output_type": "display_data"
    }
   ],
   "source": [
    "plt.plot(new_y_test, label='Actual Close')\n",
    "plt.plot(test_predictions, label='Predicted Close')\n",
    "plt.xlabel('Day')\n",
    "plt.ylabel('Close')\n",
    "plt.legend()\n",
    "plt.show()\n"
   ]
  },
  {
   "cell_type": "code",
   "execution_count": 29,
   "id": "edaf9487",
   "metadata": {
    "collapsed": false,
    "ExecuteTime": {
     "end_time": "2023-08-26T15:44:45.296290800Z",
     "start_time": "2023-08-26T15:44:45.231167200Z"
    }
   },
   "outputs": [
    {
     "name": "stdout",
     "output_type": "stream",
     "text": [
      "Root Mean Square Error:  15.834066331386849 %\n",
      "Std: 5.84292129635924 %\n"
     ]
    },
    {
     "data": {
      "text/plain": "<Figure size 640x480 with 1 Axes>",
      "image/png": "[encoded data removed]"
     },
     "metadata": {},
     "output_type": "display_data"
    }
   ],
   "source": [
    "import math\n",
    "\n",
    "MSE = np.square(np.subtract(new_y_test,test_predictions).mean()) \n",
    "RMSE = math.sqrt(MSE)\n",
    "RMSE_pec = RMSE / new_y_test.max() * 100\n",
    "print(\"Root Mean Square Error: \", RMSE_pec, \"%\")\n",
    "\n",
    "print(\"Std:\", np.subtract(new_y_test,test_predictions).std()/new_y_test.max()*100, \"%\")\n",
    "\n",
    "plt.plot(np.subtract(new_y_test,test_predictions)/new_y_test.max()*100, label='Predicted error')\n",
    "plt.xlabel('Day')\n",
    "plt.ylabel('error')\n",
    "plt.legend()\n",
    "plt.show()"
   ]
  },
  {
   "cell_type": "code",
   "execution_count": 30,
   "outputs": [
    {
     "data": {
      "text/plain": "array([213.65713638, 213.50961979, 212.00326228, 213.02917925,\n       213.77944117, 214.0901095 , 213.50890042, 213.80759791,\n       213.22306173, 212.73045928, 211.51735899, 212.82627087,\n       211.90996848, 209.85061483, 208.34424607, 207.28968903,\n       206.1211562 , 207.69113334, 208.28009816, 206.34696089,\n       205.99053365, 204.04024381, 201.54391553, 197.41529435,\n       189.05384396, 185.45694119, 180.47850349, 176.88454566,\n       175.52016331, 177.68086437, 182.54465748, 186.73470082,\n       188.90642853, 182.45082978, 190.34746915, 195.57287686,\n       200.19950704, 202.45201256, 202.295841  , 198.81809576,\n       198.26118803, 198.72839884, 199.88274652, 198.35052526,\n       196.2279454 , 193.58516834, 188.57129587, 189.9909295 ,\n       192.55063012, 193.8299128 , 193.03120555, 193.1170808 ,\n       190.54906242, 187.52842303, 179.96062741, 174.40318373,\n       173.70159194, 178.41800896, 180.67454972, 179.64457503,\n       182.37410406, 187.7944677 , 193.58574159, 199.10868906,\n       202.13165517, 205.46749269, 206.33904778, 206.83034637,\n       207.70183402, 210.31050826, 211.61421593, 210.64760233,\n       208.5040145 , 207.91277915, 210.17220864, 208.87665013,\n       205.26015567, 202.98591157, 199.9211431 , 196.20994981,\n       193.95959117, 195.67729847, 194.30638555, 194.19358998,\n       197.41675558, 196.77889581, 192.71610858, 187.73370871,\n       186.04747964, 180.59690231, 176.46072209, 178.55008712,\n       165.90771062, 158.24048967, 154.25419773, 153.46593263,\n       147.18057257, 142.54634963, 136.43703383, 133.39554946,\n       129.89469715, 129.27073872, 132.87872996, 133.5601287 ,\n       136.50660515, 133.11602497, 131.2150853 , 130.45115246,\n       130.11437874, 127.84439468, 128.34415153, 131.33819938,\n       135.31443976, 140.26591779, 143.78472916, 147.78832542,\n       148.36891067, 149.95758591, 149.82152871, 148.53393952,\n       144.57455665, 138.1046772 , 130.7638665 , 126.32751632,\n       127.91113908, 126.55083693, 127.46750181, 129.52837571,\n       130.75844591, 133.41319098, 137.12892531, 137.22288228,\n       133.51544604, 132.34527494, 130.15716743, 131.127968  ,\n       134.1384378 , 136.27707994, 138.52410867, 139.24067242,\n       137.25490284, 134.47916809, 133.73100527, 133.60036587,\n       135.34750567, 136.47281706, 139.63260189, 143.94881945,\n       147.42956583, 148.15308728, 147.6872253 , 143.42479498,\n       144.63507959, 146.29266859, 154.19738406, 159.45581552,\n       162.10349331, 166.7805471 , 171.93320251, 174.23077006,\n       174.61345444, 173.42745432, 175.7562809 , 176.03244738,\n       177.88225531, 178.83938779, 180.42269582, 179.71466901,\n       179.30625015, 176.28766772, 170.90364933, 167.90527681,\n       166.43711916, 167.90340531, 164.76663201, 162.06330392,\n       159.83493114, 157.35817207, 156.57025543, 156.04211141,\n       154.88023279, 156.25239899, 157.39569753, 160.12103959,\n       163.74392412, 160.16700084, 158.74194942, 156.54327891,\n       153.43102052, 152.36123861, 150.34417065, 146.92118774,\n       144.26177516, 140.6855572 , 139.66837106, 138.84436489,\n       140.61708181, 139.79509607, 138.16393   , 138.99712505,\n       142.5540267 , 144.53709301, 145.21299528, 142.04998732,\n       139.5855953 , 137.38305816, 136.69519911, 136.24704327,\n       132.56163786, 134.81037228, 137.70691969, 138.5343204 ,\n       138.99126608, 141.56584875, 143.32505492, 144.72178661,\n       142.50637942, 138.18228527, 130.91350469, 126.55930081,\n       120.95901785, 115.25479943, 110.82909373, 110.13523521,\n       109.73663186, 109.25899575, 106.43306501, 112.15401449,\n       117.70284255, 118.87310919, 119.54785091, 118.5958524 ,\n       116.53430691, 115.00447701, 113.21021542, 112.91471295,\n       113.46991779, 113.30707798, 113.58092616, 112.69453399,\n       114.99112082, 115.45979005, 114.7192734 , 112.21316051,\n       109.08684061, 107.78534726, 108.56477755, 108.17888689,\n       109.0055317 , 110.73133476, 110.94293463, 108.84522655,\n       107.38300936, 104.67804511, 103.61363251, 104.29535019,\n       102.62067817, 102.8497081 , 101.44320936,  99.91898798,\n       100.87956453, 101.26042378, 102.71779925, 102.93289061,\n       101.58595519, 102.99331872, 104.5612944 , 107.02027917,\n       111.65927639, 113.97499408, 116.82793788, 116.76028864,\n       116.19394193, 114.67511902, 116.28133742, 117.31838783,\n       117.01486828, 117.41018105, 118.91561406, 121.57695152,\n       121.80026089, 123.4444656 , 125.51738339, 131.14431971,\n       128.299171  , 125.74631567, 124.41603613, 122.48079694,\n       120.37922785, 119.00535595, 119.71900006, 120.24619709,\n       121.45121285, 120.11024668, 118.75311988, 116.35192879,\n       115.99835656, 115.95581796, 114.43999056, 113.8833526 ,\n       113.97530037, 112.67420606, 112.00894546, 113.5809655 ,\n       113.62818846, 113.47726327, 113.64162614, 112.60032693,\n       111.04255385, 111.46516068, 113.36799995, 115.18800725,\n       118.52518236, 119.43092737, 118.94858724, 120.48859796,\n       120.02289053, 119.73258105, 119.20944454, 118.90227755,\n       118.2432918 , 119.86889395, 121.84346547, 123.61676125,\n       123.9009111 , 124.92644309])"
     },
     "execution_count": 30,
     "metadata": {},
     "output_type": "execute_result"
    }
   ],
   "source": [
    "test_predictions"
   ],
   "metadata": {
    "collapsed": false,
    "ExecuteTime": {
     "end_time": "2023-08-26T15:44:45.305595700Z",
     "start_time": "2023-08-26T15:44:45.296290800Z"
    }
   },
   "id": "9d011d98af8893e2"
  },
  {
   "cell_type": "code",
   "execution_count": 31,
   "outputs": [
    {
     "data": {
      "text/plain": "array([[ 1.00424051e+00,  1.00909507e+00,  1.70085430e-02],\n       [ 1.26517332e+00,  1.24591577e+00,  7.23351836e-02],\n       [ 1.26360881e+00,  1.24290705e+00,  7.11774528e-02],\n       [ 1.24763298e+00,  1.23091555e+00,  6.86385334e-02],\n       [ 1.25851345e+00,  1.23654997e+00,  6.91934526e-02],\n       [ 1.26647043e+00,  1.24297142e+00,  7.07383156e-02],\n       [ 1.26976526e+00,  1.24643254e+00,  7.17370212e-02],\n       [ 1.26360118e+00,  1.24257994e+00,  7.11086392e-02],\n       [ 1.26676905e+00,  1.24455965e+00,  7.14002550e-02],\n       [ 1.26056969e+00,  1.24053633e+00,  7.06936717e-02],\n       [ 1.25534534e+00,  1.23656619e+00,  6.97694123e-02],\n       [ 1.24247968e+00,  1.22670650e+00,  6.75550401e-02],\n       [ 1.25636148e+00,  1.23464596e+00,  6.86218739e-02],\n       [ 1.24664354e+00,  1.22862029e+00,  6.77277148e-02],\n       [ 1.22480285e+00,  1.21217859e+00,  6.41456544e-02],\n       [ 1.20882690e+00,  1.19771469e+00,  6.04431927e-02],\n       [ 1.19764268e+00,  1.18676651e+00,  5.75501919e-02],\n       [ 1.18524969e+00,  1.17437911e+00,  5.44336736e-02],\n       [ 1.20190024e+00,  1.18364513e+00,  5.58021367e-02],\n       [ 1.20814657e+00,  1.18872249e+00,  5.71990609e-02],\n       [ 1.18764448e+00,  1.17429018e+00,  5.45313358e-02],\n       [ 1.18386436e+00,  1.16902661e+00,  5.29246032e-02],\n       [ 1.16318035e+00,  1.15242803e+00,  4.93599176e-02],\n       [ 1.13670528e+00,  1.12930977e+00,  4.39822078e-02],\n       [ 1.09291875e+00,  1.09090185e+00,  3.52061093e-02],\n       [ 1.00424051e+00,  1.00909507e+00,  1.70085430e-02],\n       [ 9.66093183e-01,  9.48968470e-01,  2.39768624e-03],\n       [ 9.13293839e-01,  8.82706344e-01, -1.24990046e-02],\n       [ 8.75177741e-01,  8.26147556e-01, -2.62046158e-02],\n       [ 8.60707641e-01,  7.94750690e-01, -3.46326530e-02],\n       [ 8.83623183e-01,  8.01422954e-01, -3.46219540e-02],\n       [ 9.35206652e-01,  8.45721960e-01, -2.51947939e-02],\n       [ 9.79644597e-01,  8.95041585e-01, -1.32926106e-02],\n       [ 1.00267708e+00,  9.27510321e-01, -4.95925546e-03],\n       [ 9.34211552e-01,  8.78575563e-01, -1.41025186e-02],\n       [ 1.01796019e+00,  9.48585093e-01, -8.02814960e-04],\n       [ 1.07337880e+00,  1.01206183e+00,  1.46062374e-02],\n       [ 1.12244701e+00,  1.06814325e+00,  2.75873542e-02],\n       [ 1.14633620e+00,  1.10265207e+00,  3.62649262e-02],\n       [ 1.14467990e+00,  1.11197317e+00,  3.92221212e-02],\n       [ 1.10779631e+00,  1.08865619e+00,  3.48051488e-02],\n       [ 1.10188997e+00,  1.08641851e+00,  3.35640907e-02],\n       [ 1.10684502e+00,  1.08706760e+00,  3.32842767e-02],\n       [ 1.11908758e+00,  1.09494936e+00,  3.48965228e-02],\n       [ 1.10283744e+00,  1.08229804e+00,  3.26738060e-02],\n       [ 1.08032620e+00,  1.05994201e+00,  2.77581811e-02],\n       [ 1.05229795e+00,  1.03113711e+00,  2.12865472e-02],\n       [ 9.99122798e-01,  9.81294930e-01,  1.03462040e-02],\n       [ 1.01417887e+00,  9.76270735e-01,  7.74019957e-03],\n       [ 1.04132605e+00,  9.94239032e-01,  1.14712119e-02],\n       [ 1.05489361e+00,  1.00651181e+00,  1.44992173e-02],\n       [ 1.04642284e+00,  1.00247383e+00,  1.40988231e-02],\n       [ 1.04733360e+00,  1.00341725e+00,  1.41325891e-02],\n       [ 1.02009821e+00,  9.82445180e-01,  9.99885798e-03],\n       [ 9.88062501e-01,  9.53612506e-01,  3.54421139e-03],\n       [ 9.07801449e-01,  8.76630545e-01, -1.33668184e-02],\n       [ 8.48861396e-01,  8.02715123e-01, -3.14344764e-02],\n       [ 8.41420591e-01,  7.73864567e-01, -3.98592055e-02],\n       [ 8.91441047e-01,  8.07402611e-01, -3.35642993e-02],\n       [ 9.15373027e-01,  8.30125868e-01, -2.79498398e-02],\n       [ 9.04449522e-01,  8.23878109e-01, -2.88657546e-02],\n       [ 9.33397830e-01,  8.49487066e-01, -2.37481296e-02],\n       [ 9.90884066e-01,  9.09267843e-01, -1.00151002e-02],\n       [ 1.05230403e+00,  9.79005158e-01,  6.40895963e-03],\n       [ 1.11087823e+00,  1.04737115e+00,  2.23810375e-02],\n       [ 1.14293861e+00,  1.09159267e+00,  3.33598554e-02],\n       [ 1.17831719e+00,  1.13524401e+00,  4.35783565e-02],\n       [ 1.18756056e+00,  1.15781879e+00,  4.97528911e-02],\n       [ 1.19277108e+00,  1.16944802e+00,  5.27133048e-02],\n       [ 1.20201373e+00,  1.18058896e+00,  5.52958250e-02],\n       [ 1.22968030e+00,  1.20399189e+00,  6.03507757e-02],\n       [ 1.24350691e+00,  1.21863043e+00,  6.42407238e-02],\n       [ 1.23325539e+00,  1.21446335e+00,  6.40723407e-02],\n       [ 1.21052134e+00,  1.19799948e+00,  6.05964661e-02],\n       [ 1.20425093e+00,  1.19118500e+00,  5.85402250e-02],\n       [ 1.22821355e+00,  1.20711482e+00,  6.13925457e-02],\n       [ 1.21447337e+00,  1.19952178e+00,  6.05043471e-02],\n       [ 1.17611825e+00,  1.16977894e+00,  5.40458858e-02],\n       [ 1.15199852e+00,  1.14550042e+00,  4.78471220e-02],\n       [ 1.11949480e+00,  1.11523247e+00,  4.07414138e-02],\n       [ 1.08013535e+00,  1.07712305e+00,  3.18374932e-02],\n       [ 1.05626893e+00,  1.04719865e+00,  2.45152712e-02],\n       [ 1.07448626e+00,  1.04777086e+00,  2.38507390e-02],\n       [ 1.05994689e+00,  1.03205609e+00,  2.10877359e-02],\n       [ 1.05875063e+00,  1.02609062e+00,  1.95082724e-02],\n       [ 1.09293425e+00,  1.05085874e+00,  2.43137181e-02],\n       [ 1.08616936e+00,  1.05121601e+00,  2.53654718e-02],\n       [ 1.04308105e+00,  1.01826310e+00,  1.86826885e-02],\n       [ 9.90239680e-01,  9.68321145e-01,  7.41294026e-03],\n       [ 9.72356200e-01,  9.37825859e-01, -3.72022390e-04],\n       [ 9.14549530e-01,  8.78129423e-01, -1.34508908e-02],\n       [ 8.70682836e-01,  8.21532607e-01, -2.72049010e-02],\n       [ 8.92841816e-01,  8.21479142e-01, -2.91026831e-02],\n       [ 7.58761764e-01,  6.93006516e-01, -5.86360693e-02],\n       [ 6.77446246e-01,  5.92784703e-01, -8.70421529e-02],\n       [ 6.35169208e-01,  5.33910632e-01, -1.05005771e-01],\n       [ 6.26809180e-01,  5.10184944e-01, -1.13955855e-01],\n       [ 5.60149133e-01,  4.42634970e-01, -1.33957162e-01],\n       [ 5.11000395e-01,  3.87990832e-01, -1.52368054e-01],\n       [ 4.46207404e-01,  3.20060253e-01, -1.75780624e-01],\n       [ 4.13950622e-01,  2.83319443e-01, -1.89909920e-01],\n       [ 3.76821965e-01,  2.44318128e-01, -2.04804033e-01],\n       [ 3.70204508e-01,  2.32654274e-01, -2.11122110e-01],\n       [ 4.08469439e-01,  2.63451546e-01, -2.02394232e-01],\n       [ 4.15696084e-01,  2.70958811e-01, -1.99464753e-01],\n       [ 4.46945250e-01,  2.99765170e-01, -1.89826056e-01],\n       [ 4.10986096e-01,  2.70152986e-01, -1.98407948e-01],\n       [ 3.90825480e-01,  2.51268715e-01, -2.05059290e-01],\n       [ 3.82723510e-01,  2.42686033e-01, -2.08386973e-01],\n       [ 3.79151821e-01,  2.38311052e-01, -2.10345611e-01],\n       [ 3.55077267e-01,  2.15797931e-01, -2.18600363e-01],\n       [ 3.60377491e-01,  2.18497783e-01, -2.18671069e-01],\n       [ 3.92131180e-01,  2.45910168e-01, -2.09855720e-01],\n       [ 4.34301615e-01,  2.85499841e-01, -1.95824832e-01],\n       [ 4.86815035e-01,  3.36260974e-01, -1.77975699e-01],\n       [ 5.24134159e-01,  3.75152826e-01, -1.63738623e-01],\n       [ 5.66594720e-01,  4.19043154e-01, -1.48671195e-01],\n       [ 5.72752178e-01,  4.31093901e-01, -1.42968342e-01],\n       [ 5.89601040e-01,  4.51111048e-01, -1.35939091e-01],\n       [ 5.88158071e-01,  4.53554541e-01, -1.34184271e-01],\n       [ 5.74502409e-01,  4.43093568e-01, -1.36697933e-01],\n       [ 5.32510757e-01,  4.04423922e-01, -1.48127005e-01],\n       [ 4.63893771e-01,  3.38535488e-01, -1.69239327e-01],\n       [ 3.86040032e-01,  2.61086881e-01, -1.96401611e-01],\n       [ 3.38989854e-01,  2.10353136e-01, -2.16524333e-01],\n       [ 3.55785131e-01,  2.17491150e-01, -2.17323750e-01],\n       [ 3.41358304e-01,  2.02159733e-01, -2.23874748e-01],\n       [ 3.51080090e-01,  2.08322018e-01, -2.23181412e-01],\n       [ 3.72936904e-01,  2.27114558e-01, -2.17199340e-01],\n       [ 3.85982543e-01,  2.39905834e-01, -2.12297246e-01],\n       [ 4.14137721e-01,  2.66569287e-01, -2.02597901e-01],\n       [ 4.53545332e-01,  3.04544628e-01, -1.88870564e-01],\n       [ 4.54541802e-01,  3.08936894e-01, -1.85868651e-01],\n       [ 4.15222198e-01,  2.76014417e-01, -1.95647344e-01],\n       [ 4.02811825e-01,  2.63508588e-01, -2.00253040e-01],\n       [ 3.79605621e-01,  2.41340399e-01, -2.08187684e-01],\n       [ 3.89901549e-01,  2.48327881e-01, -2.06765562e-01],\n       [ 4.21829402e-01,  2.76094824e-01, -1.97922722e-01],\n       [ 4.44510996e-01,  2.97819495e-01, -1.90264732e-01],\n       [ 4.68342096e-01,  3.21366042e-01, -1.81854829e-01],\n       [ 4.75941688e-01,  3.31127584e-01, -1.77538976e-01],\n       [ 4.54881400e-01,  3.14260721e-01, -1.82111442e-01],\n       [ 4.25443053e-01,  2.87991583e-01, -1.90491155e-01],\n       [ 4.17508334e-01,  2.78687298e-01, -1.94298670e-01],\n       [ 4.16122824e-01,  2.75756806e-01, -1.95878983e-01],\n       [ 4.34652299e-01,  2.91429281e-01, -1.91142172e-01],\n       [ 4.46586907e-01,  3.02690893e-01, -1.87284857e-01],\n       [ 4.80098337e-01,  3.33763182e-01, -1.77091405e-01],\n       [ 5.25874436e-01,  3.78203034e-01, -1.62156761e-01],\n       [ 5.62789857e-01,  4.16719764e-01, -1.48820266e-01],\n       [ 5.70463240e-01,  4.29110140e-01, -1.43481001e-01],\n       [ 5.65522492e-01,  4.28465992e-01, -1.42645985e-01],\n       [ 5.20316839e-01,  3.89263779e-01, -1.53797492e-01],\n       [ 5.33152640e-01,  3.98133248e-01, -1.51909992e-01],\n       [ 5.50732374e-01,  4.13506836e-01, -1.47303820e-01],\n       [ 6.34566665e-01,  4.92183775e-01, -1.24528855e-01],\n       [ 6.90335512e-01,  5.50687015e-01, -1.06580645e-01],\n       [ 7.18415737e-01,  5.85687399e-01, -9.55044627e-02],\n       [ 7.68018723e-01,  6.40182376e-01, -8.04287791e-02],\n       [ 8.22665751e-01,  7.03769386e-01, -6.27788901e-02],\n       [ 8.47032845e-01,  7.40359902e-01, -5.18888831e-02],\n       [ 8.51091444e-01,  7.56360590e-01, -4.65088189e-02],\n       [ 8.38513196e-01,  7.48253226e-01, -4.80051935e-02],\n       [ 8.63211811e-01,  7.71599948e-01, -4.27377820e-02],\n       [ 8.66140723e-01,  7.79390574e-01, -4.00354266e-02],\n       [ 8.85759056e-01,  7.98065841e-01, -3.58853638e-02],\n       [ 8.95910025e-01,  8.10072005e-01, -3.27941477e-02],\n       [ 9.12701964e-01,  8.28617096e-01, -2.83958018e-02],\n       [ 9.05192912e-01,  8.27096999e-01, -2.80300081e-02],\n       [ 9.00861382e-01,  8.25588882e-01, -2.82211006e-02],\n       [ 8.68847489e-01,  7.96209872e-01, -3.47197056e-02],\n       [ 8.11746716e-01,  7.39734411e-01, -4.81130779e-02],\n       [ 7.79947162e-01,  6.98305786e-01, -5.93073368e-02],\n       [ 7.64376462e-01,  6.72778249e-01, -6.66667819e-02],\n       [ 7.79927313e-01,  6.78151786e-01, -6.65946007e-02],\n       [ 7.46659935e-01,  6.45742238e-01, -7.44703114e-02],\n       [ 7.17989504e-01,  6.13084435e-01, -8.37886930e-02],\n       [ 6.94356263e-01,  5.85158467e-01, -9.18799937e-02],\n       [ 6.68088734e-01,  5.56648433e-01, -9.99195576e-02],\n       [ 6.59732401e-01,  5.42650282e-01, -1.04731768e-01],\n       [ 6.54131114e-01,  5.33905387e-01, -1.07636124e-01],\n       [ 6.41808689e-01,  5.19153476e-01, -1.12274796e-01],\n       [ 6.56361341e-01,  5.30051351e-01, -1.09928906e-01],\n       [ 6.68486714e-01,  5.41650653e-01, -1.06660962e-01],\n       [ 6.97390616e-01,  5.70099533e-01, -9.89006758e-02],\n       [ 7.35813498e-01,  6.10093594e-01, -8.78086090e-02],\n       [ 6.97878063e-01,  5.81409454e-01, -9.38434303e-02],\n       [ 6.82764530e-01,  5.66501915e-01, -9.82320011e-02],\n       [ 6.59446299e-01,  5.43975353e-01, -1.04185373e-01],\n       [ 6.26438916e-01,  5.09522438e-01, -1.14141941e-01],\n       [ 6.15093231e-01,  4.93464082e-01, -1.19623721e-01],\n       [ 5.93701005e-01,  4.69529480e-01, -1.27089575e-01],\n       [ 5.57398200e-01,  4.31621760e-01, -1.39025778e-01],\n       [ 5.29193521e-01,  4.01283771e-01, -1.49083957e-01],\n       [ 4.91265565e-01,  3.61889541e-01, -1.62276834e-01],\n       [ 4.80477691e-01,  3.46704632e-01, -1.68530434e-01],\n       [ 4.71738607e-01,  3.35613102e-01, -1.72927201e-01],\n       [ 4.90539342e-01,  3.49895328e-01, -1.69400558e-01],\n       [ 4.81821686e-01,  3.42076808e-01, -1.71811506e-01],\n       [ 4.64522183e-01,  3.26166719e-01, -1.77016050e-01],\n       [ 4.73358721e-01,  3.32621455e-01, -1.75524414e-01],\n       [ 5.11081815e-01,  3.67288142e-01, -1.64485142e-01],\n       [ 5.32113433e-01,  3.88913423e-01, -1.56968683e-01],\n       [ 5.39281785e-01,  3.98432344e-01, -1.53197795e-01],\n       [ 5.05736172e-01,  3.69834214e-01, -1.61394835e-01],\n       [ 4.79599804e-01,  3.44998419e-01, -1.69486105e-01],\n       [ 4.56240565e-01,  3.21752965e-01, -1.77387252e-01],\n       [ 4.48945403e-01,  3.12265903e-01, -1.81314349e-01],\n       [ 4.44192439e-01,  3.05034429e-01, -1.84708357e-01],\n       [ 4.05106485e-01,  2.68690139e-01, -1.97131410e-01],\n       [ 4.28955674e-01,  2.86452651e-01, -1.92791700e-01],\n       [ 4.59675312e-01,  3.14377040e-01, -1.83543280e-01],\n       [ 4.68450397e-01,  3.24212313e-01, -1.79655254e-01],\n       [ 4.73296583e-01,  3.30175847e-01, -1.77213624e-01],\n       [ 5.00601590e-01,  3.55899125e-01, -1.68790415e-01],\n       [ 5.19259036e-01,  3.75375807e-01, -1.61811367e-01],\n       [ 5.34072220e-01,  3.92210007e-01, -1.55554712e-01],\n       [ 5.10576487e-01,  3.73362750e-01, -1.60519943e-01],\n       [ 4.64716852e-01,  3.31405222e-01, -1.73808649e-01],\n       [ 3.87627035e-01,  2.58784473e-01, -1.98511988e-01],\n       [ 3.41448069e-01,  2.11013466e-01, -2.16999516e-01],\n       [ 2.82053679e-01,  1.52671933e-01, -2.39863664e-01],\n       [ 2.21556991e-01,  9.35358182e-02, -2.64400333e-01],\n       [ 1.74619704e-01,  4.65787128e-02, -2.85589755e-01],\n       [ 1.67260915e-01,  3.48611996e-02, -2.93796986e-01],\n       [ 1.63033485e-01,  2.84912512e-02, -2.98513353e-01],\n       [ 1.57967865e-01,  2.26841792e-02, -3.02082062e-01],\n       [ 1.27997160e-01, -3.93642485e-03, -3.13070983e-01],\n       [ 1.88671291e-01,  4.65232953e-02, -2.95623690e-01],\n       [ 2.47519970e-01,  9.97312143e-02, -2.74582624e-01],\n       [ 2.59931356e-01,  1.13998123e-01, -2.66837686e-01],\n       [ 2.67087400e-01,  1.22370057e-01, -2.62109399e-01],\n       [ 2.56990880e-01,  1.15006305e-01, -2.63482332e-01],\n       [ 2.35126942e-01,  9.63701233e-02, -2.69683391e-01],\n       [ 2.18902171e-01,  8.16966370e-02, -2.75170803e-01],\n       [ 1.99872941e-01,  6.39306679e-02, -2.82603562e-01],\n       [ 1.96738958e-01,  5.95247969e-02, -2.85533726e-01],\n       [ 2.02627242e-01,  6.37499318e-02, -2.84712315e-01],\n       [ 2.00900227e-01,  6.20643720e-02, -2.85608977e-01],\n       [ 2.03804553e-01,  6.43846020e-02, -2.84954607e-01],\n       [ 1.94403827e-01,  5.63266203e-02, -2.87912041e-01],\n       [ 2.18760520e-01,  7.69431964e-02, -2.80678988e-01],\n       [ 2.23731041e-01,  8.23205784e-02, -2.77925998e-01],\n       [ 2.15877414e-01,  7.61773363e-02, -2.79673398e-01],\n       [ 1.89298570e-01,  5.31462505e-02, -2.88145334e-01],\n       [ 1.56142056e-01,  2.34422013e-02, -2.99981117e-01],\n       [ 1.42338932e-01,  9.56418365e-03, -3.06707323e-01],\n       [ 1.50605261e-01,  1.51353851e-02, -3.05898279e-01],\n       [ 1.46512657e-01,  1.11723766e-02, -3.07966590e-01],\n       [ 1.55279726e-01,  1.81457922e-02, -3.05942684e-01],\n       [ 1.73582911e-01,  3.40397134e-02, -2.99973547e-01],\n       [ 1.75827056e-01,  3.68610546e-02, -2.98250616e-01],\n       [ 1.53579593e-01,  1.83141977e-02, -3.04650575e-01],\n       [ 1.38071895e-01,  4.34063375e-03, -3.10297281e-01],\n       [ 1.09384112e-01, -2.10476071e-02, -3.20597112e-01],\n       [ 9.80953723e-02, -3.22655067e-02, -3.26190412e-01],\n       [ 1.05325401e-01, -2.73594931e-02, -3.25508952e-01],\n       [ 8.75644907e-02, -4.28200960e-02, -3.31934214e-01],\n       [ 8.99934918e-02, -4.17749435e-02, -3.32516104e-01],\n       [ 7.50767216e-02, -5.46348840e-02, -3.37691873e-01],\n       [ 5.89114316e-02, -6.90125674e-02, -3.43866169e-01],\n       [ 6.90989271e-02, -6.13325462e-02, -3.41783136e-01],\n       [ 7.31381699e-02, -5.79358190e-02, -3.40622008e-01],\n       [ 8.85945186e-02, -4.47902642e-02, -3.35650682e-01],\n       [ 9.08756927e-02, -4.21927124e-02, -3.34092081e-01],\n       [ 7.65906274e-02, -5.39291762e-02, -3.38190794e-01],\n       [ 9.15165693e-02, -4.17156145e-02, -3.33852232e-01],\n       [ 1.08145900e-01, -2.69775987e-02, -3.27674180e-01],\n       [ 1.34224921e-01, -3.87177616e-03, -3.18222553e-01],\n       [ 1.83424294e-01,  3.99456397e-02, -3.00512671e-01],\n       [ 2.07983881e-01,  6.38923123e-02, -2.89350539e-01],\n       [ 2.38241076e-01,  9.25030187e-02, -2.76824921e-01],\n       [ 2.37523615e-01,  9.44925025e-02, -2.73799986e-01],\n       [ 2.31517166e-01,  9.05297026e-02, -2.73998827e-01],\n       [ 2.15409130e-01,  7.69751593e-02, -2.78405547e-01],\n       [ 2.32444048e-01,  9.11713019e-02, -2.73485601e-01],\n       [ 2.43442595e-01,  1.01248689e-01, -2.69488275e-01],\n       [ 2.40223587e-01,  9.91800055e-02, -2.69759476e-01],\n       [ 2.44416118e-01,  1.02733202e-01, -2.68590420e-01],\n       [ 2.60382146e-01,  1.17008306e-01, -2.63127923e-01],\n       [ 2.88607240e-01,  1.42743051e-01, -2.53169447e-01],\n       [ 2.90975571e-01,  1.46732032e-01, -2.50448287e-01],\n       [ 3.08413357e-01,  1.63014859e-01, -2.43995398e-01],\n       [ 3.30397904e-01,  1.83758497e-01, -2.35799089e-01],\n       [ 3.90074968e-01,  2.38937259e-01, -2.15472952e-01],\n       [ 3.59900445e-01,  2.16159582e-01, -2.20942318e-01],\n       [ 3.32825869e-01,  1.92544222e-01, -2.28807390e-01],\n       [ 3.18717450e-01,  1.78700477e-01, -2.34202027e-01],\n       [ 2.98193067e-01,  1.59567177e-01, -2.41395697e-01],\n       [ 2.75904655e-01,  1.38362050e-01, -2.49856815e-01],\n       [ 2.61333913e-01,  1.23498790e-01, -2.56482035e-01],\n       [ 2.68902540e-01,  1.27933323e-01, -2.56398112e-01],\n       [ 2.74493784e-01,  1.32430404e-01, -2.55142689e-01],\n       [ 2.87273705e-01,  1.43662304e-01, -2.51199901e-01],\n       [ 2.73051947e-01,  1.31880373e-01, -2.55044192e-01],\n       [ 2.58658797e-01,  1.18885703e-01, -2.59957194e-01],\n       [ 2.33192712e-01,  9.59671065e-02, -2.68679708e-01],\n       [ 2.29442865e-01,  9.11238715e-02, -2.71434635e-01],\n       [ 2.28991717e-01,  8.97367373e-02, -2.72697449e-01],\n       [ 2.12915450e-01,  7.52566680e-02, -2.78494298e-01],\n       [ 2.07011968e-01,  6.90129325e-02, -2.81658113e-01],\n       [ 2.07987130e-01,  6.91069439e-02, -2.82217294e-01],\n       [ 1.94188237e-01,  5.68922386e-02, -2.87010670e-01],\n       [ 1.87132746e-01,  5.00233695e-02, -2.90142536e-01],\n       [ 2.03804970e-01,  6.37246743e-02, -2.85646379e-01],\n       [ 2.04305798e-01,  6.46209940e-02, -2.85058796e-01],\n       [ 2.02705145e-01,  6.34532496e-02, -2.85339743e-01],\n       [ 2.04448313e-01,  6.49542436e-02, -2.84779340e-01],\n       [ 1.93404704e-01,  5.55296168e-02, -2.88160175e-01],\n       [ 1.76883578e-01,  4.08888534e-02, -2.93836713e-01],\n       [ 1.81365579e-01,  4.37307730e-02, -2.93545783e-01],\n       [ 2.01546341e-01,  6.09165207e-02, -2.87443519e-01],\n       [ 2.20848620e-01,  7.84042105e-02, -2.80536473e-01],\n       [ 2.56241381e-01,  1.10442258e-01, -2.68008024e-01],\n       [ 2.65847355e-01,  1.21024020e-01, -2.62588829e-01],\n       [ 2.60731846e-01,  1.18066542e-01, -2.62474418e-01],\n       [ 2.77064592e-01,  1.32989436e-01, -2.56433517e-01],\n       [ 2.72125483e-01,  1.29923731e-01, -2.56558120e-01],\n       [ 2.69046575e-01,  1.27530992e-01, -2.57135391e-01],\n       [ 2.63498396e-01,  1.22668810e-01, -2.58837819e-01],\n       [ 2.60240704e-01,  1.19459800e-01, -2.60227263e-01],\n       [ 2.53251761e-01,  1.13065504e-01, -2.62733221e-01],\n       [ 2.70492256e-01,  1.27688408e-01, -2.57735431e-01],\n       [ 2.91433781e-01,  1.46635592e-01, -2.50630260e-01],\n       [ 3.10240656e-01,  1.64495707e-01, -2.43487626e-01],\n       [ 3.13254237e-01,  1.68694973e-01, -2.41040051e-01],\n       [ 3.24130625e-01,  1.79219425e-01, -2.36697793e-01]], dtype=float32)"
     },
     "execution_count": 31,
     "metadata": {},
     "output_type": "execute_result"
    }
   ],
   "source": [
    "bad = [index for index,value in enumerate(test_predictions_all) if value[1] > value[0]]\n",
    "bad = bad + [index for index,value in enumerate(test_predictions_all) if value[2] < value[0]]\n",
    "test_predictions_all[bad]"
   ],
   "metadata": {
    "collapsed": false,
    "ExecuteTime": {
     "end_time": "2023-08-26T15:44:45.316606100Z",
     "start_time": "2023-08-26T15:44:45.300596800Z"
    }
   },
   "id": "d72befff9de7d228"
  },
  {
   "cell_type": "code",
   "execution_count": 32,
   "outputs": [
    {
     "data": {
      "text/plain": "[24,\n 0,\n 1,\n 2,\n 3,\n 4,\n 5,\n 6,\n 7,\n 8,\n 9,\n 10,\n 11,\n 12,\n 13,\n 14,\n 15,\n 16,\n 17,\n 18,\n 19,\n 20,\n 21,\n 22,\n 23,\n 24,\n 25,\n 26,\n 27,\n 28,\n 29,\n 30,\n 31,\n 32,\n 33,\n 34,\n 35,\n 36,\n 37,\n 38,\n 39,\n 40,\n 41,\n 42,\n 43,\n 44,\n 45,\n 46,\n 47,\n 48,\n 49,\n 50,\n 51,\n 52,\n 53,\n 54,\n 55,\n 56,\n 57,\n 58,\n 59,\n 60,\n 61,\n 62,\n 63,\n 64,\n 65,\n 66,\n 67,\n 68,\n 69,\n 70,\n 71,\n 72,\n 73,\n 74,\n 75,\n 76,\n 77,\n 78,\n 79,\n 80,\n 81,\n 82,\n 83,\n 84,\n 85,\n 86,\n 87,\n 88,\n 89,\n 90,\n 91,\n 92,\n 93,\n 94,\n 95,\n 96,\n 97,\n 98,\n 99,\n 100,\n 101,\n 102,\n 103,\n 104,\n 105,\n 106,\n 107,\n 108,\n 109,\n 110,\n 111,\n 112,\n 113,\n 114,\n 115,\n 116,\n 117,\n 118,\n 119,\n 120,\n 121,\n 122,\n 123,\n 124,\n 125,\n 126,\n 127,\n 128,\n 129,\n 130,\n 131,\n 132,\n 133,\n 134,\n 135,\n 136,\n 137,\n 138,\n 139,\n 140,\n 141,\n 142,\n 143,\n 144,\n 145,\n 146,\n 147,\n 148,\n 149,\n 150,\n 151,\n 152,\n 153,\n 154,\n 155,\n 156,\n 157,\n 158,\n 159,\n 160,\n 161,\n 162,\n 163,\n 164,\n 165,\n 166,\n 167,\n 168,\n 169,\n 170,\n 171,\n 172,\n 173,\n 174,\n 175,\n 176,\n 177,\n 178,\n 179,\n 180,\n 181,\n 182,\n 183,\n 184,\n 185,\n 186,\n 187,\n 188,\n 189,\n 190,\n 191,\n 192,\n 193,\n 194,\n 195,\n 196,\n 197,\n 198,\n 199,\n 200,\n 201,\n 202,\n 203,\n 204,\n 205,\n 206,\n 207,\n 208,\n 209,\n 210,\n 211,\n 212,\n 213,\n 214,\n 215,\n 216,\n 217,\n 218,\n 219,\n 220,\n 221,\n 222,\n 223,\n 224,\n 225,\n 226,\n 227,\n 228,\n 229,\n 230,\n 231,\n 232,\n 233,\n 234,\n 235,\n 236,\n 237,\n 238,\n 239,\n 240,\n 241,\n 242,\n 243,\n 244,\n 245,\n 246,\n 247,\n 248,\n 249,\n 250,\n 251,\n 252,\n 253,\n 254,\n 255,\n 256,\n 257,\n 258,\n 259,\n 260,\n 261,\n 262,\n 263,\n 264,\n 265,\n 266,\n 267,\n 268,\n 269,\n 270,\n 271,\n 272,\n 273,\n 274,\n 275,\n 276,\n 277,\n 278,\n 279,\n 280,\n 281,\n 282,\n 283,\n 284,\n 285,\n 286,\n 287,\n 288,\n 289,\n 290,\n 291,\n 292,\n 293,\n 294,\n 295,\n 296,\n 297,\n 298,\n 299,\n 300,\n 301,\n 302,\n 303,\n 304,\n 305,\n 306,\n 307,\n 308,\n 309,\n 310,\n 311,\n 312,\n 313,\n 314,\n 315,\n 316,\n 317,\n 318,\n 319,\n 320,\n 321,\n 322,\n 323,\n 324,\n 325]"
     },
     "execution_count": 32,
     "metadata": {},
     "output_type": "execute_result"
    }
   ],
   "source": [
    "bad"
   ],
   "metadata": {
    "collapsed": false,
    "ExecuteTime": {
     "end_time": "2023-08-26T15:44:45.316606100Z",
     "start_time": "2023-08-26T15:44:45.309827900Z"
    }
   },
   "id": "c44fd64d4c867d20"
  },
  {
   "cell_type": "code",
   "execution_count": 32,
   "outputs": [],
   "source": [],
   "metadata": {
    "collapsed": false,
    "ExecuteTime": {
     "end_time": "2023-08-26T15:44:45.317605800Z",
     "start_time": "2023-08-26T15:44:45.315100600Z"
    }
   },
   "id": "a92d9f6b4b9717cd"
  }
 ],
 "metadata": {
  "colab": {
   "gpuType": "T4",
   "provenance": []
  },
  "gpuClass": "standard",
  "kernelspec": {
   "display_name": "Python 3 (ipykernel)",
   "language": "python",
   "name": "python3"
  },
  "language_info": {
   "codemirror_mode": {
    "name": "ipython",
    "version": 3
   },
   "file_extension": ".py",
   "mimetype": "text/x-python",
   "name": "python",
   "nbconvert_exporter": "python",
   "pygments_lexer": "ipython3",
   "version": "3.11.0"
  }
 },
 "nbformat": 4,
 "nbformat_minor": 5
}
