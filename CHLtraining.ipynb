{
 "cells": [
  {
   "cell_type": "code",
   "execution_count": 1,
   "id": "WtCP8-cDbg9R",
   "metadata": {
    "colab": {
     "base_uri": "https://localhost:8080/",
     "height": 423
    },
    "id": "WtCP8-cDbg9R",
    "outputId": "1a923823-8c15-4765-c9c9-19a233dc8131",
    "ExecuteTime": {
     "end_time": "2023-08-26T17:56:34.840031200Z",
     "start_time": "2023-08-26T17:56:33.130741400Z"
    }
   },
   "outputs": [
    {
     "data": {
      "text/plain": "            Date        Open        High         Low       Close   Adj Close  \\\n0     1997-05-15    0.121875    0.125000    0.096354    0.097917    0.097917   \n1     1997-05-16    0.098438    0.098958    0.085417    0.086458    0.086458   \n2     1997-05-19    0.088021    0.088542    0.081250    0.085417    0.085417   \n3     1997-05-20    0.086458    0.087500    0.081771    0.081771    0.081771   \n4     1997-05-21    0.081771    0.082292    0.068750    0.071354    0.071354   \n...          ...         ...         ...         ...         ...         ...   \n6511  2023-03-30  101.550003  103.040001  101.010002  102.000000  102.000000   \n6512  2023-03-31  102.160004  103.489998  101.949997  103.290001  103.290001   \n6513  2023-04-03  102.300003  103.290001  101.430000  102.410004  102.410004   \n6514  2023-04-04  102.750000  104.199997  102.110001  103.949997  103.949997   \n6515  2023-04-05  103.910004  103.910004  100.750000  101.099998  101.099998   \n\n          Volume  \n0     1443120000  \n1      294000000  \n2      122136000  \n3      109344000  \n4      377064000  \n...          ...  \n6511    53633400  \n6512    56704300  \n6513    41135700  \n6514    48662500  \n6515    45103000  \n\n[6516 rows x 7 columns]",
      "text/html": "<div>\n<style scoped>\n    .dataframe tbody tr th:only-of-type {\n        vertical-align: middle;\n    }\n\n    .dataframe tbody tr th {\n        vertical-align: top;\n    }\n\n    .dataframe thead th {\n        text-align: right;\n    }\n</style>\n<table border=\"1\" class=\"dataframe\">\n  <thead>\n    <tr style=\"text-align: right;\">\n      <th></th>\n      <th>Date</th>\n      <th>Open</th>\n      <th>High</th>\n      <th>Low</th>\n      <th>Close</th>\n      <th>Adj Close</th>\n      <th>Volume</th>\n    </tr>\n  </thead>\n  <tbody>\n    <tr>\n      <th>0</th>\n      <td>1997-05-15</td>\n      <td>0.121875</td>\n      <td>0.125000</td>\n      <td>0.096354</td>\n      <td>0.097917</td>\n      <td>0.097917</td>\n      <td>1443120000</td>\n    </tr>\n    <tr>\n      <th>1</th>\n      <td>1997-05-16</td>\n      <td>0.098438</td>\n      <td>0.098958</td>\n      <td>0.085417</td>\n      <td>0.086458</td>\n      <td>0.086458</td>\n      <td>294000000</td>\n    </tr>\n    <tr>\n      <th>2</th>\n      <td>1997-05-19</td>\n      <td>0.088021</td>\n      <td>0.088542</td>\n      <td>0.081250</td>\n      <td>0.085417</td>\n      <td>0.085417</td>\n      <td>122136000</td>\n    </tr>\n    <tr>\n      <th>3</th>\n      <td>1997-05-20</td>\n      <td>0.086458</td>\n      <td>0.087500</td>\n      <td>0.081771</td>\n      <td>0.081771</td>\n      <td>0.081771</td>\n      <td>109344000</td>\n    </tr>\n    <tr>\n      <th>4</th>\n      <td>1997-05-21</td>\n      <td>0.081771</td>\n      <td>0.082292</td>\n      <td>0.068750</td>\n      <td>0.071354</td>\n      <td>0.071354</td>\n      <td>377064000</td>\n    </tr>\n    <tr>\n      <th>...</th>\n      <td>...</td>\n      <td>...</td>\n      <td>...</td>\n      <td>...</td>\n      <td>...</td>\n      <td>...</td>\n      <td>...</td>\n    </tr>\n    <tr>\n      <th>6511</th>\n      <td>2023-03-30</td>\n      <td>101.550003</td>\n      <td>103.040001</td>\n      <td>101.010002</td>\n      <td>102.000000</td>\n      <td>102.000000</td>\n      <td>53633400</td>\n    </tr>\n    <tr>\n      <th>6512</th>\n      <td>2023-03-31</td>\n      <td>102.160004</td>\n      <td>103.489998</td>\n      <td>101.949997</td>\n      <td>103.290001</td>\n      <td>103.290001</td>\n      <td>56704300</td>\n    </tr>\n    <tr>\n      <th>6513</th>\n      <td>2023-04-03</td>\n      <td>102.300003</td>\n      <td>103.290001</td>\n      <td>101.430000</td>\n      <td>102.410004</td>\n      <td>102.410004</td>\n      <td>41135700</td>\n    </tr>\n    <tr>\n      <th>6514</th>\n      <td>2023-04-04</td>\n      <td>102.750000</td>\n      <td>104.199997</td>\n      <td>102.110001</td>\n      <td>103.949997</td>\n      <td>103.949997</td>\n      <td>48662500</td>\n    </tr>\n    <tr>\n      <th>6515</th>\n      <td>2023-04-05</td>\n      <td>103.910004</td>\n      <td>103.910004</td>\n      <td>100.750000</td>\n      <td>101.099998</td>\n      <td>101.099998</td>\n      <td>45103000</td>\n    </tr>\n  </tbody>\n</table>\n<p>6516 rows × 7 columns</p>\n</div>"
     },
     "execution_count": 1,
     "metadata": {},
     "output_type": "execute_result"
    }
   ],
   "source": [
    "import pandas as pd\n",
    "import numpy as np\n",
    "import matplotlib.pyplot as plt\n",
    "import torch\n",
    "import torch.nn as nn\n",
    "from copy import deepcopy as dc\n",
    "\n",
    "import CHLpredictor as chl\n",
    "\n",
    "CLOSE_IND = 0\n",
    "LOW_IND = 0\n",
    "HIGH_IND = 0\n",
    "VOLUME_IND = 1\n",
    "\n",
    "OUT_VALUE = HIGH_IND\n",
    "\n",
    "ticker = 'AMZN'\n",
    "\n",
    "data = pd.read_csv(ticker + '.csv')\n",
    "\n",
    "data"
   ]
  },
  {
   "cell_type": "code",
   "execution_count": 2,
   "id": "9akB333XcFJ6",
   "metadata": {
    "colab": {
     "base_uri": "https://localhost:8080/",
     "height": 36
    },
    "id": "9akB333XcFJ6",
    "outputId": "2e8630de-1369-4281-d87c-9634ed90ba97",
    "ExecuteTime": {
     "end_time": "2023-08-26T17:56:34.871753900Z",
     "start_time": "2023-08-26T17:56:34.836018800Z"
    }
   },
   "outputs": [
    {
     "data": {
      "text/plain": "'cuda:0'"
     },
     "execution_count": 2,
     "metadata": {},
     "output_type": "execute_result"
    }
   ],
   "source": [
    "device = 'cuda:0' if torch.cuda.is_available() else 'cpu'\n",
    "device"
   ]
  },
  {
   "cell_type": "code",
   "execution_count": 3,
   "id": "tr2YuqKGcXcJ",
   "metadata": {
    "colab": {
     "base_uri": "https://localhost:8080/",
     "height": 551
    },
    "id": "tr2YuqKGcXcJ",
    "outputId": "bd197a93-bf7f-413c-fac0-5f4dc1a8471d",
    "ExecuteTime": {
     "end_time": "2023-08-26T17:56:34.989471700Z",
     "start_time": "2023-08-26T17:56:34.857686400Z"
    }
   },
   "outputs": [
    {
     "data": {
      "text/plain": "[<matplotlib.lines.Line2D at 0x21972fd8a10>]"
     },
     "execution_count": 3,
     "metadata": {},
     "output_type": "execute_result"
    },
    {
     "data": {
      "text/plain": "<Figure size 640x480 with 1 Axes>",
      "image/png": "[encoded data removed]"
     },
     "metadata": {},
     "output_type": "display_data"
    }
   ],
   "source": [
    "data['Date'] = pd.to_datetime(data['Date'])\n",
    "\n",
    "plt.plot(data['Date'], data['Close'])"
   ]
  },
  {
   "cell_type": "code",
   "execution_count": 4,
   "id": "Q4ma6QCscwfB",
   "metadata": {
    "colab": {
     "base_uri": "https://localhost:8080/",
     "height": 455
    },
    "id": "Q4ma6QCscwfB",
    "outputId": "61bd4c08-c3f7-453d-ed92-c2232a18a5ba",
    "ExecuteTime": {
     "end_time": "2023-08-26T17:56:34.990538700Z",
     "start_time": "2023-08-26T17:56:34.959484800Z"
    }
   },
   "outputs": [
    {
     "data": {
      "text/plain": "                 Close  Close(t-1)  Close(t-2)  Close(t-3)  Close(t-4)  \\\nDate                                                                     \n1997-05-27    0.079167    0.075000    0.069792    0.071354    0.081771   \n1997-05-28    0.076563    0.079167    0.075000    0.069792    0.071354   \n1997-05-29    0.075260    0.076563    0.079167    0.075000    0.069792   \n1997-05-30    0.075000    0.075260    0.076563    0.079167    0.075000   \n1997-06-02    0.075521    0.075000    0.075260    0.076563    0.079167   \n...                ...         ...         ...         ...         ...   \n2023-03-30  102.000000  100.250000   97.239998   98.040001   98.129997   \n2023-03-31  103.290001  102.000000  100.250000   97.239998   98.040001   \n2023-04-03  102.410004  103.290001  102.000000  100.250000   97.239998   \n2023-04-04  103.949997  102.410004  103.290001  102.000000  100.250000   \n2023-04-05  101.099998  103.949997  102.410004  103.290001  102.000000   \n\n            Close(t-5)  Close(t-6)  Close(t-7)  \nDate                                            \n1997-05-27    0.085417    0.086458    0.097917  \n1997-05-28    0.081771    0.085417    0.086458  \n1997-05-29    0.071354    0.081771    0.085417  \n1997-05-30    0.069792    0.071354    0.081771  \n1997-06-02    0.075000    0.069792    0.071354  \n...                ...         ...         ...  \n2023-03-30   98.709999   98.699997  100.610001  \n2023-03-31   98.129997   98.709999   98.699997  \n2023-04-03   98.040001   98.129997   98.709999  \n2023-04-04   97.239998   98.040001   98.129997  \n2023-04-05  100.250000   97.239998   98.040001  \n\n[6509 rows x 8 columns]",
      "text/html": "<div>\n<style scoped>\n    .dataframe tbody tr th:only-of-type {\n        vertical-align: middle;\n    }\n\n    .dataframe tbody tr th {\n        vertical-align: top;\n    }\n\n    .dataframe thead th {\n        text-align: right;\n    }\n</style>\n<table border=\"1\" class=\"dataframe\">\n  <thead>\n    <tr style=\"text-align: right;\">\n      <th></th>\n      <th>Close</th>\n      <th>Close(t-1)</th>\n      <th>Close(t-2)</th>\n      <th>Close(t-3)</th>\n      <th>Close(t-4)</th>\n      <th>Close(t-5)</th>\n      <th>Close(t-6)</th>\n      <th>Close(t-7)</th>\n    </tr>\n    <tr>\n      <th>Date</th>\n      <th></th>\n      <th></th>\n      <th></th>\n      <th></th>\n      <th></th>\n      <th></th>\n      <th></th>\n      <th></th>\n    </tr>\n  </thead>\n  <tbody>\n    <tr>\n      <th>1997-05-27</th>\n      <td>0.079167</td>\n      <td>0.075000</td>\n      <td>0.069792</td>\n      <td>0.071354</td>\n      <td>0.081771</td>\n      <td>0.085417</td>\n      <td>0.086458</td>\n      <td>0.097917</td>\n    </tr>\n    <tr>\n      <th>1997-05-28</th>\n      <td>0.076563</td>\n      <td>0.079167</td>\n      <td>0.075000</td>\n      <td>0.069792</td>\n      <td>0.071354</td>\n      <td>0.081771</td>\n      <td>0.085417</td>\n      <td>0.086458</td>\n    </tr>\n    <tr>\n      <th>1997-05-29</th>\n      <td>0.075260</td>\n      <td>0.076563</td>\n      <td>0.079167</td>\n      <td>0.075000</td>\n      <td>0.069792</td>\n      <td>0.071354</td>\n      <td>0.081771</td>\n      <td>0.085417</td>\n    </tr>\n    <tr>\n      <th>1997-05-30</th>\n      <td>0.075000</td>\n      <td>0.075260</td>\n      <td>0.076563</td>\n      <td>0.079167</td>\n      <td>0.075000</td>\n      <td>0.069792</td>\n      <td>0.071354</td>\n      <td>0.081771</td>\n    </tr>\n    <tr>\n      <th>1997-06-02</th>\n      <td>0.075521</td>\n      <td>0.075000</td>\n      <td>0.075260</td>\n      <td>0.076563</td>\n      <td>0.079167</td>\n      <td>0.075000</td>\n      <td>0.069792</td>\n      <td>0.071354</td>\n    </tr>\n    <tr>\n      <th>...</th>\n      <td>...</td>\n      <td>...</td>\n      <td>...</td>\n      <td>...</td>\n      <td>...</td>\n      <td>...</td>\n      <td>...</td>\n      <td>...</td>\n    </tr>\n    <tr>\n      <th>2023-03-30</th>\n      <td>102.000000</td>\n      <td>100.250000</td>\n      <td>97.239998</td>\n      <td>98.040001</td>\n      <td>98.129997</td>\n      <td>98.709999</td>\n      <td>98.699997</td>\n      <td>100.610001</td>\n    </tr>\n    <tr>\n      <th>2023-03-31</th>\n      <td>103.290001</td>\n      <td>102.000000</td>\n      <td>100.250000</td>\n      <td>97.239998</td>\n      <td>98.040001</td>\n      <td>98.129997</td>\n      <td>98.709999</td>\n      <td>98.699997</td>\n    </tr>\n    <tr>\n      <th>2023-04-03</th>\n      <td>102.410004</td>\n      <td>103.290001</td>\n      <td>102.000000</td>\n      <td>100.250000</td>\n      <td>97.239998</td>\n      <td>98.040001</td>\n      <td>98.129997</td>\n      <td>98.709999</td>\n    </tr>\n    <tr>\n      <th>2023-04-04</th>\n      <td>103.949997</td>\n      <td>102.410004</td>\n      <td>103.290001</td>\n      <td>102.000000</td>\n      <td>100.250000</td>\n      <td>97.239998</td>\n      <td>98.040001</td>\n      <td>98.129997</td>\n    </tr>\n    <tr>\n      <th>2023-04-05</th>\n      <td>101.099998</td>\n      <td>103.949997</td>\n      <td>102.410004</td>\n      <td>103.290001</td>\n      <td>102.000000</td>\n      <td>100.250000</td>\n      <td>97.239998</td>\n      <td>98.040001</td>\n    </tr>\n  </tbody>\n</table>\n<p>6509 rows × 8 columns</p>\n</div>"
     },
     "execution_count": 4,
     "metadata": {},
     "output_type": "execute_result"
    }
   ],
   "source": [
    "lookback = 7\n",
    "df1, df2, df3, df4 = chl.prepare_dataframe_for_lstm_with_date(data, lookback)\n",
    "df1\n",
    "\n"
   ]
  },
  {
   "cell_type": "code",
   "execution_count": 5,
   "id": "Pq2p3opGELA_",
   "metadata": {
    "colab": {
     "base_uri": "https://localhost:8080/"
    },
    "id": "Pq2p3opGELA_",
    "outputId": "5cb2ff07-5d8f-4117-eafd-6a3c5663c6ff",
    "ExecuteTime": {
     "end_time": "2023-08-26T17:56:34.990538700Z",
     "start_time": "2023-08-26T17:56:34.976232100Z"
    }
   },
   "outputs": [
    {
     "data": {
      "text/plain": "array([[7.91670000e-02, 7.50000000e-02, 6.97920000e-02, ...,\n        8.54170000e-02, 8.64580000e-02, 9.79170000e-02],\n       [7.65630000e-02, 7.91670000e-02, 7.50000000e-02, ...,\n        8.17710000e-02, 8.54170000e-02, 8.64580000e-02],\n       [7.52600000e-02, 7.65630000e-02, 7.91670000e-02, ...,\n        7.13540000e-02, 8.17710000e-02, 8.54170000e-02],\n       ...,\n       [1.02410004e+02, 1.03290001e+02, 1.02000000e+02, ...,\n        9.80400010e+01, 9.81299970e+01, 9.87099990e+01],\n       [1.03949997e+02, 1.02410004e+02, 1.03290001e+02, ...,\n        9.72399980e+01, 9.80400010e+01, 9.81299970e+01],\n       [1.01099998e+02, 1.03949997e+02, 1.02410004e+02, ...,\n        1.00250000e+02, 9.72399980e+01, 9.80400010e+01]])"
     },
     "execution_count": 5,
     "metadata": {},
     "output_type": "execute_result"
    }
   ],
   "source": [
    "df1_np = df1.to_numpy()\n",
    "df2_np = df2.to_numpy()\n",
    "df3_np = df3.to_numpy()\n",
    "df4_np = df4.to_numpy()\n",
    "\n",
    "df1_np"
   ]
  },
  {
   "cell_type": "code",
   "execution_count": 6,
   "id": "pXHkuFeafNUU",
   "metadata": {
    "colab": {
     "base_uri": "https://localhost:8080/"
    },
    "id": "pXHkuFeafNUU",
    "outputId": "a67d1f79-d279-4c96-e40f-0d9a5f9f7d7d",
    "ExecuteTime": {
     "end_time": "2023-08-26T17:56:35.422248700Z",
     "start_time": "2023-08-26T17:56:34.981474200Z"
    }
   },
   "outputs": [
    {
     "data": {
      "text/plain": "array([[-0.99991063, -0.99995531, -1.        , ..., -0.99983244,\n        -0.99982128, -0.99969839],\n       [-0.99993855, -0.99991063, -0.99994415, ..., -0.99987154,\n        -0.99983244, -0.99982128],\n       [-0.99995253, -0.99993855, -0.99989946, ..., -0.99998325,\n        -0.99987154, -0.99983244],\n       ...,\n       [ 0.09747299,  0.10690997,  0.09308121, ...,  0.0506149 ,\n         0.05158   ,  0.05779984],\n       [ 0.11398769,  0.09747299,  0.10691495, ...,  0.04203581,\n         0.0506149 ,  0.05158   ],\n       [ 0.08342464,  0.11398769,  0.09747802, ...,  0.07431453,\n         0.04203581,  0.0506149 ]])"
     },
     "execution_count": 6,
     "metadata": {},
     "output_type": "execute_result"
    }
   ],
   "source": [
    "from sklearn.preprocessing import MinMaxScaler\n",
    "\n",
    "scaler1 = MinMaxScaler(feature_range=(-1, 1))\n",
    "scaler4 = MinMaxScaler(feature_range=(-1, 1))\n",
    "df1_np_scaled = scaler1.fit_transform(df1_np)\n",
    "df2_np_scaled = scaler1.fit_transform(df2_np)\n",
    "df3_np_scaled = scaler1.fit_transform(df3_np)\n",
    "df4_np_scaled = scaler4.fit_transform(df4_np)\n",
    "\n",
    "scaler = [scaler1, scaler1, scaler1, scaler4]\n",
    "\n",
    "df1_np_scaled"
   ]
  },
  {
   "cell_type": "code",
   "execution_count": 7,
   "outputs": [
    {
     "data": {
      "text/plain": "((6509, 28), (6509, 3))"
     },
     "execution_count": 7,
     "metadata": {},
     "output_type": "execute_result"
    }
   ],
   "source": [
    "# X = np.array([df1_np[:, 1:], df2_np[:, 1:], df3_np[:, 1:], df4_np[:, 1:]])\n",
    "# y = np.array([df1_np[:, 0], df2_np[:, 0], df3_np[:, 0], df4_np[:, 0]])\n",
    "\n",
    "X = np.zeros((len(df1_np), 4 * lookback))\n",
    "y = np.zeros((len(df1_np), 3))\n",
    "for i in range(0,len(df1_np)):\n",
    "    X[i] = np.hstack((df1_np_scaled[i,1:], df2_np_scaled[i,1:], df3_np_scaled[i,1:], df4_np_scaled[i,1:]))\n",
    "    y[i] = np.hstack((df1_np_scaled[i,0], df2_np_scaled[i,0], df3_np_scaled[i,0]))\n",
    "\n",
    "X.shape, y.shape"
   ],
   "metadata": {
    "collapsed": false,
    "ExecuteTime": {
     "end_time": "2023-08-26T17:56:35.467319800Z",
     "start_time": "2023-08-26T17:56:35.420227900Z"
    }
   },
   "id": "Iui9unuTfxOe"
  },
  {
   "cell_type": "code",
   "execution_count": 8,
   "outputs": [
    {
     "data": {
      "text/plain": "array([[ 0.38034321, -0.72626105, -0.89176634, ..., -0.99998325,\n        -1.        , -0.99995531],\n       [-0.72626105, -0.89176634, -0.90408505, ..., -1.        ,\n        -0.99994415, -0.99991063],\n       [-0.89176634, -0.90408505, -0.6462703 , ..., -0.99994415,\n        -0.99989946, -0.99993855],\n       ...,\n       [-0.9539538 , -0.95536353, -0.96439081, ...,  0.07431453,\n         0.09308121,  0.10690997],\n       [-0.95536353, -0.96439081, -0.97209597, ...,  0.09308121,\n         0.10691495,  0.09747299],\n       [-0.96439081, -0.97209597, -0.96144209, ...,  0.10691495,\n         0.09747802,  0.11398769]])"
     },
     "execution_count": 8,
     "metadata": {},
     "output_type": "execute_result"
    }
   ],
   "source": [
    "X = dc(np.flip(X, axis=1)) #flip left right\n",
    "X"
   ],
   "metadata": {
    "collapsed": false,
    "ExecuteTime": {
     "end_time": "2023-08-26T17:56:35.473760700Z",
     "start_time": "2023-08-26T17:56:35.467319800Z"
    }
   },
   "id": "XmbIqwj-E0cv"
  },
  {
   "cell_type": "code",
   "execution_count": 9,
   "id": "GCHslawXgE21",
   "metadata": {
    "colab": {
     "base_uri": "https://localhost:8080/"
    },
    "id": "GCHslawXgE21",
    "outputId": "a2e50719-a1fb-460e-9ce4-9dd873642765",
    "ExecuteTime": {
     "end_time": "2023-08-26T17:56:35.475465100Z",
     "start_time": "2023-08-26T17:56:35.472499400Z"
    }
   },
   "outputs": [
    {
     "data": {
      "text/plain": "6183"
     },
     "execution_count": 9,
     "metadata": {},
     "output_type": "execute_result"
    }
   ],
   "source": [
    "split_index = int(len(X) * 0.95)\n",
    "\n",
    "split_index"
   ]
  },
  {
   "cell_type": "code",
   "execution_count": 10,
   "id": "hhGMh_nAgiST",
   "metadata": {
    "colab": {
     "base_uri": "https://localhost:8080/"
    },
    "id": "hhGMh_nAgiST",
    "outputId": "aeb231ef-e124-4821-f4ee-dbb2275c0f98",
    "ExecuteTime": {
     "end_time": "2023-08-26T17:56:35.499240700Z",
     "start_time": "2023-08-26T17:56:35.476459200Z"
    }
   },
   "outputs": [
    {
     "data": {
      "text/plain": "((6183, 28), (326, 28), (6183, 3), (326, 3))"
     },
     "execution_count": 10,
     "metadata": {},
     "output_type": "execute_result"
    }
   ],
   "source": [
    "X_train = X[:split_index]\n",
    "X_test = X[split_index:]\n",
    "\n",
    "y_train = y[:split_index]\n",
    "y_test = y[split_index:]\n",
    "\n",
    "X_train.shape, X_test.shape, y_train.shape, y_test.shape"
   ]
  },
  {
   "cell_type": "code",
   "execution_count": 11,
   "id": "Muqs9hKYhMUS",
   "metadata": {
    "colab": {
     "base_uri": "https://localhost:8080/"
    },
    "id": "Muqs9hKYhMUS",
    "outputId": "d35136a0-5855-4bfb-b66b-b8f7a1a8ea96",
    "ExecuteTime": {
     "end_time": "2023-08-26T17:56:35.499240700Z",
     "start_time": "2023-08-26T17:56:35.480453100Z"
    }
   },
   "outputs": [
    {
     "data": {
      "text/plain": "((6183, 28, 1), (326, 28, 1), (6183, 3), (326, 3))"
     },
     "execution_count": 11,
     "metadata": {},
     "output_type": "execute_result"
    }
   ],
   "source": [
    "X_train = X_train.reshape((-1, lookback*4, 1))\n",
    "X_test = X_test.reshape((-1, lookback*4, 1))\n",
    "\n",
    "y_train = y_train.reshape((-1, 3))\n",
    "y_test = y_test.reshape((-1, 3))\n",
    "\n",
    "X_train.shape, X_test.shape, y_train.shape, y_test.shape"
   ]
  },
  {
   "cell_type": "code",
   "execution_count": 12,
   "id": "i7-PBcrMhR7z",
   "metadata": {
    "colab": {
     "base_uri": "https://localhost:8080/"
    },
    "id": "i7-PBcrMhR7z",
    "outputId": "b01a297a-75d6-4573-e450-a3545360112e",
    "ExecuteTime": {
     "end_time": "2023-08-26T17:56:35.499240700Z",
     "start_time": "2023-08-26T17:56:35.484566800Z"
    }
   },
   "outputs": [
    {
     "data": {
      "text/plain": "(torch.Size([6183, 28, 1]),\n torch.Size([326, 28, 1]),\n torch.Size([6183, 3]),\n torch.Size([326, 3]))"
     },
     "execution_count": 12,
     "metadata": {},
     "output_type": "execute_result"
    }
   ],
   "source": [
    "X_train = torch.tensor(X_train).float()\n",
    "y_train = torch.tensor(y_train).float()\n",
    "X_test = torch.tensor(X_test).float()\n",
    "y_test = torch.tensor(y_test).float()\n",
    "\n",
    "X_train.shape, X_test.shape, y_train.shape, y_test.shape"
   ]
  },
  {
   "cell_type": "code",
   "execution_count": 13,
   "id": "DWutCAGKhdqU",
   "metadata": {
    "id": "DWutCAGKhdqU",
    "ExecuteTime": {
     "end_time": "2023-08-26T17:56:35.499240700Z",
     "start_time": "2023-08-26T17:56:35.493352900Z"
    }
   },
   "outputs": [],
   "source": [
    "from torch.utils.data import Dataset\n",
    "\n",
    "class TimeSeriesDataset(Dataset):\n",
    "    def __init__(self, X, y):\n",
    "        self.X = X\n",
    "        self.y = y\n",
    "\n",
    "    def __len__(self):\n",
    "        return len(self.X)\n",
    "\n",
    "    def __getitem__(self, i):\n",
    "        return self.X[i], self.y[i]\n",
    "    \n",
    "train_dataset = TimeSeriesDataset(X_train, y_train)\n",
    "test_dataset = TimeSeriesDataset(X_test, y_test)"
   ]
  },
  {
   "cell_type": "code",
   "execution_count": 14,
   "id": "12OWUTa5ijoq",
   "metadata": {
    "colab": {
     "base_uri": "https://localhost:8080/"
    },
    "id": "12OWUTa5ijoq",
    "outputId": "0928d3c2-d181-4035-cc57-a2ac6ce38075",
    "ExecuteTime": {
     "end_time": "2023-08-26T17:56:35.546132600Z",
     "start_time": "2023-08-26T17:56:35.496764Z"
    }
   },
   "outputs": [
    {
     "data": {
      "text/plain": "<__main__.TimeSeriesDataset at 0x2192e587b10>"
     },
     "execution_count": 14,
     "metadata": {},
     "output_type": "execute_result"
    }
   ],
   "source": [
    "train_dataset"
   ]
  },
  {
   "cell_type": "code",
   "execution_count": 15,
   "id": "XYsUmPl3ik46",
   "metadata": {
    "id": "XYsUmPl3ik46",
    "ExecuteTime": {
     "end_time": "2023-08-26T17:56:35.546132600Z",
     "start_time": "2023-08-26T17:56:35.501135600Z"
    }
   },
   "outputs": [],
   "source": [
    "from torch.utils.data import DataLoader\n",
    "\n",
    "batch_size = 16\n",
    "\n",
    "train_loader = DataLoader(train_dataset, batch_size=batch_size, shuffle=False)\n",
    "test_loader = DataLoader(test_dataset, batch_size=batch_size, shuffle=False)"
   ]
  },
  {
   "cell_type": "code",
   "execution_count": 16,
   "id": "TJTnbgBDjOSK",
   "metadata": {
    "colab": {
     "base_uri": "https://localhost:8080/"
    },
    "id": "TJTnbgBDjOSK",
    "outputId": "51226616-d4de-4a22-f4d9-576fd3e8bfba",
    "ExecuteTime": {
     "end_time": "2023-08-26T17:56:35.599938Z",
     "start_time": "2023-08-26T17:56:35.504466700Z"
    }
   },
   "outputs": [
    {
     "name": "stdout",
     "output_type": "stream",
     "text": [
      "torch.Size([16, 28, 1]) torch.Size([16, 3])\n"
     ]
    }
   ],
   "source": [
    "for _, batch in enumerate(train_loader):\n",
    "    x_batch, y_batch = batch[0].to(device), batch[1].to(device)\n",
    "    print(x_batch.shape, y_batch.shape)\n",
    "    break"
   ]
  },
  {
   "cell_type": "code",
   "execution_count": 17,
   "id": "njdkq_kmjib5",
   "metadata": {
    "colab": {
     "base_uri": "https://localhost:8080/"
    },
    "id": "njdkq_kmjib5",
    "outputId": "db355c8d-cc21-43f5-cdfa-2156444b4531",
    "ExecuteTime": {
     "end_time": "2023-08-26T17:56:37.128634800Z",
     "start_time": "2023-08-26T17:56:35.591942400Z"
    }
   },
   "outputs": [
    {
     "data": {
      "text/plain": "CHLpredictor(\n  (lstm): LSTM(1, 4, batch_first=True)\n  (fc): Linear(in_features=4, out_features=3, bias=True)\n)"
     },
     "execution_count": 17,
     "metadata": {},
     "output_type": "execute_result"
    }
   ],
   "source": [
    "from CHLpredictor import CHLpredictor\n",
    "\n",
    "model = CHLpredictor(device, 1, 4, 1, 3)\n",
    "model.to(device)\n",
    "model"
   ]
  },
  {
   "cell_type": "code",
   "execution_count": 18,
   "id": "iue5WvTxmVKB",
   "metadata": {
    "id": "iue5WvTxmVKB",
    "ExecuteTime": {
     "end_time": "2023-08-26T17:56:37.128634800Z",
     "start_time": "2023-08-26T17:56:37.122590500Z"
    }
   },
   "outputs": [],
   "source": [
    "def train_one_epoch():\n",
    "    model.train(True)\n",
    "    print(f'Epoch: {epoch + 1}')\n",
    "    running_loss = 0.0\n",
    "    \n",
    "    for batch_index, batch in enumerate(train_loader):\n",
    "        x_batch, y_batch = batch[0].to(device), batch[1].to(device)\n",
    "        \n",
    "        output = model(x_batch)\n",
    "        loss = loss_function(output, y_batch)\n",
    "        running_loss += loss.item()\n",
    "        \n",
    "        optimizer.zero_grad()\n",
    "        loss.backward()\n",
    "        optimizer.step()\n",
    "\n",
    "    avg_loss_across_batches = running_loss / len(train_loader)\n",
    "    print('Train Loss: {0:.3f}'.format(avg_loss_across_batches))"
   ]
  },
  {
   "cell_type": "code",
   "execution_count": 19,
   "id": "gRmNuV3cmy-t",
   "metadata": {
    "id": "gRmNuV3cmy-t",
    "ExecuteTime": {
     "end_time": "2023-08-26T17:56:37.129754400Z",
     "start_time": "2023-08-26T17:56:37.126525900Z"
    }
   },
   "outputs": [],
   "source": [
    "def validate_one_epoch():\n",
    "    model.train(False)\n",
    "    running_loss = 0.0\n",
    "    \n",
    "    for batch_index, batch in enumerate(test_loader):\n",
    "        x_batch, y_batch = batch[0].to(device), batch[1].to(device)\n",
    "        \n",
    "        with torch.no_grad():\n",
    "            output = model(x_batch)\n",
    "            loss = loss_function(output, y_batch)\n",
    "            writer.add_scalar(\"Loss/train\", loss, epoch)\n",
    "            running_loss += loss.item()\n",
    "\n",
    "    avg_loss_across_batches = running_loss / len(test_loader)\n",
    "    \n",
    "    print('Val Loss: {0:.3f}'.format(avg_loss_across_batches))\n",
    "    print('***************************************************')\n",
    "    print()"
   ]
  },
  {
   "cell_type": "code",
   "execution_count": 20,
   "id": "1jgb1aJ3lxlQ",
   "metadata": {
    "colab": {
     "base_uri": "https://localhost:8080/"
    },
    "id": "1jgb1aJ3lxlQ",
    "outputId": "2a25db36-4872-44e4-feca-4d26bad49f96",
    "ExecuteTime": {
     "end_time": "2023-08-26T17:57:21.427870200Z",
     "start_time": "2023-08-26T17:56:37.130756900Z"
    }
   },
   "outputs": [
    {
     "name": "stdout",
     "output_type": "stream",
     "text": [
      "Epoch: 1\n",
      "Train Loss: 0.292\n",
      "Val Loss: 0.233\n",
      "***************************************************\n",
      "\n",
      "Epoch: 2\n",
      "Train Loss: 0.070\n",
      "Val Loss: 0.141\n",
      "***************************************************\n",
      "\n",
      "Epoch: 3\n",
      "Train Loss: 0.033\n",
      "Val Loss: 0.061\n",
      "***************************************************\n",
      "\n",
      "Epoch: 4\n",
      "Train Loss: 0.013\n",
      "Val Loss: 0.030\n",
      "***************************************************\n",
      "\n",
      "Epoch: 5\n",
      "Train Loss: 0.005\n",
      "Val Loss: 0.021\n",
      "***************************************************\n",
      "\n",
      "Epoch: 6\n",
      "Train Loss: 0.003\n",
      "Val Loss: 0.015\n",
      "***************************************************\n",
      "\n",
      "Epoch: 7\n",
      "Train Loss: 0.003\n",
      "Val Loss: 0.009\n",
      "***************************************************\n",
      "\n",
      "Epoch: 8\n",
      "Train Loss: 0.003\n",
      "Val Loss: 0.006\n",
      "***************************************************\n",
      "\n",
      "Epoch: 9\n",
      "Train Loss: 0.003\n",
      "Val Loss: 0.005\n",
      "***************************************************\n",
      "\n",
      "Epoch: 10\n",
      "Train Loss: 0.003\n",
      "Val Loss: 0.004\n",
      "***************************************************\n",
      "\n",
      "Epoch: 11\n",
      "Train Loss: 0.003\n",
      "Val Loss: 0.004\n",
      "***************************************************\n",
      "\n",
      "Epoch: 12\n",
      "Train Loss: 0.003\n",
      "Val Loss: 0.004\n",
      "***************************************************\n",
      "\n",
      "Epoch: 13\n",
      "Train Loss: 0.003\n",
      "Val Loss: 0.004\n",
      "***************************************************\n",
      "\n",
      "Epoch: 14\n",
      "Train Loss: 0.003\n",
      "Val Loss: 0.004\n",
      "***************************************************\n",
      "\n",
      "Epoch: 15\n",
      "Train Loss: 0.003\n",
      "Val Loss: 0.003\n",
      "***************************************************\n",
      "\n",
      "Epoch: 16\n",
      "Train Loss: 0.003\n",
      "Val Loss: 0.003\n",
      "***************************************************\n",
      "\n",
      "Epoch: 17\n",
      "Train Loss: 0.002\n",
      "Val Loss: 0.003\n",
      "***************************************************\n",
      "\n",
      "Epoch: 18\n",
      "Train Loss: 0.002\n",
      "Val Loss: 0.003\n",
      "***************************************************\n",
      "\n",
      "Epoch: 19\n",
      "Train Loss: 0.002\n",
      "Val Loss: 0.003\n",
      "***************************************************\n",
      "\n",
      "Epoch: 20\n",
      "Train Loss: 0.002\n",
      "Val Loss: 0.003\n",
      "***************************************************\n",
      "\n",
      "Epoch: 21\n",
      "Train Loss: 0.002\n",
      "Val Loss: 0.003\n",
      "***************************************************\n",
      "\n",
      "Epoch: 22\n",
      "Train Loss: 0.002\n",
      "Val Loss: 0.003\n",
      "***************************************************\n",
      "\n",
      "Epoch: 23\n",
      "Train Loss: 0.002\n",
      "Val Loss: 0.003\n",
      "***************************************************\n",
      "\n",
      "Epoch: 24\n",
      "Train Loss: 0.002\n",
      "Val Loss: 0.003\n",
      "***************************************************\n",
      "\n",
      "Epoch: 25\n",
      "Train Loss: 0.002\n",
      "Val Loss: 0.003\n",
      "***************************************************\n",
      "\n",
      "Epoch: 26\n",
      "Train Loss: 0.002\n",
      "Val Loss: 0.003\n",
      "***************************************************\n",
      "\n",
      "Epoch: 27\n",
      "Train Loss: 0.002\n",
      "Val Loss: 0.003\n",
      "***************************************************\n",
      "\n",
      "Epoch: 28\n",
      "Train Loss: 0.001\n",
      "Val Loss: 0.003\n",
      "***************************************************\n",
      "\n",
      "Epoch: 29\n",
      "Train Loss: 0.001\n",
      "Val Loss: 0.002\n",
      "***************************************************\n",
      "\n",
      "Epoch: 30\n",
      "Train Loss: 0.001\n",
      "Val Loss: 0.002\n",
      "***************************************************\n",
      "\n",
      "Epoch: 31\n",
      "Train Loss: 0.001\n",
      "Val Loss: 0.002\n",
      "***************************************************\n",
      "\n",
      "Epoch: 32\n",
      "Train Loss: 0.001\n",
      "Val Loss: 0.002\n",
      "***************************************************\n",
      "\n",
      "Epoch: 33\n",
      "Train Loss: 0.001\n",
      "Val Loss: 0.002\n",
      "***************************************************\n",
      "\n",
      "Epoch: 34\n",
      "Train Loss: 0.001\n",
      "Val Loss: 0.002\n",
      "***************************************************\n",
      "\n",
      "Epoch: 35\n",
      "Train Loss: 0.001\n",
      "Val Loss: 0.002\n",
      "***************************************************\n",
      "\n",
      "Epoch: 36\n",
      "Train Loss: 0.001\n",
      "Val Loss: 0.002\n",
      "***************************************************\n",
      "\n",
      "Epoch: 37\n",
      "Train Loss: 0.001\n",
      "Val Loss: 0.002\n",
      "***************************************************\n",
      "\n",
      "Epoch: 38\n",
      "Train Loss: 0.001\n",
      "Val Loss: 0.002\n",
      "***************************************************\n",
      "\n",
      "Epoch: 39\n",
      "Train Loss: 0.001\n",
      "Val Loss: 0.002\n",
      "***************************************************\n",
      "\n",
      "Epoch: 40\n",
      "Train Loss: 0.001\n",
      "Val Loss: 0.002\n",
      "***************************************************\n",
      "\n",
      "Epoch: 41\n",
      "Train Loss: 0.001\n",
      "Val Loss: 0.002\n",
      "***************************************************\n",
      "\n",
      "Epoch: 42\n",
      "Train Loss: 0.001\n",
      "Val Loss: 0.002\n",
      "***************************************************\n",
      "\n",
      "Epoch: 43\n",
      "Train Loss: 0.001\n",
      "Val Loss: 0.002\n",
      "***************************************************\n",
      "\n",
      "Epoch: 44\n",
      "Train Loss: 0.001\n",
      "Val Loss: 0.002\n",
      "***************************************************\n",
      "\n",
      "Epoch: 45\n",
      "Train Loss: 0.001\n",
      "Val Loss: 0.002\n",
      "***************************************************\n",
      "\n",
      "Epoch: 46\n",
      "Train Loss: 0.001\n",
      "Val Loss: 0.002\n",
      "***************************************************\n",
      "\n",
      "Epoch: 47\n",
      "Train Loss: 0.001\n",
      "Val Loss: 0.002\n",
      "***************************************************\n",
      "\n",
      "Epoch: 48\n",
      "Train Loss: 0.001\n",
      "Val Loss: 0.002\n",
      "***************************************************\n",
      "\n",
      "Epoch: 49\n",
      "Train Loss: 0.001\n",
      "Val Loss: 0.002\n",
      "***************************************************\n",
      "\n",
      "Epoch: 50\n",
      "Train Loss: 0.001\n",
      "Val Loss: 0.002\n",
      "***************************************************\n",
      "\n",
      "Epoch: 51\n",
      "Train Loss: 0.001\n",
      "Val Loss: 0.002\n",
      "***************************************************\n",
      "\n",
      "Epoch: 52\n",
      "Train Loss: 0.001\n",
      "Val Loss: 0.002\n",
      "***************************************************\n",
      "\n",
      "Epoch: 53\n",
      "Train Loss: 0.001\n",
      "Val Loss: 0.002\n",
      "***************************************************\n",
      "\n",
      "Epoch: 54\n",
      "Train Loss: 0.001\n",
      "Val Loss: 0.002\n",
      "***************************************************\n",
      "\n",
      "Epoch: 55\n",
      "Train Loss: 0.001\n",
      "Val Loss: 0.002\n",
      "***************************************************\n",
      "\n",
      "Epoch: 56\n",
      "Train Loss: 0.001\n",
      "Val Loss: 0.002\n",
      "***************************************************\n",
      "\n",
      "Epoch: 57\n",
      "Train Loss: 0.001\n",
      "Val Loss: 0.002\n",
      "***************************************************\n",
      "\n",
      "Epoch: 58\n",
      "Train Loss: 0.001\n",
      "Val Loss: 0.002\n",
      "***************************************************\n",
      "\n",
      "Epoch: 59\n",
      "Train Loss: 0.001\n",
      "Val Loss: 0.002\n",
      "***************************************************\n",
      "\n",
      "Epoch: 60\n",
      "Train Loss: 0.001\n",
      "Val Loss: 0.002\n",
      "***************************************************\n",
      "\n",
      "Epoch: 61\n",
      "Train Loss: 0.000\n",
      "Val Loss: 0.002\n",
      "***************************************************\n",
      "\n",
      "Epoch: 62\n",
      "Train Loss: 0.000\n",
      "Val Loss: 0.002\n",
      "***************************************************\n",
      "\n",
      "Epoch: 63\n",
      "Train Loss: 0.000\n",
      "Val Loss: 0.002\n",
      "***************************************************\n",
      "\n",
      "Epoch: 64\n",
      "Train Loss: 0.000\n",
      "Val Loss: 0.002\n",
      "***************************************************\n",
      "\n",
      "Epoch: 65\n",
      "Train Loss: 0.000\n",
      "Val Loss: 0.002\n",
      "***************************************************\n",
      "\n",
      "Epoch: 66\n",
      "Train Loss: 0.000\n",
      "Val Loss: 0.002\n",
      "***************************************************\n",
      "\n",
      "Epoch: 67\n",
      "Train Loss: 0.000\n",
      "Val Loss: 0.002\n",
      "***************************************************\n",
      "\n",
      "Epoch: 68\n",
      "Train Loss: 0.000\n",
      "Val Loss: 0.002\n",
      "***************************************************\n",
      "\n",
      "Epoch: 69\n",
      "Train Loss: 0.000\n",
      "Val Loss: 0.002\n",
      "***************************************************\n",
      "\n",
      "Epoch: 70\n",
      "Train Loss: 0.000\n",
      "Val Loss: 0.002\n",
      "***************************************************\n",
      "\n",
      "Epoch: 71\n",
      "Train Loss: 0.000\n",
      "Val Loss: 0.002\n",
      "***************************************************\n",
      "\n",
      "Epoch: 72\n",
      "Train Loss: 0.000\n",
      "Val Loss: 0.002\n",
      "***************************************************\n",
      "\n",
      "Epoch: 73\n",
      "Train Loss: 0.000\n",
      "Val Loss: 0.002\n",
      "***************************************************\n",
      "\n",
      "Epoch: 74\n",
      "Train Loss: 0.000\n",
      "Val Loss: 0.002\n",
      "***************************************************\n",
      "\n",
      "Epoch: 75\n",
      "Train Loss: 0.000\n",
      "Val Loss: 0.002\n",
      "***************************************************\n",
      "\n",
      "Epoch: 76\n",
      "Train Loss: 0.000\n",
      "Val Loss: 0.002\n",
      "***************************************************\n",
      "\n",
      "Epoch: 77\n",
      "Train Loss: 0.000\n",
      "Val Loss: 0.002\n",
      "***************************************************\n",
      "\n",
      "Epoch: 78\n",
      "Train Loss: 0.000\n",
      "Val Loss: 0.002\n",
      "***************************************************\n",
      "\n",
      "Epoch: 79\n",
      "Train Loss: 0.000\n",
      "Val Loss: 0.002\n",
      "***************************************************\n",
      "\n",
      "Epoch: 80\n",
      "Train Loss: 0.000\n",
      "Val Loss: 0.002\n",
      "***************************************************\n",
      "\n",
      "Epoch: 81\n",
      "Train Loss: 0.000\n",
      "Val Loss: 0.002\n",
      "***************************************************\n",
      "\n",
      "Epoch: 82\n",
      "Train Loss: 0.000\n",
      "Val Loss: 0.002\n",
      "***************************************************\n",
      "\n",
      "Epoch: 83\n",
      "Train Loss: 0.000\n",
      "Val Loss: 0.002\n",
      "***************************************************\n",
      "\n",
      "Epoch: 84\n",
      "Train Loss: 0.000\n",
      "Val Loss: 0.002\n",
      "***************************************************\n",
      "\n",
      "Epoch: 85\n",
      "Train Loss: 0.000\n",
      "Val Loss: 0.002\n",
      "***************************************************\n",
      "\n",
      "Epoch: 86\n",
      "Train Loss: 0.000\n",
      "Val Loss: 0.002\n",
      "***************************************************\n",
      "\n",
      "Epoch: 87\n",
      "Train Loss: 0.000\n",
      "Val Loss: 0.002\n",
      "***************************************************\n",
      "\n",
      "Epoch: 88\n",
      "Train Loss: 0.000\n",
      "Val Loss: 0.002\n",
      "***************************************************\n",
      "\n",
      "Epoch: 89\n",
      "Train Loss: 0.000\n",
      "Val Loss: 0.002\n",
      "***************************************************\n",
      "\n",
      "Epoch: 90\n",
      "Train Loss: 0.000\n",
      "Val Loss: 0.002\n",
      "***************************************************\n",
      "\n",
      "Epoch: 91\n",
      "Train Loss: 0.000\n",
      "Val Loss: 0.002\n",
      "***************************************************\n",
      "\n",
      "Epoch: 92\n",
      "Train Loss: 0.000\n",
      "Val Loss: 0.002\n",
      "***************************************************\n",
      "\n",
      "Epoch: 93\n",
      "Train Loss: 0.000\n",
      "Val Loss: 0.002\n",
      "***************************************************\n",
      "\n",
      "Epoch: 94\n",
      "Train Loss: 0.000\n",
      "Val Loss: 0.002\n",
      "***************************************************\n",
      "\n",
      "Epoch: 95\n",
      "Train Loss: 0.000\n",
      "Val Loss: 0.002\n",
      "***************************************************\n",
      "\n",
      "Epoch: 96\n",
      "Train Loss: 0.000\n",
      "Val Loss: 0.002\n",
      "***************************************************\n",
      "\n",
      "Epoch: 97\n",
      "Train Loss: 0.000\n",
      "Val Loss: 0.002\n",
      "***************************************************\n",
      "\n",
      "Epoch: 98\n",
      "Train Loss: 0.000\n",
      "Val Loss: 0.002\n",
      "***************************************************\n",
      "\n",
      "Epoch: 99\n",
      "Train Loss: 0.000\n",
      "Val Loss: 0.002\n",
      "***************************************************\n",
      "\n",
      "Epoch: 100\n",
      "Train Loss: 0.000\n",
      "Val Loss: 0.002\n",
      "***************************************************\n"
     ]
    }
   ],
   "source": [
    "from torch.utils.tensorboard import SummaryWriter\n",
    "writer = SummaryWriter()\n",
    "\n",
    "learning_rate = 0.001\n",
    "num_epochs = 100\n",
    "loss_function = nn.MSELoss() #chl.CHLLoss() #nn.MSELoss()\n",
    "optimizer = torch.optim.Adam(model.parameters(), lr=learning_rate)\n",
    "\n",
    "for epoch in range(num_epochs):\n",
    "    train_one_epoch()\n",
    "    validate_one_epoch()\n",
    "    \n",
    "torch.save(model, \"checkpoints/CHLpredictor_\" + ticker + \".pt\")\n",
    "writer.flush()\n",
    "writer.close()"
   ]
  },
  {
   "cell_type": "code",
   "execution_count": 21,
   "id": "-Xon2PHWno7t",
   "metadata": {
    "colab": {
     "base_uri": "https://localhost:8080/",
     "height": 449
    },
    "id": "-Xon2PHWno7t",
    "outputId": "862b1d87-3e42-4fe1-8618-3cf0720e0da5",
    "ExecuteTime": {
     "end_time": "2023-08-26T17:57:21.607559100Z",
     "start_time": "2023-08-26T17:57:21.427870200Z"
    }
   },
   "outputs": [
    {
     "name": "stdout",
     "output_type": "stream",
     "text": [
      "(6183, 3)\n"
     ]
    },
    {
     "data": {
      "text/plain": "<Figure size 640x480 with 1 Axes>",
      "image/png": "[encoded data removed]"
     },
     "metadata": {},
     "output_type": "display_data"
    }
   ],
   "source": [
    "model = torch.load(\"checkpoints/CHLpredictor_\" + ticker + \".pt\")\n",
    "model.eval()\n",
    "\n",
    "with torch.no_grad():\n",
    "    predicted = model(X_train.to(device)).to('cpu').numpy()\n",
    "\n",
    "print(predicted.shape)\n",
    "\n",
    "plt.plot(y_train[:,OUT_VALUE], label='Actual Close')\n",
    "plt.plot(predicted[:,OUT_VALUE], label='Predicted Close')\n",
    "plt.xlabel('Day')\n",
    "plt.ylabel('Close')\n",
    "plt.legend()\n",
    "plt.show()\n"
   ]
  },
  {
   "cell_type": "markdown",
   "id": "2MM2o0_bW3hd",
   "metadata": {
    "id": "2MM2o0_bW3hd"
   },
   "source": [
    "# Translate back to real prices"
   ]
  },
  {
   "cell_type": "code",
   "execution_count": 22,
   "id": "d3SDgEvPpOcD",
   "metadata": {
    "colab": {
     "base_uri": "https://localhost:8080/"
    },
    "id": "d3SDgEvPpOcD",
    "outputId": "e9b8491e-b15e-4aa5-ae97-6619bb4a3be9",
    "ExecuteTime": {
     "end_time": "2023-08-26T17:57:21.613606700Z",
     "start_time": "2023-08-26T17:57:21.608653700Z"
    }
   },
   "outputs": [
    {
     "name": "stdout",
     "output_type": "stream",
     "text": [
      "(6183,) torch.Size([6183, 28, 1])\n"
     ]
    },
    {
     "data": {
      "text/plain": "array([  9.55310568,   9.55013826,   9.54218019, ..., 174.07534597,\n       173.00390613, 174.5828642 ])"
     },
     "execution_count": 22,
     "metadata": {},
     "output_type": "execute_result"
    }
   ],
   "source": [
    "train_predictions = predicted[:,OUT_VALUE].flatten()\n",
    "print(train_predictions.shape, X_train.shape)\n",
    "\n",
    "dummies = np.zeros((X_train.shape[0], lookback+1))\n",
    "dummies[:, 0] = train_predictions\n",
    "\n",
    "dummies = scaler[OUT_VALUE].inverse_transform(dummies)\n",
    "\n",
    "train_predictions = dc(dummies[:, 0])\n",
    "train_predictions"
   ]
  },
  {
   "cell_type": "code",
   "execution_count": 23,
   "outputs": [
    {
     "data": {
      "text/plain": "(torch.Size([6183, 28, 1]), torch.Size([6183, 3]))"
     },
     "execution_count": 23,
     "metadata": {},
     "output_type": "execute_result"
    }
   ],
   "source": [
    "X_train.shape, y_train.shape"
   ],
   "metadata": {
    "collapsed": false,
    "ExecuteTime": {
     "end_time": "2023-08-26T17:57:21.617181400Z",
     "start_time": "2023-08-26T17:57:21.614607300Z"
    }
   },
   "id": "a095f974918956e0"
  },
  {
   "cell_type": "code",
   "execution_count": 24,
   "id": "PHnvejOdrL7Q",
   "metadata": {
    "colab": {
     "base_uri": "https://localhost:8080/"
    },
    "id": "PHnvejOdrL7Q",
    "outputId": "952cb861-3f21-42d2-f1b2-9e489c9cdcd7",
    "ExecuteTime": {
     "end_time": "2023-08-26T17:57:21.621660600Z",
     "start_time": "2023-08-26T17:57:21.618181700Z"
    }
   },
   "outputs": [
    {
     "data": {
      "text/plain": "array([8.29035417e-02, 8.02733312e-02, 7.89526059e-02, ...,\n       1.70980088e+02, 1.75250685e+02, 1.70757127e+02])"
     },
     "execution_count": 24,
     "metadata": {},
     "output_type": "execute_result"
    }
   ],
   "source": [
    "dummies = np.zeros((X_train.shape[0], lookback+1))\n",
    "dummies[:, 0] = y_train[:, OUT_VALUE].flatten()\n",
    "dummies = scaler[OUT_VALUE].inverse_transform(dummies)\n",
    "\n",
    "new_y_train = dc(dummies[:, 0])\n",
    "new_y_train"
   ]
  },
  {
   "cell_type": "code",
   "execution_count": 25,
   "id": "2LlDAUtyrcrN",
   "metadata": {
    "colab": {
     "base_uri": "https://localhost:8080/",
     "height": 449
    },
    "id": "2LlDAUtyrcrN",
    "outputId": "819c2ff2-be0d-4781-d164-915936251f66",
    "ExecuteTime": {
     "end_time": "2023-08-26T17:57:21.693846100Z",
     "start_time": "2023-08-26T17:57:21.622660400Z"
    }
   },
   "outputs": [
    {
     "data": {
      "text/plain": "<Figure size 640x480 with 1 Axes>",
      "image/png": "[encoded data removed]"
     },
     "metadata": {},
     "output_type": "display_data"
    }
   ],
   "source": [
    "plt.plot(new_y_train, label='Actual Close')\n",
    "plt.plot(train_predictions, label='Predicted Close')\n",
    "plt.xlabel('Day')\n",
    "plt.ylabel('Close')\n",
    "plt.legend()\n",
    "plt.show()\n"
   ]
  },
  {
   "cell_type": "code",
   "execution_count": 26,
   "id": "yYeC2JMorftR",
   "metadata": {
    "colab": {
     "base_uri": "https://localhost:8080/"
    },
    "id": "yYeC2JMorftR",
    "outputId": "94df7137-866f-42aa-cb02-5a78961f6779",
    "ExecuteTime": {
     "end_time": "2023-08-26T17:57:21.698430400Z",
     "start_time": "2023-08-26T17:57:21.692847200Z"
    }
   },
   "outputs": [
    {
     "data": {
      "text/plain": "array([173.25034786, 173.21343499, 171.72524166, 172.74610054,\n       173.50622013, 173.86960506, 173.35470202, 173.56833356,\n       172.95232477, 172.39177521, 171.17192518, 172.52285861,\n       171.69818646, 169.66511805, 168.14593545, 167.12559924,\n       166.14620552, 168.02066324, 168.71682039, 166.74950724,\n       166.43387636, 164.36336679, 161.89972506, 157.84841971,\n       149.65851748, 148.78772673, 144.94601206, 143.23281209,\n       143.57636928, 147.28329129, 152.44537162, 154.92813296,\n       155.16989877, 145.94113084, 157.65988757, 160.96840012,\n       164.31218447, 165.25234422, 164.17299688, 159.93818938,\n       159.57000487, 160.39820083, 161.78954284, 160.03804746,\n       157.98550538, 155.54134294, 150.7084548 , 154.32596088,\n       157.10881351, 157.85184797, 156.34602998, 156.45509942,\n       153.42287699, 150.77429998, 143.32342509, 140.34814278,\n       142.70281344, 149.39795804, 149.90711734, 147.05207443,\n       150.63597789, 155.7278687 , 159.9869382 , 163.84343375,\n       165.26768149, 167.67252566, 167.67284038, 167.74586245,\n       168.35256995, 170.83817507, 172.01305862, 170.94631719,\n       168.62054794, 167.88838838, 170.22769647, 168.94598591,\n       165.32839552, 163.17074056, 160.18527181, 156.84632637,\n       155.54922795, 158.56655147, 156.9207366 , 157.16413785,\n       160.81685953, 159.30053194, 154.68979543, 150.0730454 ,\n       150.15287903, 144.8379149 , 142.59912806, 147.5153624 ,\n       130.734434  , 127.93861579, 127.48682374, 129.29415209,\n       120.16417442, 117.71849315, 111.50081324, 111.46627346,\n       108.02427351, 109.64727917, 116.1603098 , 114.16549044,\n       118.58954945, 110.24018932, 109.96915399, 110.36094717,\n       110.44633206, 106.84482502, 109.53523249, 114.18756623,\n       118.54068261, 123.72155378, 125.37770685, 129.04708091,\n       126.21326796, 128.20854114, 126.63769007, 124.689682  ,\n       119.47501993, 112.45739915, 105.96021301, 104.53426659,\n       110.40595861, 106.57330215, 109.05006262, 111.72718275,\n       112.08100226, 115.61798766, 119.82307883, 116.66540717,\n       110.30152436, 111.59278349, 108.97095539, 112.44507145,\n       116.71960749, 117.73317146, 119.6889662 , 118.90920995,\n       114.89597661, 112.03327069, 113.2207208 , 113.63430595,\n       116.69654116, 117.05479353, 121.50493827, 126.23624577,\n       128.32189028, 126.22884127, 124.64843884, 118.11649654,\n       123.90536503, 125.75235167, 137.69140819, 139.50109417,\n       138.55552226, 142.87283294, 146.13118041, 145.33238324,\n       143.92350087, 142.21285805, 145.96333027, 145.08001229,\n       147.2851684 , 147.43886711, 148.74876814, 146.87410247,\n       146.57546118, 143.08101298, 137.93360955, 137.39129724,\n       137.56131393, 140.74286263, 135.45696851, 133.67186207,\n       132.43154641, 130.49999682, 131.32379785, 131.17710742,\n       129.84098859, 132.87150812, 133.56573476, 136.79513025,\n       140.03613406, 131.7273497 , 132.05102576, 129.96545993,\n       127.15942155, 128.02222894, 125.76885792, 121.95665163,\n       120.4534498 , 116.85254552, 118.13700713, 117.56798244,\n       121.21636821, 118.20361945, 116.10557979, 118.93993508,\n       124.38362497, 124.62051533, 123.87024779, 117.92177385,\n       116.59234576, 115.13870626, 115.89666914, 115.62778913,\n       109.77704746, 116.66972762, 119.73923244, 118.54066575,\n       118.51309351, 122.5607767 , 123.32699692, 124.08799325,\n       119.11128374, 113.88733163, 105.78459307, 104.6445022 ,\n        98.91650229,  93.97777628,  91.05272369,  92.94519667,\n        92.72525094,  92.16357735,  88.11800732,  99.01543867,\n       103.99116466, 101.46075323, 101.5900972 ,  99.60566802,\n        97.12670587,  96.34805116,  94.63746736,  95.42899211,\n        96.51553319,  95.80050934,  96.32105216,  94.72261199,\n        99.02336302,  98.10256735,  96.52291801,  93.14335324,\n        90.1554847 ,  90.37017002,  92.50619037,  91.31863628,\n        92.77305557,  94.89262306,  93.97227701,  90.56215009,\n        89.80252507,  86.78515658,  86.99217045,  88.76784916,\n        85.78800051,  87.12907909,  84.96609345,  83.58192551,\n        86.0041892 ,  86.02245736,  87.88101018,  87.24529168,\n        85.04930477,  88.00822975,  89.56462871,  92.22031234,\n        97.77759586,  98.06117807, 100.88101662,  98.66837734,\n        97.85942463,  95.95218762,  99.70901337, 100.18424689,\n        98.85623225,  99.67245738, 101.8721915 , 105.12163812,\n       103.37154636, 105.92534727, 108.11676362, 116.17693268,\n       106.54023484, 104.64630625, 104.59378213, 102.55045562,\n       100.63286076,  99.9828447 , 102.09092328, 102.38184114,\n       103.90347411, 100.7318983 ,  99.57750004,  96.82085679,\n        98.08622689,  98.26127639,  95.82251487,  96.01618941,\n        96.58365733,  94.44748804,  94.32864524,  97.31233803,\n        96.22541479,  95.90807821,  96.28203457,  94.53496783,\n        92.864402  ,  94.6471227 ,  97.37494323,  98.84775994,\n       102.87262971, 101.76031482, 100.2660869 , 103.25164979,\n       101.35090822, 101.24455892, 100.64006574, 100.54271704,\n        99.71388882, 102.89274267, 104.86862227, 106.22084833,\n       105.24263061, 106.75800981])"
     },
     "execution_count": 26,
     "metadata": {},
     "output_type": "execute_result"
    }
   ],
   "source": [
    "OUT_VALUE = CLOSE_IND\n",
    "\n",
    "test_predictions_all = model(X_test.to(device)).detach().cpu().numpy()\n",
    "test_predictions = test_predictions_all[:,OUT_VALUE].flatten()\n",
    "\n",
    "dummies = np.zeros((X_test.shape[0], lookback+1))\n",
    "dummies[:, 0] = test_predictions\n",
    "dummies = scaler[OUT_VALUE].inverse_transform(dummies)\n",
    "\n",
    "test_predictions = dc(dummies[:, 0])\n",
    "test_predictions"
   ]
  },
  {
   "cell_type": "code",
   "execution_count": 27,
   "id": "g-DJXBgYsFyI",
   "metadata": {
    "colab": {
     "base_uri": "https://localhost:8080/"
    },
    "id": "g-DJXBgYsFyI",
    "outputId": "b606685e-137b-41ef-8a56-6171133ed013",
    "ExecuteTime": {
     "end_time": "2023-08-26T17:57:21.703554400Z",
     "start_time": "2023-08-26T17:57:21.699431500Z"
    }
   },
   "outputs": [
    {
     "data": {
      "text/plain": "array([171.91640963, 168.94513727, 172.32037174, 172.94728354,\n       172.97912707, 171.56452343, 172.56708324, 171.09081016,\n       170.52809686, 168.57909964, 172.30772088, 169.39308235,\n       166.19277935, 165.07748018, 164.36967817, 163.28975758,\n       167.2089904 , 167.05226245, 163.0147376 , 163.94903558,\n       160.69261581, 158.04491554, 153.36176394, 144.2366308 ,\n       146.15883134, 141.5499888 , 140.42407606, 141.19760523,\n       145.58651327, 151.24441639, 152.88248113, 152.29500564,\n       140.39678201, 159.40036754, 159.699672  , 163.21645452,\n       162.98995855, 160.77957573, 155.00590402, 156.90030188,\n       158.2587775 , 159.86650491, 156.38005412, 154.30618373,\n       151.87536904, 146.44497913, 153.04881947, 155.50641959,\n       155.27841181, 152.83040521, 153.75106881, 149.55073505,\n       147.26806641, 138.98875109, 137.53419972, 140.8351167 ,\n       148.45768589, 147.15026895, 143.43781114, 149.01280643,\n       154.81429206, 158.99539942, 163.05164485, 163.29532711,\n       166.73072484, 165.23320775, 165.47740144, 166.61392776,\n       170.87794857, 171.20607857, 168.15845705, 164.81811782,\n       165.38689522, 170.22676915, 165.88741079, 160.52931795,\n       159.54698491, 156.18591311, 152.81017845, 152.47196035,\n       157.2784677 , 153.40120023, 154.49173721, 159.88167358,\n       155.71825831, 149.95267393, 145.96266709, 147.7058953 ,\n       140.94836469, 139.71071577, 146.21190764, 125.67035991,\n       125.89129478, 125.64204581, 127.33572152, 117.70803834,\n       116.05531073, 110.00508475, 110.07586439, 106.5499787 ,\n       108.12585274, 114.31865805, 112.04912782, 116.65795912,\n       108.3098902 , 108.51868985, 108.79372529, 108.75934287,\n       105.26378891, 107.9686246 , 112.31910375, 116.43348217,\n       121.55294804, 123.04388679, 126.91356993, 123.71731622,\n       126.18452953, 124.37456536, 122.53426946, 117.44817579,\n       110.87568723, 104.82899348, 103.45382685, 108.87360248,\n       104.81888783, 107.40743435, 109.89486741, 110.16787539,\n       113.69680155, 117.76163028, 114.48549939, 108.6005945 ,\n       110.13754226, 107.39732097, 110.78467942, 114.76862075,\n       115.60787849, 117.63018299, 116.83137176, 112.99910449,\n       110.44089039, 111.63405054, 111.8666106 , 114.81918065,\n       115.03152237, 119.53114514, 124.14199686, 126.02274068,\n       123.78809586, 122.49382154, 116.0932282 , 122.32192773,\n       123.64653658, 136.45783104, 136.90273845, 135.65902825,\n       141.07880177, 144.16282192, 142.37307609, 140.96757702,\n       139.36995457, 144.28415443, 142.21129004, 145.15374249,\n       144.77960628, 146.3974555 , 143.68757436, 143.8898027 ,\n       139.77440845, 134.70854155, 135.11299542, 135.29501105,\n       138.8138168 , 132.2109937 , 131.24028024, 130.16846384,\n       128.18660586, 129.24832011, 128.93486421, 127.51924896,\n       130.92682715, 131.27063163, 134.75910285, 137.97455766,\n       128.23716716, 129.98646227, 127.69114277, 124.91047637,\n       126.05308364, 123.5555358 , 119.8648278 , 118.62110917,\n       115.05174212, 116.43702425, 115.68877292, 119.32891961,\n       116.08312184, 114.26304428, 117.17515938, 122.44326024,\n       122.30170097, 121.64445745, 115.84043996, 114.94051456,\n       113.46423305, 114.16193151, 113.78780233, 108.09501942,\n       115.0618555 , 117.66051611, 116.35612982, 116.53813701,\n       120.65352565, 121.15910212, 121.94779996, 116.9527127 ,\n       112.20029327, 104.56609959, 103.58528047,  97.87227009,\n        93.1501916 ,  90.29874266,  91.99747823,  91.54245568,\n        90.98632598,  87.10349776,  97.71048158, 101.91687838,\n        99.5912254 , 100.04624795,  98.20595205,  95.91063184,\n        95.19271478,  93.4939793 ,  94.2422298 ,  95.18260122,\n        94.45457882,  95.0005939 ,  93.45353218,  97.61948185,\n        96.56788274,  95.18260122,  92.02781171,  89.23702981,\n        89.44937084,  91.36044743,  90.08639356,  91.56268279,\n        93.52431278,  92.60416852,  89.4392571 ,  88.8426816 ,\n        85.8698911 ,  86.14290611,  87.74052153,  84.72729226,\n        86.20357377,  83.96892825,  82.73532159,  85.12164048,\n        84.93963328,  86.77993059,  86.09234551,  84.04982268,\n        87.04283151,  88.33710582,  90.87509948,  96.15330635,\n        96.33531459,  99.2171043 ,  97.12401946,  96.52743552,\n        94.72758585,  98.337399  ,  98.61040698,  97.39702744,\n        98.2666183 , 100.32936931, 103.3830458 , 101.67420423,\n       104.28297049, 106.32550317, 114.1720449 , 104.54587212,\n       103.32237884, 103.25159921, 101.16862775,  99.33843751,\n        98.70141479, 100.65293789, 100.81471832, 102.29100756,\n        99.24743778,  98.2868384 ,  95.63762474,  96.86111784,\n        96.89145132,  94.54557847,  94.80848004,  95.28372251,\n        93.20074412,  93.16029708,  95.9611935 ,  94.79836648,\n        94.5961391 ,  94.97026033,  93.28163837,  91.74469016,\n        93.46364574,  95.94096532,  97.27568615, 101.15851437,\n       100.05635431,  98.80252791, 101.73487118,  99.80356642,\n        99.8136798 ,  99.2272096 ,  99.13621022,  98.32728526,\n       101.37085539, 103.14037165, 104.44475865, 103.55494804,\n       105.11211485, 102.23033217])"
     },
     "execution_count": 27,
     "metadata": {},
     "output_type": "execute_result"
    }
   ],
   "source": [
    "dummies = np.zeros((X_test.shape[0], lookback+1))\n",
    "dummies[:, 0] = y_test[:,OUT_VALUE].flatten()\n",
    "dummies = scaler[OUT_VALUE].inverse_transform(dummies)\n",
    "\n",
    "new_y_test = dc(dummies[:, 0])\n",
    "new_y_test"
   ]
  },
  {
   "cell_type": "code",
   "execution_count": 28,
   "id": "PhLmIlHOsSK4",
   "metadata": {
    "colab": {
     "base_uri": "https://localhost:8080/",
     "height": 449
    },
    "id": "PhLmIlHOsSK4",
    "outputId": "09c21535-ea22-4d65-bc50-b159bd4dc135",
    "ExecuteTime": {
     "end_time": "2023-08-26T17:57:21.766074200Z",
     "start_time": "2023-08-26T17:57:21.703554400Z"
    }
   },
   "outputs": [
    {
     "data": {
      "text/plain": "<Figure size 640x480 with 1 Axes>",
      "image/png": "[encoded data removed]"
     },
     "metadata": {},
     "output_type": "display_data"
    }
   ],
   "source": [
    "plt.plot(new_y_test, label='Actual Close')\n",
    "plt.plot(test_predictions, label='Predicted Close')\n",
    "plt.xlabel('Day')\n",
    "plt.ylabel('Close')\n",
    "plt.legend()\n",
    "plt.show()\n"
   ]
  },
  {
   "cell_type": "code",
   "execution_count": 29,
   "id": "edaf9487",
   "metadata": {
    "collapsed": false,
    "ExecuteTime": {
     "end_time": "2023-08-26T17:57:21.831272900Z",
     "start_time": "2023-08-26T17:57:21.766074200Z"
    }
   },
   "outputs": [
    {
     "name": "stdout",
     "output_type": "stream",
     "text": [
      "Root Mean Square Error:  1.2436454253216067 %\n",
      "Std: 2.2097412203158253 %\n"
     ]
    },
    {
     "data": {
      "text/plain": "<Figure size 640x480 with 1 Axes>",
      "image/png": "[encoded data removed]"
     },
     "metadata": {},
     "output_type": "display_data"
    }
   ],
   "source": [
    "import math\n",
    "\n",
    "MSE = np.square(np.subtract(new_y_test,test_predictions).mean()) \n",
    "RMSE = math.sqrt(MSE)\n",
    "RMSE_pec = RMSE / new_y_test.max() * 100\n",
    "print(\"Root Mean Square Error: \", RMSE_pec, \"%\")\n",
    "\n",
    "print(\"Std:\", np.subtract(new_y_test,test_predictions).std()/new_y_test.max()*100, \"%\")\n",
    "\n",
    "plt.plot(np.subtract(new_y_test,test_predictions)/new_y_test.max()*100, label='Predicted error')\n",
    "plt.xlabel('Day')\n",
    "plt.ylabel('error')\n",
    "plt.legend()\n",
    "plt.show()"
   ]
  },
  {
   "cell_type": "code",
   "execution_count": 30,
   "outputs": [
    {
     "data": {
      "text/plain": "array([[ 8.39348555e-01,  8.39648724e-01,  8.36975634e-01],\n       [ 8.43202472e-01,  8.43291640e-01,  8.40642452e-01],\n       [ 5.61238527e-01,  5.66454768e-01,  5.67379773e-01],\n       [ 6.15985513e-01,  6.28195524e-01,  6.25777483e-01],\n       [ 6.42316699e-01,  6.53297782e-01,  6.51472509e-01],\n       [ 6.44880772e-01,  6.49734259e-01,  6.50396168e-01],\n       [ 6.71288610e-01,  6.81498885e-01,  6.77238882e-01],\n       [ 7.06377387e-01,  7.20700979e-01,  7.16250062e-01],\n       [ 7.41840243e-01,  7.53661335e-01,  7.49158204e-01],\n       [ 7.51811206e-01,  7.57149935e-01,  7.55064368e-01],\n       [ 6.65444136e-01,  6.70339823e-01,  6.70053184e-01],\n       [ 6.73324466e-01,  6.76458061e-01,  6.77049279e-01],\n       [ 5.83665848e-01,  5.94082832e-01,  5.92291594e-01],\n       [ 5.89065790e-01,  5.97223043e-01,  5.97562194e-01],\n       [ 5.96795797e-01,  6.01075172e-01,  6.01931334e-01],\n       [ 6.50798380e-01,  6.62390828e-01,  6.59638405e-01],\n       [ 6.95968390e-01,  7.09587097e-01,  7.05435455e-01],\n       [ 7.36868858e-01,  7.49974549e-01,  7.45089293e-01],\n       [ 7.51973867e-01,  7.59241045e-01,  7.56420910e-01],\n       [ 7.77478695e-01,  7.83636212e-01,  7.80268669e-01],\n       [ 7.77482033e-01,  7.77926028e-01,  7.77021706e-01],\n       [ 8.11052322e-01,  8.14574242e-01,  8.11208844e-01],\n       [ 8.23512673e-01,  8.27027023e-01,  8.23596776e-01],\n       [ 7.04770207e-01,  7.09276199e-01,  7.08098590e-01],\n       [ 5.63699782e-01,  5.66802859e-01,  5.68094134e-01],\n       [ 3.70452821e-01,  3.70803475e-01,  3.74412477e-01],\n       [ 1.62085846e-01,  1.62157059e-01,  1.64489418e-01],\n       [ 2.31160477e-01,  2.37467781e-01,  2.36989170e-01],\n       [ 2.10004210e-01,  2.14479521e-01,  2.16526747e-01],\n       [ 2.56924033e-01,  2.63322860e-01,  2.63659358e-01],\n       [ 1.69654727e-01,  1.70321614e-01,  1.72859490e-01],\n       [ 1.70560285e-01,  1.72087312e-01,  1.74355879e-01],\n       [ 1.60897523e-01,  1.62732199e-01,  1.64200068e-01],\n       [ 2.10238338e-01,  2.16144130e-01,  2.16080651e-01],\n       [ 2.56405771e-01,  2.64935732e-01,  2.64389098e-01],\n       [ 3.11352044e-01,  3.22390020e-01,  3.21188569e-01],\n       [ 3.28916550e-01,  3.38643104e-01,  3.38924766e-01],\n       [ 3.67832482e-01,  3.78014565e-01,  3.77894670e-01],\n       [ 3.37778181e-01,  3.42451692e-01,  3.45767558e-01],\n       [ 3.58939260e-01,  3.63564909e-01,  3.65826994e-01],\n       [ 3.42279434e-01,  3.44977438e-01,  3.48678887e-01],\n       [ 3.21619630e-01,  3.21953893e-01,  3.26492429e-01],\n       [ 1.70132101e-01,  1.72053456e-01,  1.72688901e-01],\n       [ 1.29484460e-01,  1.30474836e-01,  1.33314222e-01],\n       [ 1.55752003e-01,  1.58167869e-01,  1.59390062e-01],\n       [ 1.84144482e-01,  1.88893467e-01,  1.89479694e-01],\n       [ 1.87896952e-01,  1.92271084e-01,  1.93617433e-01],\n       [ 2.25408822e-01,  2.31386155e-01,  2.31782213e-01],\n       [ 2.70006359e-01,  2.78371900e-01,  2.78097421e-01],\n       [ 2.36517340e-01,  2.40550771e-01,  2.43413255e-01],\n       [ 1.91758126e-01,  1.94272056e-01,  1.95598871e-01],\n       [ 2.37092167e-01,  2.43483141e-01,  2.43571401e-01],\n       [ 2.47841626e-01,  2.54140705e-01,  2.55182207e-01],\n       [ 2.68584013e-01,  2.74845362e-01,  2.75923133e-01],\n       [ 2.60314226e-01,  2.64576107e-01,  2.67001480e-01],\n       [ 2.17751458e-01,  2.17842251e-01,  2.22246915e-01],\n       [ 1.99984357e-01,  2.00379223e-01,  2.03165025e-01],\n       [ 2.04370677e-01,  2.06296980e-01,  2.08692357e-01],\n       [ 2.36847535e-01,  2.41353199e-01,  2.42470831e-01],\n       [ 2.40647018e-01,  2.45168850e-01,  2.46974379e-01],\n       [ 2.87843496e-01,  2.95129865e-01,  2.95364797e-01],\n       [ 3.38021874e-01,  3.48447949e-01,  3.47769231e-01],\n       [ 3.60141397e-01,  3.70004475e-01,  3.70297909e-01],\n       [ 3.37943345e-01,  3.42706472e-01,  3.45807433e-01],\n       [ 3.21182221e-01,  3.22719157e-01,  3.26785147e-01],\n       [ 3.13301474e-01,  3.15922499e-01,  3.17716926e-01],\n       [ 3.32889885e-01,  3.38865072e-01,  3.40399057e-01],\n       [ 4.59510803e-01,  4.77009177e-01,  4.72321987e-01],\n       [ 4.78703618e-01,  4.94570434e-01,  4.92777467e-01],\n       [ 4.68675256e-01,  4.76528347e-01,  4.78348851e-01],\n       [ 5.14462948e-01,  5.24325609e-01,  5.24017513e-01],\n       [ 5.49019694e-01,  5.60322344e-01,  5.59470832e-01],\n       [ 5.40547967e-01,  5.46001911e-01,  5.48146129e-01],\n       [ 5.25605917e-01,  5.25956273e-01,  5.30073404e-01],\n       [ 5.47239542e-01,  5.51716924e-01,  5.53043962e-01],\n       [ 5.37871420e-01,  5.40446639e-01,  5.43564975e-01],\n       [ 5.61258435e-01,  5.65703988e-01,  5.67261636e-01],\n       [ 5.62888503e-01,  5.66192865e-01,  5.68591237e-01],\n       [ 5.76780796e-01,  5.80411911e-01,  5.82276762e-01],\n       [ 4.91873324e-01,  4.96735215e-01,  4.98433232e-01],\n       [ 3.91978443e-01,  3.92786086e-01,  3.96640360e-01],\n       [ 3.90422702e-01,  3.92392814e-01,  3.96074653e-01],\n       [ 3.76252353e-01,  3.77275288e-01,  3.81579280e-01],\n       [ 4.08392847e-01,  4.13187832e-01,  4.15179610e-01],\n       [ 4.15755540e-01,  4.21226710e-01,  4.23532903e-01],\n       [ 4.50005233e-01,  4.57881927e-01,  4.58739877e-01],\n       [ 4.84378040e-01,  4.94364709e-01,  4.94383812e-01],\n       [ 3.56963307e-01,  3.57071102e-01,  3.61079812e-01],\n       [ 2.46089697e-01,  2.47270167e-01,  2.50556827e-01],\n       [ 2.84783036e-01,  2.89570272e-01,  2.90855765e-01],\n       [ 2.52831012e-01,  2.55108863e-01,  2.58687735e-01],\n       [ 2.60640085e-01,  2.63637811e-01,  2.65637517e-01],\n       [ 3.18373710e-01,  3.26554775e-01,  3.26381922e-01],\n       [ 3.20886075e-01,  3.28014731e-01,  3.29502851e-01],\n       [ 3.12929034e-01,  3.17133069e-01,  3.19951147e-01],\n       [ 2.28364408e-01,  2.29120076e-01,  2.32099682e-01],\n       [ 2.25512773e-01,  2.27175936e-01,  2.30045512e-01],\n       [ 2.36563161e-01,  2.40396261e-01,  2.40912169e-01],\n       [ 2.69117117e-01,  2.76370585e-01,  2.76687920e-01],\n       [ 2.56405592e-01,  2.61100769e-01,  2.63371617e-01],\n       [ 2.56113172e-01,  2.59368271e-01,  2.61951268e-01],\n       [ 2.99041301e-01,  3.05389524e-01,  3.06171238e-01],\n       [ 3.07167530e-01,  3.13434422e-01,  3.15061748e-01],\n       [ 3.15238357e-01,  3.20483118e-01,  3.22562039e-01],\n       [-1.73825026e-02, -1.60620809e-02, -1.61506832e-02],\n       [-2.33393908e-02, -2.17743218e-02, -2.19110548e-02],\n       [-6.62451088e-02, -6.58396184e-02, -6.52294606e-02],\n       [ 4.93287444e-02,  5.50918132e-02,  5.16560674e-02],\n       [ 1.02099329e-01,  1.10584185e-01,  1.07992209e-01],\n       [ 7.52627850e-02,  8.01119208e-02,  8.05258751e-02],\n       [ 7.66345561e-02,  7.97126740e-02,  8.03278238e-02],\n       [ 5.55884838e-02,  5.71512431e-02,  5.85678816e-02],\n       [ 2.92975903e-02,  2.94865221e-02,  3.11983377e-02],\n       [ 2.10394859e-02,  2.12692022e-02,  2.24055201e-02],\n       [ 2.89770961e-03,  3.12390924e-03,  4.20379639e-03],\n       [ 1.12923086e-02,  1.25477016e-02,  1.27356201e-02],\n       [ 2.28157341e-02,  2.51301676e-02,  2.49594003e-02],\n       [ 1.52324736e-02,  1.73117369e-02,  1.75719559e-02],\n       [ 2.07531452e-02,  2.29889452e-02,  2.29966342e-02],\n       [ 3.80071998e-03,  5.35187125e-03,  5.90218604e-03],\n       [ 4.94127870e-02,  5.30770272e-02,  5.20245880e-02],\n       [ 3.96471918e-02,  4.27809805e-02,  4.29917574e-02],\n       [ 2.28940547e-02,  2.45826393e-02,  2.53618807e-02],\n       [-1.29482746e-02, -1.27866864e-02, -1.14459246e-02],\n       [-4.23595607e-02, -4.19002175e-02, -4.20005471e-02],\n       [-1.97057724e-02, -1.74573660e-02, -1.84715539e-02],\n       [-3.23005021e-02, -3.01850438e-02, -3.05352658e-02],\n       [-1.68755054e-02, -1.41904950e-02, -1.51288211e-02],\n       [ 5.60379028e-03,  9.26981866e-03,  8.08236003e-03],\n       [-4.15703654e-03, -1.27157569e-03, -1.54885650e-03],\n       [-4.03234959e-02, -3.92943919e-02, -3.86888236e-02],\n       [-4.83797789e-02, -4.75279689e-02, -4.75963205e-02],\n       [-8.03807974e-02, -7.99624026e-02, -7.98073858e-02],\n       [-7.81852901e-02, -7.70907402e-02, -7.79649168e-02],\n       [-5.93531430e-02, -5.68535924e-02, -5.84515780e-02],\n       [-9.09562409e-02, -8.91880393e-02, -8.97924155e-02],\n       [-7.67332911e-02, -7.44029582e-02, -7.60189146e-02],\n       [-9.96730626e-02, -9.77045894e-02, -9.86966640e-02],\n       [-1.14353001e-01, -1.12690091e-01, -1.13923684e-01],\n       [-8.86634290e-02, -8.57668221e-02, -8.80781859e-02],\n       [-8.84696841e-02, -8.53024721e-02, -8.71868283e-02],\n       [-6.87586069e-02, -6.51034415e-02, -6.73071891e-02],\n       [-7.55007863e-02, -7.23020136e-02, -7.38197714e-02],\n       [-9.87905562e-02, -9.66663957e-02, -9.76612121e-02],\n       [-6.74093664e-02, -6.41948283e-02, -6.64169341e-02],\n       [-5.09028137e-02, -4.70297635e-02, -4.90175337e-02],\n       [-2.27376819e-02, -1.82458758e-02, -2.03175098e-02],\n       [ 3.62006724e-02,  4.26157862e-02,  3.99272442e-02],\n       [ 3.92082334e-02,  4.45781648e-02,  4.36013490e-02],\n       [ 6.91143274e-02,  7.43882954e-02,  7.33406544e-02],\n       [ 4.56479490e-02,  4.86804098e-02,  4.93988097e-02],\n       [ 3.70685160e-02,  3.87796909e-02,  3.96035761e-02],\n       [ 1.68411136e-02,  1.76489353e-02,  1.87856257e-02],\n       [ 5.66845238e-02,  5.96000701e-02,  5.90713024e-02],\n       [ 6.17246628e-02,  6.50852323e-02,  6.51675761e-02],\n       [ 4.76402640e-02,  4.97449040e-02,  5.06152809e-02],\n       [ 5.62968254e-02,  5.86092770e-02,  5.90367317e-02],\n       [ 7.96263367e-02,  8.31138939e-02,  8.30312222e-02],\n       [ 1.14088684e-01,  1.19100653e-01,  1.18600018e-01],\n       [ 9.55279022e-02,  9.86900181e-02,  9.98827443e-02],\n       [ 1.22612506e-01,  1.26364678e-01,  1.26694456e-01],\n       [ 1.45853803e-01,  1.50650918e-01,  1.50908828e-01],\n       [ 2.31336772e-01,  2.40938500e-01,  2.38899067e-01],\n       [ 1.29133761e-01,  1.30713329e-01,  1.34913713e-01],\n       [ 5.95886707e-02,  5.96026480e-02,  6.12772107e-02],\n       [ 8.19461197e-02,  8.40424895e-02,  8.45352113e-02],\n       [ 8.50314796e-02,  8.76538754e-02,  8.83958936e-02],\n       [ 1.01169318e-01,  1.04425609e-01,  1.04868136e-01],\n       [ 6.75328374e-02,  6.87994659e-02,  7.07273185e-02],\n       [ 5.52897453e-02,  5.57612926e-02,  5.73910624e-02],\n       [ 3.94738913e-02,  4.04295772e-02,  4.10275012e-02],\n       [ 4.13303971e-02,  4.31206822e-02,  4.36287820e-02],\n       [ 1.54658556e-02,  1.62863582e-02,  1.74769610e-02],\n       [ 1.75198913e-02,  1.86787248e-02,  1.91614181e-02],\n       [ 2.35382318e-02,  2.54669040e-02,  2.56077051e-02],\n       [ 8.82863998e-04,  2.03613937e-03,  2.82159448e-03],\n       [-3.77535820e-04,  8.64580274e-04,  1.13582611e-03],\n       [ 3.12663317e-02,  3.43278050e-02,  3.35467160e-02],\n       [ 1.97388530e-02,  2.23056525e-02,  2.25090683e-02],\n       [ 1.63733065e-02,  1.83819085e-02,  1.86287314e-02],\n       [ 2.03393400e-02,  2.25297064e-02,  2.25914717e-02],\n       [ 1.81064010e-03,  3.23447585e-03,  3.84630263e-03],\n       [-1.59067214e-02, -1.51368976e-02, -1.45161748e-02],\n       [ 3.00011039e-03,  4.98574972e-03,  4.54342365e-03],\n       [ 3.19302976e-02,  3.55556160e-02,  3.45935971e-02],\n       [ 4.75504100e-02,  5.16126007e-02,  5.09939045e-02],\n       [ 9.02365893e-02,  9.57536548e-02,  9.45638418e-02],\n       [ 7.84398168e-02,  8.24016184e-02,  8.29003155e-02],\n       [ 6.25926256e-02,  6.46155775e-02,  6.58256710e-02],\n       [ 9.42563266e-02,  9.76065695e-02,  9.76265892e-02],\n       [ 7.40978122e-02,  7.62776136e-02,  7.76077211e-02],\n       [ 7.29699135e-02,  7.46205002e-02,  7.57494569e-02],\n       [ 6.65588975e-02,  6.80407435e-02,  6.92505687e-02],\n       [ 6.55264556e-02,  6.71093315e-02,  6.81417882e-02],\n       [ 5.67362309e-02,  5.80864400e-02,  5.92612177e-02],\n       [ 9.04498994e-02,  9.36664343e-02,  9.35923383e-02],\n       [ 1.11405298e-01,  1.15756124e-01,  1.15760364e-01],\n       [ 1.25746474e-01,  1.30139977e-01,  1.30487934e-01],\n       [ 1.15371883e-01,  1.18310921e-01,  1.19687706e-01],\n       [ 1.31443396e-01,  1.34651050e-01,  1.35546610e-01],\n       [ 8.36634874e-01,  8.32186639e-01,  8.31702828e-01],\n       [ 8.36243391e-01,  8.32115650e-01,  8.31163883e-01],\n       [ 8.20460200e-01,  8.12559605e-01,  8.13678741e-01],\n       [ 8.31287026e-01,  8.28750432e-01,  8.27173471e-01],\n       [ 8.39348555e-01,  8.39648724e-01,  8.36975634e-01],\n       [ 8.43202472e-01,  8.43291640e-01,  8.40642452e-01],\n       [ 8.37741613e-01,  8.34795952e-01,  8.33511293e-01],\n       [ 8.40007305e-01,  8.37686777e-01,  8.35951746e-01],\n       [ 8.33474159e-01,  8.29236805e-01,  8.28553855e-01],\n       [ 8.27529192e-01,  8.22103322e-01,  8.21979642e-01],\n       [ 8.14591944e-01,  8.06593359e-01,  8.07855844e-01],\n       [ 8.28919411e-01,  8.27330232e-01,  8.25444937e-01],\n       [ 8.20173264e-01,  8.15908790e-01,  8.15695941e-01],\n       [ 7.98611343e-01,  7.88186789e-01,  7.90853083e-01],\n       [ 7.82499492e-01,  7.70654619e-01,  7.74088681e-01],\n       [ 7.71678209e-01,  7.61085212e-01,  7.64300525e-01],\n       [ 7.61291146e-01,  7.51553655e-01,  7.54752934e-01],\n       [ 7.81170905e-01,  7.79258192e-01,  7.78719962e-01],\n       [ 7.88554072e-01,  7.87959933e-01,  7.87059367e-01],\n       [ 7.67689526e-01,  7.59636223e-01,  7.62309134e-01],\n       [ 7.64342070e-01,  7.56554842e-01,  7.58823574e-01],\n       [ 7.42383063e-01,  7.31220722e-01,  7.35567808e-01],\n       [ 7.16254652e-01,  7.02317715e-01,  7.08242655e-01],\n       [ 6.73288107e-01,  6.55343294e-01,  6.63798392e-01],\n       [ 5.86429238e-01,  5.60134053e-01,  5.73550105e-01],\n       [ 5.77193975e-01,  5.61666727e-01,  5.70051193e-01],\n       [ 5.36450267e-01,  5.23948669e-01,  5.32586634e-01],\n       [ 5.18280745e-01,  5.09712219e-01,  5.16766846e-01],\n       [ 5.47004104e-01,  5.32438755e-01,  5.42957962e-01],\n       [ 7.40364075e-01,  7.37127304e-01,  7.38611639e-01],\n       [ 6.95451379e-01,  6.80906892e-01,  6.87812388e-01],\n       [ 6.91546559e-01,  6.80911541e-01,  6.85773134e-01],\n       [ 7.00330079e-01,  6.95886016e-01,  6.98369265e-01],\n       [ 6.96510434e-01,  6.90727711e-01,  6.94309890e-01],\n       [ 6.74741983e-01,  6.65068746e-01,  6.70390308e-01],\n       [ 6.48820162e-01,  6.37387156e-01,  6.43849671e-01],\n       [ 5.97564459e-01,  5.81722856e-01,  5.90954781e-01],\n       [ 6.58511102e-01,  6.55190945e-01,  6.58290803e-01],\n       [ 6.26352549e-01,  6.17899299e-01,  6.23947322e-01],\n       [ 5.98262787e-01,  5.87815762e-01,  5.94823480e-01],\n       [ 5.19241750e-01,  5.01747727e-01,  5.13024271e-01],\n       [ 4.87687081e-01,  4.73995656e-01,  4.83193159e-01],\n       [ 7.77482033e-01,  7.77926028e-01,  7.77021706e-01],\n       [ 7.78256476e-01,  7.75542319e-01,  7.75656402e-01],\n       [ 7.84690976e-01,  7.82413960e-01,  7.82124043e-01],\n       [ 8.12199235e-01,  8.08541179e-01,  8.08320403e-01],\n       [ 7.87533045e-01,  7.76198149e-01,  7.79471040e-01],\n       [ 7.79768050e-01,  7.69618154e-01,  7.72365510e-01],\n       [ 8.04577827e-01,  8.04384232e-01,  8.02521586e-01],\n       [ 7.90984511e-01,  7.86046684e-01,  7.86978245e-01],\n       [ 7.52617776e-01,  7.37371206e-01,  7.43126929e-01],\n       [ 7.29734540e-01,  7.13973165e-01,  7.20074296e-01],\n       [ 6.98071837e-01,  6.81608677e-01,  6.88854635e-01],\n       [ 6.62660301e-01,  6.45672798e-01,  6.53859794e-01],\n       [ 6.48903787e-01,  6.36703610e-01,  6.43145204e-01],\n       [ 6.63449466e-01,  6.59670949e-01,  6.63263440e-01],\n       [ 6.66030884e-01,  6.62572265e-01,  6.65550828e-01],\n       [ 6.39788985e-01,  6.26876354e-01,  6.34456158e-01],\n       [ 5.90825558e-01,  5.73975742e-01,  5.83537757e-01],\n       [ 5.91672242e-01,  5.82830548e-01,  5.88750601e-01],\n       [ 5.35303831e-01,  5.23187459e-01,  5.32102466e-01],\n       [ 5.11560142e-01,  5.01636267e-01,  5.09313047e-01],\n       [ 3.85727882e-01,  3.68848979e-01,  3.82882953e-01],\n       [ 3.56076539e-01,  3.41190994e-01,  3.51010740e-01],\n       [ 3.51285011e-01,  3.44881713e-01,  3.51265699e-01],\n       [ 1.22982278e-01,  1.14977434e-01,  1.21887513e-01],\n       [ 1.07859254e-01,  1.02738366e-01,  1.07108474e-01],\n       [ 4.62079495e-01,  4.52229857e-01,  4.60944980e-01],\n       [ 1.21119723e-01,  1.13921098e-01,  1.20971307e-01],\n       [ 1.09028369e-01,  1.04064226e-01,  1.08373344e-01],\n       [ 4.82794642e-02,  4.36457247e-02,  4.81247753e-02],\n       [-4.09871340e-03, -8.63963366e-03, -5.04253805e-03],\n       [-3.51206660e-02, -3.82541120e-02, -3.61176729e-02],\n       [-1.50498450e-02, -1.51347518e-02, -1.51053071e-02]], dtype=float32)"
     },
     "execution_count": 30,
     "metadata": {},
     "output_type": "execute_result"
    }
   ],
   "source": [
    "bad = [index for index,value in enumerate(test_predictions_all) if value[1] > value[0]]\n",
    "bad = bad + [index for index,value in enumerate(test_predictions_all) if value[2] < value[0]]\n",
    "test_predictions_all[bad]"
   ],
   "metadata": {
    "collapsed": false,
    "ExecuteTime": {
     "end_time": "2023-08-26T17:57:21.838407400Z",
     "start_time": "2023-08-26T17:57:21.832273Z"
    }
   },
   "id": "d72befff9de7d228"
  },
  {
   "cell_type": "code",
   "execution_count": 30,
   "outputs": [],
   "source": [],
   "metadata": {
    "collapsed": false,
    "ExecuteTime": {
     "end_time": "2023-08-26T17:57:21.839901300Z",
     "start_time": "2023-08-26T17:57:21.839392800Z"
    }
   },
   "id": "c44fd64d4c867d20"
  },
  {
   "cell_type": "code",
   "execution_count": 30,
   "outputs": [],
   "source": [],
   "metadata": {
    "collapsed": false,
    "ExecuteTime": {
     "end_time": "2023-08-26T17:57:21.842909200Z",
     "start_time": "2023-08-26T17:57:21.841401500Z"
    }
   },
   "id": "a92d9f6b4b9717cd"
  }
 ],
 "metadata": {
  "colab": {
   "gpuType": "T4",
   "provenance": []
  },
  "gpuClass": "standard",
  "kernelspec": {
   "display_name": "Python 3 (ipykernel)",
   "language": "python",
   "name": "python3"
  },
  "language_info": {
   "codemirror_mode": {
    "name": "ipython",
    "version": 3
   },
   "file_extension": ".py",
   "mimetype": "text/x-python",
   "name": "python",
   "nbconvert_exporter": "python",
   "pygments_lexer": "ipython3",
   "version": "3.11.0"
  }
 },
 "nbformat": 4,
 "nbformat_minor": 5
}
