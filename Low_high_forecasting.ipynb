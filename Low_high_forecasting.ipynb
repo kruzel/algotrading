{
 "cells": [
  {
   "cell_type": "code",
   "execution_count": 322,
   "id": "WtCP8-cDbg9R",
   "metadata": {
    "colab": {
     "base_uri": "https://localhost:8080/",
     "height": 423
    },
    "id": "WtCP8-cDbg9R",
    "outputId": "1a923823-8c15-4765-c9c9-19a233dc8131",
    "ExecuteTime": {
     "end_time": "2023-08-24T16:23:05.074625600Z",
     "start_time": "2023-08-24T16:23:05.067619300Z"
    }
   },
   "outputs": [
    {
     "data": {
      "text/plain": "           Date       Close         Low        High      Volume\n0    1997-05-15    0.097917    0.096354    0.125000  1443120000\n1    1997-05-16    0.086458    0.085417    0.098958   294000000\n2    1997-05-19    0.085417    0.081250    0.088542   122136000\n3    1997-05-20    0.081771    0.081771    0.087500   109344000\n4    1997-05-21    0.071354    0.068750    0.082292   377064000\n...         ...         ...         ...         ...         ...\n6511 2023-03-30  102.000000  101.010002  103.040001    53633400\n6512 2023-03-31  103.290001  101.949997  103.489998    56704300\n6513 2023-04-03  102.410004  101.430000  103.290001    41135700\n6514 2023-04-04  103.949997  102.110001  104.199997    48662500\n6515 2023-04-05  101.099998  100.750000  103.910004    45103000\n\n[6516 rows x 5 columns]",
      "text/html": "<div>\n<style scoped>\n    .dataframe tbody tr th:only-of-type {\n        vertical-align: middle;\n    }\n\n    .dataframe tbody tr th {\n        vertical-align: top;\n    }\n\n    .dataframe thead th {\n        text-align: right;\n    }\n</style>\n<table border=\"1\" class=\"dataframe\">\n  <thead>\n    <tr style=\"text-align: right;\">\n      <th></th>\n      <th>Date</th>\n      <th>Close</th>\n      <th>Low</th>\n      <th>High</th>\n      <th>Volume</th>\n    </tr>\n  </thead>\n  <tbody>\n    <tr>\n      <th>0</th>\n      <td>1997-05-15</td>\n      <td>0.097917</td>\n      <td>0.096354</td>\n      <td>0.125000</td>\n      <td>1443120000</td>\n    </tr>\n    <tr>\n      <th>1</th>\n      <td>1997-05-16</td>\n      <td>0.086458</td>\n      <td>0.085417</td>\n      <td>0.098958</td>\n      <td>294000000</td>\n    </tr>\n    <tr>\n      <th>2</th>\n      <td>1997-05-19</td>\n      <td>0.085417</td>\n      <td>0.081250</td>\n      <td>0.088542</td>\n      <td>122136000</td>\n    </tr>\n    <tr>\n      <th>3</th>\n      <td>1997-05-20</td>\n      <td>0.081771</td>\n      <td>0.081771</td>\n      <td>0.087500</td>\n      <td>109344000</td>\n    </tr>\n    <tr>\n      <th>4</th>\n      <td>1997-05-21</td>\n      <td>0.071354</td>\n      <td>0.068750</td>\n      <td>0.082292</td>\n      <td>377064000</td>\n    </tr>\n    <tr>\n      <th>...</th>\n      <td>...</td>\n      <td>...</td>\n      <td>...</td>\n      <td>...</td>\n      <td>...</td>\n    </tr>\n    <tr>\n      <th>6511</th>\n      <td>2023-03-30</td>\n      <td>102.000000</td>\n      <td>101.010002</td>\n      <td>103.040001</td>\n      <td>53633400</td>\n    </tr>\n    <tr>\n      <th>6512</th>\n      <td>2023-03-31</td>\n      <td>103.290001</td>\n      <td>101.949997</td>\n      <td>103.489998</td>\n      <td>56704300</td>\n    </tr>\n    <tr>\n      <th>6513</th>\n      <td>2023-04-03</td>\n      <td>102.410004</td>\n      <td>101.430000</td>\n      <td>103.290001</td>\n      <td>41135700</td>\n    </tr>\n    <tr>\n      <th>6514</th>\n      <td>2023-04-04</td>\n      <td>103.949997</td>\n      <td>102.110001</td>\n      <td>104.199997</td>\n      <td>48662500</td>\n    </tr>\n    <tr>\n      <th>6515</th>\n      <td>2023-04-05</td>\n      <td>101.099998</td>\n      <td>100.750000</td>\n      <td>103.910004</td>\n      <td>45103000</td>\n    </tr>\n  </tbody>\n</table>\n<p>6516 rows × 5 columns</p>\n</div>"
     },
     "execution_count": 322,
     "metadata": {},
     "output_type": "execute_result"
    }
   ],
   "source": [
    "data = data[['Date', 'Close', 'Low', 'High', 'Volume']]\n",
    "data"
   ]
  },
  {
   "cell_type": "code",
   "execution_count": 323,
   "id": "9akB333XcFJ6",
   "metadata": {
    "colab": {
     "base_uri": "https://localhost:8080/",
     "height": 36
    },
    "id": "9akB333XcFJ6",
    "outputId": "2e8630de-1369-4281-d87c-9634ed90ba97",
    "ExecuteTime": {
     "end_time": "2023-08-24T16:23:07.343525800Z",
     "start_time": "2023-08-24T16:23:07.330512200Z"
    }
   },
   "outputs": [
    {
     "data": {
      "text/plain": "'cuda:0'"
     },
     "execution_count": 323,
     "metadata": {},
     "output_type": "execute_result"
    }
   ],
   "source": [
    "device = 'cuda:0' if torch.cuda.is_available() else 'cpu'\n",
    "device"
   ]
  },
  {
   "cell_type": "code",
   "execution_count": 381,
   "outputs": [
    {
     "data": {
      "text/plain": "            Date        Open        High         Low       Close   Adj Close  \\\n0     1997-05-15    0.121875    0.125000    0.096354    0.097917    0.097917   \n1     1997-05-16    0.098438    0.098958    0.085417    0.086458    0.086458   \n2     1997-05-19    0.088021    0.088542    0.081250    0.085417    0.085417   \n3     1997-05-20    0.086458    0.087500    0.081771    0.081771    0.081771   \n4     1997-05-21    0.081771    0.082292    0.068750    0.071354    0.071354   \n...          ...         ...         ...         ...         ...         ...   \n6511  2023-03-30  101.550003  103.040001  101.010002  102.000000  102.000000   \n6512  2023-03-31  102.160004  103.489998  101.949997  103.290001  103.290001   \n6513  2023-04-03  102.300003  103.290001  101.430000  102.410004  102.410004   \n6514  2023-04-04  102.750000  104.199997  102.110001  103.949997  103.949997   \n6515  2023-04-05  103.910004  103.910004  100.750000  101.099998  101.099998   \n\n          Volume  \n0     1443120000  \n1      294000000  \n2      122136000  \n3      109344000  \n4      377064000  \n...          ...  \n6511    53633400  \n6512    56704300  \n6513    41135700  \n6514    48662500  \n6515    45103000  \n\n[6516 rows x 7 columns]",
      "text/html": "<div>\n<style scoped>\n    .dataframe tbody tr th:only-of-type {\n        vertical-align: middle;\n    }\n\n    .dataframe tbody tr th {\n        vertical-align: top;\n    }\n\n    .dataframe thead th {\n        text-align: right;\n    }\n</style>\n<table border=\"1\" class=\"dataframe\">\n  <thead>\n    <tr style=\"text-align: right;\">\n      <th></th>\n      <th>Date</th>\n      <th>Open</th>\n      <th>High</th>\n      <th>Low</th>\n      <th>Close</th>\n      <th>Adj Close</th>\n      <th>Volume</th>\n    </tr>\n  </thead>\n  <tbody>\n    <tr>\n      <th>0</th>\n      <td>1997-05-15</td>\n      <td>0.121875</td>\n      <td>0.125000</td>\n      <td>0.096354</td>\n      <td>0.097917</td>\n      <td>0.097917</td>\n      <td>1443120000</td>\n    </tr>\n    <tr>\n      <th>1</th>\n      <td>1997-05-16</td>\n      <td>0.098438</td>\n      <td>0.098958</td>\n      <td>0.085417</td>\n      <td>0.086458</td>\n      <td>0.086458</td>\n      <td>294000000</td>\n    </tr>\n    <tr>\n      <th>2</th>\n      <td>1997-05-19</td>\n      <td>0.088021</td>\n      <td>0.088542</td>\n      <td>0.081250</td>\n      <td>0.085417</td>\n      <td>0.085417</td>\n      <td>122136000</td>\n    </tr>\n    <tr>\n      <th>3</th>\n      <td>1997-05-20</td>\n      <td>0.086458</td>\n      <td>0.087500</td>\n      <td>0.081771</td>\n      <td>0.081771</td>\n      <td>0.081771</td>\n      <td>109344000</td>\n    </tr>\n    <tr>\n      <th>4</th>\n      <td>1997-05-21</td>\n      <td>0.081771</td>\n      <td>0.082292</td>\n      <td>0.068750</td>\n      <td>0.071354</td>\n      <td>0.071354</td>\n      <td>377064000</td>\n    </tr>\n    <tr>\n      <th>...</th>\n      <td>...</td>\n      <td>...</td>\n      <td>...</td>\n      <td>...</td>\n      <td>...</td>\n      <td>...</td>\n      <td>...</td>\n    </tr>\n    <tr>\n      <th>6511</th>\n      <td>2023-03-30</td>\n      <td>101.550003</td>\n      <td>103.040001</td>\n      <td>101.010002</td>\n      <td>102.000000</td>\n      <td>102.000000</td>\n      <td>53633400</td>\n    </tr>\n    <tr>\n      <th>6512</th>\n      <td>2023-03-31</td>\n      <td>102.160004</td>\n      <td>103.489998</td>\n      <td>101.949997</td>\n      <td>103.290001</td>\n      <td>103.290001</td>\n      <td>56704300</td>\n    </tr>\n    <tr>\n      <th>6513</th>\n      <td>2023-04-03</td>\n      <td>102.300003</td>\n      <td>103.290001</td>\n      <td>101.430000</td>\n      <td>102.410004</td>\n      <td>102.410004</td>\n      <td>41135700</td>\n    </tr>\n    <tr>\n      <th>6514</th>\n      <td>2023-04-04</td>\n      <td>102.750000</td>\n      <td>104.199997</td>\n      <td>102.110001</td>\n      <td>103.949997</td>\n      <td>103.949997</td>\n      <td>48662500</td>\n    </tr>\n    <tr>\n      <th>6515</th>\n      <td>2023-04-05</td>\n      <td>103.910004</td>\n      <td>103.910004</td>\n      <td>100.750000</td>\n      <td>101.099998</td>\n      <td>101.099998</td>\n      <td>45103000</td>\n    </tr>\n  </tbody>\n</table>\n<p>6516 rows × 7 columns</p>\n</div>"
     },
     "execution_count": 381,
     "metadata": {},
     "output_type": "execute_result"
    }
   ],
   "source": [
    "import pandas as pd\n",
    "import numpy as np\n",
    "import matplotlib.pyplot as plt\n",
    "\n",
    "import torch\n",
    "import torch.nn as nn\n",
    "\n",
    "CLOSE_IND = 0\n",
    "LOW_IND = 1\n",
    "HIGH_IND = 2\n",
    "VOLUME_IND = 3\n",
    "\n",
    "OUT_VALUE = HIGH_IND\n",
    "\n",
    "data = pd.read_csv('AMZN.csv')\n",
    "\n",
    "data"
   ],
   "metadata": {
    "collapsed": false,
    "ExecuteTime": {
     "end_time": "2023-08-24T16:29:19.676832Z",
     "start_time": "2023-08-24T16:29:19.660425500Z"
    }
   },
   "id": "2a4fdd0f"
  },
  {
   "cell_type": "code",
   "execution_count": 354,
   "id": "tr2YuqKGcXcJ",
   "metadata": {
    "colab": {
     "base_uri": "https://localhost:8080/",
     "height": 551
    },
    "id": "tr2YuqKGcXcJ",
    "outputId": "bd197a93-bf7f-413c-fac0-5f4dc1a8471d",
    "ExecuteTime": {
     "end_time": "2023-08-24T16:27:06.020163700Z",
     "start_time": "2023-08-24T16:27:05.934916300Z"
    }
   },
   "outputs": [
    {
     "data": {
      "text/plain": "[<matplotlib.lines.Line2D at 0x1e453082b10>]"
     },
     "execution_count": 354,
     "metadata": {},
     "output_type": "execute_result"
    },
    {
     "data": {
      "text/plain": "<Figure size 640x480 with 1 Axes>",
      "image/png": "[encoded data removed]"
     },
     "metadata": {},
     "output_type": "display_data"
    }
   ],
   "source": [
    "data['Date'] = pd.to_datetime(data['Date'])\n",
    "\n",
    "plt.plot(data['Date'], data['Close'])"
   ]
  },
  {
   "cell_type": "code",
   "execution_count": 355,
   "id": "Q4ma6QCscwfB",
   "metadata": {
    "colab": {
     "base_uri": "https://localhost:8080/",
     "height": 455
    },
    "id": "Q4ma6QCscwfB",
    "outputId": "61bd4c08-c3f7-453d-ed92-c2232a18a5ba",
    "ExecuteTime": {
     "end_time": "2023-08-24T16:27:06.314422800Z",
     "start_time": "2023-08-24T16:27:06.288388200Z"
    }
   },
   "outputs": [
    {
     "data": {
      "text/plain": "                 Close  Close(t-1)  Close(t-2)  Close(t-3)  Close(t-4)  \\\nDate                                                                     \n1997-05-27    0.079167    0.075000    0.069792    0.071354    0.081771   \n1997-05-28    0.076563    0.079167    0.075000    0.069792    0.071354   \n1997-05-29    0.075260    0.076563    0.079167    0.075000    0.069792   \n1997-05-30    0.075000    0.075260    0.076563    0.079167    0.075000   \n1997-06-02    0.075521    0.075000    0.075260    0.076563    0.079167   \n...                ...         ...         ...         ...         ...   \n2023-03-30  102.000000  100.250000   97.239998   98.040001   98.129997   \n2023-03-31  103.290001  102.000000  100.250000   97.239998   98.040001   \n2023-04-03  102.410004  103.290001  102.000000  100.250000   97.239998   \n2023-04-04  103.949997  102.410004  103.290001  102.000000  100.250000   \n2023-04-05  101.099998  103.949997  102.410004  103.290001  102.000000   \n\n            Close(t-5)  Close(t-6)  Close(t-7)  \nDate                                            \n1997-05-27    0.085417    0.086458    0.097917  \n1997-05-28    0.081771    0.085417    0.086458  \n1997-05-29    0.071354    0.081771    0.085417  \n1997-05-30    0.069792    0.071354    0.081771  \n1997-06-02    0.075000    0.069792    0.071354  \n...                ...         ...         ...  \n2023-03-30   98.709999   98.699997  100.610001  \n2023-03-31   98.129997   98.709999   98.699997  \n2023-04-03   98.040001   98.129997   98.709999  \n2023-04-04   97.239998   98.040001   98.129997  \n2023-04-05  100.250000   97.239998   98.040001  \n\n[6509 rows x 8 columns]",
      "text/html": "<div>\n<style scoped>\n    .dataframe tbody tr th:only-of-type {\n        vertical-align: middle;\n    }\n\n    .dataframe tbody tr th {\n        vertical-align: top;\n    }\n\n    .dataframe thead th {\n        text-align: right;\n    }\n</style>\n<table border=\"1\" class=\"dataframe\">\n  <thead>\n    <tr style=\"text-align: right;\">\n      <th></th>\n      <th>Close</th>\n      <th>Close(t-1)</th>\n      <th>Close(t-2)</th>\n      <th>Close(t-3)</th>\n      <th>Close(t-4)</th>\n      <th>Close(t-5)</th>\n      <th>Close(t-6)</th>\n      <th>Close(t-7)</th>\n    </tr>\n    <tr>\n      <th>Date</th>\n      <th></th>\n      <th></th>\n      <th></th>\n      <th></th>\n      <th></th>\n      <th></th>\n      <th></th>\n      <th></th>\n    </tr>\n  </thead>\n  <tbody>\n    <tr>\n      <th>1997-05-27</th>\n      <td>0.079167</td>\n      <td>0.075000</td>\n      <td>0.069792</td>\n      <td>0.071354</td>\n      <td>0.081771</td>\n      <td>0.085417</td>\n      <td>0.086458</td>\n      <td>0.097917</td>\n    </tr>\n    <tr>\n      <th>1997-05-28</th>\n      <td>0.076563</td>\n      <td>0.079167</td>\n      <td>0.075000</td>\n      <td>0.069792</td>\n      <td>0.071354</td>\n      <td>0.081771</td>\n      <td>0.085417</td>\n      <td>0.086458</td>\n    </tr>\n    <tr>\n      <th>1997-05-29</th>\n      <td>0.075260</td>\n      <td>0.076563</td>\n      <td>0.079167</td>\n      <td>0.075000</td>\n      <td>0.069792</td>\n      <td>0.071354</td>\n      <td>0.081771</td>\n      <td>0.085417</td>\n    </tr>\n    <tr>\n      <th>1997-05-30</th>\n      <td>0.075000</td>\n      <td>0.075260</td>\n      <td>0.076563</td>\n      <td>0.079167</td>\n      <td>0.075000</td>\n      <td>0.069792</td>\n      <td>0.071354</td>\n      <td>0.081771</td>\n    </tr>\n    <tr>\n      <th>1997-06-02</th>\n      <td>0.075521</td>\n      <td>0.075000</td>\n      <td>0.075260</td>\n      <td>0.076563</td>\n      <td>0.079167</td>\n      <td>0.075000</td>\n      <td>0.069792</td>\n      <td>0.071354</td>\n    </tr>\n    <tr>\n      <th>...</th>\n      <td>...</td>\n      <td>...</td>\n      <td>...</td>\n      <td>...</td>\n      <td>...</td>\n      <td>...</td>\n      <td>...</td>\n      <td>...</td>\n    </tr>\n    <tr>\n      <th>2023-03-30</th>\n      <td>102.000000</td>\n      <td>100.250000</td>\n      <td>97.239998</td>\n      <td>98.040001</td>\n      <td>98.129997</td>\n      <td>98.709999</td>\n      <td>98.699997</td>\n      <td>100.610001</td>\n    </tr>\n    <tr>\n      <th>2023-03-31</th>\n      <td>103.290001</td>\n      <td>102.000000</td>\n      <td>100.250000</td>\n      <td>97.239998</td>\n      <td>98.040001</td>\n      <td>98.129997</td>\n      <td>98.709999</td>\n      <td>98.699997</td>\n    </tr>\n    <tr>\n      <th>2023-04-03</th>\n      <td>102.410004</td>\n      <td>103.290001</td>\n      <td>102.000000</td>\n      <td>100.250000</td>\n      <td>97.239998</td>\n      <td>98.040001</td>\n      <td>98.129997</td>\n      <td>98.709999</td>\n    </tr>\n    <tr>\n      <th>2023-04-04</th>\n      <td>103.949997</td>\n      <td>102.410004</td>\n      <td>103.290001</td>\n      <td>102.000000</td>\n      <td>100.250000</td>\n      <td>97.239998</td>\n      <td>98.040001</td>\n      <td>98.129997</td>\n    </tr>\n    <tr>\n      <th>2023-04-05</th>\n      <td>101.099998</td>\n      <td>103.949997</td>\n      <td>102.410004</td>\n      <td>103.290001</td>\n      <td>102.000000</td>\n      <td>100.250000</td>\n      <td>97.239998</td>\n      <td>98.040001</td>\n    </tr>\n  </tbody>\n</table>\n<p>6509 rows × 8 columns</p>\n</div>"
     },
     "execution_count": 355,
     "metadata": {},
     "output_type": "execute_result"
    }
   ],
   "source": [
    "from copy import deepcopy as dc\n",
    "\n",
    "def prepare_dataframe_for_lstm(df, n_steps):\n",
    "    df = dc(df)\n",
    "    df.dropna(inplace=True)\n",
    "        \n",
    "    df1 = dc(df[['Date', 'Close']])\n",
    "    df2 = dc(df[['Date', 'Low']])\n",
    "    df3 = dc(df[['Date', 'High']])\n",
    "    df4 = dc(df[['Date', 'Volume']])\n",
    "    \n",
    "    df1.set_index('Date', inplace=True)\n",
    "    df2.set_index('Date', inplace=True)\n",
    "    df3.set_index('Date', inplace=True)\n",
    "    df4.set_index('Date', inplace=True)\n",
    "    \n",
    "    for i in range(1, n_steps+1):\n",
    "        df1[f'Close(t-{i})'] = df1['Close'].shift(i)\n",
    "        df2[f'Low(t-{i})'] = df2['Low'].shift(i)\n",
    "        df3[f'High(t-{i})'] = df3['High'].shift(i)\n",
    "        df4[f'Volume(t-{i})'] = df4['Volume'].shift(i)\n",
    "        \n",
    "    df1.dropna(inplace=True)\n",
    "    df2.dropna(inplace=True)\n",
    "    df3.dropna(inplace=True)\n",
    "    df4.dropna(inplace=True)\n",
    "    \n",
    "    return df1, df2, df3, df4\n",
    "\n",
    "lookback = 7\n",
    "df1, df2, df3, df4 = prepare_dataframe_for_lstm(data, lookback)\n",
    "df1\n",
    "\n"
   ]
  },
  {
   "cell_type": "code",
   "execution_count": 356,
   "id": "Pq2p3opGELA_",
   "metadata": {
    "colab": {
     "base_uri": "https://localhost:8080/"
    },
    "id": "Pq2p3opGELA_",
    "outputId": "5cb2ff07-5d8f-4117-eafd-6a3c5663c6ff",
    "ExecuteTime": {
     "end_time": "2023-08-24T16:27:06.526421400Z",
     "start_time": "2023-08-24T16:27:06.511825900Z"
    }
   },
   "outputs": [
    {
     "data": {
      "text/plain": "array([[7.91670000e-02, 7.50000000e-02, 6.97920000e-02, ...,\n        8.54170000e-02, 8.64580000e-02, 9.79170000e-02],\n       [7.65630000e-02, 7.91670000e-02, 7.50000000e-02, ...,\n        8.17710000e-02, 8.54170000e-02, 8.64580000e-02],\n       [7.52600000e-02, 7.65630000e-02, 7.91670000e-02, ...,\n        7.13540000e-02, 8.17710000e-02, 8.54170000e-02],\n       ...,\n       [1.02410004e+02, 1.03290001e+02, 1.02000000e+02, ...,\n        9.80400010e+01, 9.81299970e+01, 9.87099990e+01],\n       [1.03949997e+02, 1.02410004e+02, 1.03290001e+02, ...,\n        9.72399980e+01, 9.80400010e+01, 9.81299970e+01],\n       [1.01099998e+02, 1.03949997e+02, 1.02410004e+02, ...,\n        1.00250000e+02, 9.72399980e+01, 9.80400010e+01]])"
     },
     "execution_count": 356,
     "metadata": {},
     "output_type": "execute_result"
    }
   ],
   "source": [
    "df1_np = df1.to_numpy()\n",
    "df2_np = df2.to_numpy()\n",
    "df3_np = df3.to_numpy()\n",
    "df4_np = df4.to_numpy()\n",
    "\n",
    "df1_np"
   ]
  },
  {
   "cell_type": "code",
   "execution_count": 357,
   "id": "pXHkuFeafNUU",
   "metadata": {
    "colab": {
     "base_uri": "https://localhost:8080/"
    },
    "id": "pXHkuFeafNUU",
    "outputId": "a67d1f79-d279-4c96-e40f-0d9a5f9f7d7d",
    "ExecuteTime": {
     "end_time": "2023-08-24T16:27:07.344954900Z",
     "start_time": "2023-08-24T16:27:07.328593100Z"
    }
   },
   "outputs": [
    {
     "data": {
      "text/plain": "array([[-0.99991063, -0.99995531, -1.        , ..., -0.99983244,\n        -0.99982128, -0.99969839],\n       [-0.99993855, -0.99991063, -0.99994415, ..., -0.99987154,\n        -0.99983244, -0.99982128],\n       [-0.99995253, -0.99993855, -0.99989946, ..., -0.99998325,\n        -0.99987154, -0.99983244],\n       ...,\n       [ 0.09747299,  0.10690997,  0.09308121, ...,  0.0506149 ,\n         0.05158   ,  0.05779984],\n       [ 0.11398769,  0.09747299,  0.10691495, ...,  0.04203581,\n         0.0506149 ,  0.05158   ],\n       [ 0.08342464,  0.11398769,  0.09747802, ...,  0.07431453,\n         0.04203581,  0.0506149 ]])"
     },
     "execution_count": 357,
     "metadata": {},
     "output_type": "execute_result"
    }
   ],
   "source": [
    "from sklearn.preprocessing import MinMaxScaler\n",
    "\n",
    "# scaler = [MinMaxScaler(feature_range=(-1, 1))]*4\n",
    "# df1_np_scaled = scaler[CLOSE_IND].fit_transform(df1_np)\n",
    "# df2_np_scaled = scaler[LOW_IND].fit_transform(df2_np)\n",
    "# df3_np_scaled = scaler[HIGH_IND].fit_transform(df3_np)\n",
    "# df4_np_scaled = scaler[VOLUME_IND].fit_transform(df4_np)\n",
    "\n",
    "scaler1 = MinMaxScaler(feature_range=(-1, 1))\n",
    "scaler2 = MinMaxScaler(feature_range=(-1, 1))\n",
    "scaler3 = MinMaxScaler(feature_range=(-1, 1))\n",
    "scaler4 = MinMaxScaler(feature_range=(-1, 1))\n",
    "df1_np_scaled = scaler1.fit_transform(df1_np)\n",
    "df2_np_scaled = scaler2.fit_transform(df2_np)\n",
    "df3_np_scaled = scaler3.fit_transform(df3_np)\n",
    "df4_np_scaled = scaler4.fit_transform(df4_np)\n",
    "\n",
    "scaler = [scaler1, scaler2, scaler3, scaler4]\n",
    "\n",
    "df1_np_scaled"
   ]
  },
  {
   "cell_type": "code",
   "execution_count": 358,
   "outputs": [
    {
     "data": {
      "text/plain": "((6509, 28), (6509, 3))"
     },
     "execution_count": 358,
     "metadata": {},
     "output_type": "execute_result"
    }
   ],
   "source": [
    "# X = np.array([df1_np[:, 1:], df2_np[:, 1:], df3_np[:, 1:], df4_np[:, 1:]])\n",
    "# y = np.array([df1_np[:, 0], df2_np[:, 0], df3_np[:, 0], df4_np[:, 0]])\n",
    "\n",
    "X = np.zeros((len(df1_np), 4 * lookback))\n",
    "y = np.zeros((len(df1_np), 3))\n",
    "for i in range(0,len(df1_np)):\n",
    "    X[i] = np.hstack((df1_np_scaled[i,1:], df2_np_scaled[i,1:], df3_np_scaled[i,1:], df4_np_scaled[i,1:]))\n",
    "    y[i] = np.hstack((df1_np_scaled[i,0], df2_np_scaled[i,0], df3_np_scaled[i,0]))\n",
    "\n",
    "X.shape, y.shape"
   ],
   "metadata": {
    "collapsed": false,
    "ExecuteTime": {
     "end_time": "2023-08-24T16:27:08.079114Z",
     "start_time": "2023-08-24T16:27:08.027324600Z"
    }
   },
   "id": "Iui9unuTfxOe"
  },
  {
   "cell_type": "code",
   "execution_count": 359,
   "outputs": [
    {
     "data": {
      "text/plain": "array([[ 0.38034321, -0.72626105, -0.89176634, ..., -0.99998325,\n        -1.        , -0.99995531],\n       [-0.72626105, -0.89176634, -0.90408505, ..., -1.        ,\n        -0.99994415, -0.99991063],\n       [-0.89176634, -0.90408505, -0.6462703 , ..., -0.99994415,\n        -0.99989946, -0.99993855],\n       ...,\n       [-0.9539538 , -0.95536353, -0.96439081, ...,  0.07431453,\n         0.09308121,  0.10690997],\n       [-0.95536353, -0.96439081, -0.97209597, ...,  0.09308121,\n         0.10691495,  0.09747299],\n       [-0.96439081, -0.97209597, -0.96144209, ...,  0.10691495,\n         0.09747802,  0.11398769]])"
     },
     "execution_count": 359,
     "metadata": {},
     "output_type": "execute_result"
    }
   ],
   "source": [
    "X = dc(np.flip(X, axis=1)) #flip left right\n",
    "X"
   ],
   "metadata": {
    "collapsed": false,
    "ExecuteTime": {
     "end_time": "2023-08-24T16:27:08.581440800Z",
     "start_time": "2023-08-24T16:27:08.559771200Z"
    }
   },
   "id": "XmbIqwj-E0cv"
  },
  {
   "cell_type": "code",
   "execution_count": 360,
   "id": "GCHslawXgE21",
   "metadata": {
    "colab": {
     "base_uri": "https://localhost:8080/"
    },
    "id": "GCHslawXgE21",
    "outputId": "a2e50719-a1fb-460e-9ce4-9dd873642765",
    "ExecuteTime": {
     "end_time": "2023-08-24T16:27:09.264196100Z",
     "start_time": "2023-08-24T16:27:09.261300300Z"
    }
   },
   "outputs": [
    {
     "data": {
      "text/plain": "6183"
     },
     "execution_count": 360,
     "metadata": {},
     "output_type": "execute_result"
    }
   ],
   "source": [
    "split_index = int(len(X) * 0.95)\n",
    "\n",
    "split_index"
   ]
  },
  {
   "cell_type": "code",
   "execution_count": 361,
   "id": "hhGMh_nAgiST",
   "metadata": {
    "colab": {
     "base_uri": "https://localhost:8080/"
    },
    "id": "hhGMh_nAgiST",
    "outputId": "aeb231ef-e124-4821-f4ee-dbb2275c0f98",
    "ExecuteTime": {
     "end_time": "2023-08-24T16:27:10.819718800Z",
     "start_time": "2023-08-24T16:27:10.797900200Z"
    }
   },
   "outputs": [
    {
     "data": {
      "text/plain": "((6183, 28), (326, 28), (6183, 3), (326, 3))"
     },
     "execution_count": 361,
     "metadata": {},
     "output_type": "execute_result"
    }
   ],
   "source": [
    "X_train = X[:split_index]\n",
    "X_test = X[split_index:]\n",
    "\n",
    "y_train = y[:split_index]\n",
    "y_test = y[split_index:]\n",
    "\n",
    "X_train.shape, X_test.shape, y_train.shape, y_test.shape"
   ]
  },
  {
   "cell_type": "code",
   "execution_count": 362,
   "id": "Muqs9hKYhMUS",
   "metadata": {
    "colab": {
     "base_uri": "https://localhost:8080/"
    },
    "id": "Muqs9hKYhMUS",
    "outputId": "d35136a0-5855-4bfb-b66b-b8f7a1a8ea96",
    "ExecuteTime": {
     "end_time": "2023-08-24T16:27:11.436513400Z",
     "start_time": "2023-08-24T16:27:11.424172700Z"
    }
   },
   "outputs": [
    {
     "data": {
      "text/plain": "((6183, 28, 1), (326, 28, 1), (6183, 3), (326, 3))"
     },
     "execution_count": 362,
     "metadata": {},
     "output_type": "execute_result"
    }
   ],
   "source": [
    "X_train = X_train.reshape((-1, lookback*4, 1))\n",
    "X_test = X_test.reshape((-1, lookback*4, 1))\n",
    "\n",
    "y_train = y_train.reshape((-1, 3))\n",
    "y_test = y_test.reshape((-1, 3))\n",
    "\n",
    "X_train.shape, X_test.shape, y_train.shape, y_test.shape"
   ]
  },
  {
   "cell_type": "code",
   "execution_count": 363,
   "id": "i7-PBcrMhR7z",
   "metadata": {
    "colab": {
     "base_uri": "https://localhost:8080/"
    },
    "id": "i7-PBcrMhR7z",
    "outputId": "b01a297a-75d6-4573-e450-a3545360112e",
    "ExecuteTime": {
     "end_time": "2023-08-24T16:27:12.057549900Z",
     "start_time": "2023-08-24T16:27:12.045798600Z"
    }
   },
   "outputs": [
    {
     "data": {
      "text/plain": "(torch.Size([6183, 28, 1]),\n torch.Size([326, 28, 1]),\n torch.Size([6183, 3]),\n torch.Size([326, 3]))"
     },
     "execution_count": 363,
     "metadata": {},
     "output_type": "execute_result"
    }
   ],
   "source": [
    "X_train = torch.tensor(X_train).float()\n",
    "y_train = torch.tensor(y_train).float()\n",
    "X_test = torch.tensor(X_test).float()\n",
    "y_test = torch.tensor(y_test).float()\n",
    "\n",
    "X_train.shape, X_test.shape, y_train.shape, y_test.shape"
   ]
  },
  {
   "cell_type": "code",
   "execution_count": 364,
   "id": "DWutCAGKhdqU",
   "metadata": {
    "id": "DWutCAGKhdqU",
    "ExecuteTime": {
     "end_time": "2023-08-24T16:27:12.563978600Z",
     "start_time": "2023-08-24T16:27:12.549662600Z"
    }
   },
   "outputs": [],
   "source": [
    "from torch.utils.data import Dataset\n",
    "\n",
    "class TimeSeriesDataset(Dataset):\n",
    "    def __init__(self, X, y):\n",
    "        self.X = X\n",
    "        self.y = y\n",
    "\n",
    "    def __len__(self):\n",
    "        return len(self.X)\n",
    "\n",
    "    def __getitem__(self, i):\n",
    "        return self.X[i], self.y[i]\n",
    "    \n",
    "train_dataset = TimeSeriesDataset(X_train, y_train)\n",
    "test_dataset = TimeSeriesDataset(X_test, y_test)"
   ]
  },
  {
   "cell_type": "code",
   "execution_count": 365,
   "id": "12OWUTa5ijoq",
   "metadata": {
    "colab": {
     "base_uri": "https://localhost:8080/"
    },
    "id": "12OWUTa5ijoq",
    "outputId": "0928d3c2-d181-4035-cc57-a2ac6ce38075",
    "ExecuteTime": {
     "end_time": "2023-08-24T16:27:13.415179800Z",
     "start_time": "2023-08-24T16:27:13.397365900Z"
    }
   },
   "outputs": [
    {
     "data": {
      "text/plain": "<__main__.TimeSeriesDataset at 0x1e453086e90>"
     },
     "execution_count": 365,
     "metadata": {},
     "output_type": "execute_result"
    }
   ],
   "source": [
    "train_dataset"
   ]
  },
  {
   "cell_type": "code",
   "execution_count": 366,
   "id": "XYsUmPl3ik46",
   "metadata": {
    "id": "XYsUmPl3ik46",
    "ExecuteTime": {
     "end_time": "2023-08-24T16:27:13.788341Z",
     "start_time": "2023-08-24T16:27:13.780184600Z"
    }
   },
   "outputs": [],
   "source": [
    "from torch.utils.data import DataLoader\n",
    "\n",
    "batch_size = 16\n",
    "\n",
    "train_loader = DataLoader(train_dataset, batch_size=batch_size, shuffle=True)\n",
    "test_loader = DataLoader(test_dataset, batch_size=batch_size, shuffle=False)"
   ]
  },
  {
   "cell_type": "code",
   "execution_count": 367,
   "id": "TJTnbgBDjOSK",
   "metadata": {
    "colab": {
     "base_uri": "https://localhost:8080/"
    },
    "id": "TJTnbgBDjOSK",
    "outputId": "51226616-d4de-4a22-f4d9-576fd3e8bfba",
    "ExecuteTime": {
     "end_time": "2023-08-24T16:27:14.127898400Z",
     "start_time": "2023-08-24T16:27:14.117330400Z"
    }
   },
   "outputs": [
    {
     "name": "stdout",
     "output_type": "stream",
     "text": [
      "torch.Size([16, 28, 1]) torch.Size([16, 3])\n"
     ]
    }
   ],
   "source": [
    "for _, batch in enumerate(train_loader):\n",
    "    x_batch, y_batch = batch[0].to(device), batch[1].to(device)\n",
    "    print(x_batch.shape, y_batch.shape)\n",
    "    break"
   ]
  },
  {
   "cell_type": "code",
   "execution_count": 368,
   "id": "njdkq_kmjib5",
   "metadata": {
    "colab": {
     "base_uri": "https://localhost:8080/"
    },
    "id": "njdkq_kmjib5",
    "outputId": "db355c8d-cc21-43f5-cdfa-2156444b4531",
    "ExecuteTime": {
     "end_time": "2023-08-24T16:27:14.493473800Z",
     "start_time": "2023-08-24T16:27:14.485332100Z"
    }
   },
   "outputs": [
    {
     "data": {
      "text/plain": "LSTM(\n  (lstm): LSTM(1, 4, batch_first=True)\n  (fc): Linear(in_features=4, out_features=3, bias=True)\n)"
     },
     "execution_count": 368,
     "metadata": {},
     "output_type": "execute_result"
    }
   ],
   "source": [
    "class LSTM(nn.Module):\n",
    "    def __init__(self, input_size, hidden_size, num_stacked_layers, out_features=1):\n",
    "        super().__init__()\n",
    "        self.hidden_size = hidden_size\n",
    "        self.num_stacked_layers = num_stacked_layers\n",
    "\n",
    "        self.lstm = nn.LSTM(input_size, hidden_size, num_stacked_layers, \n",
    "                            batch_first=True)\n",
    "        \n",
    "        self.fc = nn.Linear(hidden_size, out_features)\n",
    "\n",
    "    def forward(self, x):\n",
    "        batch_size = x.size(0)\n",
    "        h0 = torch.zeros(self.num_stacked_layers, batch_size, self.hidden_size).to(device)\n",
    "        c0 = torch.zeros(self.num_stacked_layers, batch_size, self.hidden_size).to(device)\n",
    "        \n",
    "        out, _ = self.lstm(x, (h0, c0))\n",
    "        out = self.fc(out[:, -1, :])\n",
    "        return out\n",
    "\n",
    "model = LSTM(1, 4, 1, 3)\n",
    "model.to(device)\n",
    "model"
   ]
  },
  {
   "cell_type": "code",
   "execution_count": 369,
   "id": "iue5WvTxmVKB",
   "metadata": {
    "id": "iue5WvTxmVKB",
    "ExecuteTime": {
     "end_time": "2023-08-24T16:27:15.859111500Z",
     "start_time": "2023-08-24T16:27:15.849539400Z"
    }
   },
   "outputs": [],
   "source": [
    "def train_one_epoch():\n",
    "    model.train(True)\n",
    "    print(f'Epoch: {epoch + 1}')\n",
    "    running_loss = 0.0\n",
    "    \n",
    "    for batch_index, batch in enumerate(train_loader):\n",
    "        x_batch, y_batch = batch[0].to(device), batch[1].to(device)\n",
    "        \n",
    "        output = model(x_batch)\n",
    "        loss = loss_function(output, y_batch)\n",
    "        running_loss += loss.item()\n",
    "        \n",
    "        optimizer.zero_grad()\n",
    "        loss.backward()\n",
    "        optimizer.step()\n",
    "\n",
    "        if batch_index % 100 == 99:  # print every 100 batches\n",
    "            avg_loss_across_batches = running_loss / 100\n",
    "            print('Batch {0}, Loss: {1:.3f}'.format(batch_index+1,\n",
    "                                                    avg_loss_across_batches))\n",
    "            running_loss = 0.0\n",
    "    print()"
   ]
  },
  {
   "cell_type": "code",
   "execution_count": 370,
   "id": "gRmNuV3cmy-t",
   "metadata": {
    "id": "gRmNuV3cmy-t",
    "ExecuteTime": {
     "end_time": "2023-08-24T16:27:16.440269200Z",
     "start_time": "2023-08-24T16:27:16.430259600Z"
    }
   },
   "outputs": [],
   "source": [
    "def validate_one_epoch():\n",
    "    model.train(False)\n",
    "    running_loss = 0.0\n",
    "    \n",
    "    for batch_index, batch in enumerate(test_loader):\n",
    "        x_batch, y_batch = batch[0].to(device), batch[1].to(device)\n",
    "        \n",
    "        with torch.no_grad():\n",
    "            output = model(x_batch)\n",
    "            loss = loss_function(output, y_batch)\n",
    "            running_loss += loss.item()\n",
    "\n",
    "    avg_loss_across_batches = running_loss / len(test_loader)\n",
    "    \n",
    "    print('Val Loss: {0:.3f}'.format(avg_loss_across_batches))\n",
    "    print('***************************************************')\n",
    "    print()"
   ]
  },
  {
   "cell_type": "code",
   "execution_count": 371,
   "id": "1jgb1aJ3lxlQ",
   "metadata": {
    "colab": {
     "base_uri": "https://localhost:8080/"
    },
    "id": "1jgb1aJ3lxlQ",
    "outputId": "2a25db36-4872-44e4-feca-4d26bad49f96",
    "ExecuteTime": {
     "end_time": "2023-08-24T16:28:02.939245100Z",
     "start_time": "2023-08-24T16:27:17.163999500Z"
    }
   },
   "outputs": [
    {
     "name": "stdout",
     "output_type": "stream",
     "text": [
      "Epoch: 1\n",
      "Batch 100, Loss: 0.566\n",
      "Batch 200, Loss: 0.179\n",
      "Batch 300, Loss: 0.071\n",
      "\n",
      "Val Loss: 0.171\n",
      "***************************************************\n",
      "\n",
      "Epoch: 2\n",
      "Batch 100, Loss: 0.029\n",
      "Batch 200, Loss: 0.027\n",
      "Batch 300, Loss: 0.019\n",
      "\n",
      "Val Loss: 0.032\n",
      "***************************************************\n",
      "\n",
      "Epoch: 3\n",
      "Batch 100, Loss: 0.007\n",
      "Batch 200, Loss: 0.006\n",
      "Batch 300, Loss: 0.003\n",
      "\n",
      "Val Loss: 0.015\n",
      "***************************************************\n",
      "\n",
      "Epoch: 4\n",
      "Batch 100, Loss: 0.002\n",
      "Batch 200, Loss: 0.002\n",
      "Batch 300, Loss: 0.001\n",
      "\n",
      "Val Loss: 0.013\n",
      "***************************************************\n",
      "\n",
      "Epoch: 5\n",
      "Batch 100, Loss: 0.001\n",
      "Batch 200, Loss: 0.001\n",
      "Batch 300, Loss: 0.001\n",
      "\n",
      "Val Loss: 0.009\n",
      "***************************************************\n",
      "\n",
      "Epoch: 6\n",
      "Batch 100, Loss: 0.001\n",
      "Batch 200, Loss: 0.001\n",
      "Batch 300, Loss: 0.001\n",
      "Val Loss: 0.007\n",
      "***************************************************\n",
      "\n",
      "Epoch: 7\n",
      "Batch 100, Loss: 0.001\n",
      "Batch 200, Loss: 0.001\n",
      "Batch 300, Loss: 0.001\n",
      "\n",
      "Val Loss: 0.007\n",
      "***************************************************\n",
      "\n",
      "Epoch: 8\n",
      "Batch 100, Loss: 0.000\n",
      "Batch 200, Loss: 0.000\n",
      "Batch 300, Loss: 0.000\n",
      "\n",
      "Val Loss: 0.004\n",
      "***************************************************\n",
      "\n",
      "Epoch: 9\n",
      "Batch 100, Loss: 0.000\n",
      "Batch 200, Loss: 0.000\n",
      "Batch 300, Loss: 0.000\n",
      "\n",
      "Val Loss: 0.004\n",
      "***************************************************\n",
      "\n",
      "Epoch: 10\n",
      "Batch 100, Loss: 0.000\n",
      "Batch 200, Loss: 0.000\n",
      "Batch 300, Loss: 0.000\n",
      "\n",
      "Val Loss: 0.004\n",
      "***************************************************\n",
      "\n",
      "Epoch: 11\n",
      "Batch 100, Loss: 0.000\n",
      "Batch 200, Loss: 0.000\n",
      "Batch 300, Loss: 0.000\n",
      "\n",
      "Val Loss: 0.003\n",
      "***************************************************\n",
      "\n",
      "Epoch: 12\n",
      "Batch 100, Loss: 0.000\n",
      "Batch 200, Loss: 0.000\n",
      "Batch 300, Loss: 0.000\n",
      "\n",
      "Val Loss: 0.003\n",
      "***************************************************\n",
      "\n",
      "Epoch: 13\n",
      "Batch 100, Loss: 0.000\n",
      "Batch 200, Loss: 0.000\n",
      "Batch 300, Loss: 0.000\n",
      "\n",
      "Val Loss: 0.003\n",
      "***************************************************\n",
      "\n",
      "Epoch: 14\n",
      "Batch 100, Loss: 0.000\n",
      "Batch 200, Loss: 0.000\n",
      "Batch 300, Loss: 0.000\n",
      "\n",
      "Val Loss: 0.003\n",
      "***************************************************\n",
      "\n",
      "Epoch: 15\n",
      "Batch 100, Loss: 0.000\n",
      "Batch 200, Loss: 0.000\n",
      "Batch 300, Loss: 0.000\n",
      "\n",
      "Val Loss: 0.003\n",
      "***************************************************\n",
      "\n",
      "Epoch: 16\n",
      "Batch 100, Loss: 0.000\n",
      "Batch 200, Loss: 0.000\n",
      "Batch 300, Loss: 0.000\n",
      "\n",
      "Val Loss: 0.003\n",
      "***************************************************\n",
      "\n",
      "Epoch: 17\n",
      "Batch 100, Loss: 0.000\n",
      "Batch 200, Loss: 0.000\n",
      "Batch 300, Loss: 0.000\n",
      "Val Loss: 0.002\n",
      "***************************************************\n",
      "\n",
      "Epoch: 18\n",
      "Batch 100, Loss: 0.000\n",
      "Batch 200, Loss: 0.000\n",
      "Batch 300, Loss: 0.000\n",
      "\n",
      "Val Loss: 0.002\n",
      "***************************************************\n",
      "\n",
      "Epoch: 19\n",
      "Batch 100, Loss: 0.000\n",
      "Batch 200, Loss: 0.000\n",
      "Batch 300, Loss: 0.000\n",
      "\n",
      "Val Loss: 0.002\n",
      "***************************************************\n",
      "\n",
      "Epoch: 20\n",
      "Batch 100, Loss: 0.000\n",
      "Batch 200, Loss: 0.000\n",
      "Batch 300, Loss: 0.000\n",
      "\n",
      "Val Loss: 0.002\n",
      "***************************************************\n",
      "\n",
      "Epoch: 21\n",
      "Batch 100, Loss: 0.000\n",
      "Batch 200, Loss: 0.000\n",
      "Batch 300, Loss: 0.000\n",
      "\n",
      "Val Loss: 0.003\n",
      "***************************************************\n",
      "\n",
      "Epoch: 22\n",
      "Batch 100, Loss: 0.000\n",
      "Batch 200, Loss: 0.000\n",
      "Batch 300, Loss: 0.000\n",
      "Val Loss: 0.003\n",
      "***************************************************\n",
      "\n",
      "Epoch: 23\n",
      "Batch 100, Loss: 0.000\n",
      "Batch 200, Loss: 0.000\n",
      "Batch 300, Loss: 0.000\n",
      "\n",
      "Val Loss: 0.002\n",
      "***************************************************\n",
      "\n",
      "Epoch: 24\n",
      "Batch 100, Loss: 0.000\n",
      "Batch 200, Loss: 0.000\n",
      "Batch 300, Loss: 0.000\n",
      "\n",
      "Val Loss: 0.002\n",
      "***************************************************\n",
      "\n",
      "Epoch: 25\n",
      "Batch 100, Loss: 0.000\n",
      "Batch 200, Loss: 0.000\n",
      "Batch 300, Loss: 0.000\n",
      "\n",
      "Val Loss: 0.002\n",
      "***************************************************\n",
      "\n",
      "Epoch: 26\n",
      "Batch 100, Loss: 0.000\n",
      "Batch 200, Loss: 0.000\n",
      "Batch 300, Loss: 0.000\n",
      "\n",
      "Val Loss: 0.002\n",
      "***************************************************\n",
      "\n",
      "Epoch: 27\n",
      "Batch 100, Loss: 0.000\n",
      "Batch 200, Loss: 0.000\n",
      "Batch 300, Loss: 0.000\n",
      "\n",
      "Val Loss: 0.002\n",
      "***************************************************\n",
      "\n",
      "Epoch: 28\n",
      "Batch 100, Loss: 0.000\n",
      "Batch 200, Loss: 0.000\n",
      "Batch 300, Loss: 0.000\n",
      "\n",
      "Val Loss: 0.002\n",
      "***************************************************\n",
      "\n",
      "Epoch: 29\n",
      "Batch 100, Loss: 0.000\n",
      "Batch 200, Loss: 0.000\n",
      "Batch 300, Loss: 0.000\n",
      "\n",
      "Val Loss: 0.002\n",
      "***************************************************\n",
      "\n",
      "Epoch: 30\n",
      "Batch 100, Loss: 0.000\n",
      "Batch 200, Loss: 0.000\n",
      "Batch 300, Loss: 0.000\n",
      "\n",
      "Val Loss: 0.002\n",
      "***************************************************\n",
      "\n",
      "Epoch: 31\n",
      "Batch 100, Loss: 0.000\n",
      "Batch 200, Loss: 0.000\n",
      "Batch 300, Loss: 0.000\n",
      "\n",
      "Val Loss: 0.002\n",
      "***************************************************\n",
      "\n",
      "Epoch: 32\n",
      "Batch 100, Loss: 0.000\n",
      "Batch 200, Loss: 0.000\n",
      "Batch 300, Loss: 0.000\n",
      "\n",
      "Val Loss: 0.002\n",
      "***************************************************\n",
      "\n",
      "Epoch: 33\n",
      "Batch 100, Loss: 0.000\n",
      "Batch 200, Loss: 0.000\n",
      "Batch 300, Loss: 0.000\n",
      "\n",
      "Val Loss: 0.002\n",
      "***************************************************\n",
      "\n",
      "Epoch: 34\n",
      "Batch 100, Loss: 0.000\n",
      "Batch 200, Loss: 0.000\n",
      "Batch 300, Loss: 0.000\n",
      "\n",
      "Val Loss: 0.002\n",
      "***************************************************\n",
      "\n",
      "Epoch: 35\n",
      "Batch 100, Loss: 0.000\n",
      "Batch 200, Loss: 0.000\n",
      "Batch 300, Loss: 0.000\n",
      "\n",
      "Val Loss: 0.002\n",
      "***************************************************\n",
      "\n",
      "Epoch: 36\n",
      "Batch 100, Loss: 0.000\n",
      "Batch 200, Loss: 0.000\n",
      "Batch 300, Loss: 0.000\n",
      "\n",
      "Val Loss: 0.002\n",
      "***************************************************\n",
      "\n",
      "Epoch: 37\n",
      "Batch 100, Loss: 0.000\n",
      "Batch 200, Loss: 0.000\n",
      "Batch 300, Loss: 0.000\n",
      "\n",
      "Val Loss: 0.002\n",
      "***************************************************\n",
      "\n",
      "Epoch: 38\n",
      "Batch 100, Loss: 0.000\n",
      "Batch 200, Loss: 0.000\n",
      "Batch 300, Loss: 0.000\n",
      "\n",
      "Val Loss: 0.002\n",
      "***************************************************\n",
      "\n",
      "Epoch: 39\n",
      "Batch 100, Loss: 0.000\n",
      "Batch 200, Loss: 0.000\n",
      "Batch 300, Loss: 0.000\n",
      "\n",
      "Val Loss: 0.002\n",
      "***************************************************\n",
      "\n",
      "Epoch: 40\n",
      "Batch 100, Loss: 0.000\n",
      "Batch 200, Loss: 0.000\n",
      "Batch 300, Loss: 0.000\n",
      "\n",
      "Val Loss: 0.001\n",
      "***************************************************\n",
      "\n",
      "Epoch: 41\n",
      "Batch 100, Loss: 0.000\n",
      "Batch 200, Loss: 0.000\n",
      "Batch 300, Loss: 0.000\n",
      "\n",
      "Val Loss: 0.002\n",
      "***************************************************\n",
      "\n",
      "Epoch: 42\n",
      "Batch 100, Loss: 0.000\n",
      "Batch 200, Loss: 0.000\n",
      "Batch 300, Loss: 0.000\n",
      "\n",
      "Val Loss: 0.001\n",
      "***************************************************\n",
      "\n",
      "Epoch: 43\n",
      "Batch 100, Loss: 0.000\n",
      "Batch 200, Loss: 0.000\n",
      "Batch 300, Loss: 0.000\n",
      "\n",
      "Val Loss: 0.002\n",
      "***************************************************\n",
      "\n",
      "Epoch: 44\n",
      "Batch 100, Loss: 0.000\n",
      "Batch 200, Loss: 0.000\n",
      "Batch 300, Loss: 0.000\n",
      "\n",
      "Val Loss: 0.001\n",
      "***************************************************\n",
      "\n",
      "Epoch: 45\n",
      "Batch 100, Loss: 0.000\n",
      "Batch 200, Loss: 0.000\n",
      "Batch 300, Loss: 0.000\n",
      "\n",
      "Val Loss: 0.002\n",
      "***************************************************\n",
      "\n",
      "Epoch: 46\n",
      "Batch 100, Loss: 0.000\n",
      "Batch 200, Loss: 0.000\n",
      "Batch 300, Loss: 0.000\n",
      "\n",
      "Val Loss: 0.001\n",
      "***************************************************\n",
      "\n",
      "Epoch: 47\n",
      "Batch 100, Loss: 0.000\n",
      "Batch 200, Loss: 0.000\n",
      "Batch 300, Loss: 0.000\n",
      "\n",
      "Val Loss: 0.001\n",
      "***************************************************\n",
      "\n",
      "Epoch: 48\n",
      "Batch 100, Loss: 0.000\n",
      "Batch 200, Loss: 0.000\n",
      "Batch 300, Loss: 0.000\n",
      "\n",
      "Val Loss: 0.001\n",
      "***************************************************\n",
      "\n",
      "Epoch: 49\n",
      "Batch 100, Loss: 0.000\n",
      "Batch 200, Loss: 0.000\n",
      "Batch 300, Loss: 0.000\n",
      "\n",
      "Val Loss: 0.001\n",
      "***************************************************\n",
      "\n",
      "Epoch: 50\n",
      "Batch 100, Loss: 0.000\n",
      "Batch 200, Loss: 0.000\n",
      "Batch 300, Loss: 0.000\n",
      "\n",
      "Val Loss: 0.001\n",
      "***************************************************\n",
      "\n",
      "Epoch: 51\n",
      "Batch 100, Loss: 0.000\n",
      "Batch 200, Loss: 0.000\n",
      "Batch 300, Loss: 0.000\n",
      "\n",
      "Val Loss: 0.001\n",
      "***************************************************\n",
      "\n",
      "Epoch: 52\n",
      "Batch 100, Loss: 0.000\n",
      "Batch 200, Loss: 0.000\n",
      "Batch 300, Loss: 0.000\n",
      "\n",
      "Val Loss: 0.001\n",
      "***************************************************\n",
      "\n",
      "Epoch: 53\n",
      "Batch 100, Loss: 0.000\n",
      "Batch 200, Loss: 0.000\n",
      "Batch 300, Loss: 0.000\n",
      "\n",
      "Val Loss: 0.001\n",
      "***************************************************\n",
      "\n",
      "Epoch: 54\n",
      "Batch 100, Loss: 0.000\n",
      "Batch 200, Loss: 0.000\n",
      "Batch 300, Loss: 0.000\n",
      "\n",
      "Val Loss: 0.001\n",
      "***************************************************\n",
      "\n",
      "Epoch: 55\n",
      "Batch 100, Loss: 0.000\n",
      "Batch 200, Loss: 0.000\n",
      "Batch 300, Loss: 0.000\n",
      "\n",
      "Val Loss: 0.001\n",
      "***************************************************\n",
      "\n",
      "Epoch: 56\n",
      "Batch 100, Loss: 0.000\n",
      "Batch 200, Loss: 0.000\n",
      "Batch 300, Loss: 0.000\n",
      "\n",
      "Val Loss: 0.001\n",
      "***************************************************\n",
      "\n",
      "Epoch: 57\n",
      "Batch 100, Loss: 0.000\n",
      "Batch 200, Loss: 0.000\n",
      "Batch 300, Loss: 0.000\n",
      "\n",
      "Val Loss: 0.001\n",
      "***************************************************\n",
      "\n",
      "Epoch: 58\n",
      "Batch 100, Loss: 0.000\n",
      "Batch 200, Loss: 0.000\n",
      "Batch 300, Loss: 0.000\n",
      "Val Loss: 0.001\n",
      "***************************************************\n",
      "\n",
      "Epoch: 59\n",
      "Batch 100, Loss: 0.000\n",
      "Batch 200, Loss: 0.000\n",
      "Batch 300, Loss: 0.000\n",
      "Val Loss: 0.001\n",
      "***************************************************\n",
      "\n",
      "Epoch: 60\n",
      "Batch 100, Loss: 0.000\n",
      "Batch 200, Loss: 0.000\n",
      "Batch 300, Loss: 0.000\n",
      "\n",
      "Val Loss: 0.001\n",
      "***************************************************\n",
      "\n",
      "Epoch: 61\n",
      "Batch 100, Loss: 0.000\n",
      "Batch 200, Loss: 0.000\n",
      "Batch 300, Loss: 0.000\n",
      "\n",
      "Val Loss: 0.001\n",
      "***************************************************\n",
      "\n",
      "Epoch: 62\n",
      "Batch 100, Loss: 0.000\n",
      "Batch 200, Loss: 0.000\n",
      "Batch 300, Loss: 0.000\n",
      "\n",
      "Val Loss: 0.001\n",
      "***************************************************\n",
      "\n",
      "Epoch: 63\n",
      "Batch 100, Loss: 0.000\n",
      "Batch 200, Loss: 0.000\n",
      "Batch 300, Loss: 0.000\n",
      "\n",
      "Val Loss: 0.001\n",
      "***************************************************\n",
      "\n",
      "Epoch: 64\n",
      "Batch 100, Loss: 0.000\n",
      "Batch 200, Loss: 0.000\n",
      "Batch 300, Loss: 0.000\n",
      "\n",
      "Val Loss: 0.001\n",
      "***************************************************\n",
      "\n",
      "Epoch: 65\n",
      "Batch 100, Loss: 0.000\n",
      "Batch 200, Loss: 0.000\n",
      "Batch 300, Loss: 0.000\n",
      "\n",
      "Val Loss: 0.001\n",
      "***************************************************\n",
      "\n",
      "Epoch: 66\n",
      "Batch 100, Loss: 0.000\n",
      "Batch 200, Loss: 0.000\n",
      "Batch 300, Loss: 0.000\n",
      "\n",
      "Val Loss: 0.001\n",
      "***************************************************\n",
      "\n",
      "Epoch: 67\n",
      "Batch 100, Loss: 0.000\n",
      "Batch 200, Loss: 0.000\n",
      "Batch 300, Loss: 0.000\n",
      "\n",
      "Val Loss: 0.001\n",
      "***************************************************\n",
      "\n",
      "Epoch: 68\n",
      "Batch 100, Loss: 0.000\n",
      "Batch 200, Loss: 0.000\n",
      "Batch 300, Loss: 0.000\n",
      "\n",
      "Val Loss: 0.001\n",
      "***************************************************\n",
      "\n",
      "Epoch: 69\n",
      "Batch 100, Loss: 0.000\n",
      "Batch 200, Loss: 0.000\n",
      "Batch 300, Loss: 0.000\n",
      "\n",
      "Val Loss: 0.001\n",
      "***************************************************\n",
      "\n",
      "Epoch: 70\n",
      "Batch 100, Loss: 0.000\n",
      "Batch 200, Loss: 0.000\n",
      "Batch 300, Loss: 0.000\n",
      "\n",
      "Val Loss: 0.001\n",
      "***************************************************\n",
      "\n",
      "Epoch: 71\n",
      "Batch 100, Loss: 0.000\n",
      "Batch 200, Loss: 0.000\n",
      "Batch 300, Loss: 0.000\n",
      "\n",
      "Val Loss: 0.001\n",
      "***************************************************\n",
      "\n",
      "Epoch: 72\n",
      "Batch 100, Loss: 0.000\n",
      "Batch 200, Loss: 0.000\n",
      "Batch 300, Loss: 0.000\n",
      "\n",
      "Val Loss: 0.001\n",
      "***************************************************\n",
      "\n",
      "Epoch: 73\n",
      "Batch 100, Loss: 0.000\n",
      "Batch 200, Loss: 0.000\n",
      "Batch 300, Loss: 0.000\n",
      "\n",
      "Val Loss: 0.001\n",
      "***************************************************\n",
      "\n",
      "Epoch: 74\n",
      "Batch 100, Loss: 0.000\n",
      "Batch 200, Loss: 0.000\n",
      "Batch 300, Loss: 0.000\n",
      "\n",
      "Val Loss: 0.001\n",
      "***************************************************\n",
      "\n",
      "Epoch: 75\n",
      "Batch 100, Loss: 0.000\n",
      "Batch 200, Loss: 0.000\n",
      "Batch 300, Loss: 0.000\n",
      "\n",
      "Val Loss: 0.001\n",
      "***************************************************\n",
      "\n",
      "Epoch: 76\n",
      "Batch 100, Loss: 0.000\n",
      "Batch 200, Loss: 0.000\n",
      "Batch 300, Loss: 0.000\n",
      "\n",
      "Val Loss: 0.001\n",
      "***************************************************\n",
      "\n",
      "Epoch: 77\n",
      "Batch 100, Loss: 0.000\n",
      "Batch 200, Loss: 0.000\n",
      "Batch 300, Loss: 0.000\n",
      "\n",
      "Val Loss: 0.001\n",
      "***************************************************\n",
      "\n",
      "Epoch: 78\n",
      "Batch 100, Loss: 0.000\n",
      "Batch 200, Loss: 0.000\n",
      "Batch 300, Loss: 0.000\n",
      "\n",
      "Val Loss: 0.001\n",
      "***************************************************\n",
      "\n",
      "Epoch: 79\n",
      "Batch 100, Loss: 0.000\n",
      "Batch 200, Loss: 0.000\n",
      "Batch 300, Loss: 0.000\n",
      "\n",
      "Val Loss: 0.001\n",
      "***************************************************\n",
      "\n",
      "Epoch: 80\n",
      "Batch 100, Loss: 0.000\n",
      "Batch 200, Loss: 0.000\n",
      "Batch 300, Loss: 0.000\n",
      "\n",
      "Val Loss: 0.001\n",
      "***************************************************\n",
      "\n",
      "Epoch: 81\n",
      "Batch 100, Loss: 0.000\n",
      "Batch 200, Loss: 0.000\n",
      "Batch 300, Loss: 0.000\n",
      "\n",
      "Val Loss: 0.001\n",
      "***************************************************\n",
      "\n",
      "Epoch: 82\n",
      "Batch 100, Loss: 0.000\n",
      "Batch 200, Loss: 0.000\n",
      "Batch 300, Loss: 0.000\n",
      "\n",
      "Val Loss: 0.001\n",
      "***************************************************\n",
      "\n",
      "Epoch: 83\n",
      "Batch 100, Loss: 0.000\n",
      "Batch 200, Loss: 0.000\n",
      "Batch 300, Loss: 0.000\n",
      "Val Loss: 0.001\n",
      "***************************************************\n",
      "\n",
      "Epoch: 84\n",
      "Batch 100, Loss: 0.000\n",
      "Batch 200, Loss: 0.000\n",
      "Batch 300, Loss: 0.000\n",
      "\n",
      "Val Loss: 0.001\n",
      "***************************************************\n",
      "\n",
      "Epoch: 85\n",
      "Batch 100, Loss: 0.000\n",
      "Batch 200, Loss: 0.000\n",
      "Batch 300, Loss: 0.000\n",
      "\n",
      "Val Loss: 0.001\n",
      "***************************************************\n",
      "\n",
      "Epoch: 86\n",
      "Batch 100, Loss: 0.000\n",
      "Batch 200, Loss: 0.000\n",
      "Batch 300, Loss: 0.000\n",
      "Val Loss: 0.001\n",
      "***************************************************\n",
      "\n",
      "Epoch: 87\n",
      "Batch 100, Loss: 0.000\n",
      "Batch 200, Loss: 0.000\n",
      "Batch 300, Loss: 0.000\n",
      "Val Loss: 0.001\n",
      "***************************************************\n",
      "\n",
      "Epoch: 88\n",
      "Batch 100, Loss: 0.000\n",
      "Batch 200, Loss: 0.000\n",
      "Batch 300, Loss: 0.000\n",
      "Val Loss: 0.001\n",
      "***************************************************\n",
      "\n",
      "Epoch: 89\n",
      "Batch 100, Loss: 0.000\n",
      "Batch 200, Loss: 0.000\n",
      "Batch 300, Loss: 0.000\n",
      "\n",
      "Val Loss: 0.001\n",
      "***************************************************\n",
      "\n",
      "Epoch: 90\n",
      "Batch 100, Loss: 0.000\n",
      "Batch 200, Loss: 0.000\n",
      "Batch 300, Loss: 0.000\n",
      "\n",
      "Val Loss: 0.001\n",
      "***************************************************\n",
      "\n",
      "Epoch: 91\n",
      "Batch 100, Loss: 0.000\n",
      "Batch 200, Loss: 0.000\n",
      "Batch 300, Loss: 0.000\n",
      "\n",
      "Val Loss: 0.001\n",
      "***************************************************\n",
      "\n",
      "Epoch: 92\n",
      "Batch 100, Loss: 0.000\n",
      "Batch 200, Loss: 0.000\n",
      "Batch 300, Loss: 0.000\n",
      "Val Loss: 0.001\n",
      "***************************************************\n",
      "\n",
      "Epoch: 93\n",
      "Batch 100, Loss: 0.000\n",
      "Batch 200, Loss: 0.000\n",
      "Batch 300, Loss: 0.000\n",
      "\n",
      "Val Loss: 0.001\n",
      "***************************************************\n",
      "\n",
      "Epoch: 94\n",
      "Batch 100, Loss: 0.000\n",
      "Batch 200, Loss: 0.000\n",
      "Batch 300, Loss: 0.000\n",
      "\n",
      "Val Loss: 0.001\n",
      "***************************************************\n",
      "\n",
      "Epoch: 95\n",
      "Batch 100, Loss: 0.000\n",
      "Batch 200, Loss: 0.000\n",
      "Batch 300, Loss: 0.000\n",
      "\n",
      "Val Loss: 0.001\n",
      "***************************************************\n",
      "\n",
      "Epoch: 96\n",
      "Batch 100, Loss: 0.000\n",
      "Batch 200, Loss: 0.000\n",
      "Batch 300, Loss: 0.000\n",
      "\n",
      "Val Loss: 0.001\n",
      "***************************************************\n",
      "\n",
      "Epoch: 97\n",
      "Batch 100, Loss: 0.000\n",
      "Batch 200, Loss: 0.000\n",
      "Batch 300, Loss: 0.000\n",
      "\n",
      "Val Loss: 0.001\n",
      "***************************************************\n",
      "\n",
      "Epoch: 98\n",
      "Batch 100, Loss: 0.000\n",
      "Batch 200, Loss: 0.000\n",
      "Batch 300, Loss: 0.000\n",
      "\n",
      "Val Loss: 0.001\n",
      "***************************************************\n",
      "\n",
      "Epoch: 99\n",
      "Batch 100, Loss: 0.000\n",
      "Batch 200, Loss: 0.000\n",
      "Batch 300, Loss: 0.000\n",
      "\n",
      "Val Loss: 0.001\n",
      "***************************************************\n",
      "\n",
      "Epoch: 100\n",
      "Batch 100, Loss: 0.000\n",
      "Batch 200, Loss: 0.000\n",
      "Batch 300, Loss: 0.000\n",
      "\n",
      "Val Loss: 0.001\n",
      "***************************************************\n"
     ]
    }
   ],
   "source": [
    "learning_rate = 0.001\n",
    "num_epochs = 100\n",
    "loss_function = nn.MSELoss()\n",
    "optimizer = torch.optim.Adam(model.parameters(), lr=learning_rate)\n",
    "\n",
    "for epoch in range(num_epochs):\n",
    "    train_one_epoch()\n",
    "    validate_one_epoch()"
   ]
  },
  {
   "cell_type": "code",
   "execution_count": 372,
   "id": "-Xon2PHWno7t",
   "metadata": {
    "colab": {
     "base_uri": "https://localhost:8080/",
     "height": 449
    },
    "id": "-Xon2PHWno7t",
    "outputId": "862b1d87-3e42-4fe1-8618-3cf0720e0da5",
    "ExecuteTime": {
     "end_time": "2023-08-24T16:28:04.616486200Z",
     "start_time": "2023-08-24T16:28:04.502494400Z"
    }
   },
   "outputs": [
    {
     "name": "stdout",
     "output_type": "stream",
     "text": [
      "(6183, 3)\n"
     ]
    },
    {
     "data": {
      "text/plain": "<Figure size 640x480 with 1 Axes>",
      "image/png": "[encoded data removed]"
     },
     "metadata": {},
     "output_type": "display_data"
    }
   ],
   "source": [
    "with torch.no_grad():\n",
    "    predicted = model(X_train.to(device)).to('cpu').numpy()\n",
    "\n",
    "print(predicted.shape)\n",
    "\n",
    "plt.plot(y_train[:,OUT_VALUE], label='Actual Close')\n",
    "plt.plot(predicted[:,OUT_VALUE], label='Predicted Close')\n",
    "plt.xlabel('Day')\n",
    "plt.ylabel('Close')\n",
    "plt.legend()\n",
    "plt.show()\n"
   ]
  },
  {
   "cell_type": "markdown",
   "id": "2MM2o0_bW3hd",
   "metadata": {
    "id": "2MM2o0_bW3hd"
   },
   "source": [
    "# Translate back to real prices"
   ]
  },
  {
   "cell_type": "code",
   "execution_count": 382,
   "id": "d3SDgEvPpOcD",
   "metadata": {
    "colab": {
     "base_uri": "https://localhost:8080/"
    },
    "id": "d3SDgEvPpOcD",
    "outputId": "e9b8491e-b15e-4aa5-ae97-6619bb4a3be9",
    "ExecuteTime": {
     "end_time": "2023-08-24T16:29:28.022942900Z",
     "start_time": "2023-08-24T16:29:28.006581800Z"
    }
   },
   "outputs": [
    {
     "name": "stdout",
     "output_type": "stream",
     "text": [
      "(6183,) torch.Size([6183, 28, 1])\n"
     ]
    },
    {
     "data": {
      "text/plain": "array([  0.30237437,   0.30515071,   0.30461118, ..., 170.6461416 ,\n       170.33045452, 174.70723718])"
     },
     "execution_count": 382,
     "metadata": {},
     "output_type": "execute_result"
    }
   ],
   "source": [
    "train_predictions = predicted[:,OUT_VALUE].flatten()\n",
    "print(train_predictions.shape, X_train.shape)\n",
    "\n",
    "dummies = np.zeros((X_train.shape[0], lookback+1))\n",
    "dummies[:, 0] = train_predictions\n",
    "\n",
    "dummies = scaler[OUT_VALUE].inverse_transform(dummies)\n",
    "\n",
    "train_predictions = dc(dummies[:, 0])\n",
    "train_predictions"
   ]
  },
  {
   "cell_type": "code",
   "execution_count": 383,
   "outputs": [
    {
     "data": {
      "text/plain": "(torch.Size([6183, 28, 1]), torch.Size([6183, 3]))"
     },
     "execution_count": 383,
     "metadata": {},
     "output_type": "execute_result"
    }
   ],
   "source": [
    "X_train.shape, y_train.shape"
   ],
   "metadata": {
    "collapsed": false,
    "ExecuteTime": {
     "end_time": "2023-08-24T16:29:29.010513700Z",
     "start_time": "2023-08-24T16:29:29.007520900Z"
    }
   },
   "id": "a095f974918956e0"
  },
  {
   "cell_type": "code",
   "execution_count": 384,
   "id": "PHnvejOdrL7Q",
   "metadata": {
    "colab": {
     "base_uri": "https://localhost:8080/"
    },
    "id": "PHnvejOdrL7Q",
    "outputId": "952cb861-3f21-42d2-f1b2-9e489c9cdcd7",
    "ExecuteTime": {
     "end_time": "2023-08-24T16:29:29.637437400Z",
     "start_time": "2023-08-24T16:29:29.617183600Z"
    }
   },
   "outputs": [
    {
     "data": {
      "text/plain": "array([8.22909500e-02, 8.17682799e-02, 7.70811100e-02, ...,\n       1.69498993e+02, 1.73600008e+02, 1.74165998e+02])"
     },
     "execution_count": 384,
     "metadata": {},
     "output_type": "execute_result"
    }
   ],
   "source": [
    "dummies = np.zeros((X_train.shape[0], lookback+1))\n",
    "dummies[:, 0] = y_train[:, OUT_VALUE].flatten()\n",
    "dummies = scaler[OUT_VALUE].inverse_transform(dummies)\n",
    "\n",
    "new_y_train = dc(dummies[:, 0])\n",
    "new_y_train"
   ]
  },
  {
   "cell_type": "code",
   "execution_count": 385,
   "id": "2LlDAUtyrcrN",
   "metadata": {
    "colab": {
     "base_uri": "https://localhost:8080/",
     "height": 449
    },
    "id": "2LlDAUtyrcrN",
    "outputId": "819c2ff2-be0d-4781-d164-915936251f66",
    "ExecuteTime": {
     "end_time": "2023-08-24T16:29:30.675212200Z",
     "start_time": "2023-08-24T16:29:30.595562900Z"
    }
   },
   "outputs": [
    {
     "data": {
      "text/plain": "<Figure size 640x480 with 1 Axes>",
      "image/png": "[encoded data removed]"
     },
     "metadata": {},
     "output_type": "display_data"
    }
   ],
   "source": [
    "plt.plot(new_y_train, label='Actual Close')\n",
    "plt.plot(train_predictions, label='Predicted Close')\n",
    "plt.xlabel('Day')\n",
    "plt.ylabel('Close')\n",
    "plt.legend()\n",
    "plt.show()\n"
   ]
  },
  {
   "cell_type": "code",
   "execution_count": 386,
   "id": "yYeC2JMorftR",
   "metadata": {
    "colab": {
     "base_uri": "https://localhost:8080/"
    },
    "id": "yYeC2JMorftR",
    "outputId": "94df7137-866f-42aa-cb02-5a78961f6779",
    "ExecuteTime": {
     "end_time": "2023-08-24T16:29:33.546937Z",
     "start_time": "2023-08-24T16:29:33.521944200Z"
    }
   },
   "outputs": [
    {
     "data": {
      "text/plain": "array([170.01252502, 171.28396203, 168.30169674, 171.86916138,\n       172.3993736 , 172.31836536, 170.86974884, 171.95173201,\n       170.44679076, 169.92132191, 167.98791487, 171.90883934,\n       168.8062925 , 165.54314546, 164.62943956, 164.05247928,\n       162.98715411, 167.17062192, 166.802488  , 162.46673774,\n       163.69512472, 160.32732003, 157.65987633, 152.87991837,\n       143.29910688, 146.22445734, 141.39687459, 140.28659698,\n       141.47613497, 146.35688956, 152.20967554, 153.34361099,\n       152.34432208, 139.33091449, 161.11583803, 160.49744632,\n       163.26012275, 162.86011719, 160.44752852, 154.40315307,\n       156.92416486, 158.4723135 , 159.99682959, 156.09240576,\n       154.02035066, 151.66057976, 145.94851004, 153.71767975,\n       156.11703307, 155.34774146, 152.62425966, 153.83431385,\n       149.28970914, 147.0090806 , 138.22479577, 137.21413177,\n       141.45626508, 149.72984789, 147.47287439, 143.08358136,\n       149.6654527 , 155.79497279, 159.5564829 , 163.34877434,\n       163.22360329, 166.67639526, 164.92710295, 165.16332733,\n       166.38484092, 170.69525573, 170.76618149, 167.51902927,\n       164.19413972, 165.07375405, 170.14007899, 165.37622826,\n       159.81359159, 159.22427832, 155.86295923, 152.44132515,\n       152.43058512, 157.81712694, 153.26371553, 154.50009431,\n       160.42623955, 155.52764111, 149.29873504, 145.48224903,\n       147.95948581, 140.52485302, 139.45610802, 147.19247596,\n       124.43151391, 124.91056067, 125.95098314, 127.7384978 ,\n       117.04527869, 115.35620444, 109.53919326, 109.74627597,\n       106.35290681, 108.02468658, 115.12207777, 112.32075326,\n       116.96144354, 108.0314827 , 107.93937756, 108.88883718,\n       108.82102777, 104.99984617, 107.92953675, 112.98678241,\n       117.21554548, 122.45045117, 123.61019415, 127.54470805,\n       123.73223761, 126.38326498, 124.50394024, 122.34971917,\n       116.96197604, 110.10397055, 104.0510174 , 102.98635962,\n       109.30806492, 104.94658581, 107.26240325, 110.31834394,\n       110.38438723, 114.05969753, 118.50283119, 114.48920304,\n       107.91124471, 109.89482807, 107.36778027, 110.91697816,\n       115.47177634, 116.00605189, 117.91612565, 116.94900905,\n       112.64723235, 110.00426702, 111.63627891, 112.04603395,\n       115.17364788, 115.30781952, 120.09140526, 125.09187378,\n       126.6281106 , 123.73960557, 122.32156243, 115.54348048,\n       122.75155688, 124.4077268 , 138.33012783, 137.84000103,\n       135.59276998, 141.85495272, 145.01470664, 142.45875463,\n       140.8840004 , 139.33797054, 145.02001202, 142.4217125 ,\n       145.5482291 , 145.06599574, 146.7243828 , 143.64118599,\n       143.97289038, 139.54373955, 134.15303042, 135.14550775,\n       135.60558945, 139.46332143, 131.86389865, 130.93176723,\n       130.23815599, 128.11044778, 129.44601864, 129.16224535,\n       127.50519869, 131.43618315, 131.7134315 , 135.36348082,\n       138.74593151, 127.55712567, 129.79282426, 127.803958  ,\n       124.64252367, 126.18719065, 123.54021819, 119.45552659,\n       118.38520795, 114.76631932, 116.43761576, 115.8210534 ,\n       119.75726737, 116.09705689, 113.90962941, 117.44864086,\n       123.39155229, 122.7224953 , 121.61528628, 115.34247451,\n       114.55778522, 113.38574122, 114.21437414, 113.86854502,\n       107.66337828, 115.41258676, 118.55811057, 116.42411626,\n       116.48650789, 121.23457174, 121.60669313, 122.13844807,\n       116.60711822, 111.52463687, 103.81096714, 103.02121834,\n        97.55619171,  92.57294039,  89.82799821,  91.76976515,\n        91.57376389,  90.83496699,  86.89711194,  97.91142468,\n       102.9912182 ,  99.6612537 ,  99.7520353 ,  98.06772269,\n        95.61018158,  94.91260536,  93.30322564,  94.06080213,\n        95.19099459,  94.40372988,  94.86482039,  93.33634775,\n        97.63510645,  96.74703948,  94.94569655,  91.71851258,\n        88.85885556,  89.14786118,  91.33650261,  90.09393328,\n        91.39098955,  93.59326536,  92.61315788,  89.18440593,\n        88.47477739,  85.69224511,  85.82200216,  87.66042095,\n        84.71918525,  85.86764306,  83.92903743,  82.46775317,\n        84.90224903,  84.9826531 ,  86.66368357,  86.07342612,\n        83.86739608,  86.79231098,  88.45501709,  90.93051444,\n        96.49185567,  96.63495486,  99.27858898,  97.12893986,\n        96.24750743,  94.51728416,  98.33072406,  98.83183817,\n        97.26845904,  98.12431436, 100.45830302, 103.70804751,\n       101.72525799, 104.27381253, 106.65770353, 115.13914323,\n       104.45373326, 102.46574795, 103.14929217, 101.05068346,\n        99.0354884 ,  98.47624552, 100.6820086 , 100.92247616,\n       102.33742965,  99.12083255,  97.93711981,  95.38400877,\n        96.65966086,  96.91592091,  94.37484814,  94.54451639,\n        95.2370851 ,  93.07709779,  92.89958668,  95.99660615,\n        94.87478484,  94.39362492,  94.86358678,  93.15729673,\n        91.47202027,  93.30941057,  96.10337696,  97.44310108,\n       101.42064393, 100.19778854,  98.55661306, 101.76272303,\n        99.86477747,  99.59665618,  99.12473572,  99.02990764,\n        98.21004349, 101.44692215, 103.44963495, 104.61616562,\n       103.52607122, 105.11672053])"
     },
     "execution_count": 386,
     "metadata": {},
     "output_type": "execute_result"
    }
   ],
   "source": [
    "test_predictions = model(X_test.to(device)).detach().cpu().numpy()\n",
    "test_predictions = test_predictions[:,OUT_VALUE].flatten()\n",
    "\n",
    "dummies = np.zeros((X_test.shape[0], lookback+1))\n",
    "dummies[:, 0] = test_predictions\n",
    "dummies = scaler[OUT_VALUE].inverse_transform(dummies)\n",
    "\n",
    "test_predictions = dc(dummies[:, 0])\n",
    "test_predictions"
   ]
  },
  {
   "cell_type": "code",
   "execution_count": 387,
   "id": "g-DJXBgYsFyI",
   "metadata": {
    "colab": {
     "base_uri": "https://localhost:8080/"
    },
    "id": "g-DJXBgYsFyI",
    "outputId": "b606685e-137b-41ef-8a56-6171133ed013",
    "ExecuteTime": {
     "end_time": "2023-08-24T16:29:35.735444700Z",
     "start_time": "2023-08-24T16:29:35.716412600Z"
    }
   },
   "outputs": [
    {
     "data": {
      "text/plain": "array([170.89850131, 167.87449548, 170.71650535, 172.05000521,\n       171.97500487, 172.9429954 , 172.17599679, 171.21200779,\n       170.88799733, 169.35000422, 170.70350604, 171.39999477,\n       167.12649284, 164.80000421, 165.24349817, 161.66149993,\n       166.35000749, 166.87800539, 166.2214981 , 162.24999828,\n       159.73449419, 159.25000155, 157.99999964, 150.8999937 ,\n       144.94500606, 143.60000746, 145.18499591, 144.24349857,\n       143.99800102, 150.36050268, 151.70799099, 155.07499762,\n       144.24750009, 161.19999915, 162.69099129, 161.7924934 ,\n       163.8345034 , 160.71650688, 159.00000229, 158.44850111,\n       158.00700229, 158.83400117, 160.34899679, 155.49949561,\n       152.98249657, 151.7630006 , 151.74899529, 153.9900077 ,\n       154.44999667, 154.09899845, 152.9994974 , 153.92900142,\n       147.85000611, 146.09449797, 140.69949226, 140.24999884,\n       148.67449841, 149.67500126, 147.44999493, 147.9850011 ,\n       153.14999265, 157.49850617, 161.59399681, 163.08399981,\n       166.16700554, 166.36999259, 164.11849869, 165.36850061,\n       169.03750374, 170.83149838, 168.95049885, 166.49499503,\n       165.82699463, 168.39450158, 168.11050629, 162.19999618,\n       160.07899557, 157.36850183, 154.13650705, 155.0990011 ,\n       156.02499256, 155.89700022, 154.03950399, 158.64900407,\n       157.60249502, 156.73800441, 149.61500661, 146.22149554,\n       144.85600041, 141.94849941, 145.93750025, 130.76100306,\n       124.66799962, 126.22049822, 125.99999891, 123.49900032,\n       119.05049946, 113.99999934, 112.64250162, 110.15599869,\n       110.78050227, 113.18399761, 113.99249931, 115.80000328,\n       112.85299714, 110.03399739, 109.89800343, 108.81900032,\n       105.40000206, 108.1750034 , 112.6654977 , 115.18699563,\n       121.99450025, 125.17900231, 125.60999995, 124.40000197,\n       128.9900059 , 124.0999978 , 123.74999996, 121.30000385,\n       114.50000067, 106.54000161, 104.87999666, 109.05999757,\n       104.58000233, 106.98000266, 111.62999704, 112.12999696,\n       112.9999995 , 116.70999851, 117.98000379, 114.84999851,\n       110.98999741, 108.17999967, 109.7500007 , 114.08000158,\n       115.48000277, 116.9899979 , 116.5800026 , 114.30000351,\n       113.23000241, 111.77999912, 111.18000062, 115.58999531,\n       117.23999857, 118.94999788, 123.48000436, 124.84999838,\n       125.50000039, 123.6400004 , 118.15000082, 121.90000094,\n       122.8399949 , 137.64999362, 138.83000271, 137.4400011 ,\n       140.49000555, 143.55999791, 142.86000223, 144.22999345,\n       138.94999763, 144.6000045 , 144.49000774, 143.57000732,\n       143.75999507, 146.57000967, 143.38000272, 142.77000183,\n       141.1100018 , 136.32000632, 134.99000498, 135.47000154,\n       137.41999913, 137.83000286, 131.94999589, 132.07000768,\n       130.58999723, 128.02000338, 131.38000455, 128.61999486,\n       129.82000591, 130.27999769, 133.69000097, 136.49000616,\n       131.39999528, 128.83999679, 130.36999529, 123.87000331,\n       124.70999869, 124.40000197, 123.76000094, 118.79000184,\n       116.05000254, 117.33999574, 118.32000065, 118.69999581,\n       116.07000029, 116.91999805, 116.9100041 , 122.99999937,\n       121.75000026, 121.52999833, 118.16999716, 116.2499997 ,\n       115.48000277, 113.83000232, 113.44000196, 114.95999948,\n       114.19000254, 119.51999765, 116.58999656, 118.23999841,\n       119.5899961 , 120.38999879, 121.32000019, 119.34999782,\n       114.1200027 , 103.95999905, 104.87000271, 104.58000233,\n        97.73999804,  93.50000002,  92.44000201,  92.09999795,\n        91.72000103,  89.48000288,  98.69000211, 101.19000172,\n       100.12000308, 103.79000133,  98.48999792,  96.97000093,\n        95.98999795,  95.01999701,  93.34999802,  94.58000199,\n        94.43      ,  96.40000204,  94.410004  ,  96.54000103,\n        97.23000293,  95.36000098,  94.059998  ,  91.04000117,\n        89.88999889,  90.86000106,  90.30000297,  90.58000201,\n        96.24999995,  93.45999899,  89.97000112,  89.34999785,\n        87.6299972 ,  86.610001  ,  87.23000288,  85.6800003 ,\n        85.77999888,  85.34999811,  83.48000275,  84.55000315,\n        84.05000322,  86.95999884,  86.98000291,  85.41999795,\n        86.40000216,  89.48000288,  90.190002  ,  95.26000196,\n        97.19000198,  98.370003  ,  98.88999891,  99.32000004,\n        95.44000199,  97.34999803,  97.77999915,  98.08999588,\n        97.23999794,  99.48999812, 103.48999786, 101.73999813,\n       103.34999816, 106.23999744, 113.99999934, 108.77999958,\n       103.94999667, 102.41000421, 102.66999813, 101.77999925,\n        98.82000012,  99.67999992, 100.91999769, 101.16999765,\n       100.62999731,  97.94000187,  95.61000103,  97.01000205,\n        96.43000006,  94.139999  ,  94.779999  ,  94.69000199,\n        94.68      ,  92.23000299,  94.94000202,  96.55000307,\n        95.08999598,  94.169998  ,  96.20999901,  93.56999996,\n        94.01999699,  95.06999999,  96.66999799, 100.98999824,\n       100.66000377,  98.48000291, 100.84999784, 102.09999765,\n       101.05999809,  98.30000315,  99.33999604,  98.44000214,\n       100.41999777, 103.04000074, 103.48999786, 103.2900007 ,\n       104.19999733, 103.91000398])"
     },
     "execution_count": 387,
     "metadata": {},
     "output_type": "execute_result"
    }
   ],
   "source": [
    "dummies = np.zeros((X_test.shape[0], lookback+1))\n",
    "dummies[:, 0] = y_test[:,OUT_VALUE].flatten()\n",
    "dummies = scaler[OUT_VALUE].inverse_transform(dummies)\n",
    "\n",
    "new_y_test = dc(dummies[:, 0])\n",
    "new_y_test"
   ]
  },
  {
   "cell_type": "code",
   "execution_count": 388,
   "id": "PhLmIlHOsSK4",
   "metadata": {
    "colab": {
     "base_uri": "https://localhost:8080/",
     "height": 449
    },
    "id": "PhLmIlHOsSK4",
    "outputId": "09c21535-ea22-4d65-bc50-b159bd4dc135",
    "ExecuteTime": {
     "end_time": "2023-08-24T16:30:02.612680900Z",
     "start_time": "2023-08-24T16:30:02.546627100Z"
    }
   },
   "outputs": [
    {
     "data": {
      "text/plain": "<Figure size 640x480 with 1 Axes>",
      "image/png": "[encoded data removed]"
     },
     "metadata": {},
     "output_type": "display_data"
    }
   ],
   "source": [
    "plt.plot(new_y_test, label='Actual Close')\n",
    "plt.plot(test_predictions, label='Predicted Close')\n",
    "plt.xlabel('Day')\n",
    "plt.ylabel('Close')\n",
    "plt.legend()\n",
    "plt.show()\n"
   ]
  },
  {
   "cell_type": "code",
   "execution_count": 402,
   "id": "edaf9487",
   "metadata": {
    "collapsed": false,
    "ExecuteTime": {
     "end_time": "2023-08-24T16:54:50.378791900Z",
     "start_time": "2023-08-24T16:54:50.317758400Z"
    }
   },
   "outputs": [
    {
     "name": "stdout",
     "output_type": "stream",
     "text": [
      "Root Mean Square Error:  0.3193527731443947 %\n",
      "Std: 1.7059641932327778 %\n"
     ]
    },
    {
     "data": {
      "text/plain": "<Figure size 640x480 with 1 Axes>",
      "image/png": "[encoded data removed]"
     },
     "metadata": {},
     "output_type": "display_data"
    }
   ],
   "source": [
    "import math\n",
    "\n",
    "MSE = np.square(np.subtract(new_y_test,test_predictions).mean()) \n",
    " \n",
    "RMSE = math.sqrt(MSE)\n",
    "RMSE_pec = RMSE / new_y_test.max() * 100\n",
    "print(\"Root Mean Square Error: \", RMSE_pec, \"%\")\n",
    "\n",
    "print(\"Std:\", np.subtract(new_y_test,test_predictions).std()/new_y_test.max()*100, \"%\")\n",
    "\n",
    "plt.plot(np.subtract(new_y_test,test_predictions)/new_y_test.max()*100, label='Predicted error')\n",
    "plt.xlabel('Day')\n",
    "plt.ylabel('error')\n",
    "plt.legend()\n",
    "plt.show()"
   ]
  },
  {
   "cell_type": "code",
   "execution_count": null,
   "outputs": [],
   "source": [],
   "metadata": {
    "collapsed": false
   },
   "id": "9d011d98af8893e2"
  }
 ],
 "metadata": {
  "colab": {
   "gpuType": "T4",
   "provenance": []
  },
  "gpuClass": "standard",
  "kernelspec": {
   "display_name": "Python 3 (ipykernel)",
   "language": "python",
   "name": "python3"
  },
  "language_info": {
   "codemirror_mode": {
    "name": "ipython",
    "version": 3
   },
   "file_extension": ".py",
   "mimetype": "text/x-python",
   "name": "python",
   "nbconvert_exporter": "python",
   "pygments_lexer": "ipython3",
   "version": "3.11.0"
  }
 },
 "nbformat": 4,
 "nbformat_minor": 5
}
