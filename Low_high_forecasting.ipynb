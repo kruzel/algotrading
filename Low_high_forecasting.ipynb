{
 "cells": [
  {
   "cell_type": "code",
   "execution_count": 47,
   "id": "2a4fdd0f",
   "metadata": {
    "colab": {
     "base_uri": "https://localhost:8080/",
     "height": 423
    },
    "id": "2a4fdd0f",
    "outputId": "d758fb02-8b42-4705-d4bd-bcaa6df69ea7",
    "ExecuteTime": {
     "end_time": "2023-08-12T09:48:22.838840900Z",
     "start_time": "2023-08-12T09:48:22.816601400Z"
    }
   },
   "outputs": [
    {
     "data": {
      "text/plain": "            Date        Open        High         Low       Close   Adj Close  \\\n0     1997-05-15    0.121875    0.125000    0.096354    0.097917    0.097917   \n1     1997-05-16    0.098438    0.098958    0.085417    0.086458    0.086458   \n2     1997-05-19    0.088021    0.088542    0.081250    0.085417    0.085417   \n3     1997-05-20    0.086458    0.087500    0.081771    0.081771    0.081771   \n4     1997-05-21    0.081771    0.082292    0.068750    0.071354    0.071354   \n...          ...         ...         ...         ...         ...         ...   \n6511  2023-03-30  101.550003  103.040001  101.010002  102.000000  102.000000   \n6512  2023-03-31  102.160004  103.489998  101.949997  103.290001  103.290001   \n6513  2023-04-03  102.300003  103.290001  101.430000  102.410004  102.410004   \n6514  2023-04-04  102.750000  104.199997  102.110001  103.949997  103.949997   \n6515  2023-04-05  103.910004  103.910004  100.750000  101.099998  101.099998   \n\n          Volume  \n0     1443120000  \n1      294000000  \n2      122136000  \n3      109344000  \n4      377064000  \n...          ...  \n6511    53633400  \n6512    56704300  \n6513    41135700  \n6514    48662500  \n6515    45103000  \n\n[6516 rows x 7 columns]",
      "text/html": "<div>\n<style scoped>\n    .dataframe tbody tr th:only-of-type {\n        vertical-align: middle;\n    }\n\n    .dataframe tbody tr th {\n        vertical-align: top;\n    }\n\n    .dataframe thead th {\n        text-align: right;\n    }\n</style>\n<table border=\"1\" class=\"dataframe\">\n  <thead>\n    <tr style=\"text-align: right;\">\n      <th></th>\n      <th>Date</th>\n      <th>Open</th>\n      <th>High</th>\n      <th>Low</th>\n      <th>Close</th>\n      <th>Adj Close</th>\n      <th>Volume</th>\n    </tr>\n  </thead>\n  <tbody>\n    <tr>\n      <th>0</th>\n      <td>1997-05-15</td>\n      <td>0.121875</td>\n      <td>0.125000</td>\n      <td>0.096354</td>\n      <td>0.097917</td>\n      <td>0.097917</td>\n      <td>1443120000</td>\n    </tr>\n    <tr>\n      <th>1</th>\n      <td>1997-05-16</td>\n      <td>0.098438</td>\n      <td>0.098958</td>\n      <td>0.085417</td>\n      <td>0.086458</td>\n      <td>0.086458</td>\n      <td>294000000</td>\n    </tr>\n    <tr>\n      <th>2</th>\n      <td>1997-05-19</td>\n      <td>0.088021</td>\n      <td>0.088542</td>\n      <td>0.081250</td>\n      <td>0.085417</td>\n      <td>0.085417</td>\n      <td>122136000</td>\n    </tr>\n    <tr>\n      <th>3</th>\n      <td>1997-05-20</td>\n      <td>0.086458</td>\n      <td>0.087500</td>\n      <td>0.081771</td>\n      <td>0.081771</td>\n      <td>0.081771</td>\n      <td>109344000</td>\n    </tr>\n    <tr>\n      <th>4</th>\n      <td>1997-05-21</td>\n      <td>0.081771</td>\n      <td>0.082292</td>\n      <td>0.068750</td>\n      <td>0.071354</td>\n      <td>0.071354</td>\n      <td>377064000</td>\n    </tr>\n    <tr>\n      <th>...</th>\n      <td>...</td>\n      <td>...</td>\n      <td>...</td>\n      <td>...</td>\n      <td>...</td>\n      <td>...</td>\n      <td>...</td>\n    </tr>\n    <tr>\n      <th>6511</th>\n      <td>2023-03-30</td>\n      <td>101.550003</td>\n      <td>103.040001</td>\n      <td>101.010002</td>\n      <td>102.000000</td>\n      <td>102.000000</td>\n      <td>53633400</td>\n    </tr>\n    <tr>\n      <th>6512</th>\n      <td>2023-03-31</td>\n      <td>102.160004</td>\n      <td>103.489998</td>\n      <td>101.949997</td>\n      <td>103.290001</td>\n      <td>103.290001</td>\n      <td>56704300</td>\n    </tr>\n    <tr>\n      <th>6513</th>\n      <td>2023-04-03</td>\n      <td>102.300003</td>\n      <td>103.290001</td>\n      <td>101.430000</td>\n      <td>102.410004</td>\n      <td>102.410004</td>\n      <td>41135700</td>\n    </tr>\n    <tr>\n      <th>6514</th>\n      <td>2023-04-04</td>\n      <td>102.750000</td>\n      <td>104.199997</td>\n      <td>102.110001</td>\n      <td>103.949997</td>\n      <td>103.949997</td>\n      <td>48662500</td>\n    </tr>\n    <tr>\n      <th>6515</th>\n      <td>2023-04-05</td>\n      <td>103.910004</td>\n      <td>103.910004</td>\n      <td>100.750000</td>\n      <td>101.099998</td>\n      <td>101.099998</td>\n      <td>45103000</td>\n    </tr>\n  </tbody>\n</table>\n<p>6516 rows × 7 columns</p>\n</div>"
     },
     "execution_count": 47,
     "metadata": {},
     "output_type": "execute_result"
    }
   ],
   "source": [
    "import pandas as pd\n",
    "import numpy as np\n",
    "import matplotlib.pyplot as plt\n",
    "\n",
    "import torch\n",
    "import torch.nn as nn\n",
    "\n",
    "data = pd.read_csv('AMZN.csv')\n",
    "\n",
    "data"
   ]
  },
  {
   "cell_type": "code",
   "execution_count": 75,
   "id": "WtCP8-cDbg9R",
   "metadata": {
    "colab": {
     "base_uri": "https://localhost:8080/",
     "height": 423
    },
    "id": "WtCP8-cDbg9R",
    "outputId": "1a923823-8c15-4765-c9c9-19a233dc8131",
    "ExecuteTime": {
     "end_time": "2023-08-12T11:46:58.177365300Z",
     "start_time": "2023-08-12T11:46:58.148356200Z"
    }
   },
   "outputs": [
    {
     "data": {
      "text/plain": "           Date       Close         Low        High      Volume\n0    1997-05-15    0.097917    0.096354    0.125000  1443120000\n1    1997-05-16    0.086458    0.085417    0.098958   294000000\n2    1997-05-19    0.085417    0.081250    0.088542   122136000\n3    1997-05-20    0.081771    0.081771    0.087500   109344000\n4    1997-05-21    0.071354    0.068750    0.082292   377064000\n...         ...         ...         ...         ...         ...\n6511 2023-03-30  102.000000  101.010002  103.040001    53633400\n6512 2023-03-31  103.290001  101.949997  103.489998    56704300\n6513 2023-04-03  102.410004  101.430000  103.290001    41135700\n6514 2023-04-04  103.949997  102.110001  104.199997    48662500\n6515 2023-04-05  101.099998  100.750000  103.910004    45103000\n\n[6516 rows x 5 columns]",
      "text/html": "<div>\n<style scoped>\n    .dataframe tbody tr th:only-of-type {\n        vertical-align: middle;\n    }\n\n    .dataframe tbody tr th {\n        vertical-align: top;\n    }\n\n    .dataframe thead th {\n        text-align: right;\n    }\n</style>\n<table border=\"1\" class=\"dataframe\">\n  <thead>\n    <tr style=\"text-align: right;\">\n      <th></th>\n      <th>Date</th>\n      <th>Close</th>\n      <th>Low</th>\n      <th>High</th>\n      <th>Volume</th>\n    </tr>\n  </thead>\n  <tbody>\n    <tr>\n      <th>0</th>\n      <td>1997-05-15</td>\n      <td>0.097917</td>\n      <td>0.096354</td>\n      <td>0.125000</td>\n      <td>1443120000</td>\n    </tr>\n    <tr>\n      <th>1</th>\n      <td>1997-05-16</td>\n      <td>0.086458</td>\n      <td>0.085417</td>\n      <td>0.098958</td>\n      <td>294000000</td>\n    </tr>\n    <tr>\n      <th>2</th>\n      <td>1997-05-19</td>\n      <td>0.085417</td>\n      <td>0.081250</td>\n      <td>0.088542</td>\n      <td>122136000</td>\n    </tr>\n    <tr>\n      <th>3</th>\n      <td>1997-05-20</td>\n      <td>0.081771</td>\n      <td>0.081771</td>\n      <td>0.087500</td>\n      <td>109344000</td>\n    </tr>\n    <tr>\n      <th>4</th>\n      <td>1997-05-21</td>\n      <td>0.071354</td>\n      <td>0.068750</td>\n      <td>0.082292</td>\n      <td>377064000</td>\n    </tr>\n    <tr>\n      <th>...</th>\n      <td>...</td>\n      <td>...</td>\n      <td>...</td>\n      <td>...</td>\n      <td>...</td>\n    </tr>\n    <tr>\n      <th>6511</th>\n      <td>2023-03-30</td>\n      <td>102.000000</td>\n      <td>101.010002</td>\n      <td>103.040001</td>\n      <td>53633400</td>\n    </tr>\n    <tr>\n      <th>6512</th>\n      <td>2023-03-31</td>\n      <td>103.290001</td>\n      <td>101.949997</td>\n      <td>103.489998</td>\n      <td>56704300</td>\n    </tr>\n    <tr>\n      <th>6513</th>\n      <td>2023-04-03</td>\n      <td>102.410004</td>\n      <td>101.430000</td>\n      <td>103.290001</td>\n      <td>41135700</td>\n    </tr>\n    <tr>\n      <th>6514</th>\n      <td>2023-04-04</td>\n      <td>103.949997</td>\n      <td>102.110001</td>\n      <td>104.199997</td>\n      <td>48662500</td>\n    </tr>\n    <tr>\n      <th>6515</th>\n      <td>2023-04-05</td>\n      <td>101.099998</td>\n      <td>100.750000</td>\n      <td>103.910004</td>\n      <td>45103000</td>\n    </tr>\n  </tbody>\n</table>\n<p>6516 rows × 5 columns</p>\n</div>"
     },
     "execution_count": 75,
     "metadata": {},
     "output_type": "execute_result"
    }
   ],
   "source": [
    "data = data[['Date', 'Close', 'Low', 'High', 'Volume']]\n",
    "data"
   ]
  },
  {
   "cell_type": "code",
   "execution_count": 76,
   "id": "9akB333XcFJ6",
   "metadata": {
    "colab": {
     "base_uri": "https://localhost:8080/",
     "height": 36
    },
    "id": "9akB333XcFJ6",
    "outputId": "2e8630de-1369-4281-d87c-9634ed90ba97",
    "ExecuteTime": {
     "end_time": "2023-08-12T11:46:59.154947300Z",
     "start_time": "2023-08-12T11:46:59.139949600Z"
    }
   },
   "outputs": [
    {
     "data": {
      "text/plain": "'cuda:0'"
     },
     "execution_count": 76,
     "metadata": {},
     "output_type": "execute_result"
    }
   ],
   "source": [
    "device = 'cuda:0' if torch.cuda.is_available() else 'cpu'\n",
    "device"
   ]
  },
  {
   "cell_type": "code",
   "execution_count": 77,
   "id": "tr2YuqKGcXcJ",
   "metadata": {
    "colab": {
     "base_uri": "https://localhost:8080/",
     "height": 551
    },
    "id": "tr2YuqKGcXcJ",
    "outputId": "bd197a93-bf7f-413c-fac0-5f4dc1a8471d",
    "ExecuteTime": {
     "end_time": "2023-08-12T11:47:00.102062900Z",
     "start_time": "2023-08-12T11:47:00.004153600Z"
    }
   },
   "outputs": [
    {
     "data": {
      "text/plain": "[<matplotlib.lines.Line2D at 0x1220084df10>]"
     },
     "execution_count": 77,
     "metadata": {},
     "output_type": "execute_result"
    },
    {
     "data": {
      "text/plain": "<Figure size 640x480 with 1 Axes>",
      "image/png": "[encoded data removed]"
     },
     "metadata": {},
     "output_type": "display_data"
    }
   ],
   "source": [
    "data['Date'] = pd.to_datetime(data['Date'])\n",
    "\n",
    "plt.plot(data['Date'], data['Close'])"
   ]
  },
  {
   "cell_type": "code",
   "execution_count": 201,
   "id": "Q4ma6QCscwfB",
   "metadata": {
    "colab": {
     "base_uri": "https://localhost:8080/",
     "height": 455
    },
    "id": "Q4ma6QCscwfB",
    "outputId": "61bd4c08-c3f7-453d-ed92-c2232a18a5ba",
    "ExecuteTime": {
     "end_time": "2023-08-23T13:21:08.213444800Z",
     "start_time": "2023-08-23T13:21:08.163908400Z"
    }
   },
   "outputs": [
    {
     "data": {
      "text/plain": "                 Close  Close(t-1)  Close(t-2)  Close(t-3)  Close(t-4)  \\\nDate                                                                     \n1997-05-27    0.079167    0.075000    0.069792    0.071354    0.081771   \n1997-05-28    0.076563    0.079167    0.075000    0.069792    0.071354   \n1997-05-29    0.075260    0.076563    0.079167    0.075000    0.069792   \n1997-05-30    0.075000    0.075260    0.076563    0.079167    0.075000   \n1997-06-02    0.075521    0.075000    0.075260    0.076563    0.079167   \n...                ...         ...         ...         ...         ...   \n2023-03-30  102.000000  100.250000   97.239998   98.040001   98.129997   \n2023-03-31  103.290001  102.000000  100.250000   97.239998   98.040001   \n2023-04-03  102.410004  103.290001  102.000000  100.250000   97.239998   \n2023-04-04  103.949997  102.410004  103.290001  102.000000  100.250000   \n2023-04-05  101.099998  103.949997  102.410004  103.290001  102.000000   \n\n            Close(t-5)  Close(t-6)  Close(t-7)  \nDate                                            \n1997-05-27    0.085417    0.086458    0.097917  \n1997-05-28    0.081771    0.085417    0.086458  \n1997-05-29    0.071354    0.081771    0.085417  \n1997-05-30    0.069792    0.071354    0.081771  \n1997-06-02    0.075000    0.069792    0.071354  \n...                ...         ...         ...  \n2023-03-30   98.709999   98.699997  100.610001  \n2023-03-31   98.129997   98.709999   98.699997  \n2023-04-03   98.040001   98.129997   98.709999  \n2023-04-04   97.239998   98.040001   98.129997  \n2023-04-05  100.250000   97.239998   98.040001  \n\n[6509 rows x 8 columns]",
      "text/html": "<div>\n<style scoped>\n    .dataframe tbody tr th:only-of-type {\n        vertical-align: middle;\n    }\n\n    .dataframe tbody tr th {\n        vertical-align: top;\n    }\n\n    .dataframe thead th {\n        text-align: right;\n    }\n</style>\n<table border=\"1\" class=\"dataframe\">\n  <thead>\n    <tr style=\"text-align: right;\">\n      <th></th>\n      <th>Close</th>\n      <th>Close(t-1)</th>\n      <th>Close(t-2)</th>\n      <th>Close(t-3)</th>\n      <th>Close(t-4)</th>\n      <th>Close(t-5)</th>\n      <th>Close(t-6)</th>\n      <th>Close(t-7)</th>\n    </tr>\n    <tr>\n      <th>Date</th>\n      <th></th>\n      <th></th>\n      <th></th>\n      <th></th>\n      <th></th>\n      <th></th>\n      <th></th>\n      <th></th>\n    </tr>\n  </thead>\n  <tbody>\n    <tr>\n      <th>1997-05-27</th>\n      <td>0.079167</td>\n      <td>0.075000</td>\n      <td>0.069792</td>\n      <td>0.071354</td>\n      <td>0.081771</td>\n      <td>0.085417</td>\n      <td>0.086458</td>\n      <td>0.097917</td>\n    </tr>\n    <tr>\n      <th>1997-05-28</th>\n      <td>0.076563</td>\n      <td>0.079167</td>\n      <td>0.075000</td>\n      <td>0.069792</td>\n      <td>0.071354</td>\n      <td>0.081771</td>\n      <td>0.085417</td>\n      <td>0.086458</td>\n    </tr>\n    <tr>\n      <th>1997-05-29</th>\n      <td>0.075260</td>\n      <td>0.076563</td>\n      <td>0.079167</td>\n      <td>0.075000</td>\n      <td>0.069792</td>\n      <td>0.071354</td>\n      <td>0.081771</td>\n      <td>0.085417</td>\n    </tr>\n    <tr>\n      <th>1997-05-30</th>\n      <td>0.075000</td>\n      <td>0.075260</td>\n      <td>0.076563</td>\n      <td>0.079167</td>\n      <td>0.075000</td>\n      <td>0.069792</td>\n      <td>0.071354</td>\n      <td>0.081771</td>\n    </tr>\n    <tr>\n      <th>1997-06-02</th>\n      <td>0.075521</td>\n      <td>0.075000</td>\n      <td>0.075260</td>\n      <td>0.076563</td>\n      <td>0.079167</td>\n      <td>0.075000</td>\n      <td>0.069792</td>\n      <td>0.071354</td>\n    </tr>\n    <tr>\n      <th>...</th>\n      <td>...</td>\n      <td>...</td>\n      <td>...</td>\n      <td>...</td>\n      <td>...</td>\n      <td>...</td>\n      <td>...</td>\n      <td>...</td>\n    </tr>\n    <tr>\n      <th>2023-03-30</th>\n      <td>102.000000</td>\n      <td>100.250000</td>\n      <td>97.239998</td>\n      <td>98.040001</td>\n      <td>98.129997</td>\n      <td>98.709999</td>\n      <td>98.699997</td>\n      <td>100.610001</td>\n    </tr>\n    <tr>\n      <th>2023-03-31</th>\n      <td>103.290001</td>\n      <td>102.000000</td>\n      <td>100.250000</td>\n      <td>97.239998</td>\n      <td>98.040001</td>\n      <td>98.129997</td>\n      <td>98.709999</td>\n      <td>98.699997</td>\n    </tr>\n    <tr>\n      <th>2023-04-03</th>\n      <td>102.410004</td>\n      <td>103.290001</td>\n      <td>102.000000</td>\n      <td>100.250000</td>\n      <td>97.239998</td>\n      <td>98.040001</td>\n      <td>98.129997</td>\n      <td>98.709999</td>\n    </tr>\n    <tr>\n      <th>2023-04-04</th>\n      <td>103.949997</td>\n      <td>102.410004</td>\n      <td>103.290001</td>\n      <td>102.000000</td>\n      <td>100.250000</td>\n      <td>97.239998</td>\n      <td>98.040001</td>\n      <td>98.129997</td>\n    </tr>\n    <tr>\n      <th>2023-04-05</th>\n      <td>101.099998</td>\n      <td>103.949997</td>\n      <td>102.410004</td>\n      <td>103.290001</td>\n      <td>102.000000</td>\n      <td>100.250000</td>\n      <td>97.239998</td>\n      <td>98.040001</td>\n    </tr>\n  </tbody>\n</table>\n<p>6509 rows × 8 columns</p>\n</div>"
     },
     "execution_count": 201,
     "metadata": {},
     "output_type": "execute_result"
    }
   ],
   "source": [
    "from copy import deepcopy as dc\n",
    "\n",
    "def prepare_dataframe_for_lstm(df, n_steps):\n",
    "    df = dc(df)\n",
    "    df.dropna(inplace=True)\n",
    "        \n",
    "    df1 = dc(df[['Date', 'Close']])\n",
    "    df2 = dc(df[['Date', 'Low']])\n",
    "    df3 = dc(df[['Date', 'High']])\n",
    "    df4 = dc(df[['Date', 'Volume']])\n",
    "    \n",
    "    df1.set_index('Date', inplace=True)\n",
    "    df2.set_index('Date', inplace=True)\n",
    "    df3.set_index('Date', inplace=True)\n",
    "    df4.set_index('Date', inplace=True)\n",
    "    \n",
    "    for i in range(1, n_steps+1):\n",
    "        df1[f'Close(t-{i})'] = df1['Close'].shift(i)\n",
    "        df2[f'Low(t-{i})'] = df2['Low'].shift(i)\n",
    "        df3[f'High(t-{i})'] = df3['High'].shift(i)\n",
    "        df4[f'Volume(t-{i})'] = df4['Volume'].shift(i)\n",
    "        \n",
    "    df1.dropna(inplace=True)\n",
    "    df2.dropna(inplace=True)\n",
    "    df3.dropna(inplace=True)\n",
    "    df4.dropna(inplace=True)\n",
    "    \n",
    "    return df1, df2, df3, df4\n",
    "\n",
    "lookback = 7\n",
    "df1, df2, df3, df4 = prepare_dataframe_for_lstm(data, lookback)\n",
    "df1\n",
    "\n"
   ]
  },
  {
   "cell_type": "code",
   "execution_count": 205,
   "id": "Pq2p3opGELA_",
   "metadata": {
    "colab": {
     "base_uri": "https://localhost:8080/"
    },
    "id": "Pq2p3opGELA_",
    "outputId": "5cb2ff07-5d8f-4117-eafd-6a3c5663c6ff",
    "ExecuteTime": {
     "end_time": "2023-08-23T13:23:38.120952700Z",
     "start_time": "2023-08-23T13:23:38.113497400Z"
    }
   },
   "outputs": [
    {
     "data": {
      "text/plain": "array([[7.91670000e-02, 7.50000000e-02, 6.97920000e-02, ...,\n        8.54170000e-02, 8.64580000e-02, 9.79170000e-02],\n       [7.65630000e-02, 7.91670000e-02, 7.50000000e-02, ...,\n        8.17710000e-02, 8.54170000e-02, 8.64580000e-02],\n       [7.52600000e-02, 7.65630000e-02, 7.91670000e-02, ...,\n        7.13540000e-02, 8.17710000e-02, 8.54170000e-02],\n       ...,\n       [1.02410004e+02, 1.03290001e+02, 1.02000000e+02, ...,\n        9.80400010e+01, 9.81299970e+01, 9.87099990e+01],\n       [1.03949997e+02, 1.02410004e+02, 1.03290001e+02, ...,\n        9.72399980e+01, 9.80400010e+01, 9.81299970e+01],\n       [1.01099998e+02, 1.03949997e+02, 1.02410004e+02, ...,\n        1.00250000e+02, 9.72399980e+01, 9.80400010e+01]])"
     },
     "execution_count": 205,
     "metadata": {},
     "output_type": "execute_result"
    }
   ],
   "source": [
    "df1_np = df1.to_numpy()\n",
    "df2_np = df2.to_numpy()\n",
    "df3_np = df3.to_numpy()\n",
    "df4_np = df4.to_numpy()\n",
    "\n",
    "df1_np"
   ]
  },
  {
   "cell_type": "code",
   "execution_count": 206,
   "id": "pXHkuFeafNUU",
   "metadata": {
    "colab": {
     "base_uri": "https://localhost:8080/"
    },
    "id": "pXHkuFeafNUU",
    "outputId": "a67d1f79-d279-4c96-e40f-0d9a5f9f7d7d",
    "ExecuteTime": {
     "end_time": "2023-08-23T13:23:38.799945600Z",
     "start_time": "2023-08-23T13:23:38.770077600Z"
    }
   },
   "outputs": [
    {
     "data": {
      "text/plain": "array([[-0.99991063, -0.99995531, -1.        , ..., -0.99983244,\n        -0.99982128, -0.99969839],\n       [-0.99993855, -0.99991063, -0.99994415, ..., -0.99987154,\n        -0.99983244, -0.99982128],\n       [-0.99995253, -0.99993855, -0.99989946, ..., -0.99998325,\n        -0.99987154, -0.99983244],\n       ...,\n       [ 0.09747299,  0.10690997,  0.09308121, ...,  0.0506149 ,\n         0.05158   ,  0.05779984],\n       [ 0.11398769,  0.09747299,  0.10691495, ...,  0.04203581,\n         0.0506149 ,  0.05158   ],\n       [ 0.08342464,  0.11398769,  0.09747802, ...,  0.07431453,\n         0.04203581,  0.0506149 ]])"
     },
     "execution_count": 206,
     "metadata": {},
     "output_type": "execute_result"
    }
   ],
   "source": [
    "from sklearn.preprocessing import MinMaxScaler\n",
    "\n",
    "scaler = MinMaxScaler(feature_range=(-1, 1))\n",
    "df1_np = scaler.fit_transform(df1_np)\n",
    "df2_np = scaler.fit_transform(df2_np)\n",
    "df3_np = scaler.fit_transform(df3_np)\n",
    "df4_np = scaler.fit_transform(df4_np)\n",
    "\n",
    "df1_np"
   ]
  },
  {
   "cell_type": "code",
   "execution_count": 207,
   "outputs": [
    {
     "data": {
      "text/plain": "((6509, 28), (6509, 4))"
     },
     "execution_count": 207,
     "metadata": {},
     "output_type": "execute_result"
    }
   ],
   "source": [
    "# X = np.array([df1_np[:, 1:], df2_np[:, 1:], df3_np[:, 1:], df4_np[:, 1:]])\n",
    "# y = np.array([df1_np[:, 0], df2_np[:, 0], df3_np[:, 0], df4_np[:, 0]])\n",
    "\n",
    "X = np.zeros((len(df1_np), 4 * lookback))\n",
    "y = np.zeros((len(df1_np), 4))\n",
    "for i in range(0,len(df1_np)):\n",
    "    X[i] = np.hstack((df1_np[i,1:], df2_np[i,1:], df3_np[i,1:], df4_np[i,1:]))\n",
    "    y[i] = np.hstack((df1_np[i,0], df2_np[i,0], df3_np[i,0], df4_np[i,0]))\n",
    "\n",
    "X.shape, y.shape"
   ],
   "metadata": {
    "collapsed": false,
    "ExecuteTime": {
     "end_time": "2023-08-23T13:24:18.519131400Z",
     "start_time": "2023-08-23T13:24:18.452672900Z"
    }
   },
   "id": "Iui9unuTfxOe"
  },
  {
   "cell_type": "code",
   "execution_count": 208,
   "outputs": [
    {
     "data": {
      "text/plain": "array([[ 0.38034321, -0.72626105, -0.89176634, ..., -0.99998325,\n        -1.        , -0.99995531],\n       [-0.72626105, -0.89176634, -0.90408505, ..., -1.        ,\n        -0.99994415, -0.99991063],\n       [-0.89176634, -0.90408505, -0.6462703 , ..., -0.99994415,\n        -0.99989946, -0.99993855],\n       ...,\n       [-0.9539538 , -0.95536353, -0.96439081, ...,  0.07431453,\n         0.09308121,  0.10690997],\n       [-0.95536353, -0.96439081, -0.97209597, ...,  0.09308121,\n         0.10691495,  0.09747299],\n       [-0.96439081, -0.97209597, -0.96144209, ...,  0.10691495,\n         0.09747802,  0.11398769]])"
     },
     "execution_count": 208,
     "metadata": {},
     "output_type": "execute_result"
    }
   ],
   "source": [
    "X = dc(np.flip(X, axis=1)) #flip left right\n",
    "X"
   ],
   "metadata": {
    "collapsed": false,
    "ExecuteTime": {
     "end_time": "2023-08-23T13:24:23.399800200Z",
     "start_time": "2023-08-23T13:24:23.375210100Z"
    }
   },
   "id": "XmbIqwj-E0cv"
  },
  {
   "cell_type": "code",
   "execution_count": 211,
   "id": "GCHslawXgE21",
   "metadata": {
    "colab": {
     "base_uri": "https://localhost:8080/"
    },
    "id": "GCHslawXgE21",
    "outputId": "a2e50719-a1fb-460e-9ce4-9dd873642765",
    "ExecuteTime": {
     "end_time": "2023-08-23T13:25:28.685271400Z",
     "start_time": "2023-08-23T13:25:28.653570Z"
    }
   },
   "outputs": [
    {
     "data": {
      "text/plain": "6183"
     },
     "execution_count": 211,
     "metadata": {},
     "output_type": "execute_result"
    }
   ],
   "source": [
    "split_index = int(len(X) * 0.95)\n",
    "\n",
    "split_index"
   ]
  },
  {
   "cell_type": "code",
   "execution_count": 215,
   "id": "hhGMh_nAgiST",
   "metadata": {
    "colab": {
     "base_uri": "https://localhost:8080/"
    },
    "id": "hhGMh_nAgiST",
    "outputId": "aeb231ef-e124-4821-f4ee-dbb2275c0f98",
    "ExecuteTime": {
     "end_time": "2023-08-23T13:27:35.872284200Z",
     "start_time": "2023-08-23T13:27:35.854030200Z"
    }
   },
   "outputs": [
    {
     "data": {
      "text/plain": "((6183, 28), (326, 28), (6183, 4), (326, 4))"
     },
     "execution_count": 215,
     "metadata": {},
     "output_type": "execute_result"
    }
   ],
   "source": [
    "X_train = X[:split_index]\n",
    "X_test = X[split_index:]\n",
    "\n",
    "y_train = y[:split_index]\n",
    "y_test = y[split_index:]\n",
    "\n",
    "X_train.shape, X_test.shape, y_train.shape, y_test.shape"
   ]
  },
  {
   "cell_type": "code",
   "execution_count": 219,
   "id": "Muqs9hKYhMUS",
   "metadata": {
    "colab": {
     "base_uri": "https://localhost:8080/"
    },
    "id": "Muqs9hKYhMUS",
    "outputId": "d35136a0-5855-4bfb-b66b-b8f7a1a8ea96",
    "ExecuteTime": {
     "end_time": "2023-08-23T13:29:12.277213200Z",
     "start_time": "2023-08-23T13:29:12.261526400Z"
    }
   },
   "outputs": [
    {
     "data": {
      "text/plain": "((6183, 28, 1), (326, 28, 1), (24732, 1), (1304, 1))"
     },
     "execution_count": 219,
     "metadata": {},
     "output_type": "execute_result"
    }
   ],
   "source": [
    "X_train = X_train.reshape((-1, lookback*4, 1))\n",
    "X_test = X_test.reshape((-1, lookback*4, 1))\n",
    "\n",
    "y_train = y_train.reshape((-1, 1))\n",
    "y_test = y_test.reshape((-1, 1))\n",
    "\n",
    "X_train.shape, X_test.shape, y_train.shape, y_test.shape"
   ]
  },
  {
   "cell_type": "code",
   "execution_count": 220,
   "id": "i7-PBcrMhR7z",
   "metadata": {
    "colab": {
     "base_uri": "https://localhost:8080/"
    },
    "id": "i7-PBcrMhR7z",
    "outputId": "b01a297a-75d6-4573-e450-a3545360112e",
    "ExecuteTime": {
     "end_time": "2023-08-23T13:29:25.359986200Z",
     "start_time": "2023-08-23T13:29:25.339122500Z"
    }
   },
   "outputs": [
    {
     "data": {
      "text/plain": "(torch.Size([6183, 28, 1]),\n torch.Size([326, 28, 1]),\n torch.Size([24732, 1]),\n torch.Size([1304, 1]))"
     },
     "execution_count": 220,
     "metadata": {},
     "output_type": "execute_result"
    }
   ],
   "source": [
    "X_train = torch.tensor(X_train).float()\n",
    "y_train = torch.tensor(y_train).float()\n",
    "X_test = torch.tensor(X_test).float()\n",
    "y_test = torch.tensor(y_test).float()\n",
    "\n",
    "X_train.shape, X_test.shape, y_train.shape, y_test.shape"
   ]
  },
  {
   "cell_type": "code",
   "execution_count": 221,
   "id": "DWutCAGKhdqU",
   "metadata": {
    "id": "DWutCAGKhdqU",
    "ExecuteTime": {
     "end_time": "2023-08-23T13:29:45.766748800Z",
     "start_time": "2023-08-23T13:29:45.764448300Z"
    }
   },
   "outputs": [],
   "source": [
    "from torch.utils.data import Dataset\n",
    "\n",
    "class TimeSeriesDataset(Dataset):\n",
    "    def __init__(self, X, y):\n",
    "        self.X = X\n",
    "        self.y = y\n",
    "\n",
    "    def __len__(self):\n",
    "        return len(self.X)\n",
    "\n",
    "    def __getitem__(self, i):\n",
    "        return self.X[i], self.y[i]\n",
    "    \n",
    "train_dataset = TimeSeriesDataset(X_train, y_train)\n",
    "test_dataset = TimeSeriesDataset(X_test, y_test)"
   ]
  },
  {
   "cell_type": "code",
   "execution_count": 222,
   "id": "12OWUTa5ijoq",
   "metadata": {
    "colab": {
     "base_uri": "https://localhost:8080/"
    },
    "id": "12OWUTa5ijoq",
    "outputId": "0928d3c2-d181-4035-cc57-a2ac6ce38075",
    "ExecuteTime": {
     "end_time": "2023-08-23T13:29:46.467599900Z",
     "start_time": "2023-08-23T13:29:46.439847500Z"
    }
   },
   "outputs": [
    {
     "data": {
      "text/plain": "<__main__.TimeSeriesDataset at 0x122001b5550>"
     },
     "execution_count": 222,
     "metadata": {},
     "output_type": "execute_result"
    }
   ],
   "source": [
    "train_dataset"
   ]
  },
  {
   "cell_type": "code",
   "execution_count": 228,
   "id": "XYsUmPl3ik46",
   "metadata": {
    "id": "XYsUmPl3ik46",
    "ExecuteTime": {
     "end_time": "2023-08-23T13:32:32.128493800Z",
     "start_time": "2023-08-23T13:32:32.103410400Z"
    }
   },
   "outputs": [],
   "source": [
    "from torch.utils.data import DataLoader\n",
    "\n",
    "batch_size = 16\n",
    "\n",
    "train_loader = DataLoader(train_dataset, batch_size=batch_size, shuffle=True)\n",
    "test_loader = DataLoader(test_dataset, batch_size=batch_size, shuffle=False)"
   ]
  },
  {
   "cell_type": "code",
   "execution_count": 229,
   "id": "TJTnbgBDjOSK",
   "metadata": {
    "colab": {
     "base_uri": "https://localhost:8080/"
    },
    "id": "TJTnbgBDjOSK",
    "outputId": "51226616-d4de-4a22-f4d9-576fd3e8bfba",
    "ExecuteTime": {
     "end_time": "2023-08-23T13:32:32.642581200Z",
     "start_time": "2023-08-23T13:32:32.626913600Z"
    }
   },
   "outputs": [
    {
     "name": "stdout",
     "output_type": "stream",
     "text": [
      "torch.Size([16, 28, 1]) torch.Size([16, 1])\n"
     ]
    }
   ],
   "source": [
    "for _, batch in enumerate(train_loader):\n",
    "    x_batch, y_batch = batch[0].to(device), batch[1].to(device)\n",
    "    print(x_batch.shape, y_batch.shape)\n",
    "    break"
   ]
  },
  {
   "cell_type": "code",
   "execution_count": 234,
   "id": "njdkq_kmjib5",
   "metadata": {
    "colab": {
     "base_uri": "https://localhost:8080/"
    },
    "id": "njdkq_kmjib5",
    "outputId": "db355c8d-cc21-43f5-cdfa-2156444b4531",
    "ExecuteTime": {
     "end_time": "2023-08-23T13:37:23.612811200Z",
     "start_time": "2023-08-23T13:37:23.577932300Z"
    }
   },
   "outputs": [
    {
     "data": {
      "text/plain": "LSTM(\n  (lstm): LSTM(1, 4, batch_first=True)\n  (fc): Linear(in_features=4, out_features=4, bias=True)\n)"
     },
     "execution_count": 234,
     "metadata": {},
     "output_type": "execute_result"
    }
   ],
   "source": [
    "class LSTM(nn.Module):\n",
    "    def __init__(self, input_size, hidden_size, num_stacked_layers):\n",
    "        super().__init__()\n",
    "        self.hidden_size = hidden_size\n",
    "        self.num_stacked_layers = num_stacked_layers\n",
    "\n",
    "        self.lstm = nn.LSTM(input_size, hidden_size, num_stacked_layers, \n",
    "                            batch_first=True)\n",
    "        \n",
    "        self.fc = nn.Linear(hidden_size, 4)\n",
    "\n",
    "    def forward(self, x):\n",
    "        batch_size = x.size(0)\n",
    "        h0 = torch.zeros(self.num_stacked_layers, batch_size, self.hidden_size).to(device)\n",
    "        c0 = torch.zeros(self.num_stacked_layers, batch_size, self.hidden_size).to(device)\n",
    "        \n",
    "        out, _ = self.lstm(x, (h0, c0))\n",
    "        out = self.fc(out[:, -1, :])\n",
    "        return out\n",
    "\n",
    "model = LSTM(1, 4, 1)\n",
    "model.to(device)\n",
    "model"
   ]
  },
  {
   "cell_type": "code",
   "execution_count": 235,
   "id": "iue5WvTxmVKB",
   "metadata": {
    "id": "iue5WvTxmVKB",
    "ExecuteTime": {
     "end_time": "2023-08-23T13:37:25.711572100Z",
     "start_time": "2023-08-23T13:37:25.694456Z"
    }
   },
   "outputs": [],
   "source": [
    "def train_one_epoch():\n",
    "    model.train(True)\n",
    "    print(f'Epoch: {epoch + 1}')\n",
    "    running_loss = 0.0\n",
    "    \n",
    "    for batch_index, batch in enumerate(train_loader):\n",
    "        x_batch, y_batch = batch[0].to(device), batch[1].to(device)\n",
    "        \n",
    "        output = model(x_batch)\n",
    "        loss = loss_function(output, y_batch)\n",
    "        running_loss += loss.item()\n",
    "        \n",
    "        optimizer.zero_grad()\n",
    "        loss.backward()\n",
    "        optimizer.step()\n",
    "\n",
    "        if batch_index % 100 == 99:  # print every 100 batches\n",
    "            avg_loss_across_batches = running_loss / 100\n",
    "            print('Batch {0}, Loss: {1:.3f}'.format(batch_index+1,\n",
    "                                                    avg_loss_across_batches))\n",
    "            running_loss = 0.0\n",
    "    print()"
   ]
  },
  {
   "cell_type": "code",
   "execution_count": 236,
   "id": "gRmNuV3cmy-t",
   "metadata": {
    "id": "gRmNuV3cmy-t",
    "ExecuteTime": {
     "end_time": "2023-08-23T13:37:26.698536200Z",
     "start_time": "2023-08-23T13:37:26.689652500Z"
    }
   },
   "outputs": [],
   "source": [
    "def validate_one_epoch():\n",
    "    model.train(False)\n",
    "    running_loss = 0.0\n",
    "    \n",
    "    for batch_index, batch in enumerate(test_loader):\n",
    "        x_batch, y_batch = batch[0].to(device), batch[1].to(device)\n",
    "        \n",
    "        with torch.no_grad():\n",
    "            output = model(x_batch)\n",
    "            loss = loss_function(output, y_batch)\n",
    "            running_loss += loss.item()\n",
    "\n",
    "    avg_loss_across_batches = running_loss / len(test_loader)\n",
    "    \n",
    "    print('Val Loss: {0:.3f}'.format(avg_loss_across_batches))\n",
    "    print('***************************************************')\n",
    "    print()"
   ]
  },
  {
   "cell_type": "code",
   "execution_count": 237,
   "id": "1jgb1aJ3lxlQ",
   "metadata": {
    "colab": {
     "base_uri": "https://localhost:8080/"
    },
    "id": "1jgb1aJ3lxlQ",
    "outputId": "2a25db36-4872-44e4-feca-4d26bad49f96",
    "ExecuteTime": {
     "end_time": "2023-08-23T13:37:32.269278900Z",
     "start_time": "2023-08-23T13:37:27.126424700Z"
    }
   },
   "outputs": [
    {
     "name": "stdout",
     "output_type": "stream",
     "text": [
      "Epoch: 1\n"
     ]
    },
    {
     "name": "stderr",
     "output_type": "stream",
     "text": [
      "C:\\work _fin\\algotrading\\venv\\Lib\\site-packages\\torch\\nn\\modules\\loss.py:536: UserWarning: Using a target size (torch.Size([16, 1])) that is different to the input size (torch.Size([16, 4])). This will likely lead to incorrect results due to broadcasting. Please ensure they have the same size.\n",
      "  return F.mse_loss(input, target, reduction=self.reduction)\n"
     ]
    },
    {
     "name": "stdout",
     "output_type": "stream",
     "text": [
      "Batch 100, Loss: 0.938\n",
      "Batch 200, Loss: 0.396\n",
      "Batch 300, Loss: 0.121\n",
      "\n",
      "Val Loss: 1.942\n",
      "***************************************************\n",
      "\n",
      "Epoch: 2\n"
     ]
    },
    {
     "name": "stderr",
     "output_type": "stream",
     "text": [
      "C:\\work _fin\\algotrading\\venv\\Lib\\site-packages\\torch\\nn\\modules\\loss.py:536: UserWarning: Using a target size (torch.Size([7, 1])) that is different to the input size (torch.Size([7, 4])). This will likely lead to incorrect results due to broadcasting. Please ensure they have the same size.\n",
      "  return F.mse_loss(input, target, reduction=self.reduction)\n",
      "C:\\work _fin\\algotrading\\venv\\Lib\\site-packages\\torch\\nn\\modules\\loss.py:536: UserWarning: Using a target size (torch.Size([6, 1])) that is different to the input size (torch.Size([6, 4])). This will likely lead to incorrect results due to broadcasting. Please ensure they have the same size.\n",
      "  return F.mse_loss(input, target, reduction=self.reduction)\n"
     ]
    },
    {
     "name": "stdout",
     "output_type": "stream",
     "text": [
      "Batch 100, Loss: 0.017\n",
      "Batch 200, Loss: 0.020\n",
      "Batch 300, Loss: 0.014\n",
      "\n",
      "Val Loss: 2.000\n",
      "***************************************************\n",
      "\n",
      "Epoch: 3\n",
      "Batch 100, Loss: 0.015\n",
      "Batch 200, Loss: 0.015\n",
      "Batch 300, Loss: 0.018\n",
      "\n",
      "Val Loss: 1.996\n",
      "***************************************************\n",
      "\n",
      "Epoch: 4\n",
      "Batch 100, Loss: 0.016\n",
      "Batch 200, Loss: 0.020\n",
      "Batch 300, Loss: 0.017\n",
      "\n",
      "Val Loss: 2.023\n",
      "***************************************************\n",
      "\n",
      "Epoch: 5\n",
      "Batch 100, Loss: 0.020\n",
      "Batch 200, Loss: 0.018\n",
      "Batch 300, Loss: 0.017\n",
      "\n",
      "Val Loss: 2.032\n",
      "***************************************************\n",
      "\n",
      "Epoch: 6\n",
      "Batch 100, Loss: 0.014\n",
      "Batch 200, Loss: 0.018\n",
      "Batch 300, Loss: 0.017\n",
      "\n",
      "Val Loss: 2.050\n",
      "***************************************************\n",
      "\n",
      "Epoch: 7\n",
      "Batch 100, Loss: 0.016\n",
      "Batch 200, Loss: 0.019\n",
      "Batch 300, Loss: 0.016\n",
      "\n",
      "Val Loss: 2.007\n",
      "***************************************************\n",
      "\n",
      "Epoch: 8\n",
      "Batch 100, Loss: 0.017\n",
      "Batch 200, Loss: 0.019\n",
      "Batch 300, Loss: 0.016\n",
      "\n",
      "Val Loss: 2.016\n",
      "***************************************************\n",
      "\n",
      "Epoch: 9\n",
      "Batch 100, Loss: 0.020\n",
      "Batch 200, Loss: 0.017\n",
      "Batch 300, Loss: 0.014\n",
      "\n",
      "Val Loss: 2.066\n",
      "***************************************************\n",
      "\n",
      "Epoch: 10\n",
      "Batch 100, Loss: 0.019\n",
      "Batch 200, Loss: 0.014\n",
      "Batch 300, Loss: 0.020\n",
      "\n",
      "Val Loss: 2.031\n",
      "***************************************************\n"
     ]
    }
   ],
   "source": [
    "learning_rate = 0.001\n",
    "num_epochs = 10\n",
    "loss_function = nn.MSELoss()\n",
    "optimizer = torch.optim.Adam(model.parameters(), lr=learning_rate)\n",
    "\n",
    "for epoch in range(num_epochs):\n",
    "    train_one_epoch()\n",
    "    validate_one_epoch()"
   ]
  },
  {
   "cell_type": "code",
   "execution_count": 238,
   "id": "-Xon2PHWno7t",
   "metadata": {
    "colab": {
     "base_uri": "https://localhost:8080/",
     "height": 449
    },
    "id": "-Xon2PHWno7t",
    "outputId": "862b1d87-3e42-4fe1-8618-3cf0720e0da5",
    "ExecuteTime": {
     "end_time": "2023-08-23T13:38:06.820242600Z",
     "start_time": "2023-08-23T13:38:06.078272Z"
    }
   },
   "outputs": [
    {
     "data": {
      "text/plain": "<Figure size 640x480 with 1 Axes>",
      "image/png": "[encoded data removed]"
     },
     "metadata": {},
     "output_type": "display_data"
    }
   ],
   "source": [
    "with torch.no_grad():\n",
    "    predicted = model(X_train.to(device)).to('cpu').numpy()\n",
    "\n",
    "plt.plot(y_train, label='Actual Close')\n",
    "plt.plot(predicted, label='Predicted Close')\n",
    "plt.xlabel('Day')\n",
    "plt.ylabel('Close')\n",
    "plt.legend()\n",
    "plt.show()\n"
   ]
  },
  {
   "cell_type": "markdown",
   "id": "2MM2o0_bW3hd",
   "metadata": {
    "id": "2MM2o0_bW3hd"
   },
   "source": [
    "# New Section"
   ]
  },
  {
   "cell_type": "code",
   "execution_count": 26,
   "id": "d3SDgEvPpOcD",
   "metadata": {
    "ExecuteTime": {
     "end_time": "2023-05-27T18:39:37.544703300Z",
     "start_time": "2023-05-27T18:39:37.518522900Z"
    },
    "colab": {
     "base_uri": "https://localhost:8080/"
    },
    "id": "d3SDgEvPpOcD",
    "outputId": "e9b8491e-b15e-4aa5-ae97-6619bb4a3be9"
   },
   "outputs": [
    {
     "data": {
      "text/plain": [
       "array([  0.46521518,   0.46471495,   0.46391458, ..., 170.28218287,\n",
       "       169.28469987, 169.83776646])"
      ]
     },
     "execution_count": 26,
     "metadata": {},
     "output_type": "execute_result"
    }
   ],
   "source": [
    "train_predictions = predicted.flatten()\n",
    "\n",
    "dummies = np.zeros((X_train.shape[0], lookback+1))\n",
    "dummies[:, 0] = train_predictions\n",
    "dummies = scaler.inverse_transform(dummies)\n",
    "\n",
    "train_predictions = dc(dummies[:, 0])\n",
    "train_predictions"
   ]
  },
  {
   "cell_type": "code",
   "execution_count": 27,
   "id": "PHnvejOdrL7Q",
   "metadata": {
    "ExecuteTime": {
     "end_time": "2023-05-27T18:39:41.695468100Z",
     "start_time": "2023-05-27T18:39:41.657031200Z"
    },
    "colab": {
     "base_uri": "https://localhost:8080/"
    },
    "id": "PHnvejOdrL7Q",
    "outputId": "952cb861-3f21-42d2-f1b2-9e489c9cdcd7"
   },
   "outputs": [
    {
     "data": {
      "text/plain": [
       "array([7.91646265e-02, 7.65634249e-02, 7.52572660e-02, ...,\n",
       "       1.69091505e+02, 1.73315001e+02, 1.68871003e+02])"
      ]
     },
     "execution_count": 27,
     "metadata": {},
     "output_type": "execute_result"
    }
   ],
   "source": [
    "dummies = np.zeros((X_train.shape[0], lookback+1))\n",
    "dummies[:, 0] = y_train.flatten()\n",
    "dummies = scaler.inverse_transform(dummies)\n",
    "\n",
    "new_y_train = dc(dummies[:, 0])\n",
    "new_y_train"
   ]
  },
  {
   "cell_type": "code",
   "execution_count": 28,
   "id": "2LlDAUtyrcrN",
   "metadata": {
    "ExecuteTime": {
     "end_time": "2023-05-27T18:39:45.491921100Z",
     "start_time": "2023-05-27T18:39:45.368975800Z"
    },
    "colab": {
     "base_uri": "https://localhost:8080/",
     "height": 449
    },
    "id": "2LlDAUtyrcrN",
    "outputId": "819c2ff2-be0d-4781-d164-915936251f66"
   },
   "outputs": [
    {
     "data": {
      "image/png": "[encoded data removed]",
      "text/plain": [
       "<Figure size 640x480 with 1 Axes>"
      ]
     },
     "metadata": {},
     "output_type": "display_data"
    }
   ],
   "source": [
    "plt.plot(new_y_train, label='Actual Close')\n",
    "plt.plot(train_predictions, label='Predicted Close')\n",
    "plt.xlabel('Day')\n",
    "plt.ylabel('Close')\n",
    "plt.legend()\n",
    "plt.show()\n"
   ]
  },
  {
   "cell_type": "code",
   "execution_count": 29,
   "id": "yYeC2JMorftR",
   "metadata": {
    "ExecuteTime": {
     "end_time": "2023-05-27T18:40:17.773957600Z",
     "start_time": "2023-05-27T18:40:17.742492600Z"
    },
    "colab": {
     "base_uri": "https://localhost:8080/"
    },
    "id": "yYeC2JMorftR",
    "outputId": "94df7137-866f-42aa-cb02-5a78961f6779"
   },
   "outputs": [
    {
     "data": {
      "text/plain": [
       "array([168.77699867, 168.57639489, 167.54071647, 167.95684203,\n",
       "       168.35831638, 168.64876166, 168.47354738, 168.70067453,\n",
       "       168.35712694, 167.92102548, 166.99237428, 167.56870718,\n",
       "       166.98897271, 165.6401941 , 164.41547279, 163.33049382,\n",
       "       162.21221057, 162.78827668, 163.17174271, 162.20002716,\n",
       "       161.95143455, 160.6150839 , 158.77387782, 155.81260989,\n",
       "       150.45549077, 147.63081927, 143.82379398, 141.0491567 ,\n",
       "       139.80064941, 141.13746416, 144.54972932, 147.38672873,\n",
       "       149.13563663, 145.42113186, 150.22189397, 152.96898519,\n",
       "       156.11241504, 158.20729387, 158.84731174, 157.07483741,\n",
       "       156.12542105, 155.91957041, 156.32110033, 155.45985805,\n",
       "       154.31511813, 152.68163022, 149.4076734 , 149.73759247,\n",
       "       150.85164043, 151.73116894, 151.57480783, 151.89157638,\n",
       "       150.39191696, 148.32031555, 143.64921333, 139.9866659 ,\n",
       "       138.93151459, 141.52187507, 143.04866925, 142.85486861,\n",
       "       145.08017435, 148.4006749 , 151.8812605 , 155.56532899,\n",
       "       158.12407765, 160.84397853, 161.78712532, 162.37301819,\n",
       "       163.0225071 , 164.75669708, 165.9410553 , 165.7556252 ,\n",
       "       164.5937218 , 163.94663399, 164.96448196, 164.12480519,\n",
       "       161.91441745, 160.19318901, 157.78765557, 154.88392533,\n",
       "       152.80911133, 153.33783335, 152.38938411, 152.37552215,\n",
       "       154.44608974, 154.25978146, 152.01401071, 148.94952843,\n",
       "       147.53782075, 143.74451291, 140.82074008, 141.82103549,\n",
       "       133.96911114, 129.08243712, 125.62607937, 124.48090037,\n",
       "       119.47210326, 116.00091089, 111.50938051, 108.44400893,\n",
       "       105.16078116, 104.60406288, 108.22864834, 109.42576244,\n",
       "       112.6687494 , 110.01149969, 108.23134958, 106.89466545,\n",
       "       106.13120722, 104.30289042, 104.73642958, 107.70224961,\n",
       "       111.43975946, 116.32920143, 119.88292637, 123.51612136,\n",
       "       123.46284675, 124.1302495 , 123.38378801, 121.884551  ,\n",
       "       118.47906676, 113.03548548, 106.74767532, 102.32073034,\n",
       "       103.14444973, 102.30540659, 103.83618038, 106.27790276,\n",
       "       107.78059692, 110.16887794, 113.45009367, 113.8259006 ,\n",
       "       110.46340288, 108.91699965, 106.48582659, 106.84925002,\n",
       "       109.52889897, 112.09246097, 114.63833701, 115.33354149,\n",
       "       113.55463641, 110.66326187, 109.44322607, 109.04194625,\n",
       "       110.57363714, 111.96272882, 115.19975191, 119.27072135,\n",
       "       122.38029112, 122.9258209 , 122.19064796, 118.27422213,\n",
       "       118.58169194, 119.52565022, 126.5951159 , 131.45256531,\n",
       "       133.76997471, 137.15808426, 139.79230111, 140.47919341,\n",
       "       140.02500583, 139.20527994, 140.55826327, 140.35251267,\n",
       "       141.58659386, 142.3354509 , 143.46384993, 142.9862293 ,\n",
       "       142.63593415, 140.72624087, 137.2374876 , 135.14191957,\n",
       "       133.8557032 , 134.79479256, 132.71325323, 131.23306947,\n",
       "       129.76118955, 127.77042549, 127.06805659, 126.65207554,\n",
       "       126.1081465 , 127.31819436, 128.29952546, 130.54760838,\n",
       "       133.31861065, 130.6616833 , 129.6043282 , 127.54606629,\n",
       "       124.93882857, 123.86897325, 122.31909062, 119.98718564,\n",
       "       117.77130648, 114.8465443 , 113.88611175, 113.11582815,\n",
       "       114.89695648, 114.59171548, 113.47096442, 114.1993231 ,\n",
       "       117.13348407, 118.98845762, 119.74297839, 117.32150981,\n",
       "       114.95011437, 112.43427442, 111.38331116, 111.03366075,\n",
       "       108.23346723, 110.34593751, 112.93302704, 113.998019  ,\n",
       "       114.65895765, 117.01066622, 118.51512786, 119.33113814,\n",
       "       117.43359492, 113.75681313, 107.29949134, 102.83399521,\n",
       "        97.64233586,  92.77067433,  89.27008504,  88.79471544,\n",
       "        88.86081542,  88.93227343,  87.26597314,  91.92493086,\n",
       "        96.85830146,  98.50041557,  99.45702414,  98.53040165,\n",
       "        96.28371937,  94.10911483,  92.3619772 ,  92.11850362,\n",
       "        92.62623816,  92.78151267,  93.22805783,  92.61266522,\n",
       "        94.4409848 ,  94.88514831,  94.40744709,  92.37879052,\n",
       "        89.60289433,  88.17377861,  88.47972271,  88.4279877 ,\n",
       "        89.39544017,  91.06880761,  91.46971225,  89.82250689,\n",
       "        88.43007478,  86.07535092,  84.91723817,  85.31779542,\n",
       "        84.26731016,  84.6207123 ,  83.62948775,  82.49417441,\n",
       "        83.06329842,  83.38086734,  84.69814251,  85.02178368,\n",
       "        84.15089805,  85.08176695,  86.18140825,  88.23046868,\n",
       "        92.15612655,  94.51086986,  97.12236789,  97.02231611,\n",
       "        96.27753596,  94.5328439 ,  95.32585189,  96.14806226,\n",
       "        96.04918325,  96.55691501,  97.80782341, 100.08100683,\n",
       "       100.35411076, 101.87787576, 103.67610088, 108.58523528,\n",
       "       106.34020932, 104.00358549, 102.32691653, 100.02804903,\n",
       "        97.90472929,  96.6531428 ,  97.64474808,  98.23092164,\n",
       "        99.49841826,  98.71356404,  97.60722242,  95.38978976,\n",
       "        94.73230826,  94.59119586,  93.48625488,  93.22327229,\n",
       "        93.33111099,  92.36484797,  91.75727286,  93.02217384,\n",
       "        93.26008652,  93.24973729,  93.42320075,  92.61225114,\n",
       "        91.20231928,  91.29257764,  92.85945978,  94.56242423,\n",
       "        97.64769945,  98.81562507,  98.50697972,  99.46359384,\n",
       "        98.82161951,  98.38725775,  97.76837742,  97.50568384,\n",
       "        96.89843667,  98.13992961, 100.01946173, 101.78608892,\n",
       "       102.27490361, 103.15214773])"
      ]
     },
     "execution_count": 29,
     "metadata": {},
     "output_type": "execute_result"
    }
   ],
   "source": [
    "test_predictions = model(X_test.to(device)).detach().cpu().numpy().flatten()\n",
    "\n",
    "dummies = np.zeros((X_test.shape[0], lookback+1))\n",
    "dummies[:, 0] = test_predictions\n",
    "dummies = scaler.inverse_transform(dummies)\n",
    "\n",
    "test_predictions = dc(dummies[:, 0])\n",
    "test_predictions"
   ]
  },
  {
   "cell_type": "code",
   "execution_count": 30,
   "id": "g-DJXBgYsFyI",
   "metadata": {
    "ExecuteTime": {
     "end_time": "2023-05-27T18:40:21.703311Z",
     "start_time": "2023-05-27T18:40:21.650207200Z"
    },
    "colab": {
     "base_uri": "https://localhost:8080/"
    },
    "id": "g-DJXBgYsFyI",
    "outputId": "b606685e-137b-41ef-8a56-6171133ed013"
   },
   "outputs": [
    {
     "data": {
      "text/plain": [
       "array([170.01749949, 167.07899763, 170.41700626, 171.03700377,\n",
       "       171.0684961 , 169.66949429, 170.66099675, 169.20100565,\n",
       "       168.64449858, 166.71699707, 170.40449492, 167.52200227,\n",
       "       164.35699578, 163.25399737, 162.55400179, 161.48599177,\n",
       "       165.36199892, 165.20699954, 161.21400501, 162.13799851,\n",
       "       158.91749416, 156.29899568, 151.66749509, 142.64300408,\n",
       "       144.54400445, 139.98599336, 138.87249844, 139.63749627,\n",
       "       143.97799855, 149.57350001, 151.19349835, 150.61250219,\n",
       "       138.84550541, 157.63949825, 157.93550165, 161.41349717,\n",
       "       161.18949925, 159.003495  , 153.29350176, 155.1670061 ,\n",
       "       156.51049894, 158.10049453, 154.6524962 , 152.60149876,\n",
       "       150.19749381, 144.82699629, 151.35800212, 153.78849709,\n",
       "       153.56300403, 151.14199678, 152.05250627, 147.89849848,\n",
       "       145.64100565, 137.45300383, 136.01449488, 139.27900567,\n",
       "       146.81750468, 145.52450739, 141.8529947 , 147.36650272,\n",
       "       153.10400311, 157.23899657, 161.25050521, 161.49149987,\n",
       "       164.8890082 , 163.4080074 , 163.64950785, 164.77349929,\n",
       "       168.99049174, 169.31500275, 166.30099379, 162.99749555,\n",
       "       163.55999984, 168.34649425, 164.05499516, 158.75599734,\n",
       "       157.78449856, 154.4604964 , 151.1219931 , 150.78750525,\n",
       "       155.54100108, 151.70649644, 152.78500575, 158.11549591,\n",
       "       153.99799942, 148.29600432, 144.35000372, 146.07400567,\n",
       "       139.39100462, 138.16700588, 144.59649537, 124.2815027 ,\n",
       "       124.50000086, 124.25350088, 125.92849685, 116.40699847,\n",
       "       114.77249899, 108.78900163, 108.85900063, 105.37200234,\n",
       "       106.93049589, 113.05500005, 110.81050072, 115.36850069,\n",
       "       107.11250358, 107.31900035, 107.59100239, 107.55699918,\n",
       "       104.09999809, 106.77500184, 111.07749906, 115.14649953,\n",
       "       120.20950223, 121.68399725, 125.51100121, 122.34999935,\n",
       "       124.79000149, 122.99999961, 121.18000054, 116.15000198,\n",
       "       109.65000214, 103.66999806, 102.30999829, 107.6699986 ,\n",
       "       103.66000386, 106.22000101, 108.67999989, 108.94999683,\n",
       "       112.44000207, 116.45999935, 113.22000127, 107.40000166,\n",
       "       108.91999825, 106.20999917, 109.55999806, 113.50000006,\n",
       "       114.33000152, 116.3300018 , 115.54000075, 111.74999999,\n",
       "       109.22000073, 110.40000137, 110.62999651, 113.55000232,\n",
       "       113.76000211, 118.20999802, 122.76999614, 124.62999702,\n",
       "       122.41999835, 121.13999873, 114.80999825, 120.97000076,\n",
       "       122.28000035, 134.94999758, 135.38999806, 134.16000488,\n",
       "       139.5200031 , 142.57000925, 140.80000272, 139.41000507,\n",
       "       137.83000298, 142.69000357, 140.64000103, 143.55000084,\n",
       "       143.17999102, 144.7799968 , 142.10000324, 142.30000119,\n",
       "       138.22999608, 133.22000121, 133.61999431, 133.80000247,\n",
       "       137.27999891, 130.7499991 , 129.78999174, 128.72999653,\n",
       "       126.76999668, 127.82000117, 127.51000241, 126.11000014,\n",
       "       129.47999576, 129.82000839, 133.27000486, 136.44999605,\n",
       "       126.82000034, 128.55000227, 126.27999811, 123.52999999,\n",
       "       124.66000532, 122.19000322, 118.54000046, 117.30999894,\n",
       "       113.77999884, 115.15000254, 114.41000376, 118.01000286,\n",
       "       114.80000336, 112.99999964, 115.8799967 , 121.08999508,\n",
       "       120.94999707, 120.30000237, 114.55999805, 113.66999803,\n",
       "       112.2099986 , 112.90000206, 112.5299992 , 106.90000263,\n",
       "       113.79000069, 116.36000038, 115.0700003 , 115.25000012,\n",
       "       119.31999967, 119.82000008, 120.59999928, 115.66000341,\n",
       "       110.95999895, 103.41000365, 102.4400021 ,  96.79000116,\n",
       "        92.12000301,  89.30000302,  90.98000304,  90.52999899,\n",
       "        89.98000291,  86.13999884,  96.62999704, 100.79000101,\n",
       "        98.48999791,  98.94000197,  97.1200029 ,  94.84999805,\n",
       "        94.13999897,  92.45999904,  93.199997  ,  94.12999696,\n",
       "        93.410004  ,  93.94999701,  92.41999801,  96.54000095,\n",
       "        95.50000004,  94.12999696,  91.01000197,  88.24999993,\n",
       "        88.45999902,  90.34999813,  89.08999594,  90.55000302,\n",
       "        92.48999797,  91.58000208,  88.44999683,  87.86000102,\n",
       "        84.91999777,  85.19000167,  86.76999681,  83.79000078,\n",
       "        85.25000022,  83.04000085,  81.81999979,  84.17999969,\n",
       "        83.99999987,  85.82000033,  85.13999871,  83.12000309,\n",
       "        86.08000168,  87.3600013 ,  89.87000314,  95.08999606,\n",
       "        95.26999692,  98.12000304,  96.05000307,  95.45999893,\n",
       "        93.68      ,  97.25000011,  97.51999705,  96.32000002,\n",
       "        97.18000006,  99.22000076, 102.2399979 , 100.55000334,\n",
       "       103.12999722, 105.15000257, 112.9100039 , 103.38999927,\n",
       "       102.18000005, 102.11000105, 100.05000292,  98.23999805,\n",
       "        97.61000113,  99.54000066,  99.69999679, 101.16000387,\n",
       "        98.15000197,  97.19999715,  94.58000197,  95.79000102,\n",
       "        95.81999995,  93.5       ,  93.760002  ,  94.23000296,\n",
       "        92.16999798,  92.12999703,  94.90000205,  93.74999998,\n",
       "        93.55000299,  93.919998  ,  92.25000004,  90.73000301,\n",
       "        92.43000003,  94.87999697,  96.19999701, 100.04000108,\n",
       "        98.94999687,  97.70999906, 100.61000119,  98.69999701,\n",
       "        98.70999885,  98.12999689,  98.04000115,  97.23999792,\n",
       "       100.25000017, 102.00000023, 103.290001  , 102.41000421,\n",
       "       103.94999685, 101.09999768])"
      ]
     },
     "execution_count": 30,
     "metadata": {},
     "output_type": "execute_result"
    }
   ],
   "source": [
    "dummies = np.zeros((X_test.shape[0], lookback+1))\n",
    "dummies[:, 0] = y_test.flatten()\n",
    "dummies = scaler.inverse_transform(dummies)\n",
    "\n",
    "new_y_test = dc(dummies[:, 0])\n",
    "new_y_test"
   ]
  },
  {
   "cell_type": "code",
   "execution_count": 31,
   "id": "PhLmIlHOsSK4",
   "metadata": {
    "ExecuteTime": {
     "end_time": "2023-05-27T18:40:24.925111Z",
     "start_time": "2023-05-27T18:40:24.823755100Z"
    },
    "colab": {
     "base_uri": "https://localhost:8080/",
     "height": 449
    },
    "id": "PhLmIlHOsSK4",
    "outputId": "09c21535-ea22-4d65-bc50-b159bd4dc135"
   },
   "outputs": [
    {
     "data": {
      "image/png": "[encoded data removed]",
      "text/plain": [
       "<Figure size 640x480 with 1 Axes>"
      ]
     },
     "metadata": {},
     "output_type": "display_data"
    }
   ],
   "source": [
    "plt.plot(new_y_test, label='Actual Close')\n",
    "plt.plot(test_predictions, label='Predicted Close')\n",
    "plt.xlabel('Day')\n",
    "plt.ylabel('Close')\n",
    "plt.legend()\n",
    "plt.show()\n"
   ]
  },
  {
   "cell_type": "code",
   "execution_count": null,
   "id": "edaf9487",
   "metadata": {
    "collapsed": false
   },
   "outputs": [],
   "source": []
  }
 ],
 "metadata": {
  "colab": {
   "gpuType": "T4",
   "provenance": []
  },
  "gpuClass": "standard",
  "kernelspec": {
   "display_name": "Python 3 (ipykernel)",
   "language": "python",
   "name": "python3"
  },
  "language_info": {
   "codemirror_mode": {
    "name": "ipython",
    "version": 3
   },
   "file_extension": ".py",
   "mimetype": "text/x-python",
   "name": "python",
   "nbconvert_exporter": "python",
   "pygments_lexer": "ipython3",
   "version": "3.11.0"
  }
 },
 "nbformat": 4,
 "nbformat_minor": 5
}
