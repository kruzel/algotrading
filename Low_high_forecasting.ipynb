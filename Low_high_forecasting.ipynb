{
 "cells": [
  {
   "cell_type": "code",
   "execution_count": 47,
   "id": "2a4fdd0f",
   "metadata": {
    "colab": {
     "base_uri": "https://localhost:8080/",
     "height": 423
    },
    "id": "2a4fdd0f",
    "outputId": "d758fb02-8b42-4705-d4bd-bcaa6df69ea7",
    "ExecuteTime": {
     "end_time": "2023-08-12T09:48:22.838840900Z",
     "start_time": "2023-08-12T09:48:22.816601400Z"
    }
   },
   "outputs": [
    {
     "data": {
      "text/plain": "            Date        Open        High         Low       Close   Adj Close  \\\n0     1997-05-15    0.121875    0.125000    0.096354    0.097917    0.097917   \n1     1997-05-16    0.098438    0.098958    0.085417    0.086458    0.086458   \n2     1997-05-19    0.088021    0.088542    0.081250    0.085417    0.085417   \n3     1997-05-20    0.086458    0.087500    0.081771    0.081771    0.081771   \n4     1997-05-21    0.081771    0.082292    0.068750    0.071354    0.071354   \n...          ...         ...         ...         ...         ...         ...   \n6511  2023-03-30  101.550003  103.040001  101.010002  102.000000  102.000000   \n6512  2023-03-31  102.160004  103.489998  101.949997  103.290001  103.290001   \n6513  2023-04-03  102.300003  103.290001  101.430000  102.410004  102.410004   \n6514  2023-04-04  102.750000  104.199997  102.110001  103.949997  103.949997   \n6515  2023-04-05  103.910004  103.910004  100.750000  101.099998  101.099998   \n\n          Volume  \n0     1443120000  \n1      294000000  \n2      122136000  \n3      109344000  \n4      377064000  \n...          ...  \n6511    53633400  \n6512    56704300  \n6513    41135700  \n6514    48662500  \n6515    45103000  \n\n[6516 rows x 7 columns]",
      "text/html": "<div>\n<style scoped>\n    .dataframe tbody tr th:only-of-type {\n        vertical-align: middle;\n    }\n\n    .dataframe tbody tr th {\n        vertical-align: top;\n    }\n\n    .dataframe thead th {\n        text-align: right;\n    }\n</style>\n<table border=\"1\" class=\"dataframe\">\n  <thead>\n    <tr style=\"text-align: right;\">\n      <th></th>\n      <th>Date</th>\n      <th>Open</th>\n      <th>High</th>\n      <th>Low</th>\n      <th>Close</th>\n      <th>Adj Close</th>\n      <th>Volume</th>\n    </tr>\n  </thead>\n  <tbody>\n    <tr>\n      <th>0</th>\n      <td>1997-05-15</td>\n      <td>0.121875</td>\n      <td>0.125000</td>\n      <td>0.096354</td>\n      <td>0.097917</td>\n      <td>0.097917</td>\n      <td>1443120000</td>\n    </tr>\n    <tr>\n      <th>1</th>\n      <td>1997-05-16</td>\n      <td>0.098438</td>\n      <td>0.098958</td>\n      <td>0.085417</td>\n      <td>0.086458</td>\n      <td>0.086458</td>\n      <td>294000000</td>\n    </tr>\n    <tr>\n      <th>2</th>\n      <td>1997-05-19</td>\n      <td>0.088021</td>\n      <td>0.088542</td>\n      <td>0.081250</td>\n      <td>0.085417</td>\n      <td>0.085417</td>\n      <td>122136000</td>\n    </tr>\n    <tr>\n      <th>3</th>\n      <td>1997-05-20</td>\n      <td>0.086458</td>\n      <td>0.087500</td>\n      <td>0.081771</td>\n      <td>0.081771</td>\n      <td>0.081771</td>\n      <td>109344000</td>\n    </tr>\n    <tr>\n      <th>4</th>\n      <td>1997-05-21</td>\n      <td>0.081771</td>\n      <td>0.082292</td>\n      <td>0.068750</td>\n      <td>0.071354</td>\n      <td>0.071354</td>\n      <td>377064000</td>\n    </tr>\n    <tr>\n      <th>...</th>\n      <td>...</td>\n      <td>...</td>\n      <td>...</td>\n      <td>...</td>\n      <td>...</td>\n      <td>...</td>\n      <td>...</td>\n    </tr>\n    <tr>\n      <th>6511</th>\n      <td>2023-03-30</td>\n      <td>101.550003</td>\n      <td>103.040001</td>\n      <td>101.010002</td>\n      <td>102.000000</td>\n      <td>102.000000</td>\n      <td>53633400</td>\n    </tr>\n    <tr>\n      <th>6512</th>\n      <td>2023-03-31</td>\n      <td>102.160004</td>\n      <td>103.489998</td>\n      <td>101.949997</td>\n      <td>103.290001</td>\n      <td>103.290001</td>\n      <td>56704300</td>\n    </tr>\n    <tr>\n      <th>6513</th>\n      <td>2023-04-03</td>\n      <td>102.300003</td>\n      <td>103.290001</td>\n      <td>101.430000</td>\n      <td>102.410004</td>\n      <td>102.410004</td>\n      <td>41135700</td>\n    </tr>\n    <tr>\n      <th>6514</th>\n      <td>2023-04-04</td>\n      <td>102.750000</td>\n      <td>104.199997</td>\n      <td>102.110001</td>\n      <td>103.949997</td>\n      <td>103.949997</td>\n      <td>48662500</td>\n    </tr>\n    <tr>\n      <th>6515</th>\n      <td>2023-04-05</td>\n      <td>103.910004</td>\n      <td>103.910004</td>\n      <td>100.750000</td>\n      <td>101.099998</td>\n      <td>101.099998</td>\n      <td>45103000</td>\n    </tr>\n  </tbody>\n</table>\n<p>6516 rows × 7 columns</p>\n</div>"
     },
     "execution_count": 47,
     "metadata": {},
     "output_type": "execute_result"
    }
   ],
   "source": [
    "import pandas as pd\n",
    "import numpy as np\n",
    "import matplotlib.pyplot as plt\n",
    "\n",
    "import torch\n",
    "import torch.nn as nn\n",
    "\n",
    "data = pd.read_csv('AMZN.csv')\n",
    "\n",
    "data"
   ]
  },
  {
   "cell_type": "code",
   "execution_count": 75,
   "id": "WtCP8-cDbg9R",
   "metadata": {
    "colab": {
     "base_uri": "https://localhost:8080/",
     "height": 423
    },
    "id": "WtCP8-cDbg9R",
    "outputId": "1a923823-8c15-4765-c9c9-19a233dc8131",
    "ExecuteTime": {
     "end_time": "2023-08-12T11:46:58.177365300Z",
     "start_time": "2023-08-12T11:46:58.148356200Z"
    }
   },
   "outputs": [
    {
     "data": {
      "text/plain": "           Date       Close         Low        High      Volume\n0    1997-05-15    0.097917    0.096354    0.125000  1443120000\n1    1997-05-16    0.086458    0.085417    0.098958   294000000\n2    1997-05-19    0.085417    0.081250    0.088542   122136000\n3    1997-05-20    0.081771    0.081771    0.087500   109344000\n4    1997-05-21    0.071354    0.068750    0.082292   377064000\n...         ...         ...         ...         ...         ...\n6511 2023-03-30  102.000000  101.010002  103.040001    53633400\n6512 2023-03-31  103.290001  101.949997  103.489998    56704300\n6513 2023-04-03  102.410004  101.430000  103.290001    41135700\n6514 2023-04-04  103.949997  102.110001  104.199997    48662500\n6515 2023-04-05  101.099998  100.750000  103.910004    45103000\n\n[6516 rows x 5 columns]",
      "text/html": "<div>\n<style scoped>\n    .dataframe tbody tr th:only-of-type {\n        vertical-align: middle;\n    }\n\n    .dataframe tbody tr th {\n        vertical-align: top;\n    }\n\n    .dataframe thead th {\n        text-align: right;\n    }\n</style>\n<table border=\"1\" class=\"dataframe\">\n  <thead>\n    <tr style=\"text-align: right;\">\n      <th></th>\n      <th>Date</th>\n      <th>Close</th>\n      <th>Low</th>\n      <th>High</th>\n      <th>Volume</th>\n    </tr>\n  </thead>\n  <tbody>\n    <tr>\n      <th>0</th>\n      <td>1997-05-15</td>\n      <td>0.097917</td>\n      <td>0.096354</td>\n      <td>0.125000</td>\n      <td>1443120000</td>\n    </tr>\n    <tr>\n      <th>1</th>\n      <td>1997-05-16</td>\n      <td>0.086458</td>\n      <td>0.085417</td>\n      <td>0.098958</td>\n      <td>294000000</td>\n    </tr>\n    <tr>\n      <th>2</th>\n      <td>1997-05-19</td>\n      <td>0.085417</td>\n      <td>0.081250</td>\n      <td>0.088542</td>\n      <td>122136000</td>\n    </tr>\n    <tr>\n      <th>3</th>\n      <td>1997-05-20</td>\n      <td>0.081771</td>\n      <td>0.081771</td>\n      <td>0.087500</td>\n      <td>109344000</td>\n    </tr>\n    <tr>\n      <th>4</th>\n      <td>1997-05-21</td>\n      <td>0.071354</td>\n      <td>0.068750</td>\n      <td>0.082292</td>\n      <td>377064000</td>\n    </tr>\n    <tr>\n      <th>...</th>\n      <td>...</td>\n      <td>...</td>\n      <td>...</td>\n      <td>...</td>\n      <td>...</td>\n    </tr>\n    <tr>\n      <th>6511</th>\n      <td>2023-03-30</td>\n      <td>102.000000</td>\n      <td>101.010002</td>\n      <td>103.040001</td>\n      <td>53633400</td>\n    </tr>\n    <tr>\n      <th>6512</th>\n      <td>2023-03-31</td>\n      <td>103.290001</td>\n      <td>101.949997</td>\n      <td>103.489998</td>\n      <td>56704300</td>\n    </tr>\n    <tr>\n      <th>6513</th>\n      <td>2023-04-03</td>\n      <td>102.410004</td>\n      <td>101.430000</td>\n      <td>103.290001</td>\n      <td>41135700</td>\n    </tr>\n    <tr>\n      <th>6514</th>\n      <td>2023-04-04</td>\n      <td>103.949997</td>\n      <td>102.110001</td>\n      <td>104.199997</td>\n      <td>48662500</td>\n    </tr>\n    <tr>\n      <th>6515</th>\n      <td>2023-04-05</td>\n      <td>101.099998</td>\n      <td>100.750000</td>\n      <td>103.910004</td>\n      <td>45103000</td>\n    </tr>\n  </tbody>\n</table>\n<p>6516 rows × 5 columns</p>\n</div>"
     },
     "execution_count": 75,
     "metadata": {},
     "output_type": "execute_result"
    }
   ],
   "source": [
    "data = data[['Date', 'Close', 'Low', 'High', 'Volume']]\n",
    "data"
   ]
  },
  {
   "cell_type": "code",
   "execution_count": 76,
   "id": "9akB333XcFJ6",
   "metadata": {
    "colab": {
     "base_uri": "https://localhost:8080/",
     "height": 36
    },
    "id": "9akB333XcFJ6",
    "outputId": "2e8630de-1369-4281-d87c-9634ed90ba97",
    "ExecuteTime": {
     "end_time": "2023-08-12T11:46:59.154947300Z",
     "start_time": "2023-08-12T11:46:59.139949600Z"
    }
   },
   "outputs": [
    {
     "data": {
      "text/plain": "'cuda:0'"
     },
     "execution_count": 76,
     "metadata": {},
     "output_type": "execute_result"
    }
   ],
   "source": [
    "device = 'cuda:0' if torch.cuda.is_available() else 'cpu'\n",
    "device"
   ]
  },
  {
   "cell_type": "code",
   "execution_count": 77,
   "id": "tr2YuqKGcXcJ",
   "metadata": {
    "colab": {
     "base_uri": "https://localhost:8080/",
     "height": 551
    },
    "id": "tr2YuqKGcXcJ",
    "outputId": "bd197a93-bf7f-413c-fac0-5f4dc1a8471d",
    "ExecuteTime": {
     "end_time": "2023-08-12T11:47:00.102062900Z",
     "start_time": "2023-08-12T11:47:00.004153600Z"
    }
   },
   "outputs": [
    {
     "data": {
      "text/plain": "[<matplotlib.lines.Line2D at 0x1220084df10>]"
     },
     "execution_count": 77,
     "metadata": {},
     "output_type": "execute_result"
    },
    {
     "data": {
      "text/plain": "<Figure size 640x480 with 1 Axes>",
      "image/png": "[encoded data removed]"
     },
     "metadata": {},
     "output_type": "display_data"
    }
   ],
   "source": [
    "data['Date'] = pd.to_datetime(data['Date'])\n",
    "\n",
    "plt.plot(data['Date'], data['Close'])"
   ]
  },
  {
   "cell_type": "code",
   "execution_count": 201,
   "id": "Q4ma6QCscwfB",
   "metadata": {
    "colab": {
     "base_uri": "https://localhost:8080/",
     "height": 455
    },
    "id": "Q4ma6QCscwfB",
    "outputId": "61bd4c08-c3f7-453d-ed92-c2232a18a5ba",
    "ExecuteTime": {
     "end_time": "2023-08-23T13:21:08.213444800Z",
     "start_time": "2023-08-23T13:21:08.163908400Z"
    }
   },
   "outputs": [
    {
     "data": {
      "text/plain": "                 Close  Close(t-1)  Close(t-2)  Close(t-3)  Close(t-4)  \\\nDate                                                                     \n1997-05-27    0.079167    0.075000    0.069792    0.071354    0.081771   \n1997-05-28    0.076563    0.079167    0.075000    0.069792    0.071354   \n1997-05-29    0.075260    0.076563    0.079167    0.075000    0.069792   \n1997-05-30    0.075000    0.075260    0.076563    0.079167    0.075000   \n1997-06-02    0.075521    0.075000    0.075260    0.076563    0.079167   \n...                ...         ...         ...         ...         ...   \n2023-03-30  102.000000  100.250000   97.239998   98.040001   98.129997   \n2023-03-31  103.290001  102.000000  100.250000   97.239998   98.040001   \n2023-04-03  102.410004  103.290001  102.000000  100.250000   97.239998   \n2023-04-04  103.949997  102.410004  103.290001  102.000000  100.250000   \n2023-04-05  101.099998  103.949997  102.410004  103.290001  102.000000   \n\n            Close(t-5)  Close(t-6)  Close(t-7)  \nDate                                            \n1997-05-27    0.085417    0.086458    0.097917  \n1997-05-28    0.081771    0.085417    0.086458  \n1997-05-29    0.071354    0.081771    0.085417  \n1997-05-30    0.069792    0.071354    0.081771  \n1997-06-02    0.075000    0.069792    0.071354  \n...                ...         ...         ...  \n2023-03-30   98.709999   98.699997  100.610001  \n2023-03-31   98.129997   98.709999   98.699997  \n2023-04-03   98.040001   98.129997   98.709999  \n2023-04-04   97.239998   98.040001   98.129997  \n2023-04-05  100.250000   97.239998   98.040001  \n\n[6509 rows x 8 columns]",
      "text/html": "<div>\n<style scoped>\n    .dataframe tbody tr th:only-of-type {\n        vertical-align: middle;\n    }\n\n    .dataframe tbody tr th {\n        vertical-align: top;\n    }\n\n    .dataframe thead th {\n        text-align: right;\n    }\n</style>\n<table border=\"1\" class=\"dataframe\">\n  <thead>\n    <tr style=\"text-align: right;\">\n      <th></th>\n      <th>Close</th>\n      <th>Close(t-1)</th>\n      <th>Close(t-2)</th>\n      <th>Close(t-3)</th>\n      <th>Close(t-4)</th>\n      <th>Close(t-5)</th>\n      <th>Close(t-6)</th>\n      <th>Close(t-7)</th>\n    </tr>\n    <tr>\n      <th>Date</th>\n      <th></th>\n      <th></th>\n      <th></th>\n      <th></th>\n      <th></th>\n      <th></th>\n      <th></th>\n      <th></th>\n    </tr>\n  </thead>\n  <tbody>\n    <tr>\n      <th>1997-05-27</th>\n      <td>0.079167</td>\n      <td>0.075000</td>\n      <td>0.069792</td>\n      <td>0.071354</td>\n      <td>0.081771</td>\n      <td>0.085417</td>\n      <td>0.086458</td>\n      <td>0.097917</td>\n    </tr>\n    <tr>\n      <th>1997-05-28</th>\n      <td>0.076563</td>\n      <td>0.079167</td>\n      <td>0.075000</td>\n      <td>0.069792</td>\n      <td>0.071354</td>\n      <td>0.081771</td>\n      <td>0.085417</td>\n      <td>0.086458</td>\n    </tr>\n    <tr>\n      <th>1997-05-29</th>\n      <td>0.075260</td>\n      <td>0.076563</td>\n      <td>0.079167</td>\n      <td>0.075000</td>\n      <td>0.069792</td>\n      <td>0.071354</td>\n      <td>0.081771</td>\n      <td>0.085417</td>\n    </tr>\n    <tr>\n      <th>1997-05-30</th>\n      <td>0.075000</td>\n      <td>0.075260</td>\n      <td>0.076563</td>\n      <td>0.079167</td>\n      <td>0.075000</td>\n      <td>0.069792</td>\n      <td>0.071354</td>\n      <td>0.081771</td>\n    </tr>\n    <tr>\n      <th>1997-06-02</th>\n      <td>0.075521</td>\n      <td>0.075000</td>\n      <td>0.075260</td>\n      <td>0.076563</td>\n      <td>0.079167</td>\n      <td>0.075000</td>\n      <td>0.069792</td>\n      <td>0.071354</td>\n    </tr>\n    <tr>\n      <th>...</th>\n      <td>...</td>\n      <td>...</td>\n      <td>...</td>\n      <td>...</td>\n      <td>...</td>\n      <td>...</td>\n      <td>...</td>\n      <td>...</td>\n    </tr>\n    <tr>\n      <th>2023-03-30</th>\n      <td>102.000000</td>\n      <td>100.250000</td>\n      <td>97.239998</td>\n      <td>98.040001</td>\n      <td>98.129997</td>\n      <td>98.709999</td>\n      <td>98.699997</td>\n      <td>100.610001</td>\n    </tr>\n    <tr>\n      <th>2023-03-31</th>\n      <td>103.290001</td>\n      <td>102.000000</td>\n      <td>100.250000</td>\n      <td>97.239998</td>\n      <td>98.040001</td>\n      <td>98.129997</td>\n      <td>98.709999</td>\n      <td>98.699997</td>\n    </tr>\n    <tr>\n      <th>2023-04-03</th>\n      <td>102.410004</td>\n      <td>103.290001</td>\n      <td>102.000000</td>\n      <td>100.250000</td>\n      <td>97.239998</td>\n      <td>98.040001</td>\n      <td>98.129997</td>\n      <td>98.709999</td>\n    </tr>\n    <tr>\n      <th>2023-04-04</th>\n      <td>103.949997</td>\n      <td>102.410004</td>\n      <td>103.290001</td>\n      <td>102.000000</td>\n      <td>100.250000</td>\n      <td>97.239998</td>\n      <td>98.040001</td>\n      <td>98.129997</td>\n    </tr>\n    <tr>\n      <th>2023-04-05</th>\n      <td>101.099998</td>\n      <td>103.949997</td>\n      <td>102.410004</td>\n      <td>103.290001</td>\n      <td>102.000000</td>\n      <td>100.250000</td>\n      <td>97.239998</td>\n      <td>98.040001</td>\n    </tr>\n  </tbody>\n</table>\n<p>6509 rows × 8 columns</p>\n</div>"
     },
     "execution_count": 201,
     "metadata": {},
     "output_type": "execute_result"
    }
   ],
   "source": [
    "from copy import deepcopy as dc\n",
    "\n",
    "def prepare_dataframe_for_lstm(df, n_steps):\n",
    "    df = dc(df)\n",
    "    df.dropna(inplace=True)\n",
    "        \n",
    "    df1 = dc(df[['Date', 'Close']])\n",
    "    df2 = dc(df[['Date', 'Low']])\n",
    "    df3 = dc(df[['Date', 'High']])\n",
    "    df4 = dc(df[['Date', 'Volume']])\n",
    "    \n",
    "    df1.set_index('Date', inplace=True)\n",
    "    df2.set_index('Date', inplace=True)\n",
    "    df3.set_index('Date', inplace=True)\n",
    "    df4.set_index('Date', inplace=True)\n",
    "    \n",
    "    for i in range(1, n_steps+1):\n",
    "        df1[f'Close(t-{i})'] = df1['Close'].shift(i)\n",
    "        df2[f'Low(t-{i})'] = df2['Low'].shift(i)\n",
    "        df3[f'High(t-{i})'] = df3['High'].shift(i)\n",
    "        df4[f'Volume(t-{i})'] = df4['Volume'].shift(i)\n",
    "        \n",
    "    df1.dropna(inplace=True)\n",
    "    df2.dropna(inplace=True)\n",
    "    df3.dropna(inplace=True)\n",
    "    df4.dropna(inplace=True)\n",
    "    \n",
    "    return df1, df2, df3, df4\n",
    "\n",
    "lookback = 7\n",
    "df1, df2, df3, df4 = prepare_dataframe_for_lstm(data, lookback)\n",
    "df1\n",
    "\n"
   ]
  },
  {
   "cell_type": "code",
   "execution_count": 205,
   "id": "Pq2p3opGELA_",
   "metadata": {
    "colab": {
     "base_uri": "https://localhost:8080/"
    },
    "id": "Pq2p3opGELA_",
    "outputId": "5cb2ff07-5d8f-4117-eafd-6a3c5663c6ff",
    "ExecuteTime": {
     "end_time": "2023-08-23T13:23:38.120952700Z",
     "start_time": "2023-08-23T13:23:38.113497400Z"
    }
   },
   "outputs": [
    {
     "data": {
      "text/plain": "array([[7.91670000e-02, 7.50000000e-02, 6.97920000e-02, ...,\n        8.54170000e-02, 8.64580000e-02, 9.79170000e-02],\n       [7.65630000e-02, 7.91670000e-02, 7.50000000e-02, ...,\n        8.17710000e-02, 8.54170000e-02, 8.64580000e-02],\n       [7.52600000e-02, 7.65630000e-02, 7.91670000e-02, ...,\n        7.13540000e-02, 8.17710000e-02, 8.54170000e-02],\n       ...,\n       [1.02410004e+02, 1.03290001e+02, 1.02000000e+02, ...,\n        9.80400010e+01, 9.81299970e+01, 9.87099990e+01],\n       [1.03949997e+02, 1.02410004e+02, 1.03290001e+02, ...,\n        9.72399980e+01, 9.80400010e+01, 9.81299970e+01],\n       [1.01099998e+02, 1.03949997e+02, 1.02410004e+02, ...,\n        1.00250000e+02, 9.72399980e+01, 9.80400010e+01]])"
     },
     "execution_count": 205,
     "metadata": {},
     "output_type": "execute_result"
    }
   ],
   "source": [
    "df1_np = df1.to_numpy()\n",
    "df2_np = df2.to_numpy()\n",
    "df3_np = df3.to_numpy()\n",
    "df4_np = df4.to_numpy()\n",
    "\n",
    "df1_np"
   ]
  },
  {
   "cell_type": "code",
   "execution_count": 206,
   "id": "pXHkuFeafNUU",
   "metadata": {
    "colab": {
     "base_uri": "https://localhost:8080/"
    },
    "id": "pXHkuFeafNUU",
    "outputId": "a67d1f79-d279-4c96-e40f-0d9a5f9f7d7d",
    "ExecuteTime": {
     "end_time": "2023-08-23T13:23:38.799945600Z",
     "start_time": "2023-08-23T13:23:38.770077600Z"
    }
   },
   "outputs": [
    {
     "data": {
      "text/plain": "array([[-0.99991063, -0.99995531, -1.        , ..., -0.99983244,\n        -0.99982128, -0.99969839],\n       [-0.99993855, -0.99991063, -0.99994415, ..., -0.99987154,\n        -0.99983244, -0.99982128],\n       [-0.99995253, -0.99993855, -0.99989946, ..., -0.99998325,\n        -0.99987154, -0.99983244],\n       ...,\n       [ 0.09747299,  0.10690997,  0.09308121, ...,  0.0506149 ,\n         0.05158   ,  0.05779984],\n       [ 0.11398769,  0.09747299,  0.10691495, ...,  0.04203581,\n         0.0506149 ,  0.05158   ],\n       [ 0.08342464,  0.11398769,  0.09747802, ...,  0.07431453,\n         0.04203581,  0.0506149 ]])"
     },
     "execution_count": 206,
     "metadata": {},
     "output_type": "execute_result"
    }
   ],
   "source": [
    "from sklearn.preprocessing import MinMaxScaler\n",
    "\n",
    "scaler = MinMaxScaler(feature_range=(-1, 1))\n",
    "df1_np = scaler.fit_transform(df1_np)\n",
    "df2_np = scaler.fit_transform(df2_np)\n",
    "df3_np = scaler.fit_transform(df3_np)\n",
    "df4_np = scaler.fit_transform(df4_np)\n",
    "\n",
    "df1_np"
   ]
  },
  {
   "cell_type": "code",
   "execution_count": 207,
   "outputs": [
    {
     "data": {
      "text/plain": "((6509, 28), (6509, 4))"
     },
     "execution_count": 207,
     "metadata": {},
     "output_type": "execute_result"
    }
   ],
   "source": [
    "# X = np.array([df1_np[:, 1:], df2_np[:, 1:], df3_np[:, 1:], df4_np[:, 1:]])\n",
    "# y = np.array([df1_np[:, 0], df2_np[:, 0], df3_np[:, 0], df4_np[:, 0]])\n",
    "\n",
    "X = np.zeros((len(df1_np), 4 * lookback))\n",
    "y = np.zeros((len(df1_np), 4))\n",
    "for i in range(0,len(df1_np)):\n",
    "    X[i] = np.hstack((df1_np[i,1:], df2_np[i,1:], df3_np[i,1:], df4_np[i,1:]))\n",
    "    y[i] = np.hstack((df1_np[i,0], df2_np[i,0], df3_np[i,0], df4_np[i,0]))\n",
    "\n",
    "X.shape, y.shape"
   ],
   "metadata": {
    "collapsed": false,
    "ExecuteTime": {
     "end_time": "2023-08-23T13:24:18.519131400Z",
     "start_time": "2023-08-23T13:24:18.452672900Z"
    }
   },
   "id": "Iui9unuTfxOe"
  },
  {
   "cell_type": "code",
   "execution_count": 208,
   "outputs": [
    {
     "data": {
      "text/plain": "array([[ 0.38034321, -0.72626105, -0.89176634, ..., -0.99998325,\n        -1.        , -0.99995531],\n       [-0.72626105, -0.89176634, -0.90408505, ..., -1.        ,\n        -0.99994415, -0.99991063],\n       [-0.89176634, -0.90408505, -0.6462703 , ..., -0.99994415,\n        -0.99989946, -0.99993855],\n       ...,\n       [-0.9539538 , -0.95536353, -0.96439081, ...,  0.07431453,\n         0.09308121,  0.10690997],\n       [-0.95536353, -0.96439081, -0.97209597, ...,  0.09308121,\n         0.10691495,  0.09747299],\n       [-0.96439081, -0.97209597, -0.96144209, ...,  0.10691495,\n         0.09747802,  0.11398769]])"
     },
     "execution_count": 208,
     "metadata": {},
     "output_type": "execute_result"
    }
   ],
   "source": [
    "X = dc(np.flip(X, axis=1)) #flip left right\n",
    "X"
   ],
   "metadata": {
    "collapsed": false,
    "ExecuteTime": {
     "end_time": "2023-08-23T13:24:23.399800200Z",
     "start_time": "2023-08-23T13:24:23.375210100Z"
    }
   },
   "id": "XmbIqwj-E0cv"
  },
  {
   "cell_type": "code",
   "execution_count": 211,
   "id": "GCHslawXgE21",
   "metadata": {
    "colab": {
     "base_uri": "https://localhost:8080/"
    },
    "id": "GCHslawXgE21",
    "outputId": "a2e50719-a1fb-460e-9ce4-9dd873642765",
    "ExecuteTime": {
     "end_time": "2023-08-23T13:25:28.685271400Z",
     "start_time": "2023-08-23T13:25:28.653570Z"
    }
   },
   "outputs": [
    {
     "data": {
      "text/plain": "6183"
     },
     "execution_count": 211,
     "metadata": {},
     "output_type": "execute_result"
    }
   ],
   "source": [
    "split_index = int(len(X) * 0.95)\n",
    "\n",
    "split_index"
   ]
  },
  {
   "cell_type": "code",
   "execution_count": 215,
   "id": "hhGMh_nAgiST",
   "metadata": {
    "colab": {
     "base_uri": "https://localhost:8080/"
    },
    "id": "hhGMh_nAgiST",
    "outputId": "aeb231ef-e124-4821-f4ee-dbb2275c0f98",
    "ExecuteTime": {
     "end_time": "2023-08-23T13:27:35.872284200Z",
     "start_time": "2023-08-23T13:27:35.854030200Z"
    }
   },
   "outputs": [
    {
     "data": {
      "text/plain": "((6183, 28), (326, 28), (6183, 4), (326, 4))"
     },
     "execution_count": 215,
     "metadata": {},
     "output_type": "execute_result"
    }
   ],
   "source": [
    "X_train = X[:split_index]\n",
    "X_test = X[split_index:]\n",
    "\n",
    "y_train = y[:split_index]\n",
    "y_test = y[split_index:]\n",
    "\n",
    "X_train.shape, X_test.shape, y_train.shape, y_test.shape"
   ]
  },
  {
   "cell_type": "code",
   "execution_count": 239,
   "id": "Muqs9hKYhMUS",
   "metadata": {
    "colab": {
     "base_uri": "https://localhost:8080/"
    },
    "id": "Muqs9hKYhMUS",
    "outputId": "d35136a0-5855-4bfb-b66b-b8f7a1a8ea96",
    "ExecuteTime": {
     "end_time": "2023-08-23T13:40:44.000056100Z",
     "start_time": "2023-08-23T13:40:43.982624600Z"
    }
   },
   "outputs": [
    {
     "data": {
      "text/plain": "(torch.Size([6183, 28, 1]),\n torch.Size([326, 28, 1]),\n torch.Size([6183, 4]),\n torch.Size([326, 4]))"
     },
     "execution_count": 239,
     "metadata": {},
     "output_type": "execute_result"
    }
   ],
   "source": [
    "X_train = X_train.reshape((-1, lookback*4, 1))\n",
    "X_test = X_test.reshape((-1, lookback*4, 1))\n",
    "\n",
    "y_train = y_train.reshape((-1, 4))\n",
    "y_test = y_test.reshape((-1, 4))\n",
    "\n",
    "X_train.shape, X_test.shape, y_train.shape, y_test.shape"
   ]
  },
  {
   "cell_type": "code",
   "execution_count": 240,
   "id": "i7-PBcrMhR7z",
   "metadata": {
    "colab": {
     "base_uri": "https://localhost:8080/"
    },
    "id": "i7-PBcrMhR7z",
    "outputId": "b01a297a-75d6-4573-e450-a3545360112e",
    "ExecuteTime": {
     "end_time": "2023-08-23T13:40:54.752921500Z",
     "start_time": "2023-08-23T13:40:54.729502800Z"
    }
   },
   "outputs": [
    {
     "name": "stderr",
     "output_type": "stream",
     "text": [
      "C:\\Users\\o00494123\\AppData\\Local\\Temp\\ipykernel_4140\\4239149354.py:1: UserWarning: To copy construct from a tensor, it is recommended to use sourceTensor.clone().detach() or sourceTensor.clone().detach().requires_grad_(True), rather than torch.tensor(sourceTensor).\n",
      "  X_train = torch.tensor(X_train).float()\n",
      "C:\\Users\\o00494123\\AppData\\Local\\Temp\\ipykernel_4140\\4239149354.py:2: UserWarning: To copy construct from a tensor, it is recommended to use sourceTensor.clone().detach() or sourceTensor.clone().detach().requires_grad_(True), rather than torch.tensor(sourceTensor).\n",
      "  y_train = torch.tensor(y_train).float()\n",
      "C:\\Users\\o00494123\\AppData\\Local\\Temp\\ipykernel_4140\\4239149354.py:3: UserWarning: To copy construct from a tensor, it is recommended to use sourceTensor.clone().detach() or sourceTensor.clone().detach().requires_grad_(True), rather than torch.tensor(sourceTensor).\n",
      "  X_test = torch.tensor(X_test).float()\n",
      "C:\\Users\\o00494123\\AppData\\Local\\Temp\\ipykernel_4140\\4239149354.py:4: UserWarning: To copy construct from a tensor, it is recommended to use sourceTensor.clone().detach() or sourceTensor.clone().detach().requires_grad_(True), rather than torch.tensor(sourceTensor).\n",
      "  y_test = torch.tensor(y_test).float()\n"
     ]
    },
    {
     "data": {
      "text/plain": "(torch.Size([6183, 28, 1]),\n torch.Size([326, 28, 1]),\n torch.Size([6183, 4]),\n torch.Size([326, 4]))"
     },
     "execution_count": 240,
     "metadata": {},
     "output_type": "execute_result"
    }
   ],
   "source": [
    "X_train = torch.tensor(X_train).float()\n",
    "y_train = torch.tensor(y_train).float()\n",
    "X_test = torch.tensor(X_test).float()\n",
    "y_test = torch.tensor(y_test).float()\n",
    "\n",
    "X_train.shape, X_test.shape, y_train.shape, y_test.shape"
   ]
  },
  {
   "cell_type": "code",
   "execution_count": 241,
   "id": "DWutCAGKhdqU",
   "metadata": {
    "id": "DWutCAGKhdqU",
    "ExecuteTime": {
     "end_time": "2023-08-23T13:40:59.984389Z",
     "start_time": "2023-08-23T13:40:59.975Z"
    }
   },
   "outputs": [],
   "source": [
    "from torch.utils.data import Dataset\n",
    "\n",
    "class TimeSeriesDataset(Dataset):\n",
    "    def __init__(self, X, y):\n",
    "        self.X = X\n",
    "        self.y = y\n",
    "\n",
    "    def __len__(self):\n",
    "        return len(self.X)\n",
    "\n",
    "    def __getitem__(self, i):\n",
    "        return self.X[i], self.y[i]\n",
    "    \n",
    "train_dataset = TimeSeriesDataset(X_train, y_train)\n",
    "test_dataset = TimeSeriesDataset(X_test, y_test)"
   ]
  },
  {
   "cell_type": "code",
   "execution_count": 242,
   "id": "12OWUTa5ijoq",
   "metadata": {
    "colab": {
     "base_uri": "https://localhost:8080/"
    },
    "id": "12OWUTa5ijoq",
    "outputId": "0928d3c2-d181-4035-cc57-a2ac6ce38075",
    "ExecuteTime": {
     "end_time": "2023-08-23T13:41:01.813378600Z",
     "start_time": "2023-08-23T13:41:01.803136500Z"
    }
   },
   "outputs": [
    {
     "data": {
      "text/plain": "<__main__.TimeSeriesDataset at 0x1234356c350>"
     },
     "execution_count": 242,
     "metadata": {},
     "output_type": "execute_result"
    }
   ],
   "source": [
    "train_dataset"
   ]
  },
  {
   "cell_type": "code",
   "execution_count": 243,
   "id": "XYsUmPl3ik46",
   "metadata": {
    "id": "XYsUmPl3ik46",
    "ExecuteTime": {
     "end_time": "2023-08-23T13:41:03.928349Z",
     "start_time": "2023-08-23T13:41:03.911828900Z"
    }
   },
   "outputs": [],
   "source": [
    "from torch.utils.data import DataLoader\n",
    "\n",
    "batch_size = 16\n",
    "\n",
    "train_loader = DataLoader(train_dataset, batch_size=batch_size, shuffle=True)\n",
    "test_loader = DataLoader(test_dataset, batch_size=batch_size, shuffle=False)"
   ]
  },
  {
   "cell_type": "code",
   "execution_count": 244,
   "id": "TJTnbgBDjOSK",
   "metadata": {
    "colab": {
     "base_uri": "https://localhost:8080/"
    },
    "id": "TJTnbgBDjOSK",
    "outputId": "51226616-d4de-4a22-f4d9-576fd3e8bfba",
    "ExecuteTime": {
     "end_time": "2023-08-23T13:41:05.154015900Z",
     "start_time": "2023-08-23T13:41:05.143823400Z"
    }
   },
   "outputs": [
    {
     "name": "stdout",
     "output_type": "stream",
     "text": [
      "torch.Size([16, 28, 1]) torch.Size([16, 4])\n"
     ]
    }
   ],
   "source": [
    "for _, batch in enumerate(train_loader):\n",
    "    x_batch, y_batch = batch[0].to(device), batch[1].to(device)\n",
    "    print(x_batch.shape, y_batch.shape)\n",
    "    break"
   ]
  },
  {
   "cell_type": "code",
   "execution_count": 245,
   "id": "njdkq_kmjib5",
   "metadata": {
    "colab": {
     "base_uri": "https://localhost:8080/"
    },
    "id": "njdkq_kmjib5",
    "outputId": "db355c8d-cc21-43f5-cdfa-2156444b4531",
    "ExecuteTime": {
     "end_time": "2023-08-23T13:41:07.811609200Z",
     "start_time": "2023-08-23T13:41:07.779797800Z"
    }
   },
   "outputs": [
    {
     "data": {
      "text/plain": "LSTM(\n  (lstm): LSTM(1, 4, batch_first=True)\n  (fc): Linear(in_features=4, out_features=4, bias=True)\n)"
     },
     "execution_count": 245,
     "metadata": {},
     "output_type": "execute_result"
    }
   ],
   "source": [
    "class LSTM(nn.Module):\n",
    "    def __init__(self, input_size, hidden_size, num_stacked_layers):\n",
    "        super().__init__()\n",
    "        self.hidden_size = hidden_size\n",
    "        self.num_stacked_layers = num_stacked_layers\n",
    "\n",
    "        self.lstm = nn.LSTM(input_size, hidden_size, num_stacked_layers, \n",
    "                            batch_first=True)\n",
    "        \n",
    "        self.fc = nn.Linear(hidden_size, 4)\n",
    "\n",
    "    def forward(self, x):\n",
    "        batch_size = x.size(0)\n",
    "        h0 = torch.zeros(self.num_stacked_layers, batch_size, self.hidden_size).to(device)\n",
    "        c0 = torch.zeros(self.num_stacked_layers, batch_size, self.hidden_size).to(device)\n",
    "        \n",
    "        out, _ = self.lstm(x, (h0, c0))\n",
    "        out = self.fc(out[:, -1, :])\n",
    "        return out\n",
    "\n",
    "model = LSTM(1, 4, 1)\n",
    "model.to(device)\n",
    "model"
   ]
  },
  {
   "cell_type": "code",
   "execution_count": 246,
   "id": "iue5WvTxmVKB",
   "metadata": {
    "id": "iue5WvTxmVKB",
    "ExecuteTime": {
     "end_time": "2023-08-23T13:41:09.054842700Z",
     "start_time": "2023-08-23T13:41:09.047767900Z"
    }
   },
   "outputs": [],
   "source": [
    "def train_one_epoch():\n",
    "    model.train(True)\n",
    "    print(f'Epoch: {epoch + 1}')\n",
    "    running_loss = 0.0\n",
    "    \n",
    "    for batch_index, batch in enumerate(train_loader):\n",
    "        x_batch, y_batch = batch[0].to(device), batch[1].to(device)\n",
    "        \n",
    "        output = model(x_batch)\n",
    "        loss = loss_function(output, y_batch)\n",
    "        running_loss += loss.item()\n",
    "        \n",
    "        optimizer.zero_grad()\n",
    "        loss.backward()\n",
    "        optimizer.step()\n",
    "\n",
    "        if batch_index % 100 == 99:  # print every 100 batches\n",
    "            avg_loss_across_batches = running_loss / 100\n",
    "            print('Batch {0}, Loss: {1:.3f}'.format(batch_index+1,\n",
    "                                                    avg_loss_across_batches))\n",
    "            running_loss = 0.0\n",
    "    print()"
   ]
  },
  {
   "cell_type": "code",
   "execution_count": 247,
   "id": "gRmNuV3cmy-t",
   "metadata": {
    "id": "gRmNuV3cmy-t",
    "ExecuteTime": {
     "end_time": "2023-08-23T13:41:09.540256700Z",
     "start_time": "2023-08-23T13:41:09.508526Z"
    }
   },
   "outputs": [],
   "source": [
    "def validate_one_epoch():\n",
    "    model.train(False)\n",
    "    running_loss = 0.0\n",
    "    \n",
    "    for batch_index, batch in enumerate(test_loader):\n",
    "        x_batch, y_batch = batch[0].to(device), batch[1].to(device)\n",
    "        \n",
    "        with torch.no_grad():\n",
    "            output = model(x_batch)\n",
    "            loss = loss_function(output, y_batch)\n",
    "            running_loss += loss.item()\n",
    "\n",
    "    avg_loss_across_batches = running_loss / len(test_loader)\n",
    "    \n",
    "    print('Val Loss: {0:.3f}'.format(avg_loss_across_batches))\n",
    "    print('***************************************************')\n",
    "    print()"
   ]
  },
  {
   "cell_type": "code",
   "execution_count": 248,
   "id": "1jgb1aJ3lxlQ",
   "metadata": {
    "colab": {
     "base_uri": "https://localhost:8080/"
    },
    "id": "1jgb1aJ3lxlQ",
    "outputId": "2a25db36-4872-44e4-feca-4d26bad49f96",
    "ExecuteTime": {
     "end_time": "2023-08-23T13:41:15.072727400Z",
     "start_time": "2023-08-23T13:41:10.288400300Z"
    }
   },
   "outputs": [
    {
     "name": "stdout",
     "output_type": "stream",
     "text": [
      "Epoch: 1\n",
      "Batch 100, Loss: 0.376\n",
      "Batch 200, Loss: 0.185\n",
      "Batch 300, Loss: 0.080\n",
      "\n",
      "Val Loss: 0.158\n",
      "***************************************************\n",
      "\n",
      "Epoch: 2\n",
      "Batch 100, Loss: 0.027\n",
      "Batch 200, Loss: 0.022\n",
      "Batch 300, Loss: 0.017\n",
      "\n",
      "Val Loss: 0.024\n",
      "***************************************************\n",
      "\n",
      "Epoch: 3\n",
      "Batch 100, Loss: 0.009\n",
      "Batch 200, Loss: 0.008\n",
      "Batch 300, Loss: 0.007\n",
      "\n",
      "Val Loss: 0.009\n",
      "***************************************************\n",
      "\n",
      "Epoch: 4\n",
      "Batch 100, Loss: 0.006\n",
      "Batch 200, Loss: 0.006\n",
      "Batch 300, Loss: 0.004\n",
      "\n",
      "Val Loss: 0.006\n",
      "***************************************************\n",
      "\n",
      "Epoch: 5\n",
      "Batch 100, Loss: 0.005\n",
      "Batch 200, Loss: 0.004\n",
      "Batch 300, Loss: 0.005\n",
      "\n",
      "Val Loss: 0.004\n",
      "***************************************************\n",
      "\n",
      "Epoch: 6\n",
      "Batch 100, Loss: 0.004\n",
      "Batch 200, Loss: 0.005\n",
      "Batch 300, Loss: 0.004\n",
      "\n",
      "Val Loss: 0.003\n",
      "***************************************************\n",
      "\n",
      "Epoch: 7\n",
      "Batch 100, Loss: 0.004\n",
      "Batch 200, Loss: 0.006\n",
      "Batch 300, Loss: 0.004\n",
      "\n",
      "Val Loss: 0.003\n",
      "***************************************************\n",
      "\n",
      "Epoch: 8\n",
      "Batch 100, Loss: 0.005\n",
      "Batch 200, Loss: 0.004\n",
      "Batch 300, Loss: 0.004\n",
      "\n",
      "Val Loss: 0.003\n",
      "***************************************************\n",
      "\n",
      "Epoch: 9\n",
      "Batch 100, Loss: 0.004\n",
      "Batch 200, Loss: 0.004\n",
      "Batch 300, Loss: 0.004\n",
      "\n",
      "Val Loss: 0.003\n",
      "***************************************************\n",
      "\n",
      "Epoch: 10\n",
      "Batch 100, Loss: 0.004\n",
      "Batch 200, Loss: 0.003\n",
      "Batch 300, Loss: 0.005\n",
      "\n",
      "Val Loss: 0.002\n",
      "***************************************************\n"
     ]
    }
   ],
   "source": [
    "learning_rate = 0.001\n",
    "num_epochs = 10\n",
    "loss_function = nn.MSELoss()\n",
    "optimizer = torch.optim.Adam(model.parameters(), lr=learning_rate)\n",
    "\n",
    "for epoch in range(num_epochs):\n",
    "    train_one_epoch()\n",
    "    validate_one_epoch()"
   ]
  },
  {
   "cell_type": "code",
   "execution_count": 332,
   "id": "-Xon2PHWno7t",
   "metadata": {
    "colab": {
     "base_uri": "https://localhost:8080/",
     "height": 449
    },
    "id": "-Xon2PHWno7t",
    "outputId": "862b1d87-3e42-4fe1-8618-3cf0720e0da5",
    "ExecuteTime": {
     "end_time": "2023-08-23T15:14:30.785196400Z",
     "start_time": "2023-08-23T15:14:30.654144500Z"
    }
   },
   "outputs": [
    {
     "name": "stdout",
     "output_type": "stream",
     "text": [
      "(6183, 4)\n"
     ]
    },
    {
     "data": {
      "text/plain": "<Figure size 640x480 with 1 Axes>",
      "image/png": "[encoded data removed]"
     },
     "metadata": {},
     "output_type": "display_data"
    }
   ],
   "source": [
    "with torch.no_grad():\n",
    "    predicted = model(X_train.to(device)).to('cpu').numpy()\n",
    "\n",
    "print(predicted.shape)\n",
    "CLOSE_IND = 0\n",
    "LOW_IND = 1\n",
    "HIGH_IND = 2\n",
    "VOLUME_IND = 3\n",
    "\n",
    "OUT_VALUE = CLOSE_IND\n",
    "\n",
    "plt.plot(y_train[:,OUT_VALUE], label='Actual Close')\n",
    "plt.plot(predicted[:,OUT_VALUE], label='Predicted Close')\n",
    "plt.xlabel('Day')\n",
    "plt.ylabel('Close')\n",
    "plt.legend()\n",
    "plt.show()\n"
   ]
  },
  {
   "cell_type": "markdown",
   "id": "2MM2o0_bW3hd",
   "metadata": {
    "id": "2MM2o0_bW3hd"
   },
   "source": [
    "# Translate back to real prices"
   ]
  },
  {
   "cell_type": "code",
   "execution_count": 333,
   "id": "d3SDgEvPpOcD",
   "metadata": {
    "colab": {
     "base_uri": "https://localhost:8080/"
    },
    "id": "d3SDgEvPpOcD",
    "outputId": "e9b8491e-b15e-4aa5-ae97-6619bb4a3be9",
    "ExecuteTime": {
     "end_time": "2023-08-23T15:14:32.419762300Z",
     "start_time": "2023-08-23T15:14:32.415894100Z"
    }
   },
   "outputs": [
    {
     "data": {
      "text/plain": "array([1.74246316e+07, 1.72072575e+07, 1.70652093e+07, ...,\n       1.92748936e+09, 1.92015788e+09, 1.92236999e+09])"
     },
     "execution_count": 333,
     "metadata": {},
     "output_type": "execute_result"
    }
   ],
   "source": [
    "train_predictions = predicted[:,OUT_VALUE].flatten()\n",
    "\n",
    "dummies = np.zeros((X_train.shape[0], lookback+1))\n",
    "dummies[:, 0] = train_predictions\n",
    "dummies = scaler.inverse_transform(dummies)\n",
    "\n",
    "train_predictions = dc(dummies[:, 0])\n",
    "train_predictions"
   ]
  },
  {
   "cell_type": "code",
   "execution_count": 334,
   "outputs": [
    {
     "data": {
      "text/plain": "(torch.Size([6183, 28, 1]), torch.Size([6183, 4]))"
     },
     "execution_count": 334,
     "metadata": {},
     "output_type": "execute_result"
    }
   ],
   "source": [
    "X_train.shape, y_train.shape"
   ],
   "metadata": {
    "collapsed": false,
    "ExecuteTime": {
     "end_time": "2023-08-23T15:14:33.051215500Z",
     "start_time": "2023-08-23T15:14:33.035398700Z"
    }
   },
   "id": "a095f974918956e0"
  },
  {
   "cell_type": "code",
   "execution_count": 335,
   "id": "PHnvejOdrL7Q",
   "metadata": {
    "colab": {
     "base_uri": "https://localhost:8080/"
    },
    "id": "PHnvejOdrL7Q",
    "outputId": "952cb861-3f21-42d2-f1b2-9e489c9cdcd7",
    "ExecuteTime": {
     "end_time": "2023-08-23T15:14:33.705047Z",
     "start_time": "2023-08-23T15:14:33.669327800Z"
    }
   },
   "outputs": [
    {
     "data": {
      "text/plain": "array([9.83678009e+06, 9.80781339e+06, 9.79326815e+06, ...,\n       1.89193985e+09, 1.93897224e+09, 1.88948437e+09])"
     },
     "execution_count": 335,
     "metadata": {},
     "output_type": "execute_result"
    }
   ],
   "source": [
    "dummies = np.zeros((X_train.shape[0], lookback+1))\n",
    "dummies[:, 0] = y_train[:, OUT_VALUE].flatten()\n",
    "dummies = scaler.inverse_transform(dummies)\n",
    "\n",
    "new_y_train = dc(dummies[:, 0])\n",
    "new_y_train"
   ]
  },
  {
   "cell_type": "code",
   "execution_count": 336,
   "id": "2LlDAUtyrcrN",
   "metadata": {
    "colab": {
     "base_uri": "https://localhost:8080/",
     "height": 449
    },
    "id": "2LlDAUtyrcrN",
    "outputId": "819c2ff2-be0d-4781-d164-915936251f66",
    "ExecuteTime": {
     "end_time": "2023-08-23T15:14:34.418059600Z",
     "start_time": "2023-08-23T15:14:34.351136400Z"
    }
   },
   "outputs": [
    {
     "data": {
      "text/plain": "<Figure size 640x480 with 1 Axes>",
      "image/png": "[encoded data removed]"
     },
     "metadata": {},
     "output_type": "display_data"
    }
   ],
   "source": [
    "plt.plot(new_y_train, label='Actual Close')\n",
    "plt.plot(train_predictions, label='Predicted Close')\n",
    "plt.xlabel('Day')\n",
    "plt.ylabel('Close')\n",
    "plt.legend()\n",
    "plt.show()\n"
   ]
  },
  {
   "cell_type": "code",
   "execution_count": 337,
   "id": "yYeC2JMorftR",
   "metadata": {
    "colab": {
     "base_uri": "https://localhost:8080/"
    },
    "id": "yYeC2JMorftR",
    "outputId": "94df7137-866f-42aa-cb02-5a78961f6779",
    "ExecuteTime": {
     "end_time": "2023-08-23T15:14:34.990067200Z",
     "start_time": "2023-08-23T15:14:34.958820300Z"
    }
   },
   "outputs": [
    {
     "data": {
      "text/plain": "array([1.91411541e+09, 1.90905818e+09, 1.89949645e+09, 1.90024791e+09,\n       1.90405790e+09, 1.90777325e+09, 1.90612122e+09, 1.90812271e+09,\n       1.90614746e+09, 1.90433810e+09, 1.89705328e+09, 1.89900426e+09,\n       1.89434279e+09, 1.88337871e+09, 1.87112821e+09, 1.86062518e+09,\n       1.84817971e+09, 1.85038316e+09, 1.85192459e+09, 1.84338696e+09,\n       1.83951131e+09, 1.82838995e+09, 1.81291932e+09, 1.78774348e+09,\n       1.73821761e+09, 1.70234514e+09, 1.66462876e+09, 1.63267843e+09,\n       1.61385132e+09, 1.61559260e+09, 1.63924787e+09, 1.66528342e+09,\n       1.68194887e+09, 1.65575103e+09, 1.69628342e+09, 1.72920971e+09,\n       1.76084072e+09, 1.78244728e+09, 1.79070725e+09, 1.77993188e+09,\n       1.78001074e+09, 1.77839745e+09, 1.78138096e+09, 1.77345250e+09,\n       1.76031617e+09, 1.74358425e+09, 1.71615006e+09, 1.71209714e+09,\n       1.71973110e+09, 1.72519869e+09, 1.72301238e+09, 1.72402603e+09,\n       1.71293884e+09, 1.69821460e+09, 1.65822316e+09, 1.62046525e+09,\n       1.60431100e+09, 1.62119790e+09, 1.63089995e+09, 1.62618092e+09,\n       1.64061166e+09, 1.67281328e+09, 1.71019944e+09, 1.74840083e+09,\n       1.77494045e+09, 1.80358239e+09, 1.82205633e+09, 1.83370992e+09,\n       1.84388385e+09, 1.86093261e+09, 1.87393476e+09, 1.87574772e+09,\n       1.86740494e+09, 1.86242663e+09, 1.87018512e+09, 1.86587273e+09,\n       1.84619574e+09, 1.82714587e+09, 1.80496678e+09, 1.77879766e+09,\n       1.75751420e+09, 1.75310711e+09, 1.74195988e+09, 1.73808664e+09,\n       1.75131885e+09, 1.75161799e+09, 1.73467773e+09, 1.70852321e+09,\n       1.69158481e+09, 1.65913097e+09, 1.62924396e+09, 1.62794163e+09,\n       1.55848912e+09, 1.50606638e+09, 1.46957388e+09, 1.44940223e+09,\n       1.40343508e+09, 1.36386153e+09, 1.31225379e+09, 1.28014743e+09,\n       1.24503799e+09, 1.22691400e+09, 1.24032332e+09, 1.24533339e+09,\n       1.26679266e+09, 1.25075211e+09, 1.23832382e+09, 1.23049129e+09,\n       1.22475106e+09, 1.20663273e+09, 1.20484035e+09, 1.22103221e+09,\n       1.25131287e+09, 1.29284236e+09, 1.32800044e+09, 1.36573796e+09,\n       1.37995980e+09, 1.39710292e+09, 1.40060578e+09, 1.39485546e+09,\n       1.36982910e+09, 1.32555910e+09, 1.26907933e+09, 1.22429125e+09,\n       1.21441326e+09, 1.19530199e+09, 1.19325875e+09, 1.20368651e+09,\n       1.21437470e+09, 1.23619569e+09, 1.26765993e+09, 1.27650100e+09,\n       1.25883880e+09, 1.24981710e+09, 1.23212646e+09, 1.23298367e+09,\n       1.24942598e+09, 1.26564789e+09, 1.28550812e+09, 1.29693329e+09,\n       1.28892462e+09, 1.27234799e+09, 1.26345172e+09, 1.25821998e+09,\n       1.26685976e+09, 1.27453971e+09, 1.29742851e+09, 1.33255929e+09,\n       1.36499531e+09, 1.37844152e+09, 1.38128376e+09, 1.35726742e+09,\n       1.36196746e+09, 1.37068736e+09, 1.42644423e+09, 1.46835688e+09,\n       1.49298458e+09, 1.52800315e+09, 1.56454829e+09, 1.58285695e+09,\n       1.58992173e+09, 1.58532141e+09, 1.59870805e+09, 1.60217805e+09,\n       1.61254670e+09, 1.61858589e+09, 1.62856801e+09, 1.62723956e+09,\n       1.62674119e+09, 1.61112814e+09, 1.58194109e+09, 1.56043279e+09,\n       1.54572532e+09, 1.54785772e+09, 1.52803484e+09, 1.50928998e+09,\n       1.49271620e+09, 1.47529657e+09, 1.46581493e+09, 1.45925521e+09,\n       1.44891821e+09, 1.45542328e+09, 1.46256221e+09, 1.48104683e+09,\n       1.50667803e+09, 1.48940329e+09, 1.48109195e+09, 1.46709841e+09,\n       1.44529818e+09, 1.43382988e+09, 1.41658200e+09, 1.39012621e+09,\n       1.36827174e+09, 1.33891544e+09, 1.32408134e+09, 1.31245832e+09,\n       1.31859815e+09, 1.31242512e+09, 1.30162088e+09, 1.30466285e+09,\n       1.32898646e+09, 1.34581580e+09, 1.35529970e+09, 1.33821507e+09,\n       1.32157581e+09, 1.30390291e+09, 1.29381395e+09, 1.28423582e+09,\n       1.25728784e+09, 1.26482392e+09, 1.28331287e+09, 1.29202532e+09,\n       1.29862038e+09, 1.31825584e+09, 1.33454382e+09, 1.34971807e+09,\n       1.33947435e+09, 1.31205777e+09, 1.26166011e+09, 1.22173933e+09,\n       1.17162743e+09, 1.11873660e+09, 1.07143733e+09, 1.04702622e+09,\n       1.03140228e+09, 1.02099648e+09, 9.99717723e+08, 1.02760367e+09,\n       1.06648392e+09, 1.08555291e+09, 1.09913765e+09, 1.10005950e+09,\n       1.09055152e+09, 1.08048065e+09, 1.06503654e+09, 1.05681570e+09,\n       1.05600150e+09, 1.05327255e+09, 1.05402470e+09, 1.04881754e+09,\n       1.06123591e+09, 1.06706104e+09, 1.06532339e+09, 1.05101522e+09,\n       1.02952907e+09, 1.01490576e+09, 1.01274048e+09, 1.00681053e+09,\n       1.00892037e+09, 1.01903066e+09, 1.02323840e+09, 1.01382636e+09,\n       1.00412777e+09, 9.85256098e+08, 9.73160931e+08, 9.71116961e+08,\n       9.58320976e+08, 9.55560853e+08, 9.45988357e+08, 9.34603137e+08,\n       9.36319515e+08, 9.37199432e+08, 9.45224717e+08, 9.48743443e+08,\n       9.43041104e+08, 9.50221232e+08, 9.61265753e+08, 9.78520521e+08,\n       1.01173590e+09, 1.03580555e+09, 1.06325844e+09, 1.07381586e+09,\n       1.07693640e+09, 1.07059395e+09, 1.07902626e+09, 1.08604281e+09,\n       1.08643042e+09, 1.08877941e+09, 1.09945603e+09, 1.11928309e+09,\n       1.12678582e+09, 1.14115678e+09, 1.15882947e+09, 1.20264832e+09,\n       1.19553069e+09, 1.18293689e+09, 1.17183346e+09, 1.15644126e+09,\n       1.13814155e+09, 1.12263686e+09, 1.11892964e+09, 1.11965048e+09,\n       1.12664693e+09, 1.12014649e+09, 1.11137261e+09, 1.09489135e+09,\n       1.08789934e+09, 1.08320963e+09, 1.07133624e+09, 1.06406119e+09,\n       1.06155980e+09, 1.05218803e+09, 1.04567413e+09, 1.05221326e+09,\n       1.05307872e+09, 1.05310755e+09, 1.05430537e+09, 1.04857989e+09,\n       1.03846244e+09, 1.03749339e+09, 1.04708042e+09, 1.05977189e+09,\n       1.08433107e+09, 1.09752154e+09, 1.10107507e+09, 1.11431556e+09,\n       1.11567942e+09, 1.11554825e+09, 1.11253409e+09, 1.10951032e+09,\n       1.10440870e+09, 1.11303347e+09, 1.12637717e+09, 1.14146249e+09,\n       1.14835057e+09, 1.15866754e+09])"
     },
     "execution_count": 337,
     "metadata": {},
     "output_type": "execute_result"
    }
   ],
   "source": [
    "test_predictions = model(X_test.to(device)).detach().cpu().numpy()\n",
    "test_predictions = test_predictions[:,OUT_VALUE].flatten()\n",
    "\n",
    "dummies = np.zeros((X_test.shape[0], lookback+1))\n",
    "dummies[:, 0] = test_predictions\n",
    "dummies = scaler.inverse_transform(dummies)\n",
    "\n",
    "test_predictions = dc(dummies[:, 0])\n",
    "test_predictions"
   ]
  },
  {
   "cell_type": "code",
   "execution_count": 338,
   "id": "g-DJXBgYsFyI",
   "metadata": {
    "colab": {
     "base_uri": "https://localhost:8080/"
    },
    "id": "g-DJXBgYsFyI",
    "outputId": "b606685e-137b-41ef-8a56-6171133ed013",
    "ExecuteTime": {
     "end_time": "2023-08-23T15:14:35.817792100Z",
     "start_time": "2023-08-23T15:14:35.798683300Z"
    }
   },
   "outputs": [
    {
     "data": {
      "text/plain": "array([1.90225163e+09, 1.86952879e+09, 1.90670049e+09, 1.91360472e+09,\n       1.91395541e+09, 1.89837628e+09, 1.90941754e+09, 1.89315924e+09,\n       1.88696204e+09, 1.86549759e+09, 1.90656117e+09, 1.87446204e+09,\n       1.83921687e+09, 1.82693400e+09, 1.81913893e+09, 1.80724568e+09,\n       1.85040848e+09, 1.84868242e+09, 1.80421687e+09, 1.81450636e+09,\n       1.77864317e+09, 1.74948386e+09, 1.69790797e+09, 1.59741222e+09,\n       1.61858155e+09, 1.56782404e+09, 1.55542428e+09, 1.56394321e+09,\n       1.61227857e+09, 1.67458947e+09, 1.69262959e+09, 1.68615968e+09,\n       1.55512369e+09, 1.76441155e+09, 1.76770781e+09, 1.80643839e+09,\n       1.80394398e+09, 1.77960087e+09, 1.71601500e+09, 1.73687815e+09,\n       1.75183914e+09, 1.76954515e+09, 1.73114862e+09, 1.70830893e+09,\n       1.68153820e+09, 1.62173292e+09, 1.69446149e+09, 1.72152722e+09,\n       1.71901615e+09, 1.69205608e+09, 1.70219541e+09, 1.65593683e+09,\n       1.63079764e+09, 1.53961694e+09, 1.52359786e+09, 1.55995110e+09,\n       1.64389900e+09, 1.62950033e+09, 1.58861476e+09, 1.65001259e+09,\n       1.71390477e+09, 1.75995161e+09, 1.80462333e+09, 1.80730702e+09,\n       1.84514131e+09, 1.82864904e+09, 1.83133836e+09, 1.84385501e+09,\n       1.89081498e+09, 1.89442870e+09, 1.86086502e+09, 1.82407763e+09,\n       1.83034161e+09, 1.88364349e+09, 1.83585383e+09, 1.77684476e+09,\n       1.76602626e+09, 1.72901053e+09, 1.69183332e+09, 1.68810850e+09,\n       1.74104291e+09, 1.69834229e+09, 1.71035245e+09, 1.76971221e+09,\n       1.72386021e+09, 1.66036342e+09, 1.61642118e+09, 1.63561948e+09,\n       1.56119831e+09, 1.54756799e+09, 1.61916609e+09, 1.39294053e+09,\n       1.39537370e+09, 1.39262871e+09, 1.41128128e+09, 1.30525091e+09,\n       1.28704930e+09, 1.22041772e+09, 1.22119722e+09, 1.18236639e+09,\n       1.19972160e+09, 1.26792342e+09, 1.24292892e+09, 1.29368631e+09,\n       1.20174842e+09, 1.20404795e+09, 1.20707693e+09, 1.20669828e+09,\n       1.16820149e+09, 1.19799004e+09, 1.24590218e+09, 1.29121413e+09,\n       1.34759518e+09, 1.36401499e+09, 1.40663209e+09, 1.37143152e+09,\n       1.39860312e+09, 1.37866985e+09, 1.35840254e+09, 1.30238902e+09,\n       1.23000573e+09, 1.16341305e+09, 1.14826825e+09, 1.20795663e+09,\n       1.16330176e+09, 1.19180961e+09, 1.21920389e+09, 1.22221055e+09,\n       1.26107487e+09, 1.30584112e+09, 1.26976085e+09, 1.20494997e+09,\n       1.22187649e+09, 1.19169823e+09, 1.22900346e+09, 1.27287889e+09,\n       1.28212170e+09, 1.30439348e+09, 1.29559612e+09, 1.25339108e+09,\n       1.22521728e+09, 1.23835764e+09, 1.24091884e+09, 1.27343571e+09,\n       1.27577424e+09, 1.32532892e+09, 1.37610856e+09, 1.39682133e+09,\n       1.37221102e+09, 1.35795709e+09, 1.28746689e+09, 1.35606401e+09,\n       1.37065202e+09, 1.51174373e+09, 1.51664353e+09, 1.50294646e+09,\n       1.56263482e+09, 1.59659936e+09, 1.57688876e+09, 1.56140989e+09,\n       1.54381516e+09, 1.59793560e+09, 1.57510699e+09, 1.60751244e+09,\n       1.60339205e+09, 1.62120954e+09, 1.59136542e+09, 1.59359258e+09,\n       1.54826944e+09, 1.49247868e+09, 1.49693296e+09, 1.49893751e+09,\n       1.53769038e+09, 1.46497301e+09, 1.45428247e+09, 1.44247848e+09,\n       1.42065213e+09, 1.43234487e+09, 1.42889276e+09, 1.41330248e+09,\n       1.45083039e+09, 1.45461673e+09, 1.49303552e+09, 1.52844755e+09,\n       1.42120897e+09, 1.44047408e+09, 1.41519556e+09, 1.38457188e+09,\n       1.39715550e+09, 1.36964982e+09, 1.32900379e+09, 1.31530662e+09,\n       1.27599693e+09, 1.29125314e+09, 1.28301259e+09, 1.32310179e+09,\n       1.28735559e+09, 1.26731094e+09, 1.29938227e+09, 1.35740025e+09,\n       1.35584125e+09, 1.34860298e+09, 1.28468291e+09, 1.27477197e+09,\n       1.25851357e+09, 1.26619738e+09, 1.26207707e+09, 1.19938204e+09,\n       1.27610831e+09, 1.30472754e+09, 1.29036224e+09, 1.29236670e+09,\n       1.33768977e+09, 1.34325772e+09, 1.35194371e+09, 1.29693245e+09,\n       1.24459371e+09, 1.16051779e+09, 1.14971595e+09, 1.08679816e+09,\n       1.03479356e+09, 1.00339035e+09, 1.02209865e+09, 1.01708745e+09,\n       1.01096276e+09, 9.68200887e+08, 1.08501637e+09, 1.13134172e+09,\n       1.10572914e+09, 1.11074033e+09, 1.09047302e+09, 1.06519449e+09,\n       1.05728802e+09, 1.03857972e+09, 1.04682026e+09, 1.05717664e+09,\n       1.04915887e+09, 1.05517218e+09, 1.03813428e+09, 1.08401418e+09,\n       1.07243284e+09, 1.05717664e+09, 1.02243271e+09, 9.91697630e+08,\n       9.94036157e+08, 1.01508298e+09, 1.00105173e+09, 1.01731021e+09,\n       1.03891379e+09, 1.02878017e+09, 9.93924774e+08, 9.87354644e+08,\n       9.54615087e+08, 9.57621821e+08, 9.75216476e+08, 9.42031564e+08,\n       9.58289959e+08, 9.33679646e+08, 9.20093846e+08, 9.46374549e+08,\n       9.44370091e+08, 9.64637418e+08, 9.57064994e+08, 9.34570542e+08,\n       9.67532765e+08, 9.81786702e+08, 1.00973781e+09, 1.06786708e+09,\n       1.06987155e+09, 1.10160891e+09, 1.07855762e+09, 1.07198740e+09,\n       1.05216552e+09, 1.09192065e+09, 1.09492731e+09, 1.08156427e+09,\n       1.09114114e+09, 1.11385837e+09, 1.14748873e+09, 1.12866913e+09,\n       1.15739966e+09, 1.17989422e+09, 1.26630876e+09, 1.16029502e+09,\n       1.14682060e+09, 1.14604110e+09, 1.12310118e+09, 1.10294516e+09,\n       1.09592959e+09, 1.11742185e+09, 1.11920355e+09, 1.13546203e+09,\n       1.10194298e+09, 1.09136383e+09, 1.06218785e+09, 1.07566226e+09,\n       1.07599633e+09, 1.05016106e+09, 1.05305641e+09, 1.05829029e+09,\n       1.03535030e+09, 1.03490486e+09, 1.06575133e+09, 1.05294503e+09,\n       1.05071789e+09, 1.05483811e+09, 1.03624120e+09, 1.01931467e+09,\n       1.03824566e+09, 1.06552856e+09, 1.08022793e+09, 1.12298980e+09,\n       1.11085163e+09, 1.09704315e+09, 1.12933726e+09, 1.10806766e+09,\n       1.10817904e+09, 1.10172020e+09, 1.10071802e+09, 1.09180927e+09,\n       1.12532833e+09, 1.14481614e+09, 1.15918145e+09, 1.14938190e+09,\n       1.16653109e+09, 1.13479381e+09])"
     },
     "execution_count": 338,
     "metadata": {},
     "output_type": "execute_result"
    }
   ],
   "source": [
    "dummies = np.zeros((X_test.shape[0], lookback+1))\n",
    "dummies[:, 0] = y_test[:,OUT_VALUE].flatten()\n",
    "dummies = scaler.inverse_transform(dummies)\n",
    "\n",
    "new_y_test = dc(dummies[:, 0])\n",
    "new_y_test"
   ]
  },
  {
   "cell_type": "code",
   "execution_count": 339,
   "id": "PhLmIlHOsSK4",
   "metadata": {
    "colab": {
     "base_uri": "https://localhost:8080/",
     "height": 449
    },
    "id": "PhLmIlHOsSK4",
    "outputId": "09c21535-ea22-4d65-bc50-b159bd4dc135",
    "ExecuteTime": {
     "end_time": "2023-08-23T15:14:37.062651500Z",
     "start_time": "2023-08-23T15:14:36.994806200Z"
    }
   },
   "outputs": [
    {
     "data": {
      "text/plain": "<Figure size 640x480 with 1 Axes>",
      "image/png": "[encoded data removed]"
     },
     "metadata": {},
     "output_type": "display_data"
    }
   ],
   "source": [
    "plt.plot(new_y_test, label='Actual Close')\n",
    "plt.plot(test_predictions, label='Predicted Close')\n",
    "plt.xlabel('Day')\n",
    "plt.ylabel('Close')\n",
    "plt.legend()\n",
    "plt.show()\n"
   ]
  },
  {
   "cell_type": "code",
   "execution_count": 345,
   "id": "edaf9487",
   "metadata": {
    "collapsed": false,
    "ExecuteTime": {
     "end_time": "2023-08-23T15:31:15.483023300Z",
     "start_time": "2023-08-23T15:31:15.451600500Z"
    }
   },
   "outputs": [
    {
     "name": "stdout",
     "output_type": "stream",
     "text": [
      "Root Mean Square Error:  19620377.632305853\n"
     ]
    }
   ],
   "source": [
    "import math\n",
    "\n",
    "MSE = np.square(np.subtract(new_y_test,test_predictions).mean()) \n",
    " \n",
    "RMSE = math.sqrt(MSE)\n",
    "print(\"Root Mean Square Error: \", RMSE)"
   ]
  },
  {
   "cell_type": "code",
   "execution_count": null,
   "outputs": [],
   "source": [],
   "metadata": {
    "collapsed": false
   },
   "id": "15d7c3a632233530"
  }
 ],
 "metadata": {
  "colab": {
   "gpuType": "T4",
   "provenance": []
  },
  "gpuClass": "standard",
  "kernelspec": {
   "display_name": "Python 3 (ipykernel)",
   "language": "python",
   "name": "python3"
  },
  "language_info": {
   "codemirror_mode": {
    "name": "ipython",
    "version": 3
   },
   "file_extension": ".py",
   "mimetype": "text/x-python",
   "name": "python",
   "nbconvert_exporter": "python",
   "pygments_lexer": "ipython3",
   "version": "3.11.0"
  }
 },
 "nbformat": 4,
 "nbformat_minor": 5
}
